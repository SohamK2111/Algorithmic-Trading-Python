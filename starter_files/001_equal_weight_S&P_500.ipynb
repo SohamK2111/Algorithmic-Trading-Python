{
 "cells": [
  {
   "cell_type": "markdown",
   "metadata": {},
   "source": [
    "# Equal-Weight S&P 500 Index Fund\n",
    "\n",
    "## Introduction & Library Imports\n",
    "\n",
    "The S&P 500 is the world's most popular stock market index. The largest fund that is benchmarked to this index is the SPDR® S&P 500® ETF Trust. It has more than US$250 billion of assets under management.\n",
    "\n",
    "The goal of this section of the course is to create a Python script that will accept the value of your portfolio and tell you how many shares of each S&P 500 constituent you should purchase to get an equal-weight version of the index fund.\n",
    "\n",
    "## Library Imports\n",
    "\n",
    "The first thing we need to do is import the open-source software libraries that we'll be using in this tutorial."
   ]
  },
  {
   "cell_type": "code",
   "execution_count": 1,
   "metadata": {},
   "outputs": [],
   "source": [
    "import numpy as np\n",
    "import pandas as pd\n",
    "import requests\n",
    "import xlsxwriter\n",
    "import math"
   ]
  },
  {
   "cell_type": "markdown",
   "metadata": {},
   "source": [
    "## Importing Our List of Stocks\n",
    "\n",
    "The next thing we need to do is import the constituents of the S&P 500.\n",
    "\n",
    "These constituents change over time, so in an ideal world you would connect directly to the index provider (Standard & Poor's) and pull their real-time constituents on a regular basis.\n",
    "\n",
    "Paying for access to the index provider's API is outside of the scope of this course. \n",
    "\n",
    "There's a static version of the S&P 500 constituents available here. [Click this link to download them now](https://drive.google.com/file/d/1ZJSpbY69DVckVZlO9cC6KkgfSufybcHN/view?usp=sharing). Move this file into the `starter-files` folder so it can be accessed by other files in that directory.\n",
    "\n",
    "Now it's time to import these stocks to our Jupyter Notebook file."
   ]
  },
  {
   "cell_type": "code",
   "execution_count": 2,
   "metadata": {},
   "outputs": [],
   "source": [
    "stocks = pd.read_csv('sp_500_stocks.csv')"
   ]
  },
  {
   "cell_type": "markdown",
   "metadata": {},
   "source": [
    "## Acquiring an API Token\n",
    "\n",
    "Now it's time to import our IEX Cloud API token. This is the data provider that we will be using throughout this course.\n",
    "\n",
    "API tokens (and other sensitive information) should be stored in a `secrets.py` file that doesn't get pushed to your local Git repository. We'll be using a sandbox API token in this course, which means that the data we'll use is randomly-generated and (more importantly) has no cost associated with it.\n",
    "\n",
    "[Click here](http://nickmccullum.com/algorithmic-trading-python/secrets.py) to download your `secrets.py` file. Move the file into the same directory as this Jupyter Notebook before proceeding."
   ]
  },
  {
   "cell_type": "code",
   "execution_count": 3,
   "metadata": {},
   "outputs": [],
   "source": [
    "from iextoken import IEX_CLOUD_API_TOKEN"
   ]
  },
  {
   "cell_type": "markdown",
   "metadata": {},
   "source": [
    "## Making Our First API Call\n",
    "\n",
    "Now it's time to structure our API calls to IEX cloud. \n",
    "\n",
    "We need the following information from the API:\n",
    "\n",
    "* Market capitalization for each stock\n",
    "* Price of each stock\n",
    "\n"
   ]
  },
  {
   "cell_type": "code",
   "execution_count": 4,
   "metadata": {},
   "outputs": [
    {
     "name": "stdout",
     "output_type": "stream",
     "text": [
      "{'companyName': 'Apple Inc', 'marketcap': 2743651373680, 'week52high': 197.7, 'week52low': 123.48, 'week52highSplitAdjustOnly': 198.23, 'week52lowSplitAdjustOnly': 124.17, 'week52change': 0.15139585998753424, 'sharesOutstanding': 15634232000, 'float': 0, 'avg10Volume': 74616290, 'avg30Volume': 65485572, 'day200MovingAvg': 175.41, 'day50MovingAvg': 179.55, 'employees': 164000, 'ttmEPS': 5.95, 'ttmDividendRate': 0.9368421399305272, 'dividendYield': 0.005338436035845501, 'nextDividendDate': '', 'exDividendDate': '2023-08-11', 'nextEarningsDate': '2023-11-02', 'peRatio': 28.95368693203884, 'beta': 1.3257803316536951, 'maxChangePercent': 67.4118197411508, 'year5ChangePercent': 2.3397912654248154, 'year2ChangePercent': 0.24516804695437955, 'year1ChangePercent': 0.12805975521958235, 'ytdChangePercent': 0.3582438879412031, 'month6ChangePercent': 0.11948986628510404, 'month3ChangePercent': -0.0488934559057056, 'month1ChangePercent': 0.005730987449137581, 'day30ChangePercent': -0.001990445859872625, 'day5ChangePercent': 0.007347454221916072} \n",
      " https://cloud.iexapis.com/stable/stock/AAPL/stats/?token=pk_1430333ba8c24e5f9e46463c61b5c568\n"
     ]
    }
   ],
   "source": [
    "symbol = 'AAPL'\n",
    "# api_url = f'https://sandbox.iexapis.com/stable/stock/{symbol}/quote/?token={IEX_CLOUD_API_TOKEN}'\n",
    "api_url = f'https://cloud.iexapis.com/stable/stock/{symbol}/stats/?token={IEX_CLOUD_API_TOKEN}'\n",
    "data = requests.get(api_url).json()\n",
    "print(data, '\\n', api_url)"
   ]
  },
  {
   "cell_type": "markdown",
   "metadata": {},
   "source": [
    "## Parsing Our API Call\n",
    "\n",
    "The API call that we executed in the last code block contains all of the information required to build our equal-weight S&P 500 strategy. \n",
    "\n",
    "With that said, the data isn't in a proper format yet. We need to parse it first."
   ]
  },
  {
   "cell_type": "code",
   "execution_count": 5,
   "metadata": {},
   "outputs": [],
   "source": [
    "market_cap = data['marketcap']\n",
    "price = data['day200MovingAvg']\n"
   ]
  },
  {
   "cell_type": "markdown",
   "metadata": {},
   "source": [
    "## Adding Our Stocks Data to a Pandas DataFrame\n",
    "\n",
    "The next thing we need to do is add our stock's price and market capitalization to a pandas DataFrame. Think of a DataFrame like the Python version of a spreadsheet. It stores tabular data."
   ]
  },
  {
   "cell_type": "code",
   "execution_count": 6,
   "metadata": {},
   "outputs": [],
   "source": [
    "my_columns = ['Ticker', 'Stock Price', 'Market Capitalization', 'Number of Shares to Buy']\n",
    "final_dataframe = pd.DataFrame(columns = my_columns)\n"
   ]
  },
  {
   "cell_type": "code",
   "execution_count": 7,
   "metadata": {},
   "outputs": [
    {
     "name": "stderr",
     "output_type": "stream",
     "text": [
      "C:\\Users\\user\\AppData\\Local\\Temp\\ipykernel_34512\\442051218.py:1: FutureWarning: The frame.append method is deprecated and will be removed from pandas in a future version. Use pandas.concat instead.\n",
      "  final_dataframe.append(\n"
     ]
    },
    {
     "data": {
      "text/html": [
       "<div>\n",
       "<style scoped>\n",
       "    .dataframe tbody tr th:only-of-type {\n",
       "        vertical-align: middle;\n",
       "    }\n",
       "\n",
       "    .dataframe tbody tr th {\n",
       "        vertical-align: top;\n",
       "    }\n",
       "\n",
       "    .dataframe thead th {\n",
       "        text-align: right;\n",
       "    }\n",
       "</style>\n",
       "<table border=\"1\" class=\"dataframe\">\n",
       "  <thead>\n",
       "    <tr style=\"text-align: right;\">\n",
       "      <th></th>\n",
       "      <th>Ticker</th>\n",
       "      <th>Stock Price</th>\n",
       "      <th>Market Capitalization</th>\n",
       "      <th>Number of Shares to Buy</th>\n",
       "    </tr>\n",
       "  </thead>\n",
       "  <tbody>\n",
       "    <tr>\n",
       "      <th>0</th>\n",
       "      <td>AAPL</td>\n",
       "      <td>175.41</td>\n",
       "      <td>2743651373680</td>\n",
       "      <td>N/A</td>\n",
       "    </tr>\n",
       "  </tbody>\n",
       "</table>\n",
       "</div>"
      ],
      "text/plain": [
       "  Ticker  Stock Price Market Capitalization Number of Shares to Buy\n",
       "0   AAPL       175.41         2743651373680                     N/A"
      ]
     },
     "execution_count": 7,
     "metadata": {},
     "output_type": "execute_result"
    }
   ],
   "source": [
    "final_dataframe.append(\n",
    "    pd.Series([symbol, price, market_cap, 'N/A'], index = my_columns),\n",
    "    ignore_index = True)"
   ]
  },
  {
   "cell_type": "markdown",
   "metadata": {},
   "source": [
    "## Looping Through The Tickers in Our List of Stocks\n",
    "\n",
    "Using the same logic that we outlined above, we can pull data for all S&P 500 stocks and store their data in the DataFrame using a `for` loop."
   ]
  },
  {
   "cell_type": "code",
   "execution_count": 9,
   "metadata": {},
   "outputs": [
    {
     "name": "stderr",
     "output_type": "stream",
     "text": [
      "C:\\Users\\user\\AppData\\Local\\Temp\\ipykernel_34512\\4215612419.py:6: FutureWarning: The frame.append method is deprecated and will be removed from pandas in a future version. Use pandas.concat instead.\n",
      "  final_dataframe = final_dataframe.append(\n",
      "C:\\Users\\user\\AppData\\Local\\Temp\\ipykernel_34512\\4215612419.py:6: FutureWarning: The frame.append method is deprecated and will be removed from pandas in a future version. Use pandas.concat instead.\n",
      "  final_dataframe = final_dataframe.append(\n",
      "C:\\Users\\user\\AppData\\Local\\Temp\\ipykernel_34512\\4215612419.py:6: FutureWarning: The frame.append method is deprecated and will be removed from pandas in a future version. Use pandas.concat instead.\n",
      "  final_dataframe = final_dataframe.append(\n",
      "C:\\Users\\user\\AppData\\Local\\Temp\\ipykernel_34512\\4215612419.py:6: FutureWarning: The frame.append method is deprecated and will be removed from pandas in a future version. Use pandas.concat instead.\n",
      "  final_dataframe = final_dataframe.append(\n",
      "C:\\Users\\user\\AppData\\Local\\Temp\\ipykernel_34512\\4215612419.py:6: FutureWarning: The frame.append method is deprecated and will be removed from pandas in a future version. Use pandas.concat instead.\n",
      "  final_dataframe = final_dataframe.append(\n",
      "C:\\Users\\user\\AppData\\Local\\Temp\\ipykernel_34512\\4215612419.py:6: FutureWarning: The frame.append method is deprecated and will be removed from pandas in a future version. Use pandas.concat instead.\n",
      "  final_dataframe = final_dataframe.append(\n",
      "C:\\Users\\user\\AppData\\Local\\Temp\\ipykernel_34512\\4215612419.py:6: FutureWarning: The frame.append method is deprecated and will be removed from pandas in a future version. Use pandas.concat instead.\n",
      "  final_dataframe = final_dataframe.append(\n"
     ]
    },
    {
     "name": "stdout",
     "output_type": "stream",
     "text": [
      "AET is not found\n"
     ]
    },
    {
     "name": "stderr",
     "output_type": "stream",
     "text": [
      "C:\\Users\\user\\AppData\\Local\\Temp\\ipykernel_34512\\4215612419.py:6: FutureWarning: The frame.append method is deprecated and will be removed from pandas in a future version. Use pandas.concat instead.\n",
      "  final_dataframe = final_dataframe.append(\n",
      "C:\\Users\\user\\AppData\\Local\\Temp\\ipykernel_34512\\4215612419.py:6: FutureWarning: The frame.append method is deprecated and will be removed from pandas in a future version. Use pandas.concat instead.\n",
      "  final_dataframe = final_dataframe.append(\n"
     ]
    },
    {
     "name": "stdout",
     "output_type": "stream",
     "text": [
      "GAS is not found\n"
     ]
    },
    {
     "name": "stderr",
     "output_type": "stream",
     "text": [
      "C:\\Users\\user\\AppData\\Local\\Temp\\ipykernel_34512\\4215612419.py:6: FutureWarning: The frame.append method is deprecated and will be removed from pandas in a future version. Use pandas.concat instead.\n",
      "  final_dataframe = final_dataframe.append(\n"
     ]
    },
    {
     "name": "stdout",
     "output_type": "stream",
     "text": [
      "ARG is not found\n"
     ]
    },
    {
     "name": "stderr",
     "output_type": "stream",
     "text": [
      "C:\\Users\\user\\AppData\\Local\\Temp\\ipykernel_34512\\4215612419.py:6: FutureWarning: The frame.append method is deprecated and will be removed from pandas in a future version. Use pandas.concat instead.\n",
      "  final_dataframe = final_dataframe.append(\n",
      "C:\\Users\\user\\AppData\\Local\\Temp\\ipykernel_34512\\4215612419.py:6: FutureWarning: The frame.append method is deprecated and will be removed from pandas in a future version. Use pandas.concat instead.\n",
      "  final_dataframe = final_dataframe.append(\n",
      "C:\\Users\\user\\AppData\\Local\\Temp\\ipykernel_34512\\4215612419.py:6: FutureWarning: The frame.append method is deprecated and will be removed from pandas in a future version. Use pandas.concat instead.\n",
      "  final_dataframe = final_dataframe.append(\n",
      "C:\\Users\\user\\AppData\\Local\\Temp\\ipykernel_34512\\4215612419.py:6: FutureWarning: The frame.append method is deprecated and will be removed from pandas in a future version. Use pandas.concat instead.\n",
      "  final_dataframe = final_dataframe.append(\n",
      "C:\\Users\\user\\AppData\\Local\\Temp\\ipykernel_34512\\4215612419.py:6: FutureWarning: The frame.append method is deprecated and will be removed from pandas in a future version. Use pandas.concat instead.\n",
      "  final_dataframe = final_dataframe.append(\n",
      "C:\\Users\\user\\AppData\\Local\\Temp\\ipykernel_34512\\4215612419.py:6: FutureWarning: The frame.append method is deprecated and will be removed from pandas in a future version. Use pandas.concat instead.\n",
      "  final_dataframe = final_dataframe.append(\n"
     ]
    },
    {
     "name": "stdout",
     "output_type": "stream",
     "text": [
      "ANR is not found\n"
     ]
    },
    {
     "name": "stderr",
     "output_type": "stream",
     "text": [
      "C:\\Users\\user\\AppData\\Local\\Temp\\ipykernel_34512\\4215612419.py:6: FutureWarning: The frame.append method is deprecated and will be removed from pandas in a future version. Use pandas.concat instead.\n",
      "  final_dataframe = final_dataframe.append(\n",
      "C:\\Users\\user\\AppData\\Local\\Temp\\ipykernel_34512\\4215612419.py:6: FutureWarning: The frame.append method is deprecated and will be removed from pandas in a future version. Use pandas.concat instead.\n",
      "  final_dataframe = final_dataframe.append(\n",
      "C:\\Users\\user\\AppData\\Local\\Temp\\ipykernel_34512\\4215612419.py:6: FutureWarning: The frame.append method is deprecated and will be removed from pandas in a future version. Use pandas.concat instead.\n",
      "  final_dataframe = final_dataframe.append(\n",
      "C:\\Users\\user\\AppData\\Local\\Temp\\ipykernel_34512\\4215612419.py:6: FutureWarning: The frame.append method is deprecated and will be removed from pandas in a future version. Use pandas.concat instead.\n",
      "  final_dataframe = final_dataframe.append(\n",
      "C:\\Users\\user\\AppData\\Local\\Temp\\ipykernel_34512\\4215612419.py:6: FutureWarning: The frame.append method is deprecated and will be removed from pandas in a future version. Use pandas.concat instead.\n",
      "  final_dataframe = final_dataframe.append(\n",
      "C:\\Users\\user\\AppData\\Local\\Temp\\ipykernel_34512\\4215612419.py:6: FutureWarning: The frame.append method is deprecated and will be removed from pandas in a future version. Use pandas.concat instead.\n",
      "  final_dataframe = final_dataframe.append(\n",
      "C:\\Users\\user\\AppData\\Local\\Temp\\ipykernel_34512\\4215612419.py:6: FutureWarning: The frame.append method is deprecated and will be removed from pandas in a future version. Use pandas.concat instead.\n",
      "  final_dataframe = final_dataframe.append(\n",
      "C:\\Users\\user\\AppData\\Local\\Temp\\ipykernel_34512\\4215612419.py:6: FutureWarning: The frame.append method is deprecated and will be removed from pandas in a future version. Use pandas.concat instead.\n",
      "  final_dataframe = final_dataframe.append(\n",
      "C:\\Users\\user\\AppData\\Local\\Temp\\ipykernel_34512\\4215612419.py:6: FutureWarning: The frame.append method is deprecated and will be removed from pandas in a future version. Use pandas.concat instead.\n",
      "  final_dataframe = final_dataframe.append(\n"
     ]
    },
    {
     "name": "stdout",
     "output_type": "stream",
     "text": [
      "ABC is not found\n"
     ]
    },
    {
     "name": "stderr",
     "output_type": "stream",
     "text": [
      "C:\\Users\\user\\AppData\\Local\\Temp\\ipykernel_34512\\4215612419.py:6: FutureWarning: The frame.append method is deprecated and will be removed from pandas in a future version. Use pandas.concat instead.\n",
      "  final_dataframe = final_dataframe.append(\n",
      "C:\\Users\\user\\AppData\\Local\\Temp\\ipykernel_34512\\4215612419.py:6: FutureWarning: The frame.append method is deprecated and will be removed from pandas in a future version. Use pandas.concat instead.\n",
      "  final_dataframe = final_dataframe.append(\n",
      "C:\\Users\\user\\AppData\\Local\\Temp\\ipykernel_34512\\4215612419.py:6: FutureWarning: The frame.append method is deprecated and will be removed from pandas in a future version. Use pandas.concat instead.\n",
      "  final_dataframe = final_dataframe.append(\n",
      "C:\\Users\\user\\AppData\\Local\\Temp\\ipykernel_34512\\4215612419.py:6: FutureWarning: The frame.append method is deprecated and will be removed from pandas in a future version. Use pandas.concat instead.\n",
      "  final_dataframe = final_dataframe.append(\n",
      "C:\\Users\\user\\AppData\\Local\\Temp\\ipykernel_34512\\4215612419.py:6: FutureWarning: The frame.append method is deprecated and will be removed from pandas in a future version. Use pandas.concat instead.\n",
      "  final_dataframe = final_dataframe.append(\n",
      "C:\\Users\\user\\AppData\\Local\\Temp\\ipykernel_34512\\4215612419.py:6: FutureWarning: The frame.append method is deprecated and will be removed from pandas in a future version. Use pandas.concat instead.\n",
      "  final_dataframe = final_dataframe.append(\n",
      "C:\\Users\\user\\AppData\\Local\\Temp\\ipykernel_34512\\4215612419.py:6: FutureWarning: The frame.append method is deprecated and will be removed from pandas in a future version. Use pandas.concat instead.\n",
      "  final_dataframe = final_dataframe.append(\n"
     ]
    },
    {
     "name": "stdout",
     "output_type": "stream",
     "text": [
      "APOL is not found\n"
     ]
    },
    {
     "name": "stderr",
     "output_type": "stream",
     "text": [
      "C:\\Users\\user\\AppData\\Local\\Temp\\ipykernel_34512\\4215612419.py:6: FutureWarning: The frame.append method is deprecated and will be removed from pandas in a future version. Use pandas.concat instead.\n",
      "  final_dataframe = final_dataframe.append(\n",
      "C:\\Users\\user\\AppData\\Local\\Temp\\ipykernel_34512\\4215612419.py:6: FutureWarning: The frame.append method is deprecated and will be removed from pandas in a future version. Use pandas.concat instead.\n",
      "  final_dataframe = final_dataframe.append(\n",
      "C:\\Users\\user\\AppData\\Local\\Temp\\ipykernel_34512\\4215612419.py:6: FutureWarning: The frame.append method is deprecated and will be removed from pandas in a future version. Use pandas.concat instead.\n",
      "  final_dataframe = final_dataframe.append(\n",
      "C:\\Users\\user\\AppData\\Local\\Temp\\ipykernel_34512\\4215612419.py:6: FutureWarning: The frame.append method is deprecated and will be removed from pandas in a future version. Use pandas.concat instead.\n",
      "  final_dataframe = final_dataframe.append(\n",
      "C:\\Users\\user\\AppData\\Local\\Temp\\ipykernel_34512\\4215612419.py:6: FutureWarning: The frame.append method is deprecated and will be removed from pandas in a future version. Use pandas.concat instead.\n",
      "  final_dataframe = final_dataframe.append(\n",
      "C:\\Users\\user\\AppData\\Local\\Temp\\ipykernel_34512\\4215612419.py:6: FutureWarning: The frame.append method is deprecated and will be removed from pandas in a future version. Use pandas.concat instead.\n",
      "  final_dataframe = final_dataframe.append(\n",
      "C:\\Users\\user\\AppData\\Local\\Temp\\ipykernel_34512\\4215612419.py:6: FutureWarning: The frame.append method is deprecated and will be removed from pandas in a future version. Use pandas.concat instead.\n",
      "  final_dataframe = final_dataframe.append(\n",
      "C:\\Users\\user\\AppData\\Local\\Temp\\ipykernel_34512\\4215612419.py:6: FutureWarning: The frame.append method is deprecated and will be removed from pandas in a future version. Use pandas.concat instead.\n",
      "  final_dataframe = final_dataframe.append(\n",
      "C:\\Users\\user\\AppData\\Local\\Temp\\ipykernel_34512\\4215612419.py:6: FutureWarning: The frame.append method is deprecated and will be removed from pandas in a future version. Use pandas.concat instead.\n",
      "  final_dataframe = final_dataframe.append(\n",
      "C:\\Users\\user\\AppData\\Local\\Temp\\ipykernel_34512\\4215612419.py:6: FutureWarning: The frame.append method is deprecated and will be removed from pandas in a future version. Use pandas.concat instead.\n",
      "  final_dataframe = final_dataframe.append(\n",
      "C:\\Users\\user\\AppData\\Local\\Temp\\ipykernel_34512\\4215612419.py:6: FutureWarning: The frame.append method is deprecated and will be removed from pandas in a future version. Use pandas.concat instead.\n",
      "  final_dataframe = final_dataframe.append(\n",
      "C:\\Users\\user\\AppData\\Local\\Temp\\ipykernel_34512\\4215612419.py:6: FutureWarning: The frame.append method is deprecated and will be removed from pandas in a future version. Use pandas.concat instead.\n",
      "  final_dataframe = final_dataframe.append(\n"
     ]
    },
    {
     "name": "stdout",
     "output_type": "stream",
     "text": [
      "BHI is not found\n"
     ]
    },
    {
     "name": "stderr",
     "output_type": "stream",
     "text": [
      "C:\\Users\\user\\AppData\\Local\\Temp\\ipykernel_34512\\4215612419.py:6: FutureWarning: The frame.append method is deprecated and will be removed from pandas in a future version. Use pandas.concat instead.\n",
      "  final_dataframe = final_dataframe.append(\n",
      "C:\\Users\\user\\AppData\\Local\\Temp\\ipykernel_34512\\4215612419.py:6: FutureWarning: The frame.append method is deprecated and will be removed from pandas in a future version. Use pandas.concat instead.\n",
      "  final_dataframe = final_dataframe.append(\n",
      "C:\\Users\\user\\AppData\\Local\\Temp\\ipykernel_34512\\4215612419.py:6: FutureWarning: The frame.append method is deprecated and will be removed from pandas in a future version. Use pandas.concat instead.\n",
      "  final_dataframe = final_dataframe.append(\n"
     ]
    },
    {
     "name": "stdout",
     "output_type": "stream",
     "text": [
      "BCR is not found\n"
     ]
    },
    {
     "name": "stderr",
     "output_type": "stream",
     "text": [
      "C:\\Users\\user\\AppData\\Local\\Temp\\ipykernel_34512\\4215612419.py:6: FutureWarning: The frame.append method is deprecated and will be removed from pandas in a future version. Use pandas.concat instead.\n",
      "  final_dataframe = final_dataframe.append(\n",
      "C:\\Users\\user\\AppData\\Local\\Temp\\ipykernel_34512\\4215612419.py:6: FutureWarning: The frame.append method is deprecated and will be removed from pandas in a future version. Use pandas.concat instead.\n",
      "  final_dataframe = final_dataframe.append(\n",
      "C:\\Users\\user\\AppData\\Local\\Temp\\ipykernel_34512\\4215612419.py:6: FutureWarning: The frame.append method is deprecated and will be removed from pandas in a future version. Use pandas.concat instead.\n",
      "  final_dataframe = final_dataframe.append(\n",
      "C:\\Users\\user\\AppData\\Local\\Temp\\ipykernel_34512\\4215612419.py:6: FutureWarning: The frame.append method is deprecated and will be removed from pandas in a future version. Use pandas.concat instead.\n",
      "  final_dataframe = final_dataframe.append(\n",
      "C:\\Users\\user\\AppData\\Local\\Temp\\ipykernel_34512\\4215612419.py:6: FutureWarning: The frame.append method is deprecated and will be removed from pandas in a future version. Use pandas.concat instead.\n",
      "  final_dataframe = final_dataframe.append(\n",
      "C:\\Users\\user\\AppData\\Local\\Temp\\ipykernel_34512\\4215612419.py:6: FutureWarning: The frame.append method is deprecated and will be removed from pandas in a future version. Use pandas.concat instead.\n",
      "  final_dataframe = final_dataframe.append(\n",
      "C:\\Users\\user\\AppData\\Local\\Temp\\ipykernel_34512\\4215612419.py:6: FutureWarning: The frame.append method is deprecated and will be removed from pandas in a future version. Use pandas.concat instead.\n",
      "  final_dataframe = final_dataframe.append(\n",
      "C:\\Users\\user\\AppData\\Local\\Temp\\ipykernel_34512\\4215612419.py:6: FutureWarning: The frame.append method is deprecated and will be removed from pandas in a future version. Use pandas.concat instead.\n",
      "  final_dataframe = final_dataframe.append(\n",
      "C:\\Users\\user\\AppData\\Local\\Temp\\ipykernel_34512\\4215612419.py:6: FutureWarning: The frame.append method is deprecated and will be removed from pandas in a future version. Use pandas.concat instead.\n",
      "  final_dataframe = final_dataframe.append(\n",
      "C:\\Users\\user\\AppData\\Local\\Temp\\ipykernel_34512\\4215612419.py:6: FutureWarning: The frame.append method is deprecated and will be removed from pandas in a future version. Use pandas.concat instead.\n",
      "  final_dataframe = final_dataframe.append(\n",
      "C:\\Users\\user\\AppData\\Local\\Temp\\ipykernel_34512\\4215612419.py:6: FutureWarning: The frame.append method is deprecated and will be removed from pandas in a future version. Use pandas.concat instead.\n",
      "  final_dataframe = final_dataframe.append(\n",
      "C:\\Users\\user\\AppData\\Local\\Temp\\ipykernel_34512\\4215612419.py:6: FutureWarning: The frame.append method is deprecated and will be removed from pandas in a future version. Use pandas.concat instead.\n",
      "  final_dataframe = final_dataframe.append(\n"
     ]
    },
    {
     "name": "stdout",
     "output_type": "stream",
     "text": [
      "BMC is not found\n"
     ]
    },
    {
     "name": "stderr",
     "output_type": "stream",
     "text": [
      "C:\\Users\\user\\AppData\\Local\\Temp\\ipykernel_34512\\4215612419.py:6: FutureWarning: The frame.append method is deprecated and will be removed from pandas in a future version. Use pandas.concat instead.\n",
      "  final_dataframe = final_dataframe.append(\n",
      "C:\\Users\\user\\AppData\\Local\\Temp\\ipykernel_34512\\4215612419.py:6: FutureWarning: The frame.append method is deprecated and will be removed from pandas in a future version. Use pandas.concat instead.\n",
      "  final_dataframe = final_dataframe.append(\n",
      "C:\\Users\\user\\AppData\\Local\\Temp\\ipykernel_34512\\4215612419.py:6: FutureWarning: The frame.append method is deprecated and will be removed from pandas in a future version. Use pandas.concat instead.\n",
      "  final_dataframe = final_dataframe.append(\n",
      "C:\\Users\\user\\AppData\\Local\\Temp\\ipykernel_34512\\4215612419.py:6: FutureWarning: The frame.append method is deprecated and will be removed from pandas in a future version. Use pandas.concat instead.\n",
      "  final_dataframe = final_dataframe.append(\n",
      "C:\\Users\\user\\AppData\\Local\\Temp\\ipykernel_34512\\4215612419.py:6: FutureWarning: The frame.append method is deprecated and will be removed from pandas in a future version. Use pandas.concat instead.\n",
      "  final_dataframe = final_dataframe.append(\n"
     ]
    },
    {
     "name": "stdout",
     "output_type": "stream",
     "text": [
      "BRCM is not found\n"
     ]
    },
    {
     "name": "stderr",
     "output_type": "stream",
     "text": [
      "C:\\Users\\user\\AppData\\Local\\Temp\\ipykernel_34512\\4215612419.py:6: FutureWarning: The frame.append method is deprecated and will be removed from pandas in a future version. Use pandas.concat instead.\n",
      "  final_dataframe = final_dataframe.append(\n",
      "C:\\Users\\user\\AppData\\Local\\Temp\\ipykernel_34512\\4215612419.py:6: FutureWarning: The frame.append method is deprecated and will be removed from pandas in a future version. Use pandas.concat instead.\n",
      "  final_dataframe = final_dataframe.append(\n"
     ]
    },
    {
     "name": "stdout",
     "output_type": "stream",
     "text": [
      "CA is not found\n",
      "CVC is not found\n"
     ]
    },
    {
     "name": "stderr",
     "output_type": "stream",
     "text": [
      "C:\\Users\\user\\AppData\\Local\\Temp\\ipykernel_34512\\4215612419.py:6: FutureWarning: The frame.append method is deprecated and will be removed from pandas in a future version. Use pandas.concat instead.\n",
      "  final_dataframe = final_dataframe.append(\n"
     ]
    },
    {
     "name": "stdout",
     "output_type": "stream",
     "text": [
      "CAM is not found\n"
     ]
    },
    {
     "name": "stderr",
     "output_type": "stream",
     "text": [
      "C:\\Users\\user\\AppData\\Local\\Temp\\ipykernel_34512\\4215612419.py:6: FutureWarning: The frame.append method is deprecated and will be removed from pandas in a future version. Use pandas.concat instead.\n",
      "  final_dataframe = final_dataframe.append(\n",
      "C:\\Users\\user\\AppData\\Local\\Temp\\ipykernel_34512\\4215612419.py:6: FutureWarning: The frame.append method is deprecated and will be removed from pandas in a future version. Use pandas.concat instead.\n",
      "  final_dataframe = final_dataframe.append(\n",
      "C:\\Users\\user\\AppData\\Local\\Temp\\ipykernel_34512\\4215612419.py:6: FutureWarning: The frame.append method is deprecated and will be removed from pandas in a future version. Use pandas.concat instead.\n",
      "  final_dataframe = final_dataframe.append(\n"
     ]
    },
    {
     "name": "stdout",
     "output_type": "stream",
     "text": [
      "CFN is not found\n"
     ]
    },
    {
     "name": "stderr",
     "output_type": "stream",
     "text": [
      "C:\\Users\\user\\AppData\\Local\\Temp\\ipykernel_34512\\4215612419.py:6: FutureWarning: The frame.append method is deprecated and will be removed from pandas in a future version. Use pandas.concat instead.\n",
      "  final_dataframe = final_dataframe.append(\n",
      "C:\\Users\\user\\AppData\\Local\\Temp\\ipykernel_34512\\4215612419.py:6: FutureWarning: The frame.append method is deprecated and will be removed from pandas in a future version. Use pandas.concat instead.\n",
      "  final_dataframe = final_dataframe.append(\n",
      "C:\\Users\\user\\AppData\\Local\\Temp\\ipykernel_34512\\4215612419.py:6: FutureWarning: The frame.append method is deprecated and will be removed from pandas in a future version. Use pandas.concat instead.\n",
      "  final_dataframe = final_dataframe.append(\n"
     ]
    },
    {
     "name": "stdout",
     "output_type": "stream",
     "text": [
      "CBG is not found\n"
     ]
    },
    {
     "name": "stderr",
     "output_type": "stream",
     "text": [
      "C:\\Users\\user\\AppData\\Local\\Temp\\ipykernel_34512\\4215612419.py:6: FutureWarning: The frame.append method is deprecated and will be removed from pandas in a future version. Use pandas.concat instead.\n",
      "  final_dataframe = final_dataframe.append(\n",
      "C:\\Users\\user\\AppData\\Local\\Temp\\ipykernel_34512\\4215612419.py:6: FutureWarning: The frame.append method is deprecated and will be removed from pandas in a future version. Use pandas.concat instead.\n",
      "  final_dataframe = final_dataframe.append(\n",
      "C:\\Users\\user\\AppData\\Local\\Temp\\ipykernel_34512\\4215612419.py:6: FutureWarning: The frame.append method is deprecated and will be removed from pandas in a future version. Use pandas.concat instead.\n",
      "  final_dataframe = final_dataframe.append(\n",
      "C:\\Users\\user\\AppData\\Local\\Temp\\ipykernel_34512\\4215612419.py:6: FutureWarning: The frame.append method is deprecated and will be removed from pandas in a future version. Use pandas.concat instead.\n",
      "  final_dataframe = final_dataframe.append(\n",
      "C:\\Users\\user\\AppData\\Local\\Temp\\ipykernel_34512\\4215612419.py:6: FutureWarning: The frame.append method is deprecated and will be removed from pandas in a future version. Use pandas.concat instead.\n",
      "  final_dataframe = final_dataframe.append(\n",
      "C:\\Users\\user\\AppData\\Local\\Temp\\ipykernel_34512\\4215612419.py:6: FutureWarning: The frame.append method is deprecated and will be removed from pandas in a future version. Use pandas.concat instead.\n",
      "  final_dataframe = final_dataframe.append(\n",
      "C:\\Users\\user\\AppData\\Local\\Temp\\ipykernel_34512\\4215612419.py:6: FutureWarning: The frame.append method is deprecated and will be removed from pandas in a future version. Use pandas.concat instead.\n",
      "  final_dataframe = final_dataframe.append(\n",
      "C:\\Users\\user\\AppData\\Local\\Temp\\ipykernel_34512\\4215612419.py:6: FutureWarning: The frame.append method is deprecated and will be removed from pandas in a future version. Use pandas.concat instead.\n",
      "  final_dataframe = final_dataframe.append(\n",
      "C:\\Users\\user\\AppData\\Local\\Temp\\ipykernel_34512\\4215612419.py:6: FutureWarning: The frame.append method is deprecated and will be removed from pandas in a future version. Use pandas.concat instead.\n",
      "  final_dataframe = final_dataframe.append(\n",
      "C:\\Users\\user\\AppData\\Local\\Temp\\ipykernel_34512\\4215612419.py:6: FutureWarning: The frame.append method is deprecated and will be removed from pandas in a future version. Use pandas.concat instead.\n",
      "  final_dataframe = final_dataframe.append(\n",
      "C:\\Users\\user\\AppData\\Local\\Temp\\ipykernel_34512\\4215612419.py:6: FutureWarning: The frame.append method is deprecated and will be removed from pandas in a future version. Use pandas.concat instead.\n",
      "  final_dataframe = final_dataframe.append(\n",
      "C:\\Users\\user\\AppData\\Local\\Temp\\ipykernel_34512\\4215612419.py:6: FutureWarning: The frame.append method is deprecated and will be removed from pandas in a future version. Use pandas.concat instead.\n",
      "  final_dataframe = final_dataframe.append(\n",
      "C:\\Users\\user\\AppData\\Local\\Temp\\ipykernel_34512\\4215612419.py:6: FutureWarning: The frame.append method is deprecated and will be removed from pandas in a future version. Use pandas.concat instead.\n",
      "  final_dataframe = final_dataframe.append(\n",
      "C:\\Users\\user\\AppData\\Local\\Temp\\ipykernel_34512\\4215612419.py:6: FutureWarning: The frame.append method is deprecated and will be removed from pandas in a future version. Use pandas.concat instead.\n",
      "  final_dataframe = final_dataframe.append(\n",
      "C:\\Users\\user\\AppData\\Local\\Temp\\ipykernel_34512\\4215612419.py:6: FutureWarning: The frame.append method is deprecated and will be removed from pandas in a future version. Use pandas.concat instead.\n",
      "  final_dataframe = final_dataframe.append(\n",
      "C:\\Users\\user\\AppData\\Local\\Temp\\ipykernel_34512\\4215612419.py:6: FutureWarning: The frame.append method is deprecated and will be removed from pandas in a future version. Use pandas.concat instead.\n",
      "  final_dataframe = final_dataframe.append(\n",
      "C:\\Users\\user\\AppData\\Local\\Temp\\ipykernel_34512\\4215612419.py:6: FutureWarning: The frame.append method is deprecated and will be removed from pandas in a future version. Use pandas.concat instead.\n",
      "  final_dataframe = final_dataframe.append(\n",
      "C:\\Users\\user\\AppData\\Local\\Temp\\ipykernel_34512\\4215612419.py:6: FutureWarning: The frame.append method is deprecated and will be removed from pandas in a future version. Use pandas.concat instead.\n",
      "  final_dataframe = final_dataframe.append(\n",
      "C:\\Users\\user\\AppData\\Local\\Temp\\ipykernel_34512\\4215612419.py:6: FutureWarning: The frame.append method is deprecated and will be removed from pandas in a future version. Use pandas.concat instead.\n",
      "  final_dataframe = final_dataframe.append(\n",
      "C:\\Users\\user\\AppData\\Local\\Temp\\ipykernel_34512\\4215612419.py:6: FutureWarning: The frame.append method is deprecated and will be removed from pandas in a future version. Use pandas.concat instead.\n",
      "  final_dataframe = final_dataframe.append(\n",
      "C:\\Users\\user\\AppData\\Local\\Temp\\ipykernel_34512\\4215612419.py:6: FutureWarning: The frame.append method is deprecated and will be removed from pandas in a future version. Use pandas.concat instead.\n",
      "  final_dataframe = final_dataframe.append(\n"
     ]
    },
    {
     "name": "stdout",
     "output_type": "stream",
     "text": [
      "COH is not found\n"
     ]
    },
    {
     "name": "stderr",
     "output_type": "stream",
     "text": [
      "C:\\Users\\user\\AppData\\Local\\Temp\\ipykernel_34512\\4215612419.py:6: FutureWarning: The frame.append method is deprecated and will be removed from pandas in a future version. Use pandas.concat instead.\n",
      "  final_dataframe = final_dataframe.append(\n"
     ]
    },
    {
     "name": "stdout",
     "output_type": "stream",
     "text": [
      "CCE is not found\n"
     ]
    },
    {
     "name": "stderr",
     "output_type": "stream",
     "text": [
      "C:\\Users\\user\\AppData\\Local\\Temp\\ipykernel_34512\\4215612419.py:6: FutureWarning: The frame.append method is deprecated and will be removed from pandas in a future version. Use pandas.concat instead.\n",
      "  final_dataframe = final_dataframe.append(\n",
      "C:\\Users\\user\\AppData\\Local\\Temp\\ipykernel_34512\\4215612419.py:6: FutureWarning: The frame.append method is deprecated and will be removed from pandas in a future version. Use pandas.concat instead.\n",
      "  final_dataframe = final_dataframe.append(\n",
      "C:\\Users\\user\\AppData\\Local\\Temp\\ipykernel_34512\\4215612419.py:6: FutureWarning: The frame.append method is deprecated and will be removed from pandas in a future version. Use pandas.concat instead.\n",
      "  final_dataframe = final_dataframe.append(\n",
      "C:\\Users\\user\\AppData\\Local\\Temp\\ipykernel_34512\\4215612419.py:6: FutureWarning: The frame.append method is deprecated and will be removed from pandas in a future version. Use pandas.concat instead.\n",
      "  final_dataframe = final_dataframe.append(\n"
     ]
    },
    {
     "name": "stdout",
     "output_type": "stream",
     "text": [
      "CSC is not found\n"
     ]
    },
    {
     "name": "stderr",
     "output_type": "stream",
     "text": [
      "C:\\Users\\user\\AppData\\Local\\Temp\\ipykernel_34512\\4215612419.py:6: FutureWarning: The frame.append method is deprecated and will be removed from pandas in a future version. Use pandas.concat instead.\n",
      "  final_dataframe = final_dataframe.append(\n",
      "C:\\Users\\user\\AppData\\Local\\Temp\\ipykernel_34512\\4215612419.py:6: FutureWarning: The frame.append method is deprecated and will be removed from pandas in a future version. Use pandas.concat instead.\n",
      "  final_dataframe = final_dataframe.append(\n",
      "C:\\Users\\user\\AppData\\Local\\Temp\\ipykernel_34512\\4215612419.py:6: FutureWarning: The frame.append method is deprecated and will be removed from pandas in a future version. Use pandas.concat instead.\n",
      "  final_dataframe = final_dataframe.append(\n",
      "C:\\Users\\user\\AppData\\Local\\Temp\\ipykernel_34512\\4215612419.py:6: FutureWarning: The frame.append method is deprecated and will be removed from pandas in a future version. Use pandas.concat instead.\n",
      "  final_dataframe = final_dataframe.append(\n",
      "C:\\Users\\user\\AppData\\Local\\Temp\\ipykernel_34512\\4215612419.py:6: FutureWarning: The frame.append method is deprecated and will be removed from pandas in a future version. Use pandas.concat instead.\n",
      "  final_dataframe = final_dataframe.append(\n"
     ]
    },
    {
     "name": "stdout",
     "output_type": "stream",
     "text": [
      "CBE is not found\n"
     ]
    },
    {
     "name": "stderr",
     "output_type": "stream",
     "text": [
      "C:\\Users\\user\\AppData\\Local\\Temp\\ipykernel_34512\\4215612419.py:6: FutureWarning: The frame.append method is deprecated and will be removed from pandas in a future version. Use pandas.concat instead.\n",
      "  final_dataframe = final_dataframe.append(\n",
      "C:\\Users\\user\\AppData\\Local\\Temp\\ipykernel_34512\\4215612419.py:6: FutureWarning: The frame.append method is deprecated and will be removed from pandas in a future version. Use pandas.concat instead.\n",
      "  final_dataframe = final_dataframe.append(\n"
     ]
    },
    {
     "name": "stdout",
     "output_type": "stream",
     "text": [
      "CVH is not found\n",
      "COV is not found\n"
     ]
    },
    {
     "name": "stderr",
     "output_type": "stream",
     "text": [
      "C:\\Users\\user\\AppData\\Local\\Temp\\ipykernel_34512\\4215612419.py:6: FutureWarning: The frame.append method is deprecated and will be removed from pandas in a future version. Use pandas.concat instead.\n",
      "  final_dataframe = final_dataframe.append(\n",
      "C:\\Users\\user\\AppData\\Local\\Temp\\ipykernel_34512\\4215612419.py:6: FutureWarning: The frame.append method is deprecated and will be removed from pandas in a future version. Use pandas.concat instead.\n",
      "  final_dataframe = final_dataframe.append(\n",
      "C:\\Users\\user\\AppData\\Local\\Temp\\ipykernel_34512\\4215612419.py:6: FutureWarning: The frame.append method is deprecated and will be removed from pandas in a future version. Use pandas.concat instead.\n",
      "  final_dataframe = final_dataframe.append(\n",
      "C:\\Users\\user\\AppData\\Local\\Temp\\ipykernel_34512\\4215612419.py:6: FutureWarning: The frame.append method is deprecated and will be removed from pandas in a future version. Use pandas.concat instead.\n",
      "  final_dataframe = final_dataframe.append(\n",
      "C:\\Users\\user\\AppData\\Local\\Temp\\ipykernel_34512\\4215612419.py:6: FutureWarning: The frame.append method is deprecated and will be removed from pandas in a future version. Use pandas.concat instead.\n",
      "  final_dataframe = final_dataframe.append(\n",
      "C:\\Users\\user\\AppData\\Local\\Temp\\ipykernel_34512\\4215612419.py:6: FutureWarning: The frame.append method is deprecated and will be removed from pandas in a future version. Use pandas.concat instead.\n",
      "  final_dataframe = final_dataframe.append(\n",
      "C:\\Users\\user\\AppData\\Local\\Temp\\ipykernel_34512\\4215612419.py:6: FutureWarning: The frame.append method is deprecated and will be removed from pandas in a future version. Use pandas.concat instead.\n",
      "  final_dataframe = final_dataframe.append(\n",
      "C:\\Users\\user\\AppData\\Local\\Temp\\ipykernel_34512\\4215612419.py:6: FutureWarning: The frame.append method is deprecated and will be removed from pandas in a future version. Use pandas.concat instead.\n",
      "  final_dataframe = final_dataframe.append(\n",
      "C:\\Users\\user\\AppData\\Local\\Temp\\ipykernel_34512\\4215612419.py:6: FutureWarning: The frame.append method is deprecated and will be removed from pandas in a future version. Use pandas.concat instead.\n",
      "  final_dataframe = final_dataframe.append(\n",
      "C:\\Users\\user\\AppData\\Local\\Temp\\ipykernel_34512\\4215612419.py:6: FutureWarning: The frame.append method is deprecated and will be removed from pandas in a future version. Use pandas.concat instead.\n",
      "  final_dataframe = final_dataframe.append(\n",
      "C:\\Users\\user\\AppData\\Local\\Temp\\ipykernel_34512\\4215612419.py:6: FutureWarning: The frame.append method is deprecated and will be removed from pandas in a future version. Use pandas.concat instead.\n",
      "  final_dataframe = final_dataframe.append(\n",
      "C:\\Users\\user\\AppData\\Local\\Temp\\ipykernel_34512\\4215612419.py:6: FutureWarning: The frame.append method is deprecated and will be removed from pandas in a future version. Use pandas.concat instead.\n",
      "  final_dataframe = final_dataframe.append(\n",
      "C:\\Users\\user\\AppData\\Local\\Temp\\ipykernel_34512\\4215612419.py:6: FutureWarning: The frame.append method is deprecated and will be removed from pandas in a future version. Use pandas.concat instead.\n",
      "  final_dataframe = final_dataframe.append(\n",
      "C:\\Users\\user\\AppData\\Local\\Temp\\ipykernel_34512\\4215612419.py:6: FutureWarning: The frame.append method is deprecated and will be removed from pandas in a future version. Use pandas.concat instead.\n",
      "  final_dataframe = final_dataframe.append(\n",
      "C:\\Users\\user\\AppData\\Local\\Temp\\ipykernel_34512\\4215612419.py:6: FutureWarning: The frame.append method is deprecated and will be removed from pandas in a future version. Use pandas.concat instead.\n",
      "  final_dataframe = final_dataframe.append(\n",
      "C:\\Users\\user\\AppData\\Local\\Temp\\ipykernel_34512\\4215612419.py:6: FutureWarning: The frame.append method is deprecated and will be removed from pandas in a future version. Use pandas.concat instead.\n",
      "  final_dataframe = final_dataframe.append(\n",
      "C:\\Users\\user\\AppData\\Local\\Temp\\ipykernel_34512\\4215612419.py:6: FutureWarning: The frame.append method is deprecated and will be removed from pandas in a future version. Use pandas.concat instead.\n",
      "  final_dataframe = final_dataframe.append(\n",
      "C:\\Users\\user\\AppData\\Local\\Temp\\ipykernel_34512\\4215612419.py:6: FutureWarning: The frame.append method is deprecated and will be removed from pandas in a future version. Use pandas.concat instead.\n",
      "  final_dataframe = final_dataframe.append(\n"
     ]
    },
    {
     "name": "stdout",
     "output_type": "stream",
     "text": [
      "DISCA is not found\n"
     ]
    },
    {
     "name": "stderr",
     "output_type": "stream",
     "text": [
      "C:\\Users\\user\\AppData\\Local\\Temp\\ipykernel_34512\\4215612419.py:6: FutureWarning: The frame.append method is deprecated and will be removed from pandas in a future version. Use pandas.concat instead.\n",
      "  final_dataframe = final_dataframe.append(\n",
      "C:\\Users\\user\\AppData\\Local\\Temp\\ipykernel_34512\\4215612419.py:6: FutureWarning: The frame.append method is deprecated and will be removed from pandas in a future version. Use pandas.concat instead.\n",
      "  final_dataframe = final_dataframe.append(\n",
      "C:\\Users\\user\\AppData\\Local\\Temp\\ipykernel_34512\\4215612419.py:6: FutureWarning: The frame.append method is deprecated and will be removed from pandas in a future version. Use pandas.concat instead.\n",
      "  final_dataframe = final_dataframe.append(\n",
      "C:\\Users\\user\\AppData\\Local\\Temp\\ipykernel_34512\\4215612419.py:6: FutureWarning: The frame.append method is deprecated and will be removed from pandas in a future version. Use pandas.concat instead.\n",
      "  final_dataframe = final_dataframe.append(\n",
      "C:\\Users\\user\\AppData\\Local\\Temp\\ipykernel_34512\\4215612419.py:6: FutureWarning: The frame.append method is deprecated and will be removed from pandas in a future version. Use pandas.concat instead.\n",
      "  final_dataframe = final_dataframe.append(\n"
     ]
    },
    {
     "name": "stdout",
     "output_type": "stream",
     "text": [
      "DPS is not found\n"
     ]
    },
    {
     "name": "stderr",
     "output_type": "stream",
     "text": [
      "C:\\Users\\user\\AppData\\Local\\Temp\\ipykernel_34512\\4215612419.py:6: FutureWarning: The frame.append method is deprecated and will be removed from pandas in a future version. Use pandas.concat instead.\n",
      "  final_dataframe = final_dataframe.append(\n",
      "C:\\Users\\user\\AppData\\Local\\Temp\\ipykernel_34512\\4215612419.py:6: FutureWarning: The frame.append method is deprecated and will be removed from pandas in a future version. Use pandas.concat instead.\n",
      "  final_dataframe = final_dataframe.append(\n",
      "C:\\Users\\user\\AppData\\Local\\Temp\\ipykernel_34512\\4215612419.py:6: FutureWarning: The frame.append method is deprecated and will be removed from pandas in a future version. Use pandas.concat instead.\n",
      "  final_dataframe = final_dataframe.append(\n",
      "C:\\Users\\user\\AppData\\Local\\Temp\\ipykernel_34512\\4215612419.py:6: FutureWarning: The frame.append method is deprecated and will be removed from pandas in a future version. Use pandas.concat instead.\n",
      "  final_dataframe = final_dataframe.append(\n",
      "C:\\Users\\user\\AppData\\Local\\Temp\\ipykernel_34512\\4215612419.py:6: FutureWarning: The frame.append method is deprecated and will be removed from pandas in a future version. Use pandas.concat instead.\n",
      "  final_dataframe = final_dataframe.append(\n",
      "C:\\Users\\user\\AppData\\Local\\Temp\\ipykernel_34512\\4215612419.py:6: FutureWarning: The frame.append method is deprecated and will be removed from pandas in a future version. Use pandas.concat instead.\n",
      "  final_dataframe = final_dataframe.append(\n",
      "C:\\Users\\user\\AppData\\Local\\Temp\\ipykernel_34512\\4215612419.py:6: FutureWarning: The frame.append method is deprecated and will be removed from pandas in a future version. Use pandas.concat instead.\n",
      "  final_dataframe = final_dataframe.append(\n",
      "C:\\Users\\user\\AppData\\Local\\Temp\\ipykernel_34512\\4215612419.py:6: FutureWarning: The frame.append method is deprecated and will be removed from pandas in a future version. Use pandas.concat instead.\n",
      "  final_dataframe = final_dataframe.append(\n",
      "C:\\Users\\user\\AppData\\Local\\Temp\\ipykernel_34512\\4215612419.py:6: FutureWarning: The frame.append method is deprecated and will be removed from pandas in a future version. Use pandas.concat instead.\n",
      "  final_dataframe = final_dataframe.append(\n",
      "C:\\Users\\user\\AppData\\Local\\Temp\\ipykernel_34512\\4215612419.py:6: FutureWarning: The frame.append method is deprecated and will be removed from pandas in a future version. Use pandas.concat instead.\n",
      "  final_dataframe = final_dataframe.append(\n",
      "C:\\Users\\user\\AppData\\Local\\Temp\\ipykernel_34512\\4215612419.py:6: FutureWarning: The frame.append method is deprecated and will be removed from pandas in a future version. Use pandas.concat instead.\n",
      "  final_dataframe = final_dataframe.append(\n",
      "C:\\Users\\user\\AppData\\Local\\Temp\\ipykernel_34512\\4215612419.py:6: FutureWarning: The frame.append method is deprecated and will be removed from pandas in a future version. Use pandas.concat instead.\n",
      "  final_dataframe = final_dataframe.append(\n",
      "C:\\Users\\user\\AppData\\Local\\Temp\\ipykernel_34512\\4215612419.py:6: FutureWarning: The frame.append method is deprecated and will be removed from pandas in a future version. Use pandas.concat instead.\n",
      "  final_dataframe = final_dataframe.append(\n",
      "C:\\Users\\user\\AppData\\Local\\Temp\\ipykernel_34512\\4215612419.py:6: FutureWarning: The frame.append method is deprecated and will be removed from pandas in a future version. Use pandas.concat instead.\n",
      "  final_dataframe = final_dataframe.append(\n",
      "C:\\Users\\user\\AppData\\Local\\Temp\\ipykernel_34512\\4215612419.py:6: FutureWarning: The frame.append method is deprecated and will be removed from pandas in a future version. Use pandas.concat instead.\n",
      "  final_dataframe = final_dataframe.append(\n",
      "C:\\Users\\user\\AppData\\Local\\Temp\\ipykernel_34512\\4215612419.py:6: FutureWarning: The frame.append method is deprecated and will be removed from pandas in a future version. Use pandas.concat instead.\n",
      "  final_dataframe = final_dataframe.append(\n",
      "C:\\Users\\user\\AppData\\Local\\Temp\\ipykernel_34512\\4215612419.py:6: FutureWarning: The frame.append method is deprecated and will be removed from pandas in a future version. Use pandas.concat instead.\n",
      "  final_dataframe = final_dataframe.append(\n",
      "C:\\Users\\user\\AppData\\Local\\Temp\\ipykernel_34512\\4215612419.py:6: FutureWarning: The frame.append method is deprecated and will be removed from pandas in a future version. Use pandas.concat instead.\n",
      "  final_dataframe = final_dataframe.append(\n",
      "C:\\Users\\user\\AppData\\Local\\Temp\\ipykernel_34512\\4215612419.py:6: FutureWarning: The frame.append method is deprecated and will be removed from pandas in a future version. Use pandas.concat instead.\n",
      "  final_dataframe = final_dataframe.append(\n",
      "C:\\Users\\user\\AppData\\Local\\Temp\\ipykernel_34512\\4215612419.py:6: FutureWarning: The frame.append method is deprecated and will be removed from pandas in a future version. Use pandas.concat instead.\n",
      "  final_dataframe = final_dataframe.append(\n",
      "C:\\Users\\user\\AppData\\Local\\Temp\\ipykernel_34512\\4215612419.py:6: FutureWarning: The frame.append method is deprecated and will be removed from pandas in a future version. Use pandas.concat instead.\n",
      "  final_dataframe = final_dataframe.append(\n",
      "C:\\Users\\user\\AppData\\Local\\Temp\\ipykernel_34512\\4215612419.py:6: FutureWarning: The frame.append method is deprecated and will be removed from pandas in a future version. Use pandas.concat instead.\n",
      "  final_dataframe = final_dataframe.append(\n",
      "C:\\Users\\user\\AppData\\Local\\Temp\\ipykernel_34512\\4215612419.py:6: FutureWarning: The frame.append method is deprecated and will be removed from pandas in a future version. Use pandas.concat instead.\n",
      "  final_dataframe = final_dataframe.append(\n",
      "C:\\Users\\user\\AppData\\Local\\Temp\\ipykernel_34512\\4215612419.py:6: FutureWarning: The frame.append method is deprecated and will be removed from pandas in a future version. Use pandas.concat instead.\n",
      "  final_dataframe = final_dataframe.append(\n"
     ]
    },
    {
     "name": "stdout",
     "output_type": "stream",
     "text": [
      "ESRX is not found\n"
     ]
    },
    {
     "name": "stderr",
     "output_type": "stream",
     "text": [
      "C:\\Users\\user\\AppData\\Local\\Temp\\ipykernel_34512\\4215612419.py:6: FutureWarning: The frame.append method is deprecated and will be removed from pandas in a future version. Use pandas.concat instead.\n",
      "  final_dataframe = final_dataframe.append(\n",
      "C:\\Users\\user\\AppData\\Local\\Temp\\ipykernel_34512\\4215612419.py:6: FutureWarning: The frame.append method is deprecated and will be removed from pandas in a future version. Use pandas.concat instead.\n",
      "  final_dataframe = final_dataframe.append(\n"
     ]
    },
    {
     "name": "stdout",
     "output_type": "stream",
     "text": [
      "FDO is not found\n"
     ]
    },
    {
     "name": "stderr",
     "output_type": "stream",
     "text": [
      "C:\\Users\\user\\AppData\\Local\\Temp\\ipykernel_34512\\4215612419.py:6: FutureWarning: The frame.append method is deprecated and will be removed from pandas in a future version. Use pandas.concat instead.\n",
      "  final_dataframe = final_dataframe.append(\n"
     ]
    },
    {
     "name": "stdout",
     "output_type": "stream",
     "text": [
      "FII is not found\n"
     ]
    },
    {
     "name": "stderr",
     "output_type": "stream",
     "text": [
      "C:\\Users\\user\\AppData\\Local\\Temp\\ipykernel_34512\\4215612419.py:6: FutureWarning: The frame.append method is deprecated and will be removed from pandas in a future version. Use pandas.concat instead.\n",
      "  final_dataframe = final_dataframe.append(\n",
      "C:\\Users\\user\\AppData\\Local\\Temp\\ipykernel_34512\\4215612419.py:6: FutureWarning: The frame.append method is deprecated and will be removed from pandas in a future version. Use pandas.concat instead.\n",
      "  final_dataframe = final_dataframe.append(\n",
      "C:\\Users\\user\\AppData\\Local\\Temp\\ipykernel_34512\\4215612419.py:6: FutureWarning: The frame.append method is deprecated and will be removed from pandas in a future version. Use pandas.concat instead.\n",
      "  final_dataframe = final_dataframe.append(\n",
      "C:\\Users\\user\\AppData\\Local\\Temp\\ipykernel_34512\\4215612419.py:6: FutureWarning: The frame.append method is deprecated and will be removed from pandas in a future version. Use pandas.concat instead.\n",
      "  final_dataframe = final_dataframe.append(\n",
      "C:\\Users\\user\\AppData\\Local\\Temp\\ipykernel_34512\\4215612419.py:6: FutureWarning: The frame.append method is deprecated and will be removed from pandas in a future version. Use pandas.concat instead.\n",
      "  final_dataframe = final_dataframe.append(\n",
      "C:\\Users\\user\\AppData\\Local\\Temp\\ipykernel_34512\\4215612419.py:6: FutureWarning: The frame.append method is deprecated and will be removed from pandas in a future version. Use pandas.concat instead.\n",
      "  final_dataframe = final_dataframe.append(\n",
      "C:\\Users\\user\\AppData\\Local\\Temp\\ipykernel_34512\\4215612419.py:6: FutureWarning: The frame.append method is deprecated and will be removed from pandas in a future version. Use pandas.concat instead.\n",
      "  final_dataframe = final_dataframe.append(\n",
      "C:\\Users\\user\\AppData\\Local\\Temp\\ipykernel_34512\\4215612419.py:6: FutureWarning: The frame.append method is deprecated and will be removed from pandas in a future version. Use pandas.concat instead.\n",
      "  final_dataframe = final_dataframe.append(\n",
      "C:\\Users\\user\\AppData\\Local\\Temp\\ipykernel_34512\\4215612419.py:6: FutureWarning: The frame.append method is deprecated and will be removed from pandas in a future version. Use pandas.concat instead.\n",
      "  final_dataframe = final_dataframe.append(\n",
      "C:\\Users\\user\\AppData\\Local\\Temp\\ipykernel_34512\\4215612419.py:6: FutureWarning: The frame.append method is deprecated and will be removed from pandas in a future version. Use pandas.concat instead.\n",
      "  final_dataframe = final_dataframe.append(\n",
      "C:\\Users\\user\\AppData\\Local\\Temp\\ipykernel_34512\\4215612419.py:6: FutureWarning: The frame.append method is deprecated and will be removed from pandas in a future version. Use pandas.concat instead.\n",
      "  final_dataframe = final_dataframe.append(\n",
      "C:\\Users\\user\\AppData\\Local\\Temp\\ipykernel_34512\\4215612419.py:6: FutureWarning: The frame.append method is deprecated and will be removed from pandas in a future version. Use pandas.concat instead.\n",
      "  final_dataframe = final_dataframe.append(\n",
      "C:\\Users\\user\\AppData\\Local\\Temp\\ipykernel_34512\\4215612419.py:6: FutureWarning: The frame.append method is deprecated and will be removed from pandas in a future version. Use pandas.concat instead.\n",
      "  final_dataframe = final_dataframe.append(\n",
      "C:\\Users\\user\\AppData\\Local\\Temp\\ipykernel_34512\\4215612419.py:6: FutureWarning: The frame.append method is deprecated and will be removed from pandas in a future version. Use pandas.concat instead.\n",
      "  final_dataframe = final_dataframe.append(\n",
      "C:\\Users\\user\\AppData\\Local\\Temp\\ipykernel_34512\\4215612419.py:6: FutureWarning: The frame.append method is deprecated and will be removed from pandas in a future version. Use pandas.concat instead.\n",
      "  final_dataframe = final_dataframe.append(\n",
      "C:\\Users\\user\\AppData\\Local\\Temp\\ipykernel_34512\\4215612419.py:6: FutureWarning: The frame.append method is deprecated and will be removed from pandas in a future version. Use pandas.concat instead.\n",
      "  final_dataframe = final_dataframe.append(\n",
      "C:\\Users\\user\\AppData\\Local\\Temp\\ipykernel_34512\\4215612419.py:6: FutureWarning: The frame.append method is deprecated and will be removed from pandas in a future version. Use pandas.concat instead.\n",
      "  final_dataframe = final_dataframe.append(\n",
      "C:\\Users\\user\\AppData\\Local\\Temp\\ipykernel_34512\\4215612419.py:6: FutureWarning: The frame.append method is deprecated and will be removed from pandas in a future version. Use pandas.concat instead.\n",
      "  final_dataframe = final_dataframe.append(\n",
      "C:\\Users\\user\\AppData\\Local\\Temp\\ipykernel_34512\\4215612419.py:6: FutureWarning: The frame.append method is deprecated and will be removed from pandas in a future version. Use pandas.concat instead.\n",
      "  final_dataframe = final_dataframe.append(\n",
      "C:\\Users\\user\\AppData\\Local\\Temp\\ipykernel_34512\\4215612419.py:6: FutureWarning: The frame.append method is deprecated and will be removed from pandas in a future version. Use pandas.concat instead.\n",
      "  final_dataframe = final_dataframe.append(\n",
      "C:\\Users\\user\\AppData\\Local\\Temp\\ipykernel_34512\\4215612419.py:6: FutureWarning: The frame.append method is deprecated and will be removed from pandas in a future version. Use pandas.concat instead.\n",
      "  final_dataframe = final_dataframe.append(\n",
      "C:\\Users\\user\\AppData\\Local\\Temp\\ipykernel_34512\\4215612419.py:6: FutureWarning: The frame.append method is deprecated and will be removed from pandas in a future version. Use pandas.concat instead.\n",
      "  final_dataframe = final_dataframe.append(\n",
      "C:\\Users\\user\\AppData\\Local\\Temp\\ipykernel_34512\\4215612419.py:6: FutureWarning: The frame.append method is deprecated and will be removed from pandas in a future version. Use pandas.concat instead.\n",
      "  final_dataframe = final_dataframe.append(\n",
      "C:\\Users\\user\\AppData\\Local\\Temp\\ipykernel_34512\\4215612419.py:6: FutureWarning: The frame.append method is deprecated and will be removed from pandas in a future version. Use pandas.concat instead.\n",
      "  final_dataframe = final_dataframe.append(\n",
      "C:\\Users\\user\\AppData\\Local\\Temp\\ipykernel_34512\\4215612419.py:6: FutureWarning: The frame.append method is deprecated and will be removed from pandas in a future version. Use pandas.concat instead.\n",
      "  final_dataframe = final_dataframe.append(\n",
      "C:\\Users\\user\\AppData\\Local\\Temp\\ipykernel_34512\\4215612419.py:6: FutureWarning: The frame.append method is deprecated and will be removed from pandas in a future version. Use pandas.concat instead.\n",
      "  final_dataframe = final_dataframe.append(\n",
      "C:\\Users\\user\\AppData\\Local\\Temp\\ipykernel_34512\\4215612419.py:6: FutureWarning: The frame.append method is deprecated and will be removed from pandas in a future version. Use pandas.concat instead.\n",
      "  final_dataframe = final_dataframe.append(\n",
      "C:\\Users\\user\\AppData\\Local\\Temp\\ipykernel_34512\\4215612419.py:6: FutureWarning: The frame.append method is deprecated and will be removed from pandas in a future version. Use pandas.concat instead.\n",
      "  final_dataframe = final_dataframe.append(\n",
      "C:\\Users\\user\\AppData\\Local\\Temp\\ipykernel_34512\\4215612419.py:6: FutureWarning: The frame.append method is deprecated and will be removed from pandas in a future version. Use pandas.concat instead.\n",
      "  final_dataframe = final_dataframe.append(\n",
      "C:\\Users\\user\\AppData\\Local\\Temp\\ipykernel_34512\\4215612419.py:6: FutureWarning: The frame.append method is deprecated and will be removed from pandas in a future version. Use pandas.concat instead.\n",
      "  final_dataframe = final_dataframe.append(\n",
      "C:\\Users\\user\\AppData\\Local\\Temp\\ipykernel_34512\\4215612419.py:6: FutureWarning: The frame.append method is deprecated and will be removed from pandas in a future version. Use pandas.concat instead.\n",
      "  final_dataframe = final_dataframe.append(\n",
      "C:\\Users\\user\\AppData\\Local\\Temp\\ipykernel_34512\\4215612419.py:6: FutureWarning: The frame.append method is deprecated and will be removed from pandas in a future version. Use pandas.concat instead.\n",
      "  final_dataframe = final_dataframe.append(\n",
      "C:\\Users\\user\\AppData\\Local\\Temp\\ipykernel_34512\\4215612419.py:6: FutureWarning: The frame.append method is deprecated and will be removed from pandas in a future version. Use pandas.concat instead.\n",
      "  final_dataframe = final_dataframe.append(\n"
     ]
    },
    {
     "name": "stdout",
     "output_type": "stream",
     "text": [
      "HAR is not found\n"
     ]
    },
    {
     "name": "stderr",
     "output_type": "stream",
     "text": [
      "C:\\Users\\user\\AppData\\Local\\Temp\\ipykernel_34512\\4215612419.py:6: FutureWarning: The frame.append method is deprecated and will be removed from pandas in a future version. Use pandas.concat instead.\n",
      "  final_dataframe = final_dataframe.append(\n",
      "C:\\Users\\user\\AppData\\Local\\Temp\\ipykernel_34512\\4215612419.py:6: FutureWarning: The frame.append method is deprecated and will be removed from pandas in a future version. Use pandas.concat instead.\n",
      "  final_dataframe = final_dataframe.append(\n",
      "C:\\Users\\user\\AppData\\Local\\Temp\\ipykernel_34512\\4215612419.py:6: FutureWarning: The frame.append method is deprecated and will be removed from pandas in a future version. Use pandas.concat instead.\n",
      "  final_dataframe = final_dataframe.append(\n",
      "C:\\Users\\user\\AppData\\Local\\Temp\\ipykernel_34512\\4215612419.py:6: FutureWarning: The frame.append method is deprecated and will be removed from pandas in a future version. Use pandas.concat instead.\n",
      "  final_dataframe = final_dataframe.append(\n"
     ]
    },
    {
     "name": "stdout",
     "output_type": "stream",
     "text": [
      "HCN is not found\n",
      "HNZ is not found\n"
     ]
    },
    {
     "name": "stderr",
     "output_type": "stream",
     "text": [
      "C:\\Users\\user\\AppData\\Local\\Temp\\ipykernel_34512\\4215612419.py:6: FutureWarning: The frame.append method is deprecated and will be removed from pandas in a future version. Use pandas.concat instead.\n",
      "  final_dataframe = final_dataframe.append(\n",
      "C:\\Users\\user\\AppData\\Local\\Temp\\ipykernel_34512\\4215612419.py:6: FutureWarning: The frame.append method is deprecated and will be removed from pandas in a future version. Use pandas.concat instead.\n",
      "  final_dataframe = final_dataframe.append(\n",
      "C:\\Users\\user\\AppData\\Local\\Temp\\ipykernel_34512\\4215612419.py:6: FutureWarning: The frame.append method is deprecated and will be removed from pandas in a future version. Use pandas.concat instead.\n",
      "  final_dataframe = final_dataframe.append(\n",
      "C:\\Users\\user\\AppData\\Local\\Temp\\ipykernel_34512\\4215612419.py:6: FutureWarning: The frame.append method is deprecated and will be removed from pandas in a future version. Use pandas.concat instead.\n",
      "  final_dataframe = final_dataframe.append(\n",
      "C:\\Users\\user\\AppData\\Local\\Temp\\ipykernel_34512\\4215612419.py:6: FutureWarning: The frame.append method is deprecated and will be removed from pandas in a future version. Use pandas.concat instead.\n",
      "  final_dataframe = final_dataframe.append(\n",
      "C:\\Users\\user\\AppData\\Local\\Temp\\ipykernel_34512\\4215612419.py:6: FutureWarning: The frame.append method is deprecated and will be removed from pandas in a future version. Use pandas.concat instead.\n",
      "  final_dataframe = final_dataframe.append(\n"
     ]
    },
    {
     "name": "stdout",
     "output_type": "stream",
     "text": [
      "HSP is not found\n"
     ]
    },
    {
     "name": "stderr",
     "output_type": "stream",
     "text": [
      "C:\\Users\\user\\AppData\\Local\\Temp\\ipykernel_34512\\4215612419.py:6: FutureWarning: The frame.append method is deprecated and will be removed from pandas in a future version. Use pandas.concat instead.\n",
      "  final_dataframe = final_dataframe.append(\n"
     ]
    },
    {
     "name": "stdout",
     "output_type": "stream",
     "text": [
      "HCBK is not found\n"
     ]
    },
    {
     "name": "stderr",
     "output_type": "stream",
     "text": [
      "C:\\Users\\user\\AppData\\Local\\Temp\\ipykernel_34512\\4215612419.py:6: FutureWarning: The frame.append method is deprecated and will be removed from pandas in a future version. Use pandas.concat instead.\n",
      "  final_dataframe = final_dataframe.append(\n",
      "C:\\Users\\user\\AppData\\Local\\Temp\\ipykernel_34512\\4215612419.py:6: FutureWarning: The frame.append method is deprecated and will be removed from pandas in a future version. Use pandas.concat instead.\n",
      "  final_dataframe = final_dataframe.append(\n",
      "C:\\Users\\user\\AppData\\Local\\Temp\\ipykernel_34512\\4215612419.py:6: FutureWarning: The frame.append method is deprecated and will be removed from pandas in a future version. Use pandas.concat instead.\n",
      "  final_dataframe = final_dataframe.append(\n",
      "C:\\Users\\user\\AppData\\Local\\Temp\\ipykernel_34512\\4215612419.py:6: FutureWarning: The frame.append method is deprecated and will be removed from pandas in a future version. Use pandas.concat instead.\n",
      "  final_dataframe = final_dataframe.append(\n"
     ]
    },
    {
     "name": "stdout",
     "output_type": "stream",
     "text": [
      "TEG is not found\n"
     ]
    },
    {
     "name": "stderr",
     "output_type": "stream",
     "text": [
      "C:\\Users\\user\\AppData\\Local\\Temp\\ipykernel_34512\\4215612419.py:6: FutureWarning: The frame.append method is deprecated and will be removed from pandas in a future version. Use pandas.concat instead.\n",
      "  final_dataframe = final_dataframe.append(\n",
      "C:\\Users\\user\\AppData\\Local\\Temp\\ipykernel_34512\\4215612419.py:6: FutureWarning: The frame.append method is deprecated and will be removed from pandas in a future version. Use pandas.concat instead.\n",
      "  final_dataframe = final_dataframe.append(\n",
      "C:\\Users\\user\\AppData\\Local\\Temp\\ipykernel_34512\\4215612419.py:6: FutureWarning: The frame.append method is deprecated and will be removed from pandas in a future version. Use pandas.concat instead.\n",
      "  final_dataframe = final_dataframe.append(\n",
      "C:\\Users\\user\\AppData\\Local\\Temp\\ipykernel_34512\\4215612419.py:6: FutureWarning: The frame.append method is deprecated and will be removed from pandas in a future version. Use pandas.concat instead.\n",
      "  final_dataframe = final_dataframe.append(\n",
      "C:\\Users\\user\\AppData\\Local\\Temp\\ipykernel_34512\\4215612419.py:6: FutureWarning: The frame.append method is deprecated and will be removed from pandas in a future version. Use pandas.concat instead.\n",
      "  final_dataframe = final_dataframe.append(\n",
      "C:\\Users\\user\\AppData\\Local\\Temp\\ipykernel_34512\\4215612419.py:6: FutureWarning: The frame.append method is deprecated and will be removed from pandas in a future version. Use pandas.concat instead.\n",
      "  final_dataframe = final_dataframe.append(\n",
      "C:\\Users\\user\\AppData\\Local\\Temp\\ipykernel_34512\\4215612419.py:6: FutureWarning: The frame.append method is deprecated and will be removed from pandas in a future version. Use pandas.concat instead.\n",
      "  final_dataframe = final_dataframe.append(\n",
      "C:\\Users\\user\\AppData\\Local\\Temp\\ipykernel_34512\\4215612419.py:6: FutureWarning: The frame.append method is deprecated and will be removed from pandas in a future version. Use pandas.concat instead.\n",
      "  final_dataframe = final_dataframe.append(\n",
      "C:\\Users\\user\\AppData\\Local\\Temp\\ipykernel_34512\\4215612419.py:6: FutureWarning: The frame.append method is deprecated and will be removed from pandas in a future version. Use pandas.concat instead.\n",
      "  final_dataframe = final_dataframe.append(\n",
      "C:\\Users\\user\\AppData\\Local\\Temp\\ipykernel_34512\\4215612419.py:6: FutureWarning: The frame.append method is deprecated and will be removed from pandas in a future version. Use pandas.concat instead.\n",
      "  final_dataframe = final_dataframe.append(\n",
      "C:\\Users\\user\\AppData\\Local\\Temp\\ipykernel_34512\\4215612419.py:6: FutureWarning: The frame.append method is deprecated and will be removed from pandas in a future version. Use pandas.concat instead.\n",
      "  final_dataframe = final_dataframe.append(\n",
      "C:\\Users\\user\\AppData\\Local\\Temp\\ipykernel_34512\\4215612419.py:6: FutureWarning: The frame.append method is deprecated and will be removed from pandas in a future version. Use pandas.concat instead.\n",
      "  final_dataframe = final_dataframe.append(\n"
     ]
    },
    {
     "name": "stdout",
     "output_type": "stream",
     "text": [
      "JEC is not found\n",
      "JDSU is not found\n"
     ]
    },
    {
     "name": "stderr",
     "output_type": "stream",
     "text": [
      "C:\\Users\\user\\AppData\\Local\\Temp\\ipykernel_34512\\4215612419.py:6: FutureWarning: The frame.append method is deprecated and will be removed from pandas in a future version. Use pandas.concat instead.\n",
      "  final_dataframe = final_dataframe.append(\n",
      "C:\\Users\\user\\AppData\\Local\\Temp\\ipykernel_34512\\4215612419.py:6: FutureWarning: The frame.append method is deprecated and will be removed from pandas in a future version. Use pandas.concat instead.\n",
      "  final_dataframe = final_dataframe.append(\n"
     ]
    },
    {
     "name": "stdout",
     "output_type": "stream",
     "text": [
      "JOY is not found\n"
     ]
    },
    {
     "name": "stderr",
     "output_type": "stream",
     "text": [
      "C:\\Users\\user\\AppData\\Local\\Temp\\ipykernel_34512\\4215612419.py:6: FutureWarning: The frame.append method is deprecated and will be removed from pandas in a future version. Use pandas.concat instead.\n",
      "  final_dataframe = final_dataframe.append(\n",
      "C:\\Users\\user\\AppData\\Local\\Temp\\ipykernel_34512\\4215612419.py:6: FutureWarning: The frame.append method is deprecated and will be removed from pandas in a future version. Use pandas.concat instead.\n",
      "  final_dataframe = final_dataframe.append(\n",
      "C:\\Users\\user\\AppData\\Local\\Temp\\ipykernel_34512\\4215612419.py:6: FutureWarning: The frame.append method is deprecated and will be removed from pandas in a future version. Use pandas.concat instead.\n",
      "  final_dataframe = final_dataframe.append(\n",
      "C:\\Users\\user\\AppData\\Local\\Temp\\ipykernel_34512\\4215612419.py:6: FutureWarning: The frame.append method is deprecated and will be removed from pandas in a future version. Use pandas.concat instead.\n",
      "  final_dataframe = final_dataframe.append(\n",
      "C:\\Users\\user\\AppData\\Local\\Temp\\ipykernel_34512\\4215612419.py:6: FutureWarning: The frame.append method is deprecated and will be removed from pandas in a future version. Use pandas.concat instead.\n",
      "  final_dataframe = final_dataframe.append(\n",
      "C:\\Users\\user\\AppData\\Local\\Temp\\ipykernel_34512\\4215612419.py:6: FutureWarning: The frame.append method is deprecated and will be removed from pandas in a future version. Use pandas.concat instead.\n",
      "  final_dataframe = final_dataframe.append(\n",
      "C:\\Users\\user\\AppData\\Local\\Temp\\ipykernel_34512\\4215612419.py:6: FutureWarning: The frame.append method is deprecated and will be removed from pandas in a future version. Use pandas.concat instead.\n",
      "  final_dataframe = final_dataframe.append(\n",
      "C:\\Users\\user\\AppData\\Local\\Temp\\ipykernel_34512\\4215612419.py:6: FutureWarning: The frame.append method is deprecated and will be removed from pandas in a future version. Use pandas.concat instead.\n",
      "  final_dataframe = final_dataframe.append(\n",
      "C:\\Users\\user\\AppData\\Local\\Temp\\ipykernel_34512\\4215612419.py:6: FutureWarning: The frame.append method is deprecated and will be removed from pandas in a future version. Use pandas.concat instead.\n",
      "  final_dataframe = final_dataframe.append(\n"
     ]
    },
    {
     "name": "stdout",
     "output_type": "stream",
     "text": [
      "KFT is not found\n"
     ]
    },
    {
     "name": "stderr",
     "output_type": "stream",
     "text": [
      "C:\\Users\\user\\AppData\\Local\\Temp\\ipykernel_34512\\4215612419.py:6: FutureWarning: The frame.append method is deprecated and will be removed from pandas in a future version. Use pandas.concat instead.\n",
      "  final_dataframe = final_dataframe.append(\n",
      "C:\\Users\\user\\AppData\\Local\\Temp\\ipykernel_34512\\4215612419.py:6: FutureWarning: The frame.append method is deprecated and will be removed from pandas in a future version. Use pandas.concat instead.\n",
      "  final_dataframe = final_dataframe.append(\n",
      "C:\\Users\\user\\AppData\\Local\\Temp\\ipykernel_34512\\4215612419.py:6: FutureWarning: The frame.append method is deprecated and will be removed from pandas in a future version. Use pandas.concat instead.\n",
      "  final_dataframe = final_dataframe.append(\n",
      "C:\\Users\\user\\AppData\\Local\\Temp\\ipykernel_34512\\4215612419.py:6: FutureWarning: The frame.append method is deprecated and will be removed from pandas in a future version. Use pandas.concat instead.\n",
      "  final_dataframe = final_dataframe.append(\n",
      "C:\\Users\\user\\AppData\\Local\\Temp\\ipykernel_34512\\4215612419.py:6: FutureWarning: The frame.append method is deprecated and will be removed from pandas in a future version. Use pandas.concat instead.\n",
      "  final_dataframe = final_dataframe.append(\n",
      "C:\\Users\\user\\AppData\\Local\\Temp\\ipykernel_34512\\4215612419.py:6: FutureWarning: The frame.append method is deprecated and will be removed from pandas in a future version. Use pandas.concat instead.\n",
      "  final_dataframe = final_dataframe.append(\n",
      "C:\\Users\\user\\AppData\\Local\\Temp\\ipykernel_34512\\4215612419.py:6: FutureWarning: The frame.append method is deprecated and will be removed from pandas in a future version. Use pandas.concat instead.\n",
      "  final_dataframe = final_dataframe.append(\n"
     ]
    },
    {
     "name": "stdout",
     "output_type": "stream",
     "text": [
      "LUK is not found\n",
      "LXK is not found\n"
     ]
    },
    {
     "name": "stderr",
     "output_type": "stream",
     "text": [
      "C:\\Users\\user\\AppData\\Local\\Temp\\ipykernel_34512\\4215612419.py:6: FutureWarning: The frame.append method is deprecated and will be removed from pandas in a future version. Use pandas.concat instead.\n",
      "  final_dataframe = final_dataframe.append(\n",
      "C:\\Users\\user\\AppData\\Local\\Temp\\ipykernel_34512\\4215612419.py:6: FutureWarning: The frame.append method is deprecated and will be removed from pandas in a future version. Use pandas.concat instead.\n",
      "  final_dataframe = final_dataframe.append(\n"
     ]
    },
    {
     "name": "stdout",
     "output_type": "stream",
     "text": [
      "LTD is not found\n"
     ]
    },
    {
     "name": "stderr",
     "output_type": "stream",
     "text": [
      "C:\\Users\\user\\AppData\\Local\\Temp\\ipykernel_34512\\4215612419.py:6: FutureWarning: The frame.append method is deprecated and will be removed from pandas in a future version. Use pandas.concat instead.\n",
      "  final_dataframe = final_dataframe.append(\n"
     ]
    },
    {
     "name": "stdout",
     "output_type": "stream",
     "text": [
      "LLTC is not found\n"
     ]
    },
    {
     "name": "stderr",
     "output_type": "stream",
     "text": [
      "C:\\Users\\user\\AppData\\Local\\Temp\\ipykernel_34512\\4215612419.py:6: FutureWarning: The frame.append method is deprecated and will be removed from pandas in a future version. Use pandas.concat instead.\n",
      "  final_dataframe = final_dataframe.append(\n",
      "C:\\Users\\user\\AppData\\Local\\Temp\\ipykernel_34512\\4215612419.py:6: FutureWarning: The frame.append method is deprecated and will be removed from pandas in a future version. Use pandas.concat instead.\n",
      "  final_dataframe = final_dataframe.append(\n"
     ]
    },
    {
     "name": "stdout",
     "output_type": "stream",
     "text": [
      "LO is not found\n"
     ]
    },
    {
     "name": "stderr",
     "output_type": "stream",
     "text": [
      "C:\\Users\\user\\AppData\\Local\\Temp\\ipykernel_34512\\4215612419.py:6: FutureWarning: The frame.append method is deprecated and will be removed from pandas in a future version. Use pandas.concat instead.\n",
      "  final_dataframe = final_dataframe.append(\n",
      "C:\\Users\\user\\AppData\\Local\\Temp\\ipykernel_34512\\4215612419.py:6: FutureWarning: The frame.append method is deprecated and will be removed from pandas in a future version. Use pandas.concat instead.\n",
      "  final_dataframe = final_dataframe.append(\n",
      "C:\\Users\\user\\AppData\\Local\\Temp\\ipykernel_34512\\4215612419.py:6: FutureWarning: The frame.append method is deprecated and will be removed from pandas in a future version. Use pandas.concat instead.\n",
      "  final_dataframe = final_dataframe.append(\n",
      "C:\\Users\\user\\AppData\\Local\\Temp\\ipykernel_34512\\4215612419.py:6: FutureWarning: The frame.append method is deprecated and will be removed from pandas in a future version. Use pandas.concat instead.\n",
      "  final_dataframe = final_dataframe.append(\n",
      "C:\\Users\\user\\AppData\\Local\\Temp\\ipykernel_34512\\4215612419.py:6: FutureWarning: The frame.append method is deprecated and will be removed from pandas in a future version. Use pandas.concat instead.\n",
      "  final_dataframe = final_dataframe.append(\n",
      "C:\\Users\\user\\AppData\\Local\\Temp\\ipykernel_34512\\4215612419.py:6: FutureWarning: The frame.append method is deprecated and will be removed from pandas in a future version. Use pandas.concat instead.\n",
      "  final_dataframe = final_dataframe.append(\n",
      "C:\\Users\\user\\AppData\\Local\\Temp\\ipykernel_34512\\4215612419.py:6: FutureWarning: The frame.append method is deprecated and will be removed from pandas in a future version. Use pandas.concat instead.\n",
      "  final_dataframe = final_dataframe.append(\n",
      "C:\\Users\\user\\AppData\\Local\\Temp\\ipykernel_34512\\4215612419.py:6: FutureWarning: The frame.append method is deprecated and will be removed from pandas in a future version. Use pandas.concat instead.\n",
      "  final_dataframe = final_dataframe.append(\n",
      "C:\\Users\\user\\AppData\\Local\\Temp\\ipykernel_34512\\4215612419.py:6: FutureWarning: The frame.append method is deprecated and will be removed from pandas in a future version. Use pandas.concat instead.\n",
      "  final_dataframe = final_dataframe.append(\n",
      "C:\\Users\\user\\AppData\\Local\\Temp\\ipykernel_34512\\4215612419.py:6: FutureWarning: The frame.append method is deprecated and will be removed from pandas in a future version. Use pandas.concat instead.\n",
      "  final_dataframe = final_dataframe.append(\n",
      "C:\\Users\\user\\AppData\\Local\\Temp\\ipykernel_34512\\4215612419.py:6: FutureWarning: The frame.append method is deprecated and will be removed from pandas in a future version. Use pandas.concat instead.\n",
      "  final_dataframe = final_dataframe.append(\n",
      "C:\\Users\\user\\AppData\\Local\\Temp\\ipykernel_34512\\4215612419.py:6: FutureWarning: The frame.append method is deprecated and will be removed from pandas in a future version. Use pandas.concat instead.\n",
      "  final_dataframe = final_dataframe.append(\n",
      "C:\\Users\\user\\AppData\\Local\\Temp\\ipykernel_34512\\4215612419.py:6: FutureWarning: The frame.append method is deprecated and will be removed from pandas in a future version. Use pandas.concat instead.\n",
      "  final_dataframe = final_dataframe.append(\n"
     ]
    },
    {
     "name": "stdout",
     "output_type": "stream",
     "text": [
      "MHP is not found\n"
     ]
    },
    {
     "name": "stderr",
     "output_type": "stream",
     "text": [
      "C:\\Users\\user\\AppData\\Local\\Temp\\ipykernel_34512\\4215612419.py:6: FutureWarning: The frame.append method is deprecated and will be removed from pandas in a future version. Use pandas.concat instead.\n",
      "  final_dataframe = final_dataframe.append(\n"
     ]
    },
    {
     "name": "stdout",
     "output_type": "stream",
     "text": [
      "MJN is not found\n",
      "MWV is not found\n"
     ]
    },
    {
     "name": "stderr",
     "output_type": "stream",
     "text": [
      "C:\\Users\\user\\AppData\\Local\\Temp\\ipykernel_34512\\4215612419.py:6: FutureWarning: The frame.append method is deprecated and will be removed from pandas in a future version. Use pandas.concat instead.\n",
      "  final_dataframe = final_dataframe.append(\n",
      "C:\\Users\\user\\AppData\\Local\\Temp\\ipykernel_34512\\4215612419.py:6: FutureWarning: The frame.append method is deprecated and will be removed from pandas in a future version. Use pandas.concat instead.\n",
      "  final_dataframe = final_dataframe.append(\n",
      "C:\\Users\\user\\AppData\\Local\\Temp\\ipykernel_34512\\4215612419.py:6: FutureWarning: The frame.append method is deprecated and will be removed from pandas in a future version. Use pandas.concat instead.\n",
      "  final_dataframe = final_dataframe.append(\n"
     ]
    },
    {
     "name": "stdout",
     "output_type": "stream",
     "text": [
      "PCS is not found\n"
     ]
    },
    {
     "name": "stderr",
     "output_type": "stream",
     "text": [
      "C:\\Users\\user\\AppData\\Local\\Temp\\ipykernel_34512\\4215612419.py:6: FutureWarning: The frame.append method is deprecated and will be removed from pandas in a future version. Use pandas.concat instead.\n",
      "  final_dataframe = final_dataframe.append(\n",
      "C:\\Users\\user\\AppData\\Local\\Temp\\ipykernel_34512\\4215612419.py:6: FutureWarning: The frame.append method is deprecated and will be removed from pandas in a future version. Use pandas.concat instead.\n",
      "  final_dataframe = final_dataframe.append(\n",
      "C:\\Users\\user\\AppData\\Local\\Temp\\ipykernel_34512\\4215612419.py:6: FutureWarning: The frame.append method is deprecated and will be removed from pandas in a future version. Use pandas.concat instead.\n",
      "  final_dataframe = final_dataframe.append(\n"
     ]
    },
    {
     "name": "stdout",
     "output_type": "stream",
     "text": [
      "MOLX is not found\n"
     ]
    },
    {
     "name": "stderr",
     "output_type": "stream",
     "text": [
      "C:\\Users\\user\\AppData\\Local\\Temp\\ipykernel_34512\\4215612419.py:6: FutureWarning: The frame.append method is deprecated and will be removed from pandas in a future version. Use pandas.concat instead.\n",
      "  final_dataframe = final_dataframe.append(\n",
      "C:\\Users\\user\\AppData\\Local\\Temp\\ipykernel_34512\\4215612419.py:6: FutureWarning: The frame.append method is deprecated and will be removed from pandas in a future version. Use pandas.concat instead.\n",
      "  final_dataframe = final_dataframe.append(\n",
      "C:\\Users\\user\\AppData\\Local\\Temp\\ipykernel_34512\\4215612419.py:6: FutureWarning: The frame.append method is deprecated and will be removed from pandas in a future version. Use pandas.concat instead.\n",
      "  final_dataframe = final_dataframe.append(\n",
      "C:\\Users\\user\\AppData\\Local\\Temp\\ipykernel_34512\\4215612419.py:6: FutureWarning: The frame.append method is deprecated and will be removed from pandas in a future version. Use pandas.concat instead.\n",
      "  final_dataframe = final_dataframe.append(\n",
      "C:\\Users\\user\\AppData\\Local\\Temp\\ipykernel_34512\\4215612419.py:6: FutureWarning: The frame.append method is deprecated and will be removed from pandas in a future version. Use pandas.concat instead.\n",
      "  final_dataframe = final_dataframe.append(\n",
      "C:\\Users\\user\\AppData\\Local\\Temp\\ipykernel_34512\\4215612419.py:6: FutureWarning: The frame.append method is deprecated and will be removed from pandas in a future version. Use pandas.concat instead.\n",
      "  final_dataframe = final_dataframe.append(\n",
      "C:\\Users\\user\\AppData\\Local\\Temp\\ipykernel_34512\\4215612419.py:6: FutureWarning: The frame.append method is deprecated and will be removed from pandas in a future version. Use pandas.concat instead.\n",
      "  final_dataframe = final_dataframe.append(\n",
      "C:\\Users\\user\\AppData\\Local\\Temp\\ipykernel_34512\\4215612419.py:6: FutureWarning: The frame.append method is deprecated and will be removed from pandas in a future version. Use pandas.concat instead.\n",
      "  final_dataframe = final_dataframe.append(\n",
      "C:\\Users\\user\\AppData\\Local\\Temp\\ipykernel_34512\\4215612419.py:6: FutureWarning: The frame.append method is deprecated and will be removed from pandas in a future version. Use pandas.concat instead.\n",
      "  final_dataframe = final_dataframe.append(\n",
      "C:\\Users\\user\\AppData\\Local\\Temp\\ipykernel_34512\\4215612419.py:6: FutureWarning: The frame.append method is deprecated and will be removed from pandas in a future version. Use pandas.concat instead.\n",
      "  final_dataframe = final_dataframe.append(\n",
      "C:\\Users\\user\\AppData\\Local\\Temp\\ipykernel_34512\\4215612419.py:6: FutureWarning: The frame.append method is deprecated and will be removed from pandas in a future version. Use pandas.concat instead.\n",
      "  final_dataframe = final_dataframe.append(\n",
      "C:\\Users\\user\\AppData\\Local\\Temp\\ipykernel_34512\\4215612419.py:6: FutureWarning: The frame.append method is deprecated and will be removed from pandas in a future version. Use pandas.concat instead.\n",
      "  final_dataframe = final_dataframe.append(\n",
      "C:\\Users\\user\\AppData\\Local\\Temp\\ipykernel_34512\\4215612419.py:6: FutureWarning: The frame.append method is deprecated and will be removed from pandas in a future version. Use pandas.concat instead.\n",
      "  final_dataframe = final_dataframe.append(\n",
      "C:\\Users\\user\\AppData\\Local\\Temp\\ipykernel_34512\\4215612419.py:6: FutureWarning: The frame.append method is deprecated and will be removed from pandas in a future version. Use pandas.concat instead.\n",
      "  final_dataframe = final_dataframe.append(\n",
      "C:\\Users\\user\\AppData\\Local\\Temp\\ipykernel_34512\\4215612419.py:6: FutureWarning: The frame.append method is deprecated and will be removed from pandas in a future version. Use pandas.concat instead.\n",
      "  final_dataframe = final_dataframe.append(\n",
      "C:\\Users\\user\\AppData\\Local\\Temp\\ipykernel_34512\\4215612419.py:6: FutureWarning: The frame.append method is deprecated and will be removed from pandas in a future version. Use pandas.concat instead.\n",
      "  final_dataframe = final_dataframe.append(\n",
      "C:\\Users\\user\\AppData\\Local\\Temp\\ipykernel_34512\\4215612419.py:6: FutureWarning: The frame.append method is deprecated and will be removed from pandas in a future version. Use pandas.concat instead.\n",
      "  final_dataframe = final_dataframe.append(\n",
      "C:\\Users\\user\\AppData\\Local\\Temp\\ipykernel_34512\\4215612419.py:6: FutureWarning: The frame.append method is deprecated and will be removed from pandas in a future version. Use pandas.concat instead.\n",
      "  final_dataframe = final_dataframe.append(\n",
      "C:\\Users\\user\\AppData\\Local\\Temp\\ipykernel_34512\\4215612419.py:6: FutureWarning: The frame.append method is deprecated and will be removed from pandas in a future version. Use pandas.concat instead.\n",
      "  final_dataframe = final_dataframe.append(\n",
      "C:\\Users\\user\\AppData\\Local\\Temp\\ipykernel_34512\\4215612419.py:6: FutureWarning: The frame.append method is deprecated and will be removed from pandas in a future version. Use pandas.concat instead.\n",
      "  final_dataframe = final_dataframe.append(\n",
      "C:\\Users\\user\\AppData\\Local\\Temp\\ipykernel_34512\\4215612419.py:6: FutureWarning: The frame.append method is deprecated and will be removed from pandas in a future version. Use pandas.concat instead.\n",
      "  final_dataframe = final_dataframe.append(\n",
      "C:\\Users\\user\\AppData\\Local\\Temp\\ipykernel_34512\\4215612419.py:6: FutureWarning: The frame.append method is deprecated and will be removed from pandas in a future version. Use pandas.concat instead.\n",
      "  final_dataframe = final_dataframe.append(\n",
      "C:\\Users\\user\\AppData\\Local\\Temp\\ipykernel_34512\\4215612419.py:6: FutureWarning: The frame.append method is deprecated and will be removed from pandas in a future version. Use pandas.concat instead.\n",
      "  final_dataframe = final_dataframe.append(\n",
      "C:\\Users\\user\\AppData\\Local\\Temp\\ipykernel_34512\\4215612419.py:6: FutureWarning: The frame.append method is deprecated and will be removed from pandas in a future version. Use pandas.concat instead.\n",
      "  final_dataframe = final_dataframe.append(\n",
      "C:\\Users\\user\\AppData\\Local\\Temp\\ipykernel_34512\\4215612419.py:6: FutureWarning: The frame.append method is deprecated and will be removed from pandas in a future version. Use pandas.concat instead.\n",
      "  final_dataframe = final_dataframe.append(\n",
      "C:\\Users\\user\\AppData\\Local\\Temp\\ipykernel_34512\\4215612419.py:6: FutureWarning: The frame.append method is deprecated and will be removed from pandas in a future version. Use pandas.concat instead.\n",
      "  final_dataframe = final_dataframe.append(\n",
      "C:\\Users\\user\\AppData\\Local\\Temp\\ipykernel_34512\\4215612419.py:6: FutureWarning: The frame.append method is deprecated and will be removed from pandas in a future version. Use pandas.concat instead.\n",
      "  final_dataframe = final_dataframe.append(\n",
      "C:\\Users\\user\\AppData\\Local\\Temp\\ipykernel_34512\\4215612419.py:6: FutureWarning: The frame.append method is deprecated and will be removed from pandas in a future version. Use pandas.concat instead.\n",
      "  final_dataframe = final_dataframe.append(\n",
      "C:\\Users\\user\\AppData\\Local\\Temp\\ipykernel_34512\\4215612419.py:6: FutureWarning: The frame.append method is deprecated and will be removed from pandas in a future version. Use pandas.concat instead.\n",
      "  final_dataframe = final_dataframe.append(\n",
      "C:\\Users\\user\\AppData\\Local\\Temp\\ipykernel_34512\\4215612419.py:6: FutureWarning: The frame.append method is deprecated and will be removed from pandas in a future version. Use pandas.concat instead.\n",
      "  final_dataframe = final_dataframe.append(\n",
      "C:\\Users\\user\\AppData\\Local\\Temp\\ipykernel_34512\\4215612419.py:6: FutureWarning: The frame.append method is deprecated and will be removed from pandas in a future version. Use pandas.concat instead.\n",
      "  final_dataframe = final_dataframe.append(\n",
      "C:\\Users\\user\\AppData\\Local\\Temp\\ipykernel_34512\\4215612419.py:6: FutureWarning: The frame.append method is deprecated and will be removed from pandas in a future version. Use pandas.concat instead.\n",
      "  final_dataframe = final_dataframe.append(\n",
      "C:\\Users\\user\\AppData\\Local\\Temp\\ipykernel_34512\\4215612419.py:6: FutureWarning: The frame.append method is deprecated and will be removed from pandas in a future version. Use pandas.concat instead.\n",
      "  final_dataframe = final_dataframe.append(\n",
      "C:\\Users\\user\\AppData\\Local\\Temp\\ipykernel_34512\\4215612419.py:6: FutureWarning: The frame.append method is deprecated and will be removed from pandas in a future version. Use pandas.concat instead.\n",
      "  final_dataframe = final_dataframe.append(\n",
      "C:\\Users\\user\\AppData\\Local\\Temp\\ipykernel_34512\\4215612419.py:6: FutureWarning: The frame.append method is deprecated and will be removed from pandas in a future version. Use pandas.concat instead.\n",
      "  final_dataframe = final_dataframe.append(\n",
      "C:\\Users\\user\\AppData\\Local\\Temp\\ipykernel_34512\\4215612419.py:6: FutureWarning: The frame.append method is deprecated and will be removed from pandas in a future version. Use pandas.concat instead.\n",
      "  final_dataframe = final_dataframe.append(\n",
      "C:\\Users\\user\\AppData\\Local\\Temp\\ipykernel_34512\\4215612419.py:6: FutureWarning: The frame.append method is deprecated and will be removed from pandas in a future version. Use pandas.concat instead.\n",
      "  final_dataframe = final_dataframe.append(\n",
      "C:\\Users\\user\\AppData\\Local\\Temp\\ipykernel_34512\\4215612419.py:6: FutureWarning: The frame.append method is deprecated and will be removed from pandas in a future version. Use pandas.concat instead.\n",
      "  final_dataframe = final_dataframe.append(\n",
      "C:\\Users\\user\\AppData\\Local\\Temp\\ipykernel_34512\\4215612419.py:6: FutureWarning: The frame.append method is deprecated and will be removed from pandas in a future version. Use pandas.concat instead.\n",
      "  final_dataframe = final_dataframe.append(\n",
      "C:\\Users\\user\\AppData\\Local\\Temp\\ipykernel_34512\\4215612419.py:6: FutureWarning: The frame.append method is deprecated and will be removed from pandas in a future version. Use pandas.concat instead.\n",
      "  final_dataframe = final_dataframe.append(\n",
      "C:\\Users\\user\\AppData\\Local\\Temp\\ipykernel_34512\\4215612419.py:6: FutureWarning: The frame.append method is deprecated and will be removed from pandas in a future version. Use pandas.concat instead.\n",
      "  final_dataframe = final_dataframe.append(\n",
      "C:\\Users\\user\\AppData\\Local\\Temp\\ipykernel_34512\\4215612419.py:6: FutureWarning: The frame.append method is deprecated and will be removed from pandas in a future version. Use pandas.concat instead.\n",
      "  final_dataframe = final_dataframe.append(\n",
      "C:\\Users\\user\\AppData\\Local\\Temp\\ipykernel_34512\\4215612419.py:6: FutureWarning: The frame.append method is deprecated and will be removed from pandas in a future version. Use pandas.concat instead.\n",
      "  final_dataframe = final_dataframe.append(\n",
      "C:\\Users\\user\\AppData\\Local\\Temp\\ipykernel_34512\\4215612419.py:6: FutureWarning: The frame.append method is deprecated and will be removed from pandas in a future version. Use pandas.concat instead.\n",
      "  final_dataframe = final_dataframe.append(\n",
      "C:\\Users\\user\\AppData\\Local\\Temp\\ipykernel_34512\\4215612419.py:6: FutureWarning: The frame.append method is deprecated and will be removed from pandas in a future version. Use pandas.concat instead.\n",
      "  final_dataframe = final_dataframe.append(\n",
      "C:\\Users\\user\\AppData\\Local\\Temp\\ipykernel_34512\\4215612419.py:6: FutureWarning: The frame.append method is deprecated and will be removed from pandas in a future version. Use pandas.concat instead.\n",
      "  final_dataframe = final_dataframe.append(\n"
     ]
    },
    {
     "name": "stdout",
     "output_type": "stream",
     "text": [
      "POM is not found\n"
     ]
    },
    {
     "name": "stderr",
     "output_type": "stream",
     "text": [
      "C:\\Users\\user\\AppData\\Local\\Temp\\ipykernel_34512\\4215612419.py:6: FutureWarning: The frame.append method is deprecated and will be removed from pandas in a future version. Use pandas.concat instead.\n",
      "  final_dataframe = final_dataframe.append(\n",
      "C:\\Users\\user\\AppData\\Local\\Temp\\ipykernel_34512\\4215612419.py:6: FutureWarning: The frame.append method is deprecated and will be removed from pandas in a future version. Use pandas.concat instead.\n",
      "  final_dataframe = final_dataframe.append(\n",
      "C:\\Users\\user\\AppData\\Local\\Temp\\ipykernel_34512\\4215612419.py:6: FutureWarning: The frame.append method is deprecated and will be removed from pandas in a future version. Use pandas.concat instead.\n",
      "  final_dataframe = final_dataframe.append(\n",
      "C:\\Users\\user\\AppData\\Local\\Temp\\ipykernel_34512\\4215612419.py:6: FutureWarning: The frame.append method is deprecated and will be removed from pandas in a future version. Use pandas.concat instead.\n",
      "  final_dataframe = final_dataframe.append(\n",
      "C:\\Users\\user\\AppData\\Local\\Temp\\ipykernel_34512\\4215612419.py:6: FutureWarning: The frame.append method is deprecated and will be removed from pandas in a future version. Use pandas.concat instead.\n",
      "  final_dataframe = final_dataframe.append(\n",
      "C:\\Users\\user\\AppData\\Local\\Temp\\ipykernel_34512\\4215612419.py:6: FutureWarning: The frame.append method is deprecated and will be removed from pandas in a future version. Use pandas.concat instead.\n",
      "  final_dataframe = final_dataframe.append(\n",
      "C:\\Users\\user\\AppData\\Local\\Temp\\ipykernel_34512\\4215612419.py:6: FutureWarning: The frame.append method is deprecated and will be removed from pandas in a future version. Use pandas.concat instead.\n",
      "  final_dataframe = final_dataframe.append(\n",
      "C:\\Users\\user\\AppData\\Local\\Temp\\ipykernel_34512\\4215612419.py:6: FutureWarning: The frame.append method is deprecated and will be removed from pandas in a future version. Use pandas.concat instead.\n",
      "  final_dataframe = final_dataframe.append(\n",
      "C:\\Users\\user\\AppData\\Local\\Temp\\ipykernel_34512\\4215612419.py:6: FutureWarning: The frame.append method is deprecated and will be removed from pandas in a future version. Use pandas.concat instead.\n",
      "  final_dataframe = final_dataframe.append(\n",
      "C:\\Users\\user\\AppData\\Local\\Temp\\ipykernel_34512\\4215612419.py:6: FutureWarning: The frame.append method is deprecated and will be removed from pandas in a future version. Use pandas.concat instead.\n",
      "  final_dataframe = final_dataframe.append(\n"
     ]
    },
    {
     "name": "stdout",
     "output_type": "stream",
     "text": [
      "PCL is not found\n"
     ]
    },
    {
     "name": "stderr",
     "output_type": "stream",
     "text": [
      "C:\\Users\\user\\AppData\\Local\\Temp\\ipykernel_34512\\4215612419.py:6: FutureWarning: The frame.append method is deprecated and will be removed from pandas in a future version. Use pandas.concat instead.\n",
      "  final_dataframe = final_dataframe.append(\n",
      "C:\\Users\\user\\AppData\\Local\\Temp\\ipykernel_34512\\4215612419.py:6: FutureWarning: The frame.append method is deprecated and will be removed from pandas in a future version. Use pandas.concat instead.\n",
      "  final_dataframe = final_dataframe.append(\n",
      "C:\\Users\\user\\AppData\\Local\\Temp\\ipykernel_34512\\4215612419.py:6: FutureWarning: The frame.append method is deprecated and will be removed from pandas in a future version. Use pandas.concat instead.\n",
      "  final_dataframe = final_dataframe.append(\n",
      "C:\\Users\\user\\AppData\\Local\\Temp\\ipykernel_34512\\4215612419.py:6: FutureWarning: The frame.append method is deprecated and will be removed from pandas in a future version. Use pandas.concat instead.\n",
      "  final_dataframe = final_dataframe.append(\n",
      "C:\\Users\\user\\AppData\\Local\\Temp\\ipykernel_34512\\4215612419.py:6: FutureWarning: The frame.append method is deprecated and will be removed from pandas in a future version. Use pandas.concat instead.\n",
      "  final_dataframe = final_dataframe.append(\n"
     ]
    },
    {
     "name": "stdout",
     "output_type": "stream",
     "text": [
      "PCP is not found\n",
      "PCLN is not found\n"
     ]
    },
    {
     "name": "stderr",
     "output_type": "stream",
     "text": [
      "C:\\Users\\user\\AppData\\Local\\Temp\\ipykernel_34512\\4215612419.py:6: FutureWarning: The frame.append method is deprecated and will be removed from pandas in a future version. Use pandas.concat instead.\n",
      "  final_dataframe = final_dataframe.append(\n",
      "C:\\Users\\user\\AppData\\Local\\Temp\\ipykernel_34512\\4215612419.py:6: FutureWarning: The frame.append method is deprecated and will be removed from pandas in a future version. Use pandas.concat instead.\n",
      "  final_dataframe = final_dataframe.append(\n",
      "C:\\Users\\user\\AppData\\Local\\Temp\\ipykernel_34512\\4215612419.py:6: FutureWarning: The frame.append method is deprecated and will be removed from pandas in a future version. Use pandas.concat instead.\n",
      "  final_dataframe = final_dataframe.append(\n",
      "C:\\Users\\user\\AppData\\Local\\Temp\\ipykernel_34512\\4215612419.py:6: FutureWarning: The frame.append method is deprecated and will be removed from pandas in a future version. Use pandas.concat instead.\n",
      "  final_dataframe = final_dataframe.append(\n",
      "C:\\Users\\user\\AppData\\Local\\Temp\\ipykernel_34512\\4215612419.py:6: FutureWarning: The frame.append method is deprecated and will be removed from pandas in a future version. Use pandas.concat instead.\n",
      "  final_dataframe = final_dataframe.append(\n",
      "C:\\Users\\user\\AppData\\Local\\Temp\\ipykernel_34512\\4215612419.py:6: FutureWarning: The frame.append method is deprecated and will be removed from pandas in a future version. Use pandas.concat instead.\n",
      "  final_dataframe = final_dataframe.append(\n",
      "C:\\Users\\user\\AppData\\Local\\Temp\\ipykernel_34512\\4215612419.py:6: FutureWarning: The frame.append method is deprecated and will be removed from pandas in a future version. Use pandas.concat instead.\n",
      "  final_dataframe = final_dataframe.append(\n",
      "C:\\Users\\user\\AppData\\Local\\Temp\\ipykernel_34512\\4215612419.py:6: FutureWarning: The frame.append method is deprecated and will be removed from pandas in a future version. Use pandas.concat instead.\n",
      "  final_dataframe = final_dataframe.append(\n",
      "C:\\Users\\user\\AppData\\Local\\Temp\\ipykernel_34512\\4215612419.py:6: FutureWarning: The frame.append method is deprecated and will be removed from pandas in a future version. Use pandas.concat instead.\n",
      "  final_dataframe = final_dataframe.append(\n",
      "C:\\Users\\user\\AppData\\Local\\Temp\\ipykernel_34512\\4215612419.py:6: FutureWarning: The frame.append method is deprecated and will be removed from pandas in a future version. Use pandas.concat instead.\n",
      "  final_dataframe = final_dataframe.append(\n",
      "C:\\Users\\user\\AppData\\Local\\Temp\\ipykernel_34512\\4215612419.py:6: FutureWarning: The frame.append method is deprecated and will be removed from pandas in a future version. Use pandas.concat instead.\n",
      "  final_dataframe = final_dataframe.append(\n",
      "C:\\Users\\user\\AppData\\Local\\Temp\\ipykernel_34512\\4215612419.py:6: FutureWarning: The frame.append method is deprecated and will be removed from pandas in a future version. Use pandas.concat instead.\n",
      "  final_dataframe = final_dataframe.append(\n",
      "C:\\Users\\user\\AppData\\Local\\Temp\\ipykernel_34512\\4215612419.py:6: FutureWarning: The frame.append method is deprecated and will be removed from pandas in a future version. Use pandas.concat instead.\n",
      "  final_dataframe = final_dataframe.append(\n",
      "C:\\Users\\user\\AppData\\Local\\Temp\\ipykernel_34512\\4215612419.py:6: FutureWarning: The frame.append method is deprecated and will be removed from pandas in a future version. Use pandas.concat instead.\n",
      "  final_dataframe = final_dataframe.append(\n",
      "C:\\Users\\user\\AppData\\Local\\Temp\\ipykernel_34512\\4215612419.py:6: FutureWarning: The frame.append method is deprecated and will be removed from pandas in a future version. Use pandas.concat instead.\n",
      "  final_dataframe = final_dataframe.append(\n",
      "C:\\Users\\user\\AppData\\Local\\Temp\\ipykernel_34512\\4215612419.py:6: FutureWarning: The frame.append method is deprecated and will be removed from pandas in a future version. Use pandas.concat instead.\n",
      "  final_dataframe = final_dataframe.append(\n",
      "C:\\Users\\user\\AppData\\Local\\Temp\\ipykernel_34512\\4215612419.py:6: FutureWarning: The frame.append method is deprecated and will be removed from pandas in a future version. Use pandas.concat instead.\n",
      "  final_dataframe = final_dataframe.append(\n"
     ]
    },
    {
     "name": "stdout",
     "output_type": "stream",
     "text": [
      "RAI is not found\n"
     ]
    },
    {
     "name": "stderr",
     "output_type": "stream",
     "text": [
      "C:\\Users\\user\\AppData\\Local\\Temp\\ipykernel_34512\\4215612419.py:6: FutureWarning: The frame.append method is deprecated and will be removed from pandas in a future version. Use pandas.concat instead.\n",
      "  final_dataframe = final_dataframe.append(\n",
      "C:\\Users\\user\\AppData\\Local\\Temp\\ipykernel_34512\\4215612419.py:6: FutureWarning: The frame.append method is deprecated and will be removed from pandas in a future version. Use pandas.concat instead.\n",
      "  final_dataframe = final_dataframe.append(\n"
     ]
    },
    {
     "name": "stdout",
     "output_type": "stream",
     "text": [
      "COL is not found\n"
     ]
    },
    {
     "name": "stderr",
     "output_type": "stream",
     "text": [
      "C:\\Users\\user\\AppData\\Local\\Temp\\ipykernel_34512\\4215612419.py:6: FutureWarning: The frame.append method is deprecated and will be removed from pandas in a future version. Use pandas.concat instead.\n",
      "  final_dataframe = final_dataframe.append(\n",
      "C:\\Users\\user\\AppData\\Local\\Temp\\ipykernel_34512\\4215612419.py:6: FutureWarning: The frame.append method is deprecated and will be removed from pandas in a future version. Use pandas.concat instead.\n",
      "  final_dataframe = final_dataframe.append(\n",
      "C:\\Users\\user\\AppData\\Local\\Temp\\ipykernel_34512\\4215612419.py:6: FutureWarning: The frame.append method is deprecated and will be removed from pandas in a future version. Use pandas.concat instead.\n",
      "  final_dataframe = final_dataframe.append(\n",
      "C:\\Users\\user\\AppData\\Local\\Temp\\ipykernel_34512\\4215612419.py:6: FutureWarning: The frame.append method is deprecated and will be removed from pandas in a future version. Use pandas.concat instead.\n",
      "  final_dataframe = final_dataframe.append(\n"
     ]
    },
    {
     "name": "stdout",
     "output_type": "stream",
     "text": [
      "SWY is not found\n"
     ]
    },
    {
     "name": "stderr",
     "output_type": "stream",
     "text": [
      "C:\\Users\\user\\AppData\\Local\\Temp\\ipykernel_34512\\4215612419.py:6: FutureWarning: The frame.append method is deprecated and will be removed from pandas in a future version. Use pandas.concat instead.\n",
      "  final_dataframe = final_dataframe.append(\n",
      "C:\\Users\\user\\AppData\\Local\\Temp\\ipykernel_34512\\4215612419.py:6: FutureWarning: The frame.append method is deprecated and will be removed from pandas in a future version. Use pandas.concat instead.\n",
      "  final_dataframe = final_dataframe.append(\n"
     ]
    },
    {
     "name": "stdout",
     "output_type": "stream",
     "text": [
      "SNDK is not found\n",
      "SCG is not found\n"
     ]
    },
    {
     "name": "stderr",
     "output_type": "stream",
     "text": [
      "C:\\Users\\user\\AppData\\Local\\Temp\\ipykernel_34512\\4215612419.py:6: FutureWarning: The frame.append method is deprecated and will be removed from pandas in a future version. Use pandas.concat instead.\n",
      "  final_dataframe = final_dataframe.append(\n"
     ]
    },
    {
     "name": "stdout",
     "output_type": "stream",
     "text": [
      "SNI is not found\n"
     ]
    },
    {
     "name": "stderr",
     "output_type": "stream",
     "text": [
      "C:\\Users\\user\\AppData\\Local\\Temp\\ipykernel_34512\\4215612419.py:6: FutureWarning: The frame.append method is deprecated and will be removed from pandas in a future version. Use pandas.concat instead.\n",
      "  final_dataframe = final_dataframe.append(\n",
      "C:\\Users\\user\\AppData\\Local\\Temp\\ipykernel_34512\\4215612419.py:6: FutureWarning: The frame.append method is deprecated and will be removed from pandas in a future version. Use pandas.concat instead.\n",
      "  final_dataframe = final_dataframe.append(\n",
      "C:\\Users\\user\\AppData\\Local\\Temp\\ipykernel_34512\\4215612419.py:6: FutureWarning: The frame.append method is deprecated and will be removed from pandas in a future version. Use pandas.concat instead.\n",
      "  final_dataframe = final_dataframe.append(\n",
      "C:\\Users\\user\\AppData\\Local\\Temp\\ipykernel_34512\\4215612419.py:6: FutureWarning: The frame.append method is deprecated and will be removed from pandas in a future version. Use pandas.concat instead.\n",
      "  final_dataframe = final_dataframe.append(\n",
      "C:\\Users\\user\\AppData\\Local\\Temp\\ipykernel_34512\\4215612419.py:6: FutureWarning: The frame.append method is deprecated and will be removed from pandas in a future version. Use pandas.concat instead.\n",
      "  final_dataframe = final_dataframe.append(\n"
     ]
    },
    {
     "name": "stdout",
     "output_type": "stream",
     "text": [
      "SIAL is not found\n"
     ]
    },
    {
     "name": "stderr",
     "output_type": "stream",
     "text": [
      "C:\\Users\\user\\AppData\\Local\\Temp\\ipykernel_34512\\4215612419.py:6: FutureWarning: The frame.append method is deprecated and will be removed from pandas in a future version. Use pandas.concat instead.\n",
      "  final_dataframe = final_dataframe.append(\n",
      "C:\\Users\\user\\AppData\\Local\\Temp\\ipykernel_34512\\4215612419.py:6: FutureWarning: The frame.append method is deprecated and will be removed from pandas in a future version. Use pandas.concat instead.\n",
      "  final_dataframe = final_dataframe.append(\n",
      "C:\\Users\\user\\AppData\\Local\\Temp\\ipykernel_34512\\4215612419.py:6: FutureWarning: The frame.append method is deprecated and will be removed from pandas in a future version. Use pandas.concat instead.\n",
      "  final_dataframe = final_dataframe.append(\n",
      "C:\\Users\\user\\AppData\\Local\\Temp\\ipykernel_34512\\4215612419.py:6: FutureWarning: The frame.append method is deprecated and will be removed from pandas in a future version. Use pandas.concat instead.\n",
      "  final_dataframe = final_dataframe.append(\n",
      "C:\\Users\\user\\AppData\\Local\\Temp\\ipykernel_34512\\4215612419.py:6: FutureWarning: The frame.append method is deprecated and will be removed from pandas in a future version. Use pandas.concat instead.\n",
      "  final_dataframe = final_dataframe.append(\n",
      "C:\\Users\\user\\AppData\\Local\\Temp\\ipykernel_34512\\4215612419.py:6: FutureWarning: The frame.append method is deprecated and will be removed from pandas in a future version. Use pandas.concat instead.\n",
      "  final_dataframe = final_dataframe.append(\n",
      "C:\\Users\\user\\AppData\\Local\\Temp\\ipykernel_34512\\4215612419.py:6: FutureWarning: The frame.append method is deprecated and will be removed from pandas in a future version. Use pandas.concat instead.\n",
      "  final_dataframe = final_dataframe.append(\n",
      "C:\\Users\\user\\AppData\\Local\\Temp\\ipykernel_34512\\4215612419.py:6: FutureWarning: The frame.append method is deprecated and will be removed from pandas in a future version. Use pandas.concat instead.\n",
      "  final_dataframe = final_dataframe.append(\n",
      "C:\\Users\\user\\AppData\\Local\\Temp\\ipykernel_34512\\4215612419.py:6: FutureWarning: The frame.append method is deprecated and will be removed from pandas in a future version. Use pandas.concat instead.\n",
      "  final_dataframe = final_dataframe.append(\n"
     ]
    },
    {
     "name": "stdout",
     "output_type": "stream",
     "text": [
      "STJ is not found\n"
     ]
    },
    {
     "name": "stderr",
     "output_type": "stream",
     "text": [
      "C:\\Users\\user\\AppData\\Local\\Temp\\ipykernel_34512\\4215612419.py:6: FutureWarning: The frame.append method is deprecated and will be removed from pandas in a future version. Use pandas.concat instead.\n",
      "  final_dataframe = final_dataframe.append(\n"
     ]
    },
    {
     "name": "stdout",
     "output_type": "stream",
     "text": [
      "SPLS is not found\n"
     ]
    },
    {
     "name": "stderr",
     "output_type": "stream",
     "text": [
      "C:\\Users\\user\\AppData\\Local\\Temp\\ipykernel_34512\\4215612419.py:6: FutureWarning: The frame.append method is deprecated and will be removed from pandas in a future version. Use pandas.concat instead.\n",
      "  final_dataframe = final_dataframe.append(\n"
     ]
    },
    {
     "name": "stdout",
     "output_type": "stream",
     "text": [
      "HOT is not found\n"
     ]
    },
    {
     "name": "stderr",
     "output_type": "stream",
     "text": [
      "C:\\Users\\user\\AppData\\Local\\Temp\\ipykernel_34512\\4215612419.py:6: FutureWarning: The frame.append method is deprecated and will be removed from pandas in a future version. Use pandas.concat instead.\n",
      "  final_dataframe = final_dataframe.append(\n",
      "C:\\Users\\user\\AppData\\Local\\Temp\\ipykernel_34512\\4215612419.py:6: FutureWarning: The frame.append method is deprecated and will be removed from pandas in a future version. Use pandas.concat instead.\n",
      "  final_dataframe = final_dataframe.append(\n",
      "C:\\Users\\user\\AppData\\Local\\Temp\\ipykernel_34512\\4215612419.py:6: FutureWarning: The frame.append method is deprecated and will be removed from pandas in a future version. Use pandas.concat instead.\n",
      "  final_dataframe = final_dataframe.append(\n",
      "C:\\Users\\user\\AppData\\Local\\Temp\\ipykernel_34512\\4215612419.py:6: FutureWarning: The frame.append method is deprecated and will be removed from pandas in a future version. Use pandas.concat instead.\n",
      "  final_dataframe = final_dataframe.append(\n",
      "C:\\Users\\user\\AppData\\Local\\Temp\\ipykernel_34512\\4215612419.py:6: FutureWarning: The frame.append method is deprecated and will be removed from pandas in a future version. Use pandas.concat instead.\n",
      "  final_dataframe = final_dataframe.append(\n"
     ]
    },
    {
     "name": "stdout",
     "output_type": "stream",
     "text": [
      "SYMC is not found\n"
     ]
    },
    {
     "name": "stderr",
     "output_type": "stream",
     "text": [
      "C:\\Users\\user\\AppData\\Local\\Temp\\ipykernel_34512\\4215612419.py:6: FutureWarning: The frame.append method is deprecated and will be removed from pandas in a future version. Use pandas.concat instead.\n",
      "  final_dataframe = final_dataframe.append(\n",
      "C:\\Users\\user\\AppData\\Local\\Temp\\ipykernel_34512\\4215612419.py:6: FutureWarning: The frame.append method is deprecated and will be removed from pandas in a future version. Use pandas.concat instead.\n",
      "  final_dataframe = final_dataframe.append(\n",
      "C:\\Users\\user\\AppData\\Local\\Temp\\ipykernel_34512\\4215612419.py:6: FutureWarning: The frame.append method is deprecated and will be removed from pandas in a future version. Use pandas.concat instead.\n",
      "  final_dataframe = final_dataframe.append(\n",
      "C:\\Users\\user\\AppData\\Local\\Temp\\ipykernel_34512\\4215612419.py:6: FutureWarning: The frame.append method is deprecated and will be removed from pandas in a future version. Use pandas.concat instead.\n",
      "  final_dataframe = final_dataframe.append(\n"
     ]
    },
    {
     "name": "stdout",
     "output_type": "stream",
     "text": [
      "TE is not found\n"
     ]
    },
    {
     "name": "stderr",
     "output_type": "stream",
     "text": [
      "C:\\Users\\user\\AppData\\Local\\Temp\\ipykernel_34512\\4215612419.py:6: FutureWarning: The frame.append method is deprecated and will be removed from pandas in a future version. Use pandas.concat instead.\n",
      "  final_dataframe = final_dataframe.append(\n",
      "C:\\Users\\user\\AppData\\Local\\Temp\\ipykernel_34512\\4215612419.py:6: FutureWarning: The frame.append method is deprecated and will be removed from pandas in a future version. Use pandas.concat instead.\n",
      "  final_dataframe = final_dataframe.append(\n",
      "C:\\Users\\user\\AppData\\Local\\Temp\\ipykernel_34512\\4215612419.py:6: FutureWarning: The frame.append method is deprecated and will be removed from pandas in a future version. Use pandas.concat instead.\n",
      "  final_dataframe = final_dataframe.append(\n"
     ]
    },
    {
     "name": "stdout",
     "output_type": "stream",
     "text": [
      "TSO is not found\n"
     ]
    },
    {
     "name": "stderr",
     "output_type": "stream",
     "text": [
      "C:\\Users\\user\\AppData\\Local\\Temp\\ipykernel_34512\\4215612419.py:6: FutureWarning: The frame.append method is deprecated and will be removed from pandas in a future version. Use pandas.concat instead.\n",
      "  final_dataframe = final_dataframe.append(\n",
      "C:\\Users\\user\\AppData\\Local\\Temp\\ipykernel_34512\\4215612419.py:6: FutureWarning: The frame.append method is deprecated and will be removed from pandas in a future version. Use pandas.concat instead.\n",
      "  final_dataframe = final_dataframe.append(\n",
      "C:\\Users\\user\\AppData\\Local\\Temp\\ipykernel_34512\\4215612419.py:6: FutureWarning: The frame.append method is deprecated and will be removed from pandas in a future version. Use pandas.concat instead.\n",
      "  final_dataframe = final_dataframe.append(\n",
      "C:\\Users\\user\\AppData\\Local\\Temp\\ipykernel_34512\\4215612419.py:6: FutureWarning: The frame.append method is deprecated and will be removed from pandas in a future version. Use pandas.concat instead.\n",
      "  final_dataframe = final_dataframe.append(\n",
      "C:\\Users\\user\\AppData\\Local\\Temp\\ipykernel_34512\\4215612419.py:6: FutureWarning: The frame.append method is deprecated and will be removed from pandas in a future version. Use pandas.concat instead.\n",
      "  final_dataframe = final_dataframe.append(\n",
      "C:\\Users\\user\\AppData\\Local\\Temp\\ipykernel_34512\\4215612419.py:6: FutureWarning: The frame.append method is deprecated and will be removed from pandas in a future version. Use pandas.concat instead.\n",
      "  final_dataframe = final_dataframe.append(\n"
     ]
    },
    {
     "name": "stdout",
     "output_type": "stream",
     "text": [
      "TWX is not found\n",
      "TWC is not found\n",
      "TIE is not found\n"
     ]
    },
    {
     "name": "stderr",
     "output_type": "stream",
     "text": [
      "C:\\Users\\user\\AppData\\Local\\Temp\\ipykernel_34512\\4215612419.py:6: FutureWarning: The frame.append method is deprecated and will be removed from pandas in a future version. Use pandas.concat instead.\n",
      "  final_dataframe = final_dataframe.append(\n",
      "C:\\Users\\user\\AppData\\Local\\Temp\\ipykernel_34512\\4215612419.py:6: FutureWarning: The frame.append method is deprecated and will be removed from pandas in a future version. Use pandas.concat instead.\n",
      "  final_dataframe = final_dataframe.append(\n",
      "C:\\Users\\user\\AppData\\Local\\Temp\\ipykernel_34512\\4215612419.py:6: FutureWarning: The frame.append method is deprecated and will be removed from pandas in a future version. Use pandas.concat instead.\n",
      "  final_dataframe = final_dataframe.append(\n",
      "C:\\Users\\user\\AppData\\Local\\Temp\\ipykernel_34512\\4215612419.py:6: FutureWarning: The frame.append method is deprecated and will be removed from pandas in a future version. Use pandas.concat instead.\n",
      "  final_dataframe = final_dataframe.append(\n",
      "C:\\Users\\user\\AppData\\Local\\Temp\\ipykernel_34512\\4215612419.py:6: FutureWarning: The frame.append method is deprecated and will be removed from pandas in a future version. Use pandas.concat instead.\n",
      "  final_dataframe = final_dataframe.append(\n"
     ]
    },
    {
     "name": "stdout",
     "output_type": "stream",
     "text": [
      "TYC is not found\n"
     ]
    },
    {
     "name": "stderr",
     "output_type": "stream",
     "text": [
      "C:\\Users\\user\\AppData\\Local\\Temp\\ipykernel_34512\\4215612419.py:6: FutureWarning: The frame.append method is deprecated and will be removed from pandas in a future version. Use pandas.concat instead.\n",
      "  final_dataframe = final_dataframe.append(\n",
      "C:\\Users\\user\\AppData\\Local\\Temp\\ipykernel_34512\\4215612419.py:6: FutureWarning: The frame.append method is deprecated and will be removed from pandas in a future version. Use pandas.concat instead.\n",
      "  final_dataframe = final_dataframe.append(\n",
      "C:\\Users\\user\\AppData\\Local\\Temp\\ipykernel_34512\\4215612419.py:6: FutureWarning: The frame.append method is deprecated and will be removed from pandas in a future version. Use pandas.concat instead.\n",
      "  final_dataframe = final_dataframe.append(\n",
      "C:\\Users\\user\\AppData\\Local\\Temp\\ipykernel_34512\\4215612419.py:6: FutureWarning: The frame.append method is deprecated and will be removed from pandas in a future version. Use pandas.concat instead.\n",
      "  final_dataframe = final_dataframe.append(\n",
      "C:\\Users\\user\\AppData\\Local\\Temp\\ipykernel_34512\\4215612419.py:6: FutureWarning: The frame.append method is deprecated and will be removed from pandas in a future version. Use pandas.concat instead.\n",
      "  final_dataframe = final_dataframe.append(\n",
      "C:\\Users\\user\\AppData\\Local\\Temp\\ipykernel_34512\\4215612419.py:6: FutureWarning: The frame.append method is deprecated and will be removed from pandas in a future version. Use pandas.concat instead.\n",
      "  final_dataframe = final_dataframe.append(\n",
      "C:\\Users\\user\\AppData\\Local\\Temp\\ipykernel_34512\\4215612419.py:6: FutureWarning: The frame.append method is deprecated and will be removed from pandas in a future version. Use pandas.concat instead.\n",
      "  final_dataframe = final_dataframe.append(\n",
      "C:\\Users\\user\\AppData\\Local\\Temp\\ipykernel_34512\\4215612419.py:6: FutureWarning: The frame.append method is deprecated and will be removed from pandas in a future version. Use pandas.concat instead.\n",
      "  final_dataframe = final_dataframe.append(\n",
      "C:\\Users\\user\\AppData\\Local\\Temp\\ipykernel_34512\\4215612419.py:6: FutureWarning: The frame.append method is deprecated and will be removed from pandas in a future version. Use pandas.concat instead.\n",
      "  final_dataframe = final_dataframe.append(\n",
      "C:\\Users\\user\\AppData\\Local\\Temp\\ipykernel_34512\\4215612419.py:6: FutureWarning: The frame.append method is deprecated and will be removed from pandas in a future version. Use pandas.concat instead.\n",
      "  final_dataframe = final_dataframe.append(\n",
      "C:\\Users\\user\\AppData\\Local\\Temp\\ipykernel_34512\\4215612419.py:6: FutureWarning: The frame.append method is deprecated and will be removed from pandas in a future version. Use pandas.concat instead.\n",
      "  final_dataframe = final_dataframe.append(\n",
      "C:\\Users\\user\\AppData\\Local\\Temp\\ipykernel_34512\\4215612419.py:6: FutureWarning: The frame.append method is deprecated and will be removed from pandas in a future version. Use pandas.concat instead.\n",
      "  final_dataframe = final_dataframe.append(\n",
      "C:\\Users\\user\\AppData\\Local\\Temp\\ipykernel_34512\\4215612419.py:6: FutureWarning: The frame.append method is deprecated and will be removed from pandas in a future version. Use pandas.concat instead.\n",
      "  final_dataframe = final_dataframe.append(\n",
      "C:\\Users\\user\\AppData\\Local\\Temp\\ipykernel_34512\\4215612419.py:6: FutureWarning: The frame.append method is deprecated and will be removed from pandas in a future version. Use pandas.concat instead.\n",
      "  final_dataframe = final_dataframe.append(\n",
      "C:\\Users\\user\\AppData\\Local\\Temp\\ipykernel_34512\\4215612419.py:6: FutureWarning: The frame.append method is deprecated and will be removed from pandas in a future version. Use pandas.concat instead.\n",
      "  final_dataframe = final_dataframe.append(\n",
      "C:\\Users\\user\\AppData\\Local\\Temp\\ipykernel_34512\\4215612419.py:6: FutureWarning: The frame.append method is deprecated and will be removed from pandas in a future version. Use pandas.concat instead.\n",
      "  final_dataframe = final_dataframe.append(\n",
      "C:\\Users\\user\\AppData\\Local\\Temp\\ipykernel_34512\\4215612419.py:6: FutureWarning: The frame.append method is deprecated and will be removed from pandas in a future version. Use pandas.concat instead.\n",
      "  final_dataframe = final_dataframe.append(\n",
      "C:\\Users\\user\\AppData\\Local\\Temp\\ipykernel_34512\\4215612419.py:6: FutureWarning: The frame.append method is deprecated and will be removed from pandas in a future version. Use pandas.concat instead.\n",
      "  final_dataframe = final_dataframe.append(\n",
      "C:\\Users\\user\\AppData\\Local\\Temp\\ipykernel_34512\\4215612419.py:6: FutureWarning: The frame.append method is deprecated and will be removed from pandas in a future version. Use pandas.concat instead.\n",
      "  final_dataframe = final_dataframe.append(\n"
     ]
    },
    {
     "name": "stdout",
     "output_type": "stream",
     "text": [
      "WAG is not found\n"
     ]
    },
    {
     "name": "stderr",
     "output_type": "stream",
     "text": [
      "C:\\Users\\user\\AppData\\Local\\Temp\\ipykernel_34512\\4215612419.py:6: FutureWarning: The frame.append method is deprecated and will be removed from pandas in a future version. Use pandas.concat instead.\n",
      "  final_dataframe = final_dataframe.append(\n"
     ]
    },
    {
     "name": "stdout",
     "output_type": "stream",
     "text": [
      "WPO is not found\n"
     ]
    },
    {
     "name": "stderr",
     "output_type": "stream",
     "text": [
      "C:\\Users\\user\\AppData\\Local\\Temp\\ipykernel_34512\\4215612419.py:6: FutureWarning: The frame.append method is deprecated and will be removed from pandas in a future version. Use pandas.concat instead.\n",
      "  final_dataframe = final_dataframe.append(\n",
      "C:\\Users\\user\\AppData\\Local\\Temp\\ipykernel_34512\\4215612419.py:6: FutureWarning: The frame.append method is deprecated and will be removed from pandas in a future version. Use pandas.concat instead.\n",
      "  final_dataframe = final_dataframe.append(\n"
     ]
    },
    {
     "name": "stdout",
     "output_type": "stream",
     "text": [
      "WPI is not found\n",
      "WLP is not found\n"
     ]
    },
    {
     "name": "stderr",
     "output_type": "stream",
     "text": [
      "C:\\Users\\user\\AppData\\Local\\Temp\\ipykernel_34512\\4215612419.py:6: FutureWarning: The frame.append method is deprecated and will be removed from pandas in a future version. Use pandas.concat instead.\n",
      "  final_dataframe = final_dataframe.append(\n",
      "C:\\Users\\user\\AppData\\Local\\Temp\\ipykernel_34512\\4215612419.py:6: FutureWarning: The frame.append method is deprecated and will be removed from pandas in a future version. Use pandas.concat instead.\n",
      "  final_dataframe = final_dataframe.append(\n",
      "C:\\Users\\user\\AppData\\Local\\Temp\\ipykernel_34512\\4215612419.py:6: FutureWarning: The frame.append method is deprecated and will be removed from pandas in a future version. Use pandas.concat instead.\n",
      "  final_dataframe = final_dataframe.append(\n",
      "C:\\Users\\user\\AppData\\Local\\Temp\\ipykernel_34512\\4215612419.py:6: FutureWarning: The frame.append method is deprecated and will be removed from pandas in a future version. Use pandas.concat instead.\n",
      "  final_dataframe = final_dataframe.append(\n",
      "C:\\Users\\user\\AppData\\Local\\Temp\\ipykernel_34512\\4215612419.py:6: FutureWarning: The frame.append method is deprecated and will be removed from pandas in a future version. Use pandas.concat instead.\n",
      "  final_dataframe = final_dataframe.append(\n"
     ]
    },
    {
     "name": "stdout",
     "output_type": "stream",
     "text": [
      "WFM is not found\n"
     ]
    },
    {
     "name": "stderr",
     "output_type": "stream",
     "text": [
      "C:\\Users\\user\\AppData\\Local\\Temp\\ipykernel_34512\\4215612419.py:6: FutureWarning: The frame.append method is deprecated and will be removed from pandas in a future version. Use pandas.concat instead.\n",
      "  final_dataframe = final_dataframe.append(\n",
      "C:\\Users\\user\\AppData\\Local\\Temp\\ipykernel_34512\\4215612419.py:6: FutureWarning: The frame.append method is deprecated and will be removed from pandas in a future version. Use pandas.concat instead.\n",
      "  final_dataframe = final_dataframe.append(\n",
      "C:\\Users\\user\\AppData\\Local\\Temp\\ipykernel_34512\\4215612419.py:6: FutureWarning: The frame.append method is deprecated and will be removed from pandas in a future version. Use pandas.concat instead.\n",
      "  final_dataframe = final_dataframe.append(\n",
      "C:\\Users\\user\\AppData\\Local\\Temp\\ipykernel_34512\\4215612419.py:6: FutureWarning: The frame.append method is deprecated and will be removed from pandas in a future version. Use pandas.concat instead.\n",
      "  final_dataframe = final_dataframe.append(\n"
     ]
    },
    {
     "name": "stdout",
     "output_type": "stream",
     "text": [
      "WYN is not found\n"
     ]
    },
    {
     "name": "stderr",
     "output_type": "stream",
     "text": [
      "C:\\Users\\user\\AppData\\Local\\Temp\\ipykernel_34512\\4215612419.py:6: FutureWarning: The frame.append method is deprecated and will be removed from pandas in a future version. Use pandas.concat instead.\n",
      "  final_dataframe = final_dataframe.append(\n",
      "C:\\Users\\user\\AppData\\Local\\Temp\\ipykernel_34512\\4215612419.py:6: FutureWarning: The frame.append method is deprecated and will be removed from pandas in a future version. Use pandas.concat instead.\n",
      "  final_dataframe = final_dataframe.append(\n",
      "C:\\Users\\user\\AppData\\Local\\Temp\\ipykernel_34512\\4215612419.py:6: FutureWarning: The frame.append method is deprecated and will be removed from pandas in a future version. Use pandas.concat instead.\n",
      "  final_dataframe = final_dataframe.append(\n",
      "C:\\Users\\user\\AppData\\Local\\Temp\\ipykernel_34512\\4215612419.py:6: FutureWarning: The frame.append method is deprecated and will be removed from pandas in a future version. Use pandas.concat instead.\n",
      "  final_dataframe = final_dataframe.append(\n",
      "C:\\Users\\user\\AppData\\Local\\Temp\\ipykernel_34512\\4215612419.py:6: FutureWarning: The frame.append method is deprecated and will be removed from pandas in a future version. Use pandas.concat instead.\n",
      "  final_dataframe = final_dataframe.append(\n",
      "C:\\Users\\user\\AppData\\Local\\Temp\\ipykernel_34512\\4215612419.py:6: FutureWarning: The frame.append method is deprecated and will be removed from pandas in a future version. Use pandas.concat instead.\n",
      "  final_dataframe = final_dataframe.append(\n"
     ]
    },
    {
     "name": "stdout",
     "output_type": "stream",
     "text": [
      "YHOO is not found\n"
     ]
    },
    {
     "name": "stderr",
     "output_type": "stream",
     "text": [
      "C:\\Users\\user\\AppData\\Local\\Temp\\ipykernel_34512\\4215612419.py:6: FutureWarning: The frame.append method is deprecated and will be removed from pandas in a future version. Use pandas.concat instead.\n",
      "  final_dataframe = final_dataframe.append(\n"
     ]
    },
    {
     "name": "stdout",
     "output_type": "stream",
     "text": [
      "ZMH is not found\n"
     ]
    },
    {
     "name": "stderr",
     "output_type": "stream",
     "text": [
      "C:\\Users\\user\\AppData\\Local\\Temp\\ipykernel_34512\\4215612419.py:6: FutureWarning: The frame.append method is deprecated and will be removed from pandas in a future version. Use pandas.concat instead.\n",
      "  final_dataframe = final_dataframe.append(\n"
     ]
    }
   ],
   "source": [
    "final_dataframe = pd.DataFrame(columns = my_columns)\n",
    "for stock in stocks[\"Ticker\"]:\n",
    "    try:\n",
    "        api_url = f'https://cloud.iexapis.com/stable/stock/{stock}/stats/?token={IEX_CLOUD_API_TOKEN}'\n",
    "        data = requests.get(api_url).json()\n",
    "        final_dataframe = final_dataframe.append(\n",
    "            pd.Series([stock, data[\"day200MovingAvg\"], data[\"marketcap\"], \"N/A\"], index = my_columns),\n",
    "            ignore_index = True\n",
    "    )\n",
    "    except:\n",
    "        print(f'{stock} is not found')\n",
    "        pass"
   ]
  },
  {
   "cell_type": "code",
   "execution_count": 10,
   "metadata": {},
   "outputs": [
    {
     "data": {
      "text/html": [
       "<div>\n",
       "<style scoped>\n",
       "    .dataframe tbody tr th:only-of-type {\n",
       "        vertical-align: middle;\n",
       "    }\n",
       "\n",
       "    .dataframe tbody tr th {\n",
       "        vertical-align: top;\n",
       "    }\n",
       "\n",
       "    .dataframe thead th {\n",
       "        text-align: right;\n",
       "    }\n",
       "</style>\n",
       "<table border=\"1\" class=\"dataframe\">\n",
       "  <thead>\n",
       "    <tr style=\"text-align: right;\">\n",
       "      <th></th>\n",
       "      <th>Ticker</th>\n",
       "      <th>Stock Price</th>\n",
       "      <th>Market Capitalization</th>\n",
       "      <th>Number of Shares to Buy</th>\n",
       "    </tr>\n",
       "  </thead>\n",
       "  <tbody>\n",
       "    <tr>\n",
       "      <th>0</th>\n",
       "      <td>MMM</td>\n",
       "      <td>100.93</td>\n",
       "      <td>54641730646</td>\n",
       "      <td>N/A</td>\n",
       "    </tr>\n",
       "    <tr>\n",
       "      <th>1</th>\n",
       "      <td>ABT</td>\n",
       "      <td>104.76</td>\n",
       "      <td>174021698234</td>\n",
       "      <td>N/A</td>\n",
       "    </tr>\n",
       "    <tr>\n",
       "      <th>2</th>\n",
       "      <td>ANF</td>\n",
       "      <td>34.20</td>\n",
       "      <td>2530442818</td>\n",
       "      <td>N/A</td>\n",
       "    </tr>\n",
       "    <tr>\n",
       "      <th>3</th>\n",
       "      <td>ACN</td>\n",
       "      <td>295.93</td>\n",
       "      <td>210453956698</td>\n",
       "      <td>N/A</td>\n",
       "    </tr>\n",
       "    <tr>\n",
       "      <th>4</th>\n",
       "      <td>ADBE</td>\n",
       "      <td>446.45</td>\n",
       "      <td>244208524000</td>\n",
       "      <td>N/A</td>\n",
       "    </tr>\n",
       "    <tr>\n",
       "      <th>...</th>\n",
       "      <td>...</td>\n",
       "      <td>...</td>\n",
       "      <td>...</td>\n",
       "      <td>...</td>\n",
       "    </tr>\n",
       "    <tr>\n",
       "      <th>419</th>\n",
       "      <td>XLNX</td>\n",
       "      <td>0.00</td>\n",
       "      <td>0</td>\n",
       "      <td>N/A</td>\n",
       "    </tr>\n",
       "    <tr>\n",
       "      <th>420</th>\n",
       "      <td>XL</td>\n",
       "      <td>0.00</td>\n",
       "      <td>181592034</td>\n",
       "      <td>N/A</td>\n",
       "    </tr>\n",
       "    <tr>\n",
       "      <th>421</th>\n",
       "      <td>XYL</td>\n",
       "      <td>103.97</td>\n",
       "      <td>22534325365</td>\n",
       "      <td>N/A</td>\n",
       "    </tr>\n",
       "    <tr>\n",
       "      <th>422</th>\n",
       "      <td>YUM</td>\n",
       "      <td>132.37</td>\n",
       "      <td>35600843251</td>\n",
       "      <td>N/A</td>\n",
       "    </tr>\n",
       "    <tr>\n",
       "      <th>423</th>\n",
       "      <td>ZION</td>\n",
       "      <td>31.07</td>\n",
       "      <td>5229523195</td>\n",
       "      <td>N/A</td>\n",
       "    </tr>\n",
       "  </tbody>\n",
       "</table>\n",
       "<p>424 rows × 4 columns</p>\n",
       "</div>"
      ],
      "text/plain": [
       "    Ticker  Stock Price Market Capitalization Number of Shares to Buy\n",
       "0      MMM       100.93           54641730646                     N/A\n",
       "1      ABT       104.76          174021698234                     N/A\n",
       "2      ANF        34.20            2530442818                     N/A\n",
       "3      ACN       295.93          210453956698                     N/A\n",
       "4     ADBE       446.45          244208524000                     N/A\n",
       "..     ...          ...                   ...                     ...\n",
       "419   XLNX         0.00                     0                     N/A\n",
       "420     XL         0.00             181592034                     N/A\n",
       "421    XYL       103.97           22534325365                     N/A\n",
       "422    YUM       132.37           35600843251                     N/A\n",
       "423   ZION        31.07            5229523195                     N/A\n",
       "\n",
       "[424 rows x 4 columns]"
      ]
     },
     "execution_count": 10,
     "metadata": {},
     "output_type": "execute_result"
    }
   ],
   "source": [
    "final_dataframe"
   ]
  },
  {
   "cell_type": "markdown",
   "metadata": {},
   "source": [
    "## Using Batch API Calls to Improve Performance\n",
    "\n",
    "Batch API calls are one of the easiest ways to improve the performance of your code.\n",
    "\n",
    "This is because HTTP requests are typically one of the slowest components of a script.\n",
    "\n",
    "Also, API providers will often give you discounted rates for using batch API calls since they are easier for the API provider to respond to.\n",
    "\n",
    "IEX Cloud limits their batch API calls to 100 tickers per request. Still, this reduces the number of API calls we'll make in this section from 500 to 5 - huge improvement! In this section, we'll split our list of stocks into groups of 100 and then make a batch API call for each group."
   ]
  },
  {
   "cell_type": "code",
   "execution_count": 12,
   "metadata": {},
   "outputs": [],
   "source": [
    "def chunks(lst, n):\n",
    "    for i in range(0, len(lst), n):\n",
    "        yield lst[i:i + n]"
   ]
  },
  {
   "cell_type": "code",
   "execution_count": 27,
   "metadata": {},
   "outputs": [
    {
     "name": "stdout",
     "output_type": "stream",
     "text": [
      "{'MMM': {'stats': {'companyName': '3M Co.', 'marketcap': 54641730646, 'week52high': 126.78, 'week52low': 91.02, 'week52highSplitAdjustOnly': 133.91, 'week52lowSplitAdjustOnly': 92.38, 'week52change': -0.08929323856119564, 'sharesOutstanding': 551992430, 'float': 0, 'avg10Volume': 4340531, 'avg30Volume': 4005563, 'day200MovingAvg': 100.93, 'day50MovingAvg': 102.71, 'employees': 48055, 'ttmEPS': -2.63, 'ttmDividendRate': 5.860834243365432, 'dividendYield': 0.05920632632958311, 'nextDividendDate': '', 'exDividendDate': '2023-08-18', 'nextEarningsDate': '2023-10-24', 'peRatio': -37.27266756186904, 'beta': 0.9853699378210878, 'maxChangePercent': 0.9999878776368664, 'year5ChangePercent': -0.4426219908400592, 'year2ChangePercent': -0.3983998249713604, 'year1ChangePercent': -0.1026581226255432, 'ytdChangePercent': -0.13819146444767738, 'month6ChangePercent': -0.022168397636371902, 'month3ChangePercent': -0.017884249438946842, 'month1ChangePercent': -0.01019898010198994, 'day30ChangePercent': -0.0020163322915617288, 'day5ChangePercent': -0.020385947550717542}, 'quote': {'avgTotalVolume': 4005563, 'calculationPrice': 'tops', 'change': -1.425, 'changePercent': -0.0144, 'close': None, 'closeSource': 'official', 'closeTime': None, 'companyName': '3M Co.', 'currency': 'USD', 'delayedPrice': None, 'delayedPriceTime': None, 'extendedChange': None, 'extendedChangePercent': None, 'extendedPrice': None, 'extendedPriceTime': None, 'high': None, 'highSource': '15 minute delayed price', 'highTime': 1695325155821, 'iexAskPrice': 117.46, 'iexAskSize': 100, 'iexBidPrice': 97.54, 'iexBidSize': 100, 'iexClose': 97.565, 'iexCloseTime': 1695326049503, 'iexLastUpdated': 1695326049503, 'iexMarketPercent': 0.017971072874860248, 'iexOpen': 98.49, 'iexOpenTime': 1695303001270, 'iexRealtimePrice': 97.565, 'iexRealtimeSize': 82, 'iexVolume': 45682, 'lastTradeTime': 1695326049503, 'latestPrice': 97.565, 'latestSource': 'IEX real time price', 'latestTime': '3:54:09 PM', 'latestUpdate': 1695326049503, 'latestVolume': None, 'low': None, 'lowSource': 'IEX real time price', 'lowTime': 1695326023852, 'marketCap': 53855141433, 'oddLotDelayedPrice': None, 'oddLotDelayedPriceTime': None, 'open': None, 'openTime': None, 'openSource': 'official', 'peRatio': -37.1, 'previousClose': 98.99, 'previousVolume': 2457435, 'primaryExchange': 'NEW YORK STOCK EXCHANGE INC.', 'symbol': 'MMM', 'volume': None, 'week52High': 126.78, 'week52Low': 91.02, 'ytdChange': -0.15259146444767738, 'isUSMarketOpen': True}}, 'ABT': {'stats': {'companyName': 'Abbott Laboratories', 'marketcap': 174021698234, 'week52high': 115.83, 'week52low': 91.93, 'week52highSplitAdjustOnly': 115.83, 'week52lowSplitAdjustOnly': 93.25, 'week52change': 0.015428889093657803, 'sharesOutstanding': 1735357980, 'float': 0, 'avg10Volume': 4403386, 'avg30Volume': 4159245, 'day200MovingAvg': 104.76, 'day50MovingAvg': 103.69, 'employees': 115000, 'ttmEPS': 2.94, 'ttmDividendRate': 1.9859406234215824, 'dividendYield': 0.01980395515976847, 'nextDividendDate': '', 'exDividendDate': '2023-07-13', 'nextEarningsDate': '2023-10-18', 'peRatio': 33.71860070420461, 'beta': 0.7627370790368324, 'maxChangePercent': 5.10079575596817, 'year5ChangePercent': 0.5830768016418029, 'year2ChangePercent': -0.16850122096325504, 'year1ChangePercent': -0.0010459730039349413, 'ytdChangePercent': -0.07347693763246932, 'month6ChangePercent': 0.03468378070234279, 'month3ChangePercent': -0.05566118313562307, 'month1ChangePercent': -0.03307299199691438, 'day30ChangePercent': -0.03456243381149515, 'day5ChangePercent': -0.02346869218034864}, 'quote': {'avgTotalVolume': 4159245, 'calculationPrice': 'tops', 'change': -1.25, 'changePercent': -0.01247, 'close': None, 'closeSource': 'official', 'closeTime': None, 'companyName': 'Abbott Laboratories', 'currency': 'USD', 'delayedPrice': None, 'delayedPriceTime': None, 'extendedChange': None, 'extendedChangePercent': None, 'extendedPrice': None, 'extendedPriceTime': None, 'high': None, 'highSource': '15 minute delayed price', 'highTime': 1695325151556, 'iexAskPrice': 99.03, 'iexAskSize': 100, 'iexBidPrice': 79.34, 'iexBidSize': 106, 'iexClose': 99.03, 'iexCloseTime': 1695326053356, 'iexLastUpdated': 1695326053356, 'iexMarketPercent': 0.03748599192046132, 'iexOpen': 99.88, 'iexOpenTime': 1695303067207, 'iexRealtimePrice': 99.03, 'iexRealtimeSize': 100, 'iexVolume': 106071, 'lastTradeTime': 1695326053356, 'latestPrice': 99.03, 'latestSource': 'IEX real time price', 'latestTime': '3:54:13 PM', 'latestUpdate': 1695326053356, 'latestVolume': None, 'low': None, 'lowSource': 'IEX real time price', 'lowTime': 1695325800151, 'marketCap': 171852500759, 'oddLotDelayedPrice': None, 'oddLotDelayedPriceTime': None, 'open': None, 'openTime': None, 'openSource': 'official', 'peRatio': 33.68, 'previousClose': 100.28, 'previousVolume': 3966105, 'primaryExchange': 'NEW YORK STOCK EXCHANGE INC.', 'symbol': 'ABT', 'volume': None, 'week52High': 115.83, 'week52Low': 91.93, 'ytdChange': -0.08594693763246931, 'isUSMarketOpen': True}}, 'ANF': {'stats': {'companyName': 'Abercrombie & Fitch Co.', 'marketcap': 2530442818, 'week52high': 55.52, 'week52low': 14.43, 'week52highSplitAdjustOnly': 55.52, 'week52lowSplitAdjustOnly': 14.43, 'week52change': 2.2232200128287363, 'sharesOutstanding': 50357071, 'float': 0, 'avg10Volume': 1690210, 'avg30Volume': 2349853, 'day200MovingAvg': 34.2, 'day50MovingAvg': 47.39, 'employees': 20550, 'ttmEPS': 2.09, 'ttmDividendRate': 0, 'dividendYield': 0, 'nextDividendDate': '', 'exDividendDate': '', 'nextEarningsDate': '2023-11-22', 'peRatio': 23.091352914202805, 'beta': 1.3209577985334153, 'maxChangePercent': 0.016422556692105905, 'year5ChangePercent': 1.680843572110691, 'year2ChangePercent': 0.35664146868250546, 'year1ChangePercent': 2.1544256120527305, 'ytdChangePercent': 1.1933653426451332, 'month6ChangePercent': 0.9282425172678436, 'month3ChangePercent': 0.3865894039735098, 'month1ChangePercent': 0.16319444444444442, 'day30ChangePercent': 0.2033045977011494, 'day5ChangePercent': -0.007701421800947905}, 'quote': {'avgTotalVolume': 2349853, 'calculationPrice': 'tops', 'change': -0.79, 'changePercent': -0.01572, 'close': None, 'closeSource': 'official', 'closeTime': None, 'companyName': 'Abercrombie & Fitch Co. - Class A', 'currency': 'USD', 'delayedPrice': None, 'delayedPriceTime': None, 'extendedChange': None, 'extendedChangePercent': None, 'extendedPrice': None, 'extendedPriceTime': None, 'high': None, 'highSource': '15 minute delayed price', 'highTime': 1695325154993, 'iexAskPrice': 59.53, 'iexAskSize': 100, 'iexBidPrice': 49.45, 'iexBidSize': 100, 'iexClose': 49.46, 'iexCloseTime': 1695326043365, 'iexLastUpdated': 1695326043365, 'iexMarketPercent': 0.06443411746527629, 'iexOpen': 49.855, 'iexOpenTime': 1695303004007, 'iexRealtimePrice': 49.46, 'iexRealtimeSize': 100, 'iexVolume': 49624, 'lastTradeTime': 1695326043365, 'latestPrice': 49.46, 'latestSource': 'IEX real time price', 'latestTime': '3:54:03 PM', 'latestUpdate': 1695326043365, 'latestVolume': None, 'low': None, 'lowSource': '15 minute delayed price', 'lowTime': 1695304849998, 'marketCap': 2490660732, 'oddLotDelayedPrice': None, 'oddLotDelayedPriceTime': None, 'open': None, 'openTime': None, 'openSource': 'official', 'peRatio': 23.67, 'previousClose': 50.25, 'previousVolume': 1192321, 'primaryExchange': 'NEW YORK STOCK EXCHANGE INC.', 'symbol': 'ANF', 'volume': None, 'week52High': 55.52, 'week52Low': 14.43, 'ytdChange': 1.1776453426451332, 'isUSMarketOpen': True}}, 'ACN': {'stats': {'companyName': 'Accenture plc', 'marketcap': 210453956698, 'week52high': 330.44, 'week52low': 240.14, 'week52highSplitAdjustOnly': 330.44, 'week52lowSplitAdjustOnly': 242.8, 'week52change': 0.2129050339004659, 'sharesOutstanding': 664311732, 'float': 0, 'avg10Volume': 2269626, 'avg30Volume': 1816956, 'day200MovingAvg': 295.93, 'day50MovingAvg': 316.15, 'employees': 732000, 'ttmEPS': 11.21, 'ttmDividendRate': 4.454591287473415, 'dividendYield': 0.014061209872075172, 'nextDividendDate': '', 'exDividendDate': '2023-07-12', 'nextEarningsDate': '2023-09-28', 'peRatio': 29.37773921120892, 'beta': 1.2288296778091812, 'maxChangePercent': 11.333422875229209, 'year5ChangePercent': 0.961064694707168, 'year2ChangePercent': -0.01940786225651958, 'year1ChangePercent': 0.19127167875674567, 'ytdChangePercent': 0.20110920615325845, 'month6ChangePercent': 0.2639017220660964, 'month3ChangePercent': 0.0017321618632217817, 'month1ChangePercent': 0.04575163398692816, 'day30ChangePercent': 0.033571498482920736, 'day5ChangePercent': 0.009206460450447596}, 'quote': {'avgTotalVolume': 1816956, 'calculationPrice': 'tops', 'change': -4.7, 'changePercent': -0.01484, 'close': None, 'closeSource': 'official', 'closeTime': None, 'companyName': 'Accenture plc - Class A', 'currency': 'USD', 'delayedPrice': None, 'delayedPriceTime': None, 'extendedChange': None, 'extendedChangePercent': None, 'extendedPrice': None, 'extendedPriceTime': None, 'high': None, 'highSource': '15 minute delayed price', 'highTime': 1695325152219, 'iexAskPrice': 375.16, 'iexAskSize': 100, 'iexBidPrice': 249.97, 'iexBidSize': 100, 'iexClose': 312.1, 'iexCloseTime': 1695326050924, 'iexLastUpdated': 1695326050924, 'iexMarketPercent': 0.03810280186947817, 'iexOpen': 314.545, 'iexOpenTime': 1695303007288, 'iexRealtimePrice': 312.1, 'iexRealtimeSize': 1, 'iexVolume': 47065, 'lastTradeTime': 1695326050924, 'latestPrice': 312.1, 'latestSource': 'IEX real time price', 'latestTime': '3:54:10 PM', 'latestUpdate': 1695326050924, 'latestVolume': None, 'low': None, 'lowSource': 'IEX real time price', 'lowTime': 1695325992133, 'marketCap': 207331691557, 'oddLotDelayedPrice': None, 'oddLotDelayedPriceTime': None, 'open': None, 'openTime': None, 'openSource': 'official', 'peRatio': 27.84, 'previousClose': 316.8, 'previousVolume': 1693189, 'primaryExchange': 'NEW YORK STOCK EXCHANGE INC.', 'symbol': 'ACN', 'volume': None, 'week52High': 330.44, 'week52Low': 240.14, 'ytdChange': 0.18626920615325845, 'isUSMarketOpen': True}}, 'ADBE': {'stats': {'companyName': 'Adobe Inc', 'marketcap': 244208524000, 'week52high': 570.24, 'week52low': 274.73, 'week52highSplitAdjustOnly': 570.24, 'week52lowSplitAdjustOnly': 274.73, 'week52change': 0.8713936430317846, 'sharesOutstanding': 455800000, 'float': 0, 'avg10Volume': 4236279, 'avg30Volume': 3013581, 'day200MovingAvg': 446.45, 'day50MovingAvg': 534.11, 'employees': 29239, 'ttmEPS': 10.47, 'ttmDividendRate': 0, 'dividendYield': 0, 'nextDividendDate': '', 'exDividendDate': '', 'nextEarningsDate': '2023-12-14', 'peRatio': 50.3107795632468, 'beta': 1.483304273514911, 'maxChangePercent': 12.02966926070039, 'year5ChangePercent': 1.011639258091162, 'year2ChangePercent': -0.16452774875641285, 'year1ChangePercent': 0.8407888407888406, 'ytdChangePercent': 0.5920720292395925, 'month6ChangePercent': 0.476466049382716, 'month3ChangePercent': 0.102745646894167, 'month1ChangePercent': 0.05441520870643335, 'day30ChangePercent': 0.02941572040655549, 'day5ChangePercent': -0.032119372787051015}, 'quote': {'avgTotalVolume': 3013581, 'calculationPrice': 'tops', 'change': -21.38, 'changePercent': -0.0399, 'close': None, 'closeSource': 'official', 'closeTime': None, 'companyName': 'Adobe Inc', 'currency': 'USD', 'delayedPrice': None, 'delayedPriceTime': None, 'extendedChange': None, 'extendedChangePercent': None, 'extendedPrice': None, 'extendedPriceTime': None, 'high': None, 'highSource': None, 'highTime': None, 'iexAskPrice': 514.84, 'iexAskSize': 100, 'iexBidPrice': 498, 'iexBidSize': 181, 'iexClose': 514.4, 'iexCloseTime': 1695326041873, 'iexLastUpdated': 1695326041873, 'iexMarketPercent': 0.043999835932815166, 'iexOpen': 519.28, 'iexOpenTime': 1695303000571, 'iexRealtimePrice': 514.4, 'iexRealtimeSize': 100, 'iexVolume': 129800, 'lastTradeTime': 1695326041873, 'latestPrice': 514.4, 'latestSource': 'IEX real time price', 'latestTime': '3:54:01 PM', 'latestUpdate': 1695326041873, 'latestVolume': None, 'low': None, 'lowSource': 'IEX real time price', 'lowTime': 1695326034579, 'marketCap': 234463520000, 'oddLotDelayedPrice': None, 'oddLotDelayedPriceTime': None, 'open': None, 'openTime': None, 'openSource': 'official', 'peRatio': 49.13, 'previousClose': 535.78, 'previousVolume': 2628934, 'primaryExchange': 'NASDAQ', 'symbol': 'ADBE', 'volume': None, 'week52High': 570.24, 'week52Low': 274.73, 'ytdChange': 0.5521720292395924, 'isUSMarketOpen': True}}, 'AMD': {'stats': {'companyName': 'Advanced Micro Devices Inc.', 'marketcap': 162116466269, 'week52high': 132.83, 'week52low': 54.57, 'week52highSplitAdjustOnly': 132.83, 'week52lowSplitAdjustOnly': 54.57, 'week52change': 0.3472073039742212, 'sharesOutstanding': 1615671380, 'float': 0, 'avg10Volume': 50298007, 'avg30Volume': 56265802, 'day200MovingAvg': 104.62, 'day50MovingAvg': 107.32, 'employees': 25000, 'ttmEPS': -0.0154, 'ttmDividendRate': 0, 'dividendYield': 0, 'nextDividendDate': '', 'exDividendDate': '', 'nextEarningsDate': '2023-10-31', 'peRatio': -6484.658650768, 'beta': 1.9329617618686337, 'maxChangePercent': 3.9307125307125306, 'year5ChangePercent': 2.2180885182809496, 'year2ChangePercent': -0.011915312653865027, 'year1ChangePercent': 0.33342192691029915, 'ytdChangePercent': 0.549174000308785, 'month6ChangePercent': 0.03646317529180876, 'month3ChangePercent': -0.15631043470949302, 'month1ChangePercent': -0.04845898530109061, 'day30ChangePercent': -0.07281463685085932, 'day5ChangePercent': -0.06842447312227273}, 'quote': {'avgTotalVolume': 56265802, 'calculationPrice': 'tops', 'change': -4.37, 'changePercent': -0.04355, 'close': None, 'closeSource': 'official', 'closeTime': None, 'companyName': 'Advanced Micro Devices Inc.', 'currency': 'USD', 'delayedPrice': None, 'delayedPriceTime': None, 'extendedChange': None, 'extendedChangePercent': None, 'extendedPrice': None, 'extendedPriceTime': None, 'high': None, 'highSource': None, 'highTime': None, 'iexAskPrice': 95.98, 'iexAskSize': 200, 'iexBidPrice': 93, 'iexBidSize': 216, 'iexClose': 95.97, 'iexCloseTime': 1695326055878, 'iexLastUpdated': 1695326055878, 'iexMarketPercent': 0.02285643018502355, 'iexOpen': 98.62, 'iexOpenTime': 1695303000346, 'iexRealtimePrice': 95.97, 'iexRealtimeSize': 3, 'iexVolume': 1219265, 'lastTradeTime': 1695326055878, 'latestPrice': 95.97, 'latestSource': 'IEX real time price', 'latestTime': '3:54:15 PM', 'latestUpdate': 1695326055878, 'latestVolume': None, 'low': None, 'lowSource': None, 'lowTime': None, 'marketCap': 155055982339, 'oddLotDelayedPrice': None, 'oddLotDelayedPriceTime': None, 'open': None, 'openTime': None, 'openSource': 'official', 'peRatio': -6231.82, 'previousClose': 100.34, 'previousVolume': 55180576, 'primaryExchange': 'NASDAQ', 'symbol': 'AMD', 'volume': None, 'week52High': 132.83, 'week52Low': 54.57, 'ytdChange': 0.5056240003087851, 'isUSMarketOpen': True}}, 'AES': {'stats': {'companyName': 'AES Corp.', 'marketcap': 11243071498, 'week52high': 29.27, 'week52low': 16.74, 'week52highSplitAdjustOnly': 29.89, 'week52lowSplitAdjustOnly': 16.74, 'week52change': -0.32087255135926607, 'sharesOutstanding': 669629035, 'float': 0, 'avg10Volume': 7574340, 'avg30Volume': 6247116, 'day200MovingAvg': 20.99, 'day50MovingAvg': 18.11, 'employees': 5167, 'ttmEPS': -0.5535, 'ttmDividendRate': 0.6487164772320314, 'dividendYield': 0.03863707428421867, 'nextDividendDate': '', 'exDividendDate': '2023-07-31', 'nextEarningsDate': '2023-11-03', 'peRatio': -30.38667972337837, 'beta': 1.1556518498869084, 'maxChangePercent': 0.055476976269055456, 'year5ChangePercent': 0.40971604171214593, 'year2ChangePercent': -0.2585232291114644, 'year1ChangePercent': -0.3337248708323082, 'ytdChangePercent': -0.4037959625730164, 'month6ChangePercent': -0.24771267014956144, 'month3ChangePercent': -0.19470104655289844, 'month1ChangePercent': -0.06774014436424225, 'day30ChangePercent': -0.06253489670575108, 'day5ChangePercent': -0.011771630370806307}, 'quote': {'avgTotalVolume': 6247116, 'calculationPrice': 'tops', 'change': -0.29, 'changePercent': -0.01727, 'close': None, 'closeSource': 'official', 'closeTime': None, 'companyName': 'AES Corp.', 'currency': 'USD', 'delayedPrice': None, 'delayedPriceTime': None, 'extendedChange': None, 'extendedChangePercent': None, 'extendedPrice': None, 'extendedPriceTime': None, 'high': None, 'highSource': '15 minute delayed price', 'highTime': 1695325154197, 'iexAskPrice': 16.51, 'iexAskSize': 959, 'iexBidPrice': 16.49, 'iexBidSize': 106, 'iexClose': 16.5, 'iexCloseTime': 1695326032700, 'iexLastUpdated': 1695326032700, 'iexMarketPercent': 0.03249975391801266, 'iexOpen': 16.615, 'iexOpenTime': 1695303087477, 'iexRealtimePrice': 16.5, 'iexRealtimeSize': 49, 'iexVolume': 113249, 'lastTradeTime': 1695326032700, 'latestPrice': 16.5, 'latestSource': 'IEX real time price', 'latestTime': '3:53:52 PM', 'latestUpdate': 1695326032700, 'latestVolume': None, 'low': None, 'lowSource': '15 minute delayed price', 'lowTime': 1695303847632, 'marketCap': 11048879078, 'oddLotDelayedPrice': None, 'oddLotDelayedPriceTime': None, 'open': None, 'openTime': None, 'openSource': 'official', 'peRatio': -29.81, 'previousClose': 16.79, 'previousVolume': 5185151, 'primaryExchange': 'NEW YORK STOCK EXCHANGE INC.', 'symbol': 'AES', 'volume': None, 'week52High': 29.27, 'week52Low': 16.44, 'ytdChange': -0.42106596257301643, 'isUSMarketOpen': True}}, 'AET': {'stats': None, 'quote': {'symbol': 'AET', 'companyName': '', 'primaryExchange': '', 'calculationPrice': 'previousclose', 'open': None, 'openTime': None, 'openSource': 'official', 'close': None, 'closeTime': None, 'closeSource': 'official', 'high': None, 'highTime': None, 'highSource': None, 'low': None, 'lowTime': None, 'lowSource': None, 'latestPrice': 212.7, 'latestSource': 'Previous close', 'latestTime': 'April 8, 2019', 'latestUpdate': 1554696000000, 'latestVolume': None, 'iexRealtimePrice': None, 'iexRealtimeSize': None, 'iexLastUpdated': None, 'delayedPrice': None, 'delayedPriceTime': None, 'oddLotDelayedPrice': None, 'oddLotDelayedPriceTime': None, 'extendedPrice': None, 'extendedChange': None, 'extendedChangePercent': None, 'extendedPriceTime': None, 'previousClose': 212.7, 'previousVolume': None, 'change': 0, 'changePercent': 0, 'volume': None, 'iexMarketPercent': None, 'iexVolume': None, 'avgTotalVolume': None, 'iexBidPrice': None, 'iexBidSize': None, 'iexAskPrice': None, 'iexAskSize': None, 'iexOpen': None, 'iexOpenTime': None, 'iexClose': None, 'iexCloseTime': None, 'marketCap': 0, 'peRatio': None, 'week52High': 0, 'week52Low': 0, 'ytdChange': 0, 'lastTradeTime': None, 'isUSMarketOpen': False}}, 'AFL': {'stats': {'companyName': 'Aflac Inc.', 'marketcap': 45831920178, 'week52high': 78, 'week52low': 54.71, 'week52highSplitAdjustOnly': 78.43, 'week52lowSplitAdjustOnly': 56.03, 'week52change': 0.3214327311094212, 'sharesOutstanding': 594062478, 'float': 0, 'avg10Volume': 2594627, 'avg30Volume': 2278982, 'day200MovingAvg': 68.84, 'day50MovingAvg': 75.41, 'employees': 32365, 'ttmEPS': 7.45, 'ttmDividendRate': 1.6454853010887698, 'dividendYield': 0.021328390163172645, 'nextDividendDate': '', 'exDividendDate': '2023-08-22', 'nextEarningsDate': '2023-11-01', 'peRatio': 9.956967233912666, 'beta': 0.68605296380243, 'maxChangePercent': 3.9757821619983114, 'year5ChangePercent': 0.8200605350010735, 'year2ChangePercent': 0.5566832457299666, 'year1ChangePercent': 0.30527761892999394, 'ytdChangePercent': 0.09186064942710948, 'month6ChangePercent': 0.23199711283113425, 'month3ChangePercent': 0.1443616271739534, 'month1ChangePercent': 0.03657643592372195, 'day30ChangePercent': 0.04214507632041076, 'day5ChangePercent': 0.009948946197146258}, 'quote': {'avgTotalVolume': 2278982, 'calculationPrice': 'tops', 'change': -0.94, 'changePercent': -0.01218, 'close': None, 'closeSource': 'official', 'closeTime': None, 'companyName': 'Aflac Inc.', 'currency': 'USD', 'delayedPrice': None, 'delayedPriceTime': None, 'extendedChange': None, 'extendedChangePercent': None, 'extendedPrice': None, 'extendedPriceTime': None, 'high': None, 'highSource': '15 minute delayed price', 'highTime': 1695325152434, 'iexAskPrice': 91.32, 'iexAskSize': 100, 'iexBidPrice': 76.19, 'iexBidSize': 100, 'iexClose': 76.21, 'iexCloseTime': 1695326048103, 'iexLastUpdated': 1695326048103, 'iexMarketPercent': 0.03585819542143986, 'iexOpen': 77.045, 'iexOpenTime': 1695303003890, 'iexRealtimePrice': 76.21, 'iexRealtimeSize': 1, 'iexVolume': 54177, 'lastTradeTime': 1695326048103, 'latestPrice': 76.21, 'latestSource': 'IEX real time price', 'latestTime': '3:54:08 PM', 'latestUpdate': 1695326048103, 'latestVolume': None, 'low': None, 'lowSource': '15 minute delayed price', 'lowTime': 1695315718296, 'marketCap': 45273501448, 'oddLotDelayedPrice': None, 'oddLotDelayedPriceTime': None, 'open': None, 'openTime': None, 'openSource': 'official', 'peRatio': 10.23, 'previousClose': 77.15, 'previousVolume': 1668396, 'primaryExchange': 'NEW YORK STOCK EXCHANGE INC.', 'symbol': 'AFL', 'volume': None, 'week52High': 78, 'week52Low': 54.71, 'ytdChange': 0.07968064942710948, 'isUSMarketOpen': True}}, 'A': {'stats': {'companyName': 'Agilent Technologies Inc.', 'marketcap': 32907290594, 'week52high': 159.46, 'week52low': 109, 'week52highSplitAdjustOnly': 160.26, 'week52lowSplitAdjustOnly': 109, 'week52change': -0.10474136043970916, 'sharesOutstanding': 292587273, 'float': 0, 'avg10Volume': 2720910, 'avg30Volume': 1925624, 'day200MovingAvg': 125.83, 'day50MovingAvg': 119.97, 'employees': 55850, 'ttmEPS': 3.82, 'ttmDividendRate': 0.8827240843991957, 'dividendYield': 0.007848529246903137, 'nextDividendDate': '', 'exDividendDate': '2023-06-30', 'nextEarningsDate': '2023-11-20', 'peRatio': 29.04438710883495, 'beta': 1.038346577414868, 'maxChangePercent': 3.950373027575431, 'year5ChangePercent': 0.6402168872192293, 'year2ChangePercent': -0.33522671860177145, 'year1ChangePercent': -0.11633889153839684, 'ytdChangePercent': -0.24578431859057503, 'month6ChangePercent': -0.16107983279777305, 'month3ChangePercent': -0.04633746782120285, 'month1ChangePercent': -0.05685534591194974, 'day30ChangePercent': -0.053760726905603184, 'day5ChangePercent': -0.008463369478973859}, 'quote': {'avgTotalVolume': 1925624, 'calculationPrice': 'tops', 'change': -2.51, 'changePercent': -0.02232, 'close': None, 'closeSource': 'official', 'closeTime': None, 'companyName': 'Agilent Technologies Inc.', 'currency': 'USD', 'delayedPrice': None, 'delayedPriceTime': None, 'extendedChange': None, 'extendedChangePercent': None, 'extendedPrice': None, 'extendedPriceTime': None, 'high': None, 'highSource': 'IEX real time price', 'highTime': 1695303004087, 'iexAskPrice': 109.99, 'iexAskSize': 100, 'iexBidPrice': 88.07, 'iexBidSize': 110, 'iexClose': 109.96, 'iexCloseTime': 1695326054159, 'iexLastUpdated': 1695326054159, 'iexMarketPercent': 0.05279389415801886, 'iexOpen': 112.25, 'iexOpenTime': 1695303004087, 'iexRealtimePrice': 109.96, 'iexRealtimeSize': 100, 'iexVolume': 48600, 'lastTradeTime': 1695326054159, 'latestPrice': 109.96, 'latestSource': 'IEX real time price', 'latestTime': '3:54:14 PM', 'latestUpdate': 1695326054159, 'latestVolume': None, 'low': None, 'lowSource': 'IEX real time price', 'lowTime': 1695325787921, 'marketCap': 32172896539, 'oddLotDelayedPrice': None, 'oddLotDelayedPriceTime': None, 'open': None, 'openTime': None, 'openSource': 'official', 'peRatio': 28.79, 'previousClose': 112.47, 'previousVolume': 1744938, 'primaryExchange': 'NEW YORK STOCK EXCHANGE INC.', 'symbol': 'A', 'volume': None, 'week52High': 159.46, 'week52Low': 109, 'ytdChange': -0.26810431859057504, 'isUSMarketOpen': True}}, 'GAS': {'stats': None, 'quote': {'symbol': 'GAS', 'companyName': '', 'primaryExchange': '', 'calculationPrice': 'previousclose', 'open': None, 'openTime': None, 'openSource': 'official', 'close': None, 'closeTime': None, 'closeSource': 'official', 'high': None, 'highTime': None, 'highSource': None, 'low': None, 'lowTime': None, 'lowSource': None, 'latestPrice': 65.97, 'latestSource': 'Previous close', 'latestTime': 'December 5, 2016', 'latestUpdate': 1480914000000, 'latestVolume': None, 'iexRealtimePrice': None, 'iexRealtimeSize': None, 'iexLastUpdated': None, 'delayedPrice': None, 'delayedPriceTime': None, 'oddLotDelayedPrice': None, 'oddLotDelayedPriceTime': None, 'extendedPrice': None, 'extendedChange': None, 'extendedChangePercent': None, 'extendedPriceTime': None, 'previousClose': 65.97, 'previousVolume': None, 'change': 0, 'changePercent': 0, 'volume': None, 'iexMarketPercent': None, 'iexVolume': None, 'avgTotalVolume': None, 'iexBidPrice': None, 'iexBidSize': None, 'iexAskPrice': None, 'iexAskSize': None, 'iexOpen': None, 'iexOpenTime': None, 'iexClose': None, 'iexCloseTime': None, 'marketCap': 0, 'peRatio': None, 'week52High': 0, 'week52Low': 0, 'ytdChange': 0, 'lastTradeTime': None, 'isUSMarketOpen': False}}, 'APD': {'stats': {'companyName': 'Air Products & Chemicals Inc.', 'marketcap': 65493897718, 'week52high': 322.88, 'week52low': 220.87, 'week52highSplitAdjustOnly': 328.56, 'week52lowSplitAdjustOnly': 224.75, 'week52change': 0.2512238711208006, 'sharesOutstanding': 222148761, 'float': 0, 'avg10Volume': 716711, 'avg30Volume': 603477, 'day200MovingAvg': 286.62, 'day50MovingAvg': 291.73, 'employees': 13834, 'ttmEPS': 9.84, 'ttmDividendRate': 6.681898709090753, 'dividendYield': 0.02266433318326692, 'nextDividendDate': '2023-09-29', 'exDividendDate': '2023-06-30', 'nextEarningsDate': '2023-11-02', 'peRatio': 29.89633346328571, 'beta': 0.7946092087544286, 'maxChangePercent': 5.646856709984038, 'year5ChangePercent': 0.9416567768313098, 'year2ChangePercent': 0.1984192345433511, 'year1ChangePercent': 0.23369895435623533, 'ytdChangePercent': -0.03183019952862398, 'month6ChangePercent': 0.06890178155131066, 'month3ChangePercent': 0.02516704777482892, 'month1ChangePercent': 0.035109893968120254, 'day30ChangePercent': 0.03369447074085774, 'day5ChangePercent': -0.02741398080031665}, 'quote': {'avgTotalVolume': 603477, 'calculationPrice': 'tops', 'change': -7.055, 'changePercent': -0.02393, 'close': None, 'closeSource': 'official', 'closeTime': None, 'companyName': 'Air Products & Chemicals Inc.', 'currency': 'USD', 'delayedPrice': None, 'delayedPriceTime': None, 'extendedChange': None, 'extendedChangePercent': None, 'extendedPrice': None, 'extendedPriceTime': None, 'high': None, 'highSource': '15 minute delayed price', 'highTime': 1695325154396, 'iexAskPrice': 344.98, 'iexAskSize': 101, 'iexBidPrice': 229.87, 'iexBidSize': 100, 'iexClose': 287.765, 'iexCloseTime': 1695326052809, 'iexLastUpdated': 1695326052809, 'iexMarketPercent': 0.047530810508283575, 'iexOpen': 294.015, 'iexOpenTime': 1695303001320, 'iexRealtimePrice': 287.765, 'iexRealtimeSize': 1, 'iexVolume': 25138, 'lastTradeTime': 1695326052809, 'latestPrice': 287.765, 'latestSource': 'IEX real time price', 'latestTime': '3:54:12 PM', 'latestUpdate': 1695326052809, 'latestVolume': None, 'low': None, 'lowSource': 'IEX real time price', 'lowTime': 1695324753522, 'marketCap': 63926638209, 'oddLotDelayedPrice': None, 'oddLotDelayedPriceTime': None, 'open': None, 'openTime': None, 'openSource': 'official', 'peRatio': 29.24, 'previousClose': 294.82, 'previousVolume': 593573, 'primaryExchange': 'NEW YORK STOCK EXCHANGE INC.', 'symbol': 'APD', 'volume': None, 'week52High': 322.88, 'week52Low': 220.87, 'ytdChange': -0.05576019952862398, 'isUSMarketOpen': True}}, 'ARG': {'stats': None, 'quote': {'symbol': 'ARG', 'companyName': '', 'primaryExchange': '', 'calculationPrice': 'previousclose', 'open': None, 'openTime': None, 'openSource': 'official', 'close': None, 'closeTime': None, 'closeSource': 'official', 'high': None, 'highTime': None, 'highSource': None, 'low': None, 'lowTime': None, 'lowSource': None, 'latestPrice': 142.95, 'latestSource': 'Previous close', 'latestTime': 'September 20, 2016', 'latestUpdate': 1474344000000, 'latestVolume': None, 'iexRealtimePrice': None, 'iexRealtimeSize': None, 'iexLastUpdated': None, 'delayedPrice': None, 'delayedPriceTime': None, 'oddLotDelayedPrice': None, 'oddLotDelayedPriceTime': None, 'extendedPrice': None, 'extendedChange': None, 'extendedChangePercent': None, 'extendedPriceTime': None, 'previousClose': 142.95, 'previousVolume': None, 'change': 0, 'changePercent': 0, 'volume': None, 'iexMarketPercent': None, 'iexVolume': None, 'avgTotalVolume': None, 'iexBidPrice': None, 'iexBidSize': None, 'iexAskPrice': None, 'iexAskSize': None, 'iexOpen': None, 'iexOpenTime': None, 'iexClose': None, 'iexCloseTime': None, 'marketCap': 0, 'peRatio': None, 'week52High': 0, 'week52Low': 0, 'ytdChange': 0, 'lastTradeTime': None, 'isUSMarketOpen': False}}, 'AKAM': {'stats': {'companyName': 'Akamai Technologies Inc', 'marketcap': 16459375592, 'week52high': 109.05, 'week52low': 70.65, 'week52highSplitAdjustOnly': 109.05, 'week52lowSplitAdjustOnly': 70.65, 'week52change': 0.2946300715990453, 'sharesOutstanding': 151713297, 'float': 0, 'avg10Volume': 2460506, 'avg30Volume': 1820619, 'day200MovingAvg': 89.31, 'day50MovingAvg': 102.63, 'employees': 10639, 'ttmEPS': 3.26, 'ttmDividendRate': 0, 'dividendYield': 0, 'nextDividendDate': '', 'exDividendDate': '', 'nextEarningsDate': '2023-11-09', 'peRatio': 32.21681129848853, 'beta': 0.8900599235699447, 'maxChangePercent': 1.0423569277108435, 'year5ChangePercent': 0.4627207765943102, 'year2ChangePercent': -0.0006448047162860293, 'year1ChangePercent': 0.2625392761550098, 'ytdChangePercent': 0.28695136417556344, 'month6ChangePercent': 0.4438381687516635, 'month3ChangePercent': 0.19640494044993373, 'month1ChangePercent': 0.07522299306243796, 'day30ChangePercent': 0.07853663386022469, 'day5ChangePercent': 0.03530871266342195}, 'quote': {'avgTotalVolume': 1820619, 'calculationPrice': 'tops', 'change': -0.51, 'changePercent': -0.0047, 'close': None, 'closeSource': 'official', 'closeTime': None, 'companyName': 'Akamai Technologies Inc', 'currency': 'USD', 'delayedPrice': None, 'delayedPriceTime': None, 'extendedChange': None, 'extendedChangePercent': None, 'extendedPrice': None, 'extendedPriceTime': None, 'high': None, 'highSource': None, 'highTime': None, 'iexAskPrice': 108.03, 'iexAskSize': 100, 'iexBidPrice': 86.63, 'iexBidSize': 100, 'iexClose': 107.98, 'iexCloseTime': 1695326040087, 'iexLastUpdated': 1695326040087, 'iexMarketPercent': 0.026474970073489687, 'iexOpen': 107.49, 'iexOpenTime': 1695303000696, 'iexRealtimePrice': 107.98, 'iexRealtimeSize': 100, 'iexVolume': 82473, 'lastTradeTime': 1695326040087, 'latestPrice': 107.98, 'latestSource': 'IEX real time price', 'latestTime': '3:54:00 PM', 'latestUpdate': 1695326040087, 'latestVolume': None, 'low': None, 'lowSource': None, 'lowTime': None, 'marketCap': 16382001810, 'oddLotDelayedPrice': None, 'oddLotDelayedPriceTime': None, 'open': None, 'openTime': None, 'openSource': 'official', 'peRatio': 33.12, 'previousClose': 108.49, 'previousVolume': 3413718, 'primaryExchange': 'NASDAQ', 'symbol': 'AKAM', 'volume': None, 'week52High': 109.05, 'week52Low': 70.65, 'ytdChange': 0.28225136417556346, 'isUSMarketOpen': True}}, 'AA': {'stats': {'companyName': 'Alcoa Corp', 'marketcap': 5242849395, 'week52high': 57.17, 'week52low': 27.76, 'week52highSplitAdjustOnly': 57.61, 'week52lowSplitAdjustOnly': 27.76, 'week52change': -0.24692155475582625, 'sharesOutstanding': 178449605, 'float': 0, 'avg10Volume': 5827467, 'avg30Volume': 6230319, 'day200MovingAvg': 35.39, 'day50MovingAvg': 30.11, 'employees': 15102, 'ttmEPS': -8.35, 'ttmDividendRate': 0.3983733016226469, 'dividendYield': 0.013559336338415485, 'nextDividendDate': '', 'exDividendDate': '2023-08-07', 'nextEarningsDate': '2023-10-18', 'peRatio': -3.556885613907734, 'beta': 1.8260484228348566, 'maxChangePercent': 0.7570824536956742, 'year5ChangePercent': -0.30379806826475586, 'year2ChangePercent': -0.383244745614698, 'year1ChangePercent': -0.3181981680926954, 'ytdChangePercent': -0.34894130943015744, 'month6ChangePercent': -0.2663766798675583, 'month3ChangePercent': -0.13890126380454404, 'month1ChangePercent': 0.014152571625819732, 'day30ChangePercent': 0.027632039174536605, 'day5ChangePercent': 0.025479930191972144}, 'quote': {'avgTotalVolume': 6230319, 'calculationPrice': 'tops', 'change': -1.415, 'changePercent': -0.04816, 'close': None, 'closeSource': 'official', 'closeTime': None, 'companyName': 'Alcoa Corp', 'currency': 'USD', 'delayedPrice': None, 'delayedPriceTime': None, 'extendedChange': None, 'extendedChangePercent': None, 'extendedPrice': None, 'extendedPriceTime': None, 'high': None, 'highSource': '15 minute delayed price', 'highTime': 1695325154215, 'iexAskPrice': 27.97, 'iexAskSize': 800, 'iexBidPrice': 27.96, 'iexBidSize': 100, 'iexClose': 27.965, 'iexCloseTime': 1695326053366, 'iexLastUpdated': 1695326053366, 'iexMarketPercent': 0.028040022334465033, 'iexOpen': 28.34, 'iexOpenTime': 1695303015266, 'iexRealtimePrice': 27.965, 'iexRealtimeSize': 100, 'iexVolume': 131070, 'lastTradeTime': 1695326053366, 'latestPrice': 27.965, 'latestSource': 'IEX real time price', 'latestTime': '3:54:13 PM', 'latestUpdate': 1695326053366, 'latestVolume': None, 'low': None, 'lowSource': 'IEX real time price', 'lowTime': 1695325930343, 'marketCap': 4990343204, 'oddLotDelayedPrice': None, 'oddLotDelayedPriceTime': None, 'open': None, 'openTime': None, 'openSource': 'official', 'peRatio': -3.35, 'previousClose': 29.38, 'previousVolume': 8084407, 'primaryExchange': 'NEW YORK STOCK EXCHANGE INC.', 'symbol': 'AA', 'volume': None, 'week52High': 57.17, 'week52Low': 27.76, 'ytdChange': -0.3971013094301574, 'isUSMarketOpen': True}}, 'ALXN': {'stats': {'companyName': 'Alexion Pharmaceuticals Inc.', 'marketcap': 0, 'week52high': 0, 'week52low': 0, 'week52highSplitAdjustOnly': 0, 'week52lowSplitAdjustOnly': 0, 'week52change': 0, 'sharesOutstanding': 221019230, 'float': 0, 'avg10Volume': 0, 'avg30Volume': 0, 'day200MovingAvg': 0, 'day50MovingAvg': 0, 'employees': 2525, 'ttmEPS': 3.07, 'ttmDividendRate': 0, 'dividendYield': 0, 'nextDividendDate': '', 'exDividendDate': '', 'nextEarningsDate': '', 'peRatio': 0, 'beta': 0, 'maxChangePercent': 0, 'year5ChangePercent': 0, 'year2ChangePercent': 0, 'year1ChangePercent': 0, 'ytdChangePercent': 0, 'month6ChangePercent': 0, 'month3ChangePercent': 0, 'month1ChangePercent': 0, 'day30ChangePercent': 0, 'day5ChangePercent': 0}, 'quote': {'avgTotalVolume': 0, 'calculationPrice': 'close', 'change': 3.05, 'changePercent': 0.017, 'close': None, 'closeSource': 'official', 'closeTime': None, 'companyName': 'Alexion Pharmaceuticals Inc.', 'currency': 'USD', 'delayedPrice': None, 'delayedPriceTime': None, 'extendedChange': None, 'extendedChangePercent': None, 'extendedPrice': None, 'extendedPriceTime': None, 'high': None, 'highSource': '15 minute delayed price', 'highTime': 1626811199910, 'iexAskPrice': None, 'iexAskSize': None, 'iexBidPrice': None, 'iexBidSize': None, 'iexClose': 182.41, 'iexCloseTime': 1626811198763, 'iexLastUpdated': None, 'iexMarketPercent': None, 'iexOpen': 183.08, 'iexOpenTime': 1626811649267, 'iexRealtimePrice': None, 'iexRealtimeSize': None, 'iexVolume': None, 'lastTradeTime': 1626811199910, 'latestPrice': 182.5, 'latestSource': 'Close', 'latestTime': 'July 20, 2021', 'latestUpdate': 1626811200971, 'latestVolume': None, 'low': None, 'lowSource': '15 minute delayed price', 'lowTime': 1626787980421, 'marketCap': 40336009475, 'oddLotDelayedPrice': None, 'oddLotDelayedPriceTime': None, 'open': None, 'openTime': None, 'openSource': 'official', 'peRatio': 59.45, 'previousClose': 179.45, 'previousVolume': 10068088, 'primaryExchange': 'NASDAQ/NGS (GLOBAL SELECT MARKET)', 'symbol': 'ALXN', 'volume': None, 'week52High': 182.67, 'week52Low': 0, 'ytdChange': 0.017, 'isUSMarketOpen': False}}, 'ATI': {'stats': {'companyName': 'ATI Inc', 'marketcap': 5504712163, 'week52high': 47.92, 'week52low': 25.39, 'week52highSplitAdjustOnly': 47.92, 'week52lowSplitAdjustOnly': 25.39, 'week52change': 0.442871587462083, 'sharesOutstanding': 128584727, 'float': 0, 'avg10Volume': 1140576, 'avg30Volume': 834233, 'day200MovingAvg': 40.98, 'day50MovingAvg': 44.21, 'employees': 1747, 'ttmEPS': 1.81, 'ttmDividendRate': 0, 'dividendYield': 0, 'nextDividendDate': '', 'exDividendDate': '', 'nextEarningsDate': '2023-11-01', 'peRatio': 19.375966782365364, 'beta': 1.2892646543935709, 'maxChangePercent': -0.4471492219280687, 'year5ChangePercent': 0.5015783935461242, 'year2ChangePercent': 1.5742633794347567, 'year1ChangePercent': 0.41333773522614736, 'ytdChangePercent': 0.4336905559276625, 'month6ChangePercent': 0.14160000000000017, 'month3ChangePercent': 0.060703666997026895, 'month1ChangePercent': -0.03819366434509086, 'day30ChangePercent': -0.026603001364256307, 'day5ChangePercent': -0.021038188886347897}, 'quote': {'avgTotalVolume': 834233, 'calculationPrice': 'tops', 'change': -1.075, 'changePercent': -0.02511, 'close': None, 'closeSource': 'official', 'closeTime': None, 'companyName': 'ATI Inc', 'currency': 'USD', 'delayedPrice': None, 'delayedPriceTime': None, 'extendedChange': None, 'extendedChangePercent': None, 'extendedPrice': None, 'extendedPriceTime': None, 'high': None, 'highSource': '15 minute delayed price', 'highTime': 1695325150056, 'iexAskPrice': 50.08, 'iexAskSize': 100, 'iexBidPrice': 33.36, 'iexBidSize': 101, 'iexClose': 41.735, 'iexCloseTime': 1695326046118, 'iexLastUpdated': 1695326046118, 'iexMarketPercent': 0.09458508110645038, 'iexOpen': 42.12, 'iexOpenTime': 1695303001791, 'iexRealtimePrice': 41.735, 'iexRealtimeSize': 100, 'iexVolume': 51592, 'lastTradeTime': 1695326046118, 'latestPrice': 41.735, 'latestSource': 'IEX real time price', 'latestTime': '3:54:06 PM', 'latestUpdate': 1695326046118, 'latestVolume': None, 'low': None, 'lowSource': '15 minute delayed price', 'lowTime': 1695308368678, 'marketCap': 5366483581, 'oddLotDelayedPrice': None, 'oddLotDelayedPriceTime': None, 'open': None, 'openTime': None, 'openSource': 'official', 'peRatio': 23.06, 'previousClose': 42.81, 'previousVolume': 684374, 'primaryExchange': 'NEW YORK STOCK EXCHANGE INC.', 'symbol': 'ATI', 'volume': None, 'week52High': 47.92, 'week52Low': 25.39, 'ytdChange': 0.40858055592766246, 'isUSMarketOpen': True}}, 'AGN': {'stats': {'companyName': 'Allergan Plc', 'marketcap': 63364026540, 'week52high': 202.22, 'week52low': 114.27, 'week52highSplitAdjustOnly': None, 'week52lowSplitAdjustOnly': None, 'week52change': 37.6159, 'sharesOutstanding': 328277000, 'float': 327789180, 'avg10Volume': 5734015.3, 'avg30Volume': 4635646.8, 'day200MovingAvg': 179.24, 'day50MovingAvg': 182.84, 'employees': 17400, 'ttmEPS': -7.5822, 'ttmDividendRate': 2.96, 'dividendYield': None, 'peRatio': None, 'beta': None, 'maxChangePercent': None, 'year5ChangePercent': None, 'year2ChangePercent': None, 'year1ChangePercent': None, 'ytdChangePercent': None, 'month6ChangePercent': None, 'month3ChangePercent': None, 'month1ChangePercent': None, 'day30ChangePercent': None, 'day5ChangePercent': None}, 'quote': {'avgTotalVolume': 4635647, 'calculationPrice': 'previousclose', 'change': 0, 'changePercent': 0, 'close': None, 'closeSource': 'official', 'closeTime': None, 'companyName': 'Allergan plc', 'currency': 'USD', 'delayedPrice': None, 'delayedPriceTime': None, 'extendedChange': None, 'extendedChangePercent': None, 'extendedPrice': None, 'extendedPriceTime': None, 'high': None, 'highSource': 'Close', 'highTime': 1588968001700, 'iexAskPrice': None, 'iexAskSize': None, 'iexBidPrice': None, 'iexBidSize': None, 'iexClose': 193.09, 'iexCloseTime': 1588967998301, 'iexLastUpdated': None, 'iexMarketPercent': None, 'iexOpen': None, 'iexOpenTime': None, 'iexRealtimePrice': None, 'iexRealtimeSize': None, 'iexVolume': None, 'lastTradeTime': 1588968001694, 'latestPrice': 193.02, 'latestSource': 'Previous close', 'latestTime': 'May 8, 2020', 'latestUpdate': 1588910400000, 'latestVolume': None, 'low': None, 'lowSource': 'Close', 'lowTime': 1588968000000, 'marketCap': 63364026540, 'oddLotDelayedPrice': None, 'oddLotDelayedPriceTime': None, 'open': None, 'openTime': None, 'openSource': 'official', 'peRatio': -25.46, 'previousClose': 193.02, 'previousVolume': 4208109, 'primaryExchange': 'New York Stock Exchange', 'symbol': 'AGN', 'volume': None, 'week52High': 202.22, 'week52Low': 114.27, 'ytdChange': 0, 'isUSMarketOpen': False}}, 'ALL': {'stats': {'companyName': 'Allstate Corp (The)', 'marketcap': 29858644019, 'week52high': 138.86, 'week52low': 99.73, 'week52highSplitAdjustOnly': 142.15, 'week52lowSplitAdjustOnly': 100.57, 'week52change': -0.08011352922120296, 'sharesOutstanding': 261573754, 'float': 0, 'avg10Volume': 2310937, 'avg30Volume': 1719970, 'day200MovingAvg': 110.11, 'day50MovingAvg': 107.93, 'employees': 71112, 'ttmEPS': -10.38, 'ttmDividendRate': 3.478219985909308, 'dividendYield': 0.030470608724566868, 'nextDividendDate': '', 'exDividendDate': '2023-08-30', 'nextEarningsDate': '2023-11-01', 'peRatio': -10.901293909857614, 'beta': 0.6865013153026444, 'maxChangePercent': 1.4907320330177465, 'year5ChangePercent': 0.2650456203267286, 'year2ChangePercent': -0.06732499985701423, 'year1ChangePercent': -0.0958838359237073, 'ytdChangePercent': -0.13824277018523823, 'month6ChangePercent': 0.06285608937860876, 'month3ChangePercent': 0.059860040908833456, 'month1ChangePercent': 0.08401367101253432, 'day30ChangePercent': 0.0932798010929925, 'day5ChangePercent': 0.04820936639118467}, 'quote': {'avgTotalVolume': 1719970, 'calculationPrice': 'tops', 'change': 0.06, 'changePercent': 0.00053, 'close': None, 'closeSource': 'official', 'closeTime': None, 'companyName': 'Allstate Corp (The)', 'currency': 'USD', 'delayedPrice': None, 'delayedPriceTime': None, 'extendedChange': None, 'extendedChangePercent': None, 'extendedPrice': None, 'extendedPriceTime': None, 'high': None, 'highSource': '15 minute delayed price', 'highTime': 1695325155463, 'iexAskPrice': 114.21, 'iexAskSize': 100, 'iexBidPrice': 114.18, 'iexBidSize': 100, 'iexClose': 114.21, 'iexCloseTime': 1695326043587, 'iexLastUpdated': 1695326043587, 'iexMarketPercent': 0.04874407206553062, 'iexOpen': 113.78, 'iexOpenTime': 1695303003994, 'iexRealtimePrice': 114.21, 'iexRealtimeSize': 19, 'iexVolume': 64446, 'lastTradeTime': 1695326043587, 'latestPrice': 114.21, 'latestSource': 'IEX real time price', 'latestTime': '3:54:03 PM', 'latestUpdate': 1695326043587, 'latestVolume': None, 'low': None, 'lowSource': '15 minute delayed price', 'lowTime': 1695303682647, 'marketCap': 29874338444, 'oddLotDelayedPrice': None, 'oddLotDelayedPriceTime': None, 'open': None, 'openTime': None, 'openSource': 'official', 'peRatio': -11, 'previousClose': 114.15, 'previousVolume': 2142152, 'primaryExchange': 'NEW YORK STOCK EXCHANGE INC.', 'symbol': 'ALL', 'volume': None, 'week52High': 138.86, 'week52Low': 99.73, 'ytdChange': -0.13771277018523823, 'isUSMarketOpen': True}}, 'ANR': {'stats': None, 'quote': None}, 'ALTR': {'stats': {'companyName': 'Altair Engineering Inc', 'marketcap': 3428485313, 'week52high': 78.49, 'week52low': 43.17, 'week52highSplitAdjustOnly': 78.49, 'week52lowSplitAdjustOnly': 43.17, 'week52change': 0.36855169436650126, 'sharesOutstanding': 54072791, 'float': 0, 'avg10Volume': 196904, 'avg30Volume': 216755, 'day200MovingAvg': 69.57, 'day50MovingAvg': 64.11, 'employees': 3761, 'ttmEPS': -0.5826, 'ttmDividendRate': 0, 'dividendYield': 0, 'nextDividendDate': '', 'exDividendDate': '', 'nextEarningsDate': '2023-11-02', 'peRatio': -75.48072109011052, 'beta': 1.207713572702381, 'maxChangePercent': 0.747657111356119, 'year5ChangePercent': 0.5867117117117118, 'year2ChangePercent': -0.11974177426072474, 'year1ChangePercent': 0.3712153979238755, 'ytdChangePercent': 0.3944358917967892, 'month6ChangePercent': -0.09070701276351643, 'month3ChangePercent': -0.1429440389294404, 'month1ChangePercent': 0.03891528756349327, 'day30ChangePercent': 0.034339314845024616, 'day5ChangePercent': -0.015144454799627116}, 'quote': {'avgTotalVolume': 216755, 'calculationPrice': 'tops', 'change': -1.565, 'changePercent': -0.02468, 'close': None, 'closeSource': 'official', 'closeTime': None, 'companyName': 'Altair Engineering Inc - Class A', 'currency': 'USD', 'delayedPrice': None, 'delayedPriceTime': None, 'extendedChange': None, 'extendedChangePercent': None, 'extendedPrice': None, 'extendedPriceTime': None, 'high': None, 'highSource': None, 'highTime': None, 'iexAskPrice': 64.5, 'iexAskSize': 100, 'iexBidPrice': 49.46, 'iexBidSize': 100, 'iexClose': 61.84, 'iexCloseTime': 1695326043569, 'iexLastUpdated': 1695326043569, 'iexMarketPercent': 0.07440951430472388, 'iexOpen': 62.84, 'iexOpenTime': 1695303003004, 'iexRealtimePrice': 61.84, 'iexRealtimeSize': 75, 'iexVolume': 8947, 'lastTradeTime': 1695326043569, 'latestPrice': 61.84, 'latestSource': 'IEX real time price', 'latestTime': '3:54:03 PM', 'latestUpdate': 1695326043569, 'latestVolume': None, 'low': None, 'lowSource': None, 'lowTime': None, 'marketCap': 3343861395, 'oddLotDelayedPrice': None, 'oddLotDelayedPriceTime': None, 'open': None, 'openTime': None, 'openSource': 'official', 'peRatio': -106.14, 'previousClose': 63.405, 'previousVolume': 120068, 'primaryExchange': 'NASDAQ', 'symbol': 'ALTR', 'volume': None, 'week52High': 78.49, 'week52Low': 43.17, 'ytdChange': 0.3697558917967892, 'isUSMarketOpen': True}}, 'MO': {'stats': {'companyName': 'Altria Group Inc.', 'marketcap': 76379213754, 'week52high': 48.38, 'week52low': 37.08, 'week52highSplitAdjustOnly': 51.57, 'week52lowSplitAdjustOnly': 40.35, 'week52change': 0.08880984786007362, 'sharesOutstanding': 1774609985, 'float': 0, 'avg10Volume': 11131217, 'avg30Volume': 8800726, 'day200MovingAvg': 43.49, 'day50MovingAvg': 42.9, 'employees': 6300, 'ttmEPS': 3.8, 'ttmDividendRate': 3.6817204219108817, 'dividendYield': 0.08554183136410042, 'nextDividendDate': '', 'exDividendDate': '2023-09-14', 'nextEarningsDate': '2023-10-26', 'peRatio': 11.225634002704291, 'beta': 0.3972585200532475, 'maxChangePercent': 0.5991796030289294, 'year5ChangePercent': 0.01618242174403739, 'year2ChangePercent': 0.051130258093507575, 'year1ChangePercent': 0.09109253752531889, 'ytdChangePercent': 0.003757092649298244, 'month6ChangePercent': -0.004086392728720023, 'month3ChangePercent': 0.012277153205701108, 'month1ChangePercent': 0.025487070618985364, 'day30ChangePercent': 0.02980796378444861, 'day5ChangePercent': -0.01667809001599274}, 'quote': {'avgTotalVolume': 8800726, 'calculationPrice': 'tops', 'change': -0.16, 'changePercent': -0.00372, 'close': None, 'closeSource': 'official', 'closeTime': None, 'companyName': 'Altria Group Inc.', 'currency': 'USD', 'delayedPrice': None, 'delayedPriceTime': None, 'extendedChange': None, 'extendedChangePercent': None, 'extendedPrice': None, 'extendedPriceTime': None, 'high': None, 'highSource': '15 minute delayed price', 'highTime': 1695325153650, 'iexAskPrice': 42.89, 'iexAskSize': 645, 'iexBidPrice': 42.88, 'iexBidSize': 400, 'iexClose': 42.88, 'iexCloseTime': 1695326052766, 'iexLastUpdated': 1695326052766, 'iexMarketPercent': 0.024363995103844297, 'iexOpen': 43.04, 'iexOpenTime': 1695303002871, 'iexRealtimePrice': 42.88, 'iexRealtimeSize': 133, 'iexVolume': 111406, 'lastTradeTime': 1695326052766, 'latestPrice': 42.88, 'latestSource': 'IEX real time price', 'latestTime': '3:54:12 PM', 'latestUpdate': 1695326052766, 'latestVolume': None, 'low': None, 'lowSource': '15 minute delayed price', 'lowTime': 1695303608622, 'marketCap': 76095276157, 'oddLotDelayedPrice': None, 'oddLotDelayedPriceTime': None, 'open': None, 'openTime': None, 'openSource': 'official', 'peRatio': 11.28, 'previousClose': 43.04, 'previousVolume': 5846797, 'primaryExchange': 'NEW YORK STOCK EXCHANGE INC.', 'symbol': 'MO', 'volume': None, 'week52High': 48.38, 'week52Low': 37.08, 'ytdChange': 3.709264929824393e-05, 'isUSMarketOpen': True}}, 'AMZN': {'stats': {'companyName': 'Amazon.com Inc.', 'marketcap': 1395888532790, 'week52high': 145.86, 'week52low': 81.43, 'week52highSplitAdjustOnly': 145.86, 'week52lowSplitAdjustOnly': 81.43, 'week52change': 0.141302513919352, 'sharesOutstanding': 10317751000, 'float': 0, 'avg10Volume': 60092318, 'avg30Volume': 49297848, 'day200MovingAvg': 120.06, 'day50MovingAvg': 137.37, 'employees': 1541000, 'ttmEPS': 1.27, 'ttmDividendRate': 0, 'dividendYield': 0, 'nextDividendDate': '', 'exDividendDate': '', 'nextEarningsDate': '2023-11-02', 'peRatio': 106.78461848148714, 'beta': 1.4992882942572556, 'maxChangePercent': 67.5707045108971, 'year5ChangePercent': 0.3916576659980455, 'year2ChangePercent': -0.19367767967029528, 'year1ChangePercent': 0.10721008265815524, 'ytdChangePercent': 0.610595238095238, 'month6ChangePercent': 0.3846075120253811, 'month3ChangePercent': 0.07560820480203523, 'month1ChangePercent': 0.015538207476354817, 'day30ChangePercent': 0.004529254529254345, 'day5ChangePercent': -0.06599930963065237}, 'quote': {'avgTotalVolume': 49297848, 'calculationPrice': 'tops', 'change': -5.685, 'changePercent': -0.04202, 'close': None, 'closeSource': 'official', 'closeTime': None, 'companyName': 'Amazon.com Inc.', 'currency': 'USD', 'delayedPrice': None, 'delayedPriceTime': None, 'extendedChange': None, 'extendedChangePercent': None, 'extendedPrice': None, 'extendedPriceTime': None, 'high': None, 'highSource': None, 'highTime': None, 'iexAskPrice': 129.6, 'iexAskSize': 200, 'iexBidPrice': 129.5, 'iexBidSize': 310, 'iexClose': 129.605, 'iexCloseTime': 1695326055650, 'iexLastUpdated': 1695326055650, 'iexMarketPercent': 0.024187256203790645, 'iexOpen': 131.86, 'iexOpenTime': 1695303000206, 'iexRealtimePrice': 129.605, 'iexRealtimeSize': 100, 'iexVolume': 1401144, 'lastTradeTime': 1695326055650, 'latestPrice': 129.605, 'latestSource': 'IEX real time price', 'latestTime': '3:54:15 PM', 'latestUpdate': 1695326055650, 'latestVolume': None, 'low': None, 'lowSource': 'IEX real time price', 'lowTime': 1695325285411, 'marketCap': 1337232118355, 'oddLotDelayedPrice': None, 'oddLotDelayedPriceTime': None, 'open': None, 'openTime': None, 'openSource': 'official', 'peRatio': 102.05, 'previousClose': 135.29, 'previousVolume': 46263716, 'primaryExchange': 'NASDAQ', 'symbol': 'AMZN', 'volume': None, 'week52High': 145.86, 'week52Low': 81.43, 'ytdChange': 0.568575238095238, 'isUSMarketOpen': True}}, 'AEE': {'stats': {'companyName': 'Ameren Corp.', 'marketcap': 21135572595, 'week52high': 90.32, 'week52low': 71.12, 'week52highSplitAdjustOnly': 92.44, 'week52lowSplitAdjustOnly': 73.28, 'week52change': -0.0837538300320072, 'sharesOutstanding': 262749535, 'float': 0, 'avg10Volume': 1314117, 'avg30Volume': 1180784, 'day200MovingAvg': 82.96, 'day50MovingAvg': 79.55, 'employees': 6620, 'ttmEPS': 4.27, 'ttmDividendRate': 2.4517760020662407, 'dividendYield': 0.030479562432449536, 'nextDividendDate': '', 'exDividendDate': '2023-09-12', 'nextEarningsDate': '2023-11-02', 'peRatio': 18.938685121326166, 'beta': 0.6700589697951157, 'maxChangePercent': 2.202866812661756, 'year5ChangePercent': 0.43382464346000194, 'year2ChangePercent': 0.019244512247659665, 'year1ChangePercent': -0.0915866741953698, 'ytdChangePercent': -0.07418810186693137, 'month6ChangePercent': -0.04966122620165758, 'month3ChangePercent': -0.02166470245544649, 'month1ChangePercent': 0.006384360256575405, 'day30ChangePercent': 0.012669701486524689, 'day5ChangePercent': 0.0042446941323346365}, 'quote': {'avgTotalVolume': 1180784, 'calculationPrice': 'tops', 'change': -0.105, 'changePercent': -0.00131, 'close': None, 'closeSource': 'official', 'closeTime': None, 'companyName': 'Ameren Corp.', 'currency': 'USD', 'delayedPrice': None, 'delayedPriceTime': None, 'extendedChange': None, 'extendedChangePercent': None, 'extendedPrice': None, 'extendedPriceTime': None, 'high': None, 'highSource': '15 minute delayed price', 'highTime': 1695325152436, 'iexAskPrice': 80.35, 'iexAskSize': 200, 'iexBidPrice': 64.24, 'iexBidSize': 100, 'iexClose': 80.335, 'iexCloseTime': 1695326054484, 'iexLastUpdated': 1695326054484, 'iexMarketPercent': 0.09559647977698771, 'iexOpen': 80.18, 'iexOpenTime': 1695303087637, 'iexRealtimePrice': 80.335, 'iexRealtimeSize': 100, 'iexVolume': 64882, 'lastTradeTime': 1695326054484, 'latestPrice': 80.335, 'latestSource': 'IEX real time price', 'latestTime': '3:54:14 PM', 'latestUpdate': 1695326054484, 'latestVolume': None, 'low': None, 'lowSource': '15 minute delayed price', 'lowTime': 1695303751009, 'marketCap': 21107983894, 'oddLotDelayedPrice': None, 'oddLotDelayedPriceTime': None, 'open': None, 'openTime': None, 'openSource': 'official', 'peRatio': 18.81, 'previousClose': 80.44, 'previousVolume': 1016702, 'primaryExchange': 'NEW YORK STOCK EXCHANGE INC.', 'symbol': 'AEE', 'volume': None, 'week52High': 90.32, 'week52Low': 71.12, 'ytdChange': -0.07549810186693137, 'isUSMarketOpen': True}}, 'AEP': {'stats': {'companyName': 'American Electric Power Company Inc.', 'marketcap': 41445912740, 'week52high': 96.61, 'week52low': 75.47, 'week52highSplitAdjustOnly': 100.32, 'week52lowSplitAdjustOnly': 75.47, 'week52change': -0.14456937122393032, 'sharesOutstanding': 515176044, 'float': 0, 'avg10Volume': 2708540, 'avg30Volume': 2553665, 'day200MovingAvg': 84.65, 'day50MovingAvg': 79.22, 'employees': 9721, 'ttmEPS': 3.85, 'ttmDividendRate': 3.257567277931946, 'dividendYield': 0.04049182446155308, 'nextDividendDate': '', 'exDividendDate': '2023-08-09', 'nextEarningsDate': '2023-11-02', 'peRatio': 20.866938243782094, 'beta': 0.6606835363309759, 'maxChangePercent': 2.3709183395556, 'year5ChangePercent': 0.3542722280766135, 'year2ChangePercent': 0.04694395173516819, 'year1ChangePercent': -0.1547736117064643, 'ytdChangePercent': -0.12021407941803997, 'month6ChangePercent': -0.09798900320216695, 'month3ChangePercent': -0.03850520725023243, 'month1ChangePercent': 0.01809668438370049, 'day30ChangePercent': 0.024058044806517295, 'day5ChangePercent': 0.014118240262195991}, 'quote': {'avgTotalVolume': 2553665, 'calculationPrice': 'tops', 'change': -0.41, 'changePercent': -0.0051, 'close': None, 'closeSource': 'official', 'closeTime': None, 'companyName': 'American Electric Power Company Inc.', 'currency': 'USD', 'delayedPrice': None, 'delayedPriceTime': None, 'extendedChange': None, 'extendedChangePercent': None, 'extendedPrice': None, 'extendedPriceTime': None, 'high': None, 'highSource': None, 'highTime': None, 'iexAskPrice': 80.06, 'iexAskSize': 101, 'iexBidPrice': 80, 'iexBidSize': 211, 'iexClose': 80.04, 'iexCloseTime': 1695326048387, 'iexLastUpdated': 1695326048387, 'iexMarketPercent': 0.036431891165489685, 'iexOpen': 80.395, 'iexOpenTime': 1695303005924, 'iexRealtimePrice': 80.04, 'iexRealtimeSize': 4, 'iexVolume': 79948, 'lastTradeTime': 1695326048387, 'latestPrice': 80.04, 'latestSource': 'IEX real time price', 'latestTime': '3:54:08 PM', 'latestUpdate': 1695326048387, 'latestVolume': None, 'low': None, 'lowSource': None, 'lowTime': None, 'marketCap': 41234690562, 'oddLotDelayedPrice': None, 'oddLotDelayedPriceTime': None, 'open': None, 'openTime': None, 'openSource': 'official', 'peRatio': 20.79, 'previousClose': 80.45, 'previousVolume': 2074008, 'primaryExchange': 'NASDAQ', 'symbol': 'AEP', 'volume': None, 'week52High': 96.61, 'week52Low': 75.47, 'ytdChange': -0.12531407941803996, 'isUSMarketOpen': True}}, 'AXP': {'stats': {'companyName': 'American Express Co.', 'marketcap': 115793428445, 'week52high': 180.86, 'week52low': 129.27, 'week52highSplitAdjustOnly': 182.15, 'week52lowSplitAdjustOnly': 130.65, 'week52change': 0.07261851810414699, 'sharesOutstanding': 736458872, 'float': 0, 'avg10Volume': 3247694, 'avg30Volume': 2902489, 'day200MovingAvg': 162.86, 'day50MovingAvg': 160.85, 'employees': 77300, 'ttmEPS': 9.83, 'ttmDividendRate': 2.228786477969706, 'dividendYield': 0.014175325815491358, 'nextDividendDate': '', 'exDividendDate': '2023-07-06', 'nextEarningsDate': '2023-10-20', 'peRatio': 15.803661586537462, 'beta': 1.1311050748746874, 'maxChangePercent': 2.170643667081406, 'year5ChangePercent': 0.5190761296456068, 'year2ChangePercent': 0.0049425815577088805, 'year1ChangePercent': 0.03928295226952727, 'ytdChangePercent': 0.07548211326113297, 'month6ChangePercent': -0.002433800128922914, 'month3ChangePercent': -0.06871423570657309, 'month1ChangePercent': -0.018723085564501085, 'day30ChangePercent': -0.022687717553456, 'day5ChangePercent': -0.012002010808093488}, 'quote': {'avgTotalVolume': 2902489, 'calculationPrice': 'tops', 'change': -2.4, 'changePercent': -0.01526, 'close': None, 'closeSource': 'official', 'closeTime': None, 'companyName': 'American Express Co.', 'currency': 'USD', 'delayedPrice': None, 'delayedPriceTime': None, 'extendedChange': None, 'extendedChangePercent': None, 'extendedPrice': None, 'extendedPriceTime': None, 'high': None, 'highSource': 'IEX real time price', 'highTime': 1695305874037, 'iexAskPrice': 154.88, 'iexAskSize': 100, 'iexBidPrice': 123.72, 'iexBidSize': 105, 'iexClose': 154.83, 'iexCloseTime': 1695326038001, 'iexLastUpdated': 1695326038001, 'iexMarketPercent': 0.035121187172433184, 'iexOpen': 155.93, 'iexOpenTime': 1695303000921, 'iexRealtimePrice': 154.83, 'iexRealtimeSize': 40, 'iexVolume': 59466, 'lastTradeTime': 1695326038001, 'latestPrice': 154.83, 'latestSource': 'IEX real time price', 'latestTime': '3:53:58 PM', 'latestUpdate': 1695326038001, 'latestVolume': None, 'low': None, 'lowSource': 'IEX real time price', 'lowTime': 1695325352705, 'marketCap': 114025927152, 'oddLotDelayedPrice': None, 'oddLotDelayedPriceTime': None, 'open': None, 'openTime': None, 'openSource': 'official', 'peRatio': 15.75, 'previousClose': 157.23, 'previousVolume': 1969736, 'primaryExchange': 'NEW YORK STOCK EXCHANGE INC.', 'symbol': 'AXP', 'volume': None, 'week52High': 180.86, 'week52Low': 129.27, 'ytdChange': 0.06022211326113297, 'isUSMarketOpen': True}}, 'AIG': {'stats': {'companyName': 'American International Group Inc', 'marketcap': 44365584568, 'week52high': 63.65, 'week52low': 45.1, 'week52highSplitAdjustOnly': 64.88, 'week52lowSplitAdjustOnly': 45.66, 'week52change': 0.2209624679428781, 'sharesOutstanding': 711899624, 'float': 0, 'avg10Volume': 3340040, 'avg30Volume': 2898389, 'day200MovingAvg': 55.14, 'day50MovingAvg': 59.33, 'employees': 42839, 'ttmEPS': 5.97, 'ttmDividendRate': 1.347853745348398, 'dividendYield': 0.02162794841701537, 'nextDividendDate': '', 'exDividendDate': '2023-09-14', 'nextEarningsDate': '2023-11-01', 'peRatio': 9.916313045972284, 'beta': 0.8946624355517242, 'maxChangePercent': 0.1177833738691232, 'year5ChangePercent': 0.3224347058474022, 'year2ChangePercent': 0.2278544858457852, 'year1ChangePercent': 0.19536049747865625, 'ytdChangePercent': 0.004471121455258187, 'month6ChangePercent': 0.2916865297324187, 'month3ChangePercent': 0.11790568478001552, 'month1ChangePercent': 0.08183175363677386, 'day30ChangePercent': 0.08482601354291774, 'day5ChangePercent': 0.03367059213799961}, 'quote': {'avgTotalVolume': 2898389, 'calculationPrice': 'tops', 'change': -0.9, 'changePercent': -0.01444, 'close': None, 'closeSource': 'official', 'closeTime': None, 'companyName': 'American International Group Inc', 'currency': 'USD', 'delayedPrice': None, 'delayedPriceTime': None, 'extendedChange': None, 'extendedChangePercent': None, 'extendedPrice': None, 'extendedPriceTime': None, 'high': None, 'highSource': '15 minute delayed price', 'highTime': 1695325152859, 'iexAskPrice': 73.62, 'iexAskSize': 100, 'iexBidPrice': 61.4, 'iexBidSize': 101, 'iexClose': 61.42, 'iexCloseTime': 1695326054858, 'iexLastUpdated': 1695326054858, 'iexMarketPercent': 0.035063716152242914, 'iexOpen': 62.175, 'iexOpenTime': 1695303005674, 'iexRealtimePrice': 61.42, 'iexRealtimeSize': 2, 'iexVolume': 68068, 'lastTradeTime': 1695326054858, 'latestPrice': 61.42, 'latestSource': 'IEX real time price', 'latestTime': '3:54:14 PM', 'latestUpdate': 1695326054858, 'latestVolume': None, 'low': None, 'lowSource': '15 minute delayed price', 'lowTime': 1695312653515, 'marketCap': 43724874906, 'oddLotDelayedPrice': None, 'oddLotDelayedPriceTime': None, 'open': None, 'openTime': None, 'openSource': 'official', 'peRatio': 10.29, 'previousClose': 62.32, 'previousVolume': 3144910, 'primaryExchange': 'NEW YORK STOCK EXCHANGE INC.', 'symbol': 'AIG', 'volume': None, 'week52High': 63.65, 'week52Low': 45.1, 'ytdChange': -0.009968878544741813, 'isUSMarketOpen': True}}, 'AMT': {'stats': {'companyName': 'American Tower Corp.', 'marketcap': 82700650981, 'week52high': 231.93, 'week52low': 172.55, 'week52highSplitAdjustOnly': 236.46, 'week52lowSplitAdjustOnly': 172.55, 'week52change': -0.22481568563023, 'sharesOutstanding': 466155521, 'float': 0, 'avg10Volume': 1848179, 'avg30Volume': 1716497, 'day200MovingAvg': 190.38, 'day50MovingAvg': 180.72, 'employees': 6391, 'ttmEPS': 2.07, 'ttmDividendRate': 6.100473269580886, 'dividendYield': 0.034386298797028834, 'nextDividendDate': '', 'exDividendDate': '2023-06-15', 'nextEarningsDate': '2023-10-26', 'peRatio': 85.48754494584453, 'beta': 1.0006204319309873, 'maxChangePercent': 2.736772486772487, 'year5ChangePercent': 0.3196849597124527, 'year2ChangePercent': -0.3635111538921037, 'year1ChangePercent': -0.23703483896493735, 'ytdChangePercent': -0.14945986074748396, 'month6ChangePercent': -0.1077221440419418, 'month3ChangePercent': -0.06650881347013948, 'month1ChangePercent': 0.005440634740719874, 'day30ChangePercent': 0.013655582219174844, 'day5ChangePercent': 0.0025996044080249803}, 'quote': {'avgTotalVolume': 1716497, 'calculationPrice': 'tops', 'change': -7.69, 'changePercent': -0.04335, 'close': None, 'closeSource': 'official', 'closeTime': None, 'companyName': 'American Tower Corp.', 'currency': 'USD', 'delayedPrice': None, 'delayedPriceTime': None, 'extendedChange': None, 'extendedChangePercent': None, 'extendedPrice': None, 'extendedPriceTime': None, 'high': None, 'highSource': 'IEX real time price', 'highTime': 1695303005681, 'iexAskPrice': 169.79, 'iexAskSize': 100, 'iexBidPrice': 136.53, 'iexBidSize': 124, 'iexClose': 169.72, 'iexCloseTime': 1695326041664, 'iexLastUpdated': 1695326041664, 'iexMarketPercent': 0.03484596763264028, 'iexOpen': 176.82, 'iexOpenTime': 1695303005681, 'iexRealtimePrice': 169.72, 'iexRealtimeSize': 100, 'iexVolume': 59651, 'lastTradeTime': 1695326041664, 'latestPrice': 169.72, 'latestSource': 'IEX real time price', 'latestTime': '3:54:01 PM', 'latestUpdate': 1695326041664, 'latestVolume': None, 'low': None, 'lowSource': 'IEX real time price', 'lowTime': 1695325941055, 'marketCap': 79115915024, 'oddLotDelayedPrice': None, 'oddLotDelayedPriceTime': None, 'open': None, 'openTime': None, 'openSource': 'official', 'peRatio': 81.99, 'previousClose': 177.41, 'previousVolume': 1885806, 'primaryExchange': 'NEW YORK STOCK EXCHANGE INC.', 'symbol': 'AMT', 'volume': None, 'week52High': 231.93, 'week52Low': 169.6, 'ytdChange': -0.19280986074748396, 'isUSMarketOpen': True}}, 'AMP': {'stats': {'companyName': 'Ameriprise Financial Inc', 'marketcap': 35404979274, 'week52high': 356.65, 'week52low': 245.33, 'week52highSplitAdjustOnly': 358.02, 'week52lowSplitAdjustOnly': 249.35, 'week52change': 0.29930438123072167, 'sharesOutstanding': 102626103, 'float': 0, 'avg10Volume': 503813, 'avg30Volume': 398696, 'day200MovingAvg': 319.57, 'day50MovingAvg': 341.09, 'employees': 26374, 'ttmEPS': 21.23, 'ttmDividendRate': 5.168941585567799, 'dividendYield': 0.014982873664650566, 'nextDividendDate': '', 'exDividendDate': '2023-08-04', 'nextEarningsDate': '2023-10-25', 'peRatio': 15.07236239845466, 'beta': 1.2381295050131824, 'maxChangePercent': 7.654434711058933, 'year5ChangePercent': 1.569137876594401, 'year2ChangePercent': 0.3908015764487332, 'year1ChangePercent': 0.27441734351271374, 'ytdChangePercent': 0.12155870619739284, 'month6ChangePercent': 0.2090687692689968, 'month3ChangePercent': 0.07508251107912445, 'month1ChangePercent': 0.037969732527002975, 'day30ChangePercent': 0.035850472901966635, 'day5ChangePercent': -0.00037668057487250106}, 'quote': {'avgTotalVolume': 398696, 'calculationPrice': 'tops', 'change': -6.64, 'changePercent': -0.01925, 'close': None, 'closeSource': 'official', 'closeTime': None, 'companyName': 'Ameriprise Financial Inc', 'currency': 'USD', 'delayedPrice': None, 'delayedPriceTime': None, 'extendedChange': None, 'extendedChangePercent': None, 'extendedPrice': None, 'extendedPriceTime': None, 'high': None, 'highSource': 'IEX real time price', 'highTime': 1695303056063, 'iexAskPrice': 340, 'iexAskSize': 100, 'iexBidPrice': 270.36, 'iexBidSize': 100, 'iexClose': 338.35, 'iexCloseTime': 1695326021744, 'iexLastUpdated': 1695326021744, 'iexMarketPercent': 0.05782696821410858, 'iexOpen': 344.05, 'iexOpenTime': 1695303056063, 'iexRealtimePrice': 338.35, 'iexRealtimeSize': 10, 'iexVolume': 14807, 'lastTradeTime': 1695326021744, 'latestPrice': 338.35, 'latestSource': 'IEX real time price', 'latestTime': '3:53:41 PM', 'latestUpdate': 1695326021744, 'latestVolume': None, 'low': None, 'lowSource': 'IEX real time price', 'lowTime': 1695325801037, 'marketCap': 34723541950, 'oddLotDelayedPrice': None, 'oddLotDelayedPriceTime': None, 'open': None, 'openTime': None, 'openSource': 'official', 'peRatio': 15.94, 'previousClose': 344.99, 'previousVolume': 330823, 'primaryExchange': 'NEW YORK STOCK EXCHANGE INC.', 'symbol': 'AMP', 'volume': None, 'week52High': 356.65, 'week52Low': 245.33, 'ytdChange': 0.10230870619739284, 'isUSMarketOpen': True}}, 'AMGN': {'stats': {'companyName': 'AMGEN Inc.', 'marketcap': 145204274594, 'week52high': 287.01, 'week52low': 210.01, 'week52highSplitAdjustOnly': 296.67, 'week52lowSplitAdjustOnly': 211.71, 'week52change': 0.2500984338540617, 'sharesOutstanding': 534901181, 'float': 0, 'avg10Volume': 2837855, 'avg30Volume': 2267520, 'day200MovingAvg': 236.06, 'day50MovingAvg': 257.72, 'employees': 25200, 'ttmEPS': 14.84, 'ttmDividendRate': 8.225768155141774, 'dividendYield': 0.03030195297701973, 'nextDividendDate': '', 'exDividendDate': '2023-08-17', 'nextEarningsDate': '2023-11-02', 'peRatio': 18.198304874578263, 'beta': 0.3786639265840478, 'maxChangePercent': 4.512874407760996, 'year5ChangePercent': 0.552427748573729, 'year2ChangePercent': 0.34765215819945006, 'year1ChangePercent': 0.23225618726880448, 'ytdChangePercent': 0.06106290782675594, 'month6ChangePercent': 0.17689801142127792, 'month3ChangePercent': 0.19716272522323863, 'month1ChangePercent': 0.0368191887556335, 'day30ChangePercent': 0.04127349443805128, 'day5ChangePercent': 0.05532014150760012}, 'quote': {'avgTotalVolume': 2267520, 'calculationPrice': 'tops', 'change': -1.885, 'changePercent': -0.00694, 'close': None, 'closeSource': 'official', 'closeTime': None, 'companyName': 'AMGEN Inc.', 'currency': 'USD', 'delayedPrice': None, 'delayedPriceTime': None, 'extendedChange': None, 'extendedChangePercent': None, 'extendedPrice': None, 'extendedPriceTime': None, 'high': None, 'highSource': None, 'highTime': None, 'iexAskPrice': 288.2, 'iexAskSize': 100, 'iexBidPrice': 215.32, 'iexBidSize': 134, 'iexClose': 269.575, 'iexCloseTime': 1695326051642, 'iexLastUpdated': 1695326051642, 'iexMarketPercent': 0.03708772483659662, 'iexOpen': 271.785, 'iexOpenTime': 1695303003892, 'iexRealtimePrice': 269.575, 'iexRealtimeSize': 100, 'iexVolume': 62031, 'lastTradeTime': 1695326051642, 'latestPrice': 269.575, 'latestSource': 'IEX real time price', 'latestTime': '3:54:11 PM', 'latestUpdate': 1695326051642, 'latestVolume': None, 'low': None, 'lowSource': None, 'lowTime': None, 'marketCap': 144195985868, 'oddLotDelayedPrice': None, 'oddLotDelayedPriceTime': None, 'open': None, 'openTime': None, 'openSource': 'official', 'peRatio': 18.17, 'previousClose': 271.46, 'previousVolume': 3575956, 'primaryExchange': 'NASDAQ', 'symbol': 'AMGN', 'volume': None, 'week52High': 287.01, 'week52Low': 210.01, 'ytdChange': 0.05412290782675594, 'isUSMarketOpen': True}}, 'APH': {'stats': {'companyName': 'Amphenol Corp.', 'marketcap': 50585259924, 'week52high': 90.06, 'week52low': 64.53, 'week52highSplitAdjustOnly': 90.28, 'week52lowSplitAdjustOnly': 65.21, 'week52change': 0.1934598232818248, 'sharesOutstanding': 596453955, 'float': 0, 'avg10Volume': 2219637, 'avg30Volume': 1971068, 'day200MovingAvg': 80.98, 'day50MovingAvg': 86.71, 'employees': 1822, 'ttmEPS': 3.07, 'ttmDividendRate': 0.8368103153861565, 'dividendYield': 0.009866882624527257, 'nextDividendDate': '', 'exDividendDate': '2023-09-18', 'nextEarningsDate': '2023-10-25', 'peRatio': 26.57067965308856, 'beta': 1.0686972512837283, 'maxChangePercent': 11.324706087512531, 'year5ChangePercent': 0.8619917449723369, 'year2ChangePercent': 0.1677893380186275, 'year1ChangePercent': 0.18783675333024277, 'ytdChangePercent': 0.12254554840075982, 'month6ChangePercent': 0.0974236875816823, 'month3ChangePercent': 0.04896142800248371, 'month1ChangePercent': -0.00248408632199959, 'day30ChangePercent': -0.005284973364015677, 'day5ChangePercent': -0.017243716837334833}, 'quote': {'avgTotalVolume': 1971068, 'calculationPrice': 'tops', 'change': -1.33, 'changePercent': -0.01568, 'close': None, 'closeSource': 'official', 'closeTime': None, 'companyName': 'Amphenol Corp. - Class A', 'currency': 'USD', 'delayedPrice': None, 'delayedPriceTime': None, 'extendedChange': None, 'extendedChangePercent': None, 'extendedPrice': None, 'extendedPriceTime': None, 'high': None, 'highSource': '15 minute delayed price', 'highTime': 1695325144086, 'iexAskPrice': 83.51, 'iexAskSize': 105, 'iexBidPrice': 83.49, 'iexBidSize': 100, 'iexClose': 83.48, 'iexCloseTime': 1695326040131, 'iexLastUpdated': 1695326040131, 'iexMarketPercent': 0.04497919668043099, 'iexOpen': 84.54, 'iexOpenTime': 1695303000816, 'iexRealtimePrice': 83.48, 'iexRealtimeSize': 1, 'iexVolume': 80301, 'lastTradeTime': 1695326040131, 'latestPrice': 83.48, 'latestSource': 'IEX real time price', 'latestTime': '3:54:00 PM', 'latestUpdate': 1695326040131, 'latestVolume': None, 'low': None, 'lowSource': '15 minute delayed price', 'lowTime': 1695321593226, 'marketCap': 49791976163, 'oddLotDelayedPrice': None, 'oddLotDelayedPriceTime': None, 'open': None, 'openTime': None, 'openSource': 'official', 'peRatio': 27.19, 'previousClose': 84.81, 'previousVolume': 2257970, 'primaryExchange': 'NEW YORK STOCK EXCHANGE INC.', 'symbol': 'APH', 'volume': None, 'week52High': 90.06, 'week52Low': 64.53, 'ytdChange': 0.10686554840075982, 'isUSMarketOpen': True}}, 'APC': {'stats': {'companyName': 'Anadarko Petroleum Corp.', 'marketcap': 0, 'week52high': 76.23, 'week52low': 40.4, 'week52highSplitAdjustOnly': None, 'week52lowSplitAdjustOnly': None, 'week52change': 10.1574, 'sharesOutstanding': 0, 'float': 0, 'avg10Volume': 11951162.9, 'avg30Volume': 9004725.1, 'day200MovingAvg': 57.78, 'day50MovingAvg': 71.59, 'employees': 0, 'ttmEPS': 0, 'ttmDividendRate': 0.6, 'dividendYield': None, 'peRatio': None, 'beta': None, 'maxChangePercent': None, 'year5ChangePercent': None, 'year2ChangePercent': None, 'year1ChangePercent': None, 'ytdChangePercent': None, 'month6ChangePercent': None, 'month3ChangePercent': None, 'month1ChangePercent': None, 'day30ChangePercent': None, 'day5ChangePercent': None}, 'quote': {'avgTotalVolume': 9004725, 'calculationPrice': 'close', 'change': None, 'changePercent': None, 'close': None, 'closeSource': 'official', 'closeTime': None, 'companyName': 'Anadarko Petroleum Corporation', 'currency': 'USD', 'delayedPrice': None, 'delayedPriceTime': None, 'extendedChange': None, 'extendedChangePercent': None, 'extendedPrice': None, 'extendedPriceTime': None, 'high': None, 'highSource': 'Previous close', 'highTime': 1565294418858, 'iexAskPrice': None, 'iexAskSize': None, 'iexBidPrice': None, 'iexBidSize': None, 'iexClose': None, 'iexCloseTime': None, 'iexLastUpdated': None, 'iexMarketPercent': None, 'iexOpen': None, 'iexOpenTime': None, 'iexRealtimePrice': None, 'iexRealtimeSize': None, 'iexVolume': None, 'lastTradeTime': 1565295532562, 'latestPrice': 72.77, 'latestSource': 'Previous close', 'latestTime': 'August 8, 2019', 'latestUpdate': 1565294418858, 'latestVolume': None, 'low': None, 'lowSource': 'Previous close', 'lowTime': 1565294418858, 'marketCap': 0, 'oddLotDelayedPrice': None, 'oddLotDelayedPriceTime': None, 'open': None, 'openTime': None, 'openSource': 'official', 'peRatio': None, 'previousClose': None, 'previousVolume': None, 'primaryExchange': 'New York Stock Exchange', 'symbol': 'APC', 'volume': None, 'week52High': 76.23, 'week52Low': 40.4, 'ytdChange': 0, 'isUSMarketOpen': False}}, 'ADI': {'stats': {'companyName': 'Analog Devices Inc.', 'marketcap': 87743121372, 'week52high': 198.21, 'week52low': 129.78, 'week52highSplitAdjustOnly': 200.1, 'week52lowSplitAdjustOnly': 133.48, 'week52change': 0.22003777627190055, 'sharesOutstanding': 498313956, 'float': 0, 'avg10Volume': 3360470, 'avg30Volume': 3720984, 'day200MovingAvg': 183.22, 'day50MovingAvg': 179.45, 'employees': 24450, 'ttmEPS': 7.36, 'ttmDividendRate': 3.297878684321548, 'dividendYield': 0.01872943369105831, 'nextDividendDate': '', 'exDividendDate': '2023-09-01', 'nextEarningsDate': '2023-11-29', 'peRatio': 23.38335624037576, 'beta': 1.2968543388028586, 'maxChangePercent': 6.9789379239717055, 'year5ChangePercent': 1.0567690690339917, 'year2ChangePercent': 0.08813470919834732, 'year1ChangePercent': 0.20912225332924092, 'ytdChangePercent': 0.09918715833776036, 'month6ChangePercent': -0.04060484176354773, 'month3ChangePercent': -0.05438063220304379, 'month1ChangePercent': 0.01142273541369665, 'day30ChangePercent': 0.0030333670374114163, 'day5ChangePercent': -0.000510870182210188}, 'quote': {'avgTotalVolume': 3720984, 'calculationPrice': 'tops', 'change': -2.19, 'changePercent': -0.01244, 'close': None, 'closeSource': 'official', 'closeTime': None, 'companyName': 'Analog Devices Inc.', 'currency': 'USD', 'delayedPrice': None, 'delayedPriceTime': None, 'extendedChange': None, 'extendedChangePercent': None, 'extendedPrice': None, 'extendedPriceTime': None, 'high': None, 'highSource': None, 'highTime': None, 'iexAskPrice': 208.58, 'iexAskSize': 100, 'iexBidPrice': 139.02, 'iexBidSize': 106, 'iexClose': 173.89, 'iexCloseTime': 1695326043568, 'iexLastUpdated': 1695326043568, 'iexMarketPercent': 0.04142104288356678, 'iexOpen': 175.395, 'iexOpenTime': 1695303002207, 'iexRealtimePrice': 173.89, 'iexRealtimeSize': 75, 'iexVolume': 101533, 'lastTradeTime': 1695326043568, 'latestPrice': 173.89, 'latestSource': 'IEX real time price', 'latestTime': '3:54:03 PM', 'latestUpdate': 1695326043568, 'latestVolume': None, 'low': None, 'lowSource': None, 'lowTime': None, 'marketCap': 86651813809, 'oddLotDelayedPrice': None, 'oddLotDelayedPriceTime': None, 'open': None, 'openTime': None, 'openSource': 'official', 'peRatio': 23.63, 'previousClose': 176.08, 'previousVolume': 2606571, 'primaryExchange': 'NASDAQ', 'symbol': 'ADI', 'volume': None, 'week52High': 198.21, 'week52Low': 129.78, 'ytdChange': 0.08674715833776037, 'isUSMarketOpen': True}}, 'AON': {'stats': {'companyName': 'Aon plc.', 'marketcap': 69384500542, 'week52high': 346.7, 'week52low': 264.37, 'week52highSplitAdjustOnly': 347.37, 'week52lowSplitAdjustOnly': 266.35, 'week52change': 0.2622699675187474, 'sharesOutstanding': 202866793, 'float': 0, 'avg10Volume': 758218, 'avg30Volume': 637081, 'day200MovingAvg': 323.29, 'day50MovingAvg': 328.03, 'employees': 85105, 'ttmEPS': 0, 'ttmDividendRate': 2.343614502760091, 'dividendYield': 0.00685227326694372, 'nextDividendDate': '', 'exDividendDate': '2023-07-31', 'nextEarningsDate': '2023-10-27', 'peRatio': 0, 'beta': 0.713698122861546, 'maxChangePercent': 1.236859057997317, 'year5ChangePercent': 1.236859057997317, 'year2ChangePercent': 0.20503407016975173, 'year1ChangePercent': 0.2475092308461082, 'ytdChangePercent': 0.14586474226251478, 'month6ChangePercent': 0.1425875957654572, 'month3ChangePercent': 0.04173583245968682, 'month1ChangePercent': 0.05542183546256863, 'day30ChangePercent': 0.056432432432432345, 'day5ChangePercent': 0.01992008111170751}, 'quote': {'avgTotalVolume': 637081, 'calculationPrice': 'tops', 'change': -3.79, 'changePercent': -0.01108, 'close': None, 'closeSource': 'official', 'closeTime': None, 'companyName': 'Aon plc. - Class A', 'currency': 'USD', 'delayedPrice': None, 'delayedPriceTime': None, 'extendedChange': None, 'extendedChangePercent': None, 'extendedPrice': None, 'extendedPriceTime': None, 'high': None, 'highSource': '15 minute delayed price', 'highTime': 1695325154337, 'iexAskPrice': 404.49, 'iexAskSize': 100, 'iexBidPrice': 269.55, 'iexBidSize': 100, 'iexClose': 338.23, 'iexCloseTime': 1695326051586, 'iexLastUpdated': 1695326051586, 'iexMarketPercent': 0.09328177780531077, 'iexOpen': 340.96, 'iexOpenTime': 1695303195798, 'iexRealtimePrice': 338.23, 'iexRealtimeSize': 50, 'iexVolume': 54208, 'lastTradeTime': 1695326051586, 'latestPrice': 338.23, 'latestSource': 'IEX real time price', 'latestTime': '3:54:11 PM', 'latestUpdate': 1695326051586, 'latestVolume': None, 'low': None, 'lowSource': '15 minute delayed price', 'lowTime': 1695324741969, 'marketCap': 68615635396, 'oddLotDelayedPrice': None, 'oddLotDelayedPriceTime': None, 'open': None, 'openTime': None, 'openSource': 'official', 'peRatio': None, 'previousClose': 342.02, 'previousVolume': 442024, 'primaryExchange': 'NEW YORK STOCK EXCHANGE INC.', 'symbol': 'AON', 'volume': None, 'week52High': 346.7, 'week52Low': 264.37, 'ytdChange': 0.13478474226251477, 'isUSMarketOpen': True}}, 'APA': {'stats': {'companyName': 'APA Corporation', 'marketcap': 12683915877, 'week52high': 49.32, 'week52low': 30.27, 'week52highSplitAdjustOnly': 50.58, 'week52lowSplitAdjustOnly': 30.67, 'week52change': 0.1081908944722001, 'sharesOutstanding': 307265404, 'float': 0, 'avg10Volume': 5388429, 'avg30Volume': 4039466, 'day200MovingAvg': 37.13, 'day50MovingAvg': 43.39, 'employees': 4832, 'ttmEPS': 4.71, 'ttmDividendRate': 0.985636380188681, 'dividendYield': 0.02387685029526844, 'nextDividendDate': '2023-10-20', 'exDividendDate': '2023-07-20', 'nextEarningsDate': '2023-11-01', 'peRatio': 8.524137014193547, 'beta': 1.260601987478286, 'maxChangePercent': 1.2179835048222871, 'year5ChangePercent': 1.2179835048222871, 'year2ChangePercent': 1.2805621850967914, 'year1ChangePercent': 0.07544810337640695, 'ytdChangePercent': -0.09310801637150924, 'month6ChangePercent': 0.28039305089004074, 'month3ChangePercent': 0.24859729410092224, 'month1ChangePercent': -0.06648575305291715, 'day30ChangePercent': -0.05968109339407735, 'day5ChangePercent': -0.019477434679334937}, 'quote': {'avgTotalVolume': 4039466, 'calculationPrice': 'tops', 'change': -1.13, 'changePercent': -0.02737, 'close': None, 'closeSource': 'official', 'closeTime': None, 'companyName': 'APA Corporation', 'currency': 'USD', 'delayedPrice': None, 'delayedPriceTime': None, 'extendedChange': None, 'extendedChangePercent': None, 'extendedPrice': None, 'extendedPriceTime': None, 'high': None, 'highSource': None, 'highTime': None, 'iexAskPrice': 40.15, 'iexAskSize': 200, 'iexBidPrice': 40.14, 'iexBidSize': 100, 'iexClose': 40.15, 'iexCloseTime': 1695326053413, 'iexLastUpdated': 1695326053413, 'iexMarketPercent': 0.03522600687457116, 'iexOpen': 41.255, 'iexOpenTime': 1695303001566, 'iexRealtimePrice': 40.15, 'iexRealtimeSize': 100, 'iexVolume': 85634, 'lastTradeTime': 1695326053413, 'latestPrice': 40.15, 'latestSource': 'IEX real time price', 'latestTime': '3:54:13 PM', 'latestUpdate': 1695326053413, 'latestVolume': None, 'low': None, 'lowSource': None, 'lowTime': None, 'marketCap': 12336705971, 'oddLotDelayedPrice': None, 'oddLotDelayedPriceTime': None, 'open': None, 'openTime': None, 'openSource': 'official', 'peRatio': 8.52, 'previousClose': 41.28, 'previousVolume': 3288827, 'primaryExchange': 'NASDAQ', 'symbol': 'APA', 'volume': None, 'week52High': 49.32, 'week52Low': 30.27, 'ytdChange': -0.12047801637150923, 'isUSMarketOpen': True}}, 'AIV': {'stats': {'companyName': 'Apartment Investment & Management Co.', 'marketcap': 1052539219, 'week52high': 8.93, 'week52low': 6.47, 'week52highSplitAdjustOnly': 8.93, 'week52lowSplitAdjustOnly': 6.47, 'week52change': -0.14113389626055484, 'sharesOutstanding': 147828542, 'float': 0, 'avg10Volume': 1276830, 'avg30Volume': 899801, 'day200MovingAvg': 7.99, 'day50MovingAvg': 7.77, 'employees': 1473, 'ttmEPS': -1.24, 'ttmDividendRate': 0, 'dividendYield': 0, 'nextDividendDate': '', 'exDividendDate': '', 'nextEarningsDate': '2023-11-07', 'peRatio': -5.719109640021951, 'beta': 1.1684935968040147, 'maxChangePercent': 0.5044584372226684, 'year5ChangePercent': 0.3606482189267697, 'year2ChangePercent': 0.05710128574397944, 'year1ChangePercent': -0.15439429928741089, 'ytdChangePercent': 0, 'month6ChangePercent': -0.00835654596100277, 'month3ChangePercent': -0.12315270935960576, 'month1ChangePercent': -0.09987357774968396, 'day30ChangePercent': -0.09414758269720104, 'day5ChangePercent': -0.03260869565217395}, 'quote': {'avgTotalVolume': 899801, 'calculationPrice': 'tops', 'change': -0.115, 'changePercent': -0.01615, 'close': None, 'closeSource': 'official', 'closeTime': None, 'companyName': 'Apartment Investment & Management Co. - Class A', 'currency': 'USD', 'delayedPrice': None, 'delayedPriceTime': None, 'extendedChange': None, 'extendedChangePercent': None, 'extendedPrice': None, 'extendedPriceTime': None, 'high': None, 'highSource': '15 minute delayed price', 'highTime': 1695325149236, 'iexAskPrice': 7.01, 'iexAskSize': 503, 'iexBidPrice': 7, 'iexBidSize': 100, 'iexClose': 7.005, 'iexCloseTime': 1695326038153, 'iexLastUpdated': 1695326038153, 'iexMarketPercent': 0.0443457939049964, 'iexOpen': 6.99, 'iexOpenTime': 1695303270860, 'iexRealtimePrice': 7.005, 'iexRealtimeSize': 40, 'iexVolume': 25503, 'lastTradeTime': 1695326038153, 'latestPrice': 7.005, 'latestSource': 'IEX real time price', 'latestTime': '3:53:58 PM', 'latestUpdate': 1695326038153, 'latestVolume': None, 'low': None, 'lowSource': '15 minute delayed price', 'lowTime': 1695310207733, 'marketCap': 1035538937, 'oddLotDelayedPrice': None, 'oddLotDelayedPriceTime': None, 'open': None, 'openTime': None, 'openSource': 'official', 'peRatio': -5.65, 'previousClose': 7.12, 'previousVolume': 613651, 'primaryExchange': 'NEW YORK STOCK EXCHANGE INC.', 'symbol': 'AIV', 'volume': None, 'week52High': 8.93, 'week52Low': 6.47, 'ytdChange': -0.01615, 'isUSMarketOpen': True}}, 'APOL': {'stats': None, 'quote': {'symbol': 'APOL', 'companyName': '', 'primaryExchange': '', 'calculationPrice': 'previousclose', 'open': None, 'openTime': None, 'openSource': 'official', 'close': None, 'closeTime': None, 'closeSource': 'official', 'high': None, 'highTime': None, 'highSource': None, 'low': None, 'lowTime': None, 'lowSource': None, 'latestPrice': 10, 'latestSource': 'Previous close', 'latestTime': 'July 22, 2019', 'latestUpdate': 1563768000000, 'latestVolume': None, 'iexRealtimePrice': None, 'iexRealtimeSize': None, 'iexLastUpdated': None, 'delayedPrice': None, 'delayedPriceTime': None, 'oddLotDelayedPrice': None, 'oddLotDelayedPriceTime': None, 'extendedPrice': None, 'extendedChange': None, 'extendedChangePercent': None, 'extendedPriceTime': None, 'previousClose': 10, 'previousVolume': None, 'change': 0, 'changePercent': 0, 'volume': None, 'iexMarketPercent': None, 'iexVolume': None, 'avgTotalVolume': 0, 'iexBidPrice': None, 'iexBidSize': None, 'iexAskPrice': None, 'iexAskSize': None, 'iexOpen': None, 'iexOpenTime': None, 'iexClose': None, 'iexCloseTime': None, 'marketCap': 0, 'peRatio': None, 'week52High': 0, 'week52Low': 0, 'ytdChange': 0, 'lastTradeTime': None, 'isUSMarketOpen': False}}, 'AAPL': {'stats': {'companyName': 'Apple Inc', 'marketcap': 2743651373680, 'week52high': 197.7, 'week52low': 123.48, 'week52highSplitAdjustOnly': 198.23, 'week52lowSplitAdjustOnly': 124.17, 'week52change': 0.15139585998753424, 'sharesOutstanding': 15634232000, 'float': 0, 'avg10Volume': 74616290, 'avg30Volume': 65485572, 'day200MovingAvg': 175.41, 'day50MovingAvg': 179.55, 'employees': 164000, 'ttmEPS': 5.95, 'ttmDividendRate': 0.9368421399305272, 'dividendYield': 0.005338436035845501, 'nextDividendDate': '', 'exDividendDate': '2023-08-11', 'nextEarningsDate': '2023-11-02', 'peRatio': 28.95368693203884, 'beta': 1.3257803316536951, 'maxChangePercent': 67.4118197411508, 'year5ChangePercent': 2.3397912654248154, 'year2ChangePercent': 0.24516804695437955, 'year1ChangePercent': 0.12805975521958235, 'ytdChangePercent': 0.3582438879412031, 'month6ChangePercent': 0.11948986628510404, 'month3ChangePercent': -0.0488934559057056, 'month1ChangePercent': 0.005730987449137581, 'day30ChangePercent': -0.001990445859872625, 'day5ChangePercent': 0.007347454221916072}, 'quote': {'avgTotalVolume': 65485572, 'calculationPrice': 'tops', 'change': -1.38, 'changePercent': -0.00786, 'close': None, 'closeSource': 'official', 'closeTime': None, 'companyName': 'Apple Inc', 'currency': 'USD', 'delayedPrice': None, 'delayedPriceTime': None, 'extendedChange': None, 'extendedChangePercent': None, 'extendedPrice': None, 'extendedPriceTime': None, 'high': None, 'highSource': None, 'highTime': None, 'iexAskPrice': 174.11, 'iexAskSize': 300, 'iexBidPrice': 171, 'iexBidSize': 157, 'iexClose': 174.11, 'iexCloseTime': 1695326053751, 'iexLastUpdated': 1695326053751, 'iexMarketPercent': 0.01852209288469882, 'iexOpen': 174.485, 'iexOpenTime': 1695303000088, 'iexRealtimePrice': 174.11, 'iexRealtimeSize': 200, 'iexVolume': 933418, 'lastTradeTime': 1695326053751, 'latestPrice': 174.11, 'latestSource': 'IEX real time price', 'latestTime': '3:54:13 PM', 'latestUpdate': 1695326053751, 'latestVolume': None, 'low': None, 'lowSource': 'IEX real time price', 'lowTime': 1695325912479, 'marketCap': 2722076133520, 'oddLotDelayedPrice': None, 'oddLotDelayedPriceTime': None, 'open': None, 'openTime': None, 'openSource': 'official', 'peRatio': 29.26, 'previousClose': 175.49, 'previousVolume': 58436181, 'primaryExchange': 'NASDAQ', 'symbol': 'AAPL', 'volume': None, 'week52High': 197.7, 'week52Low': 123.48, 'ytdChange': 0.3503838879412031, 'isUSMarketOpen': True}}, 'AMAT': {'stats': {'companyName': 'Applied Materials Inc.', 'marketcap': 114990951708, 'week52high': 155.26, 'week52low': 70.29, 'week52highSplitAdjustOnly': 155.26, 'week52lowSplitAdjustOnly': 71.12, 'week52change': 0.5912127231961339, 'sharesOutstanding': 839533852, 'float': 0, 'avg10Volume': 6594558, 'avg30Volume': 5426966, 'day200MovingAvg': 131.51, 'day50MovingAvg': 145.07, 'employees': 34200, 'ttmEPS': 7.58, 'ttmDividendRate': 1.1544351797722516, 'dividendYield': 0.00842837978953239, 'nextDividendDate': '2023-11-22', 'exDividendDate': '2023-08-23', 'nextEarningsDate': '2023-11-16', 'peRatio': 17.847423825615397, 'beta': 1.6842287472094806, 'maxChangePercent': 8.69047366373059, 'year5ChangePercent': 2.70237219963671, 'year2ChangePercent': 0.03113039655271055, 'year1ChangePercent': 0.5726126357823624, 'ytdChangePercent': 0.41961508604026165, 'month6ChangePercent': 0.11189222186864778, 'month3ChangePercent': -0.006897411784836716, 'month1ChangePercent': -0.03571725261434178, 'day30ChangePercent': -0.07532050200166085, 'day5ChangePercent': -0.05263521925577541}, 'quote': {'avgTotalVolume': 5426966, 'calculationPrice': 'tops', 'change': -1.62, 'changePercent': -0.01183, 'close': None, 'closeSource': 'official', 'closeTime': None, 'companyName': 'Applied Materials Inc.', 'currency': 'USD', 'delayedPrice': None, 'delayedPriceTime': None, 'extendedChange': None, 'extendedChangePercent': None, 'extendedPrice': None, 'extendedPriceTime': None, 'high': None, 'highSource': None, 'highTime': None, 'iexAskPrice': 160, 'iexAskSize': 125, 'iexBidPrice': 130, 'iexBidSize': 106, 'iexClose': 135.35, 'iexCloseTime': 1695326048056, 'iexLastUpdated': 1695326048056, 'iexMarketPercent': 0.05690925098386026, 'iexOpen': 135, 'iexOpenTime': 1695303000975, 'iexRealtimePrice': 135.35, 'iexRealtimeSize': 200, 'iexVolume': 201481, 'lastTradeTime': 1695326048056, 'latestPrice': 135.35, 'latestSource': 'IEX real time price', 'latestTime': '3:54:08 PM', 'latestUpdate': 1695326048056, 'latestVolume': None, 'low': None, 'lowSource': None, 'lowTime': None, 'marketCap': 113630906868, 'oddLotDelayedPrice': None, 'oddLotDelayedPriceTime': None, 'open': None, 'openTime': None, 'openSource': 'official', 'peRatio': 17.86, 'previousClose': 136.97, 'previousVolume': 5808017, 'primaryExchange': 'NASDAQ', 'symbol': 'AMAT', 'volume': None, 'week52High': 155.26, 'week52Low': 70.29, 'ytdChange': 0.40778508604026165, 'isUSMarketOpen': True}}, 'ADM': {'stats': {'companyName': 'Archer Daniels Midland Co.', 'marketcap': 42555748421, 'week52high': 96.49, 'week52low': 69.55, 'week52highSplitAdjustOnly': 98.28, 'week52lowSplitAdjustOnly': 69.92, 'week52change': -0.057429363604519335, 'sharesOutstanding': 536101643, 'float': 0, 'avg10Volume': 3999264, 'avg30Volume': 3345072, 'day200MovingAvg': 77.88, 'day50MovingAvg': 81.45, 'employees': 26657, 'ttmEPS': 7.5, 'ttmDividendRate': 1.7359575329796246, 'dividendYield': 0.021868953552275444, 'nextDividendDate': '', 'exDividendDate': '2023-08-15', 'nextEarningsDate': '2023-10-24', 'peRatio': 10.261815389761272, 'beta': 0.6882765690875404, 'maxChangePercent': 2.59990204348181, 'year5ChangePercent': 0.8043820707432334, 'year2ChangePercent': 0.3665943600867678, 'year1ChangePercent': -0.06557788087000849, 'ytdChangePercent': -0.13067095380881777, 'month6ChangePercent': 0.043516669580660805, 'month3ChangePercent': 0.07725190839694651, 'month1ChangePercent': -0.04165157551611742, 'day30ChangePercent': -0.0379347957823295, 'day5ChangePercent': -0.003264691109995055}, 'quote': {'avgTotalVolume': 3345072, 'calculationPrice': 'tops', 'change': -0.505, 'changePercent': -0.00636, 'close': None, 'closeSource': 'official', 'closeTime': None, 'companyName': 'Archer Daniels Midland Co.', 'currency': 'USD', 'delayedPrice': None, 'delayedPriceTime': None, 'extendedChange': None, 'extendedChangePercent': None, 'extendedPrice': None, 'extendedPriceTime': None, 'high': None, 'highSource': '15 minute delayed price', 'highTime': 1695325149485, 'iexAskPrice': 85, 'iexAskSize': 102, 'iexBidPrice': 78.81, 'iexBidSize': 143, 'iexClose': 78.875, 'iexCloseTime': 1695326055809, 'iexLastUpdated': 1695326055809, 'iexMarketPercent': 0.07718346447934495, 'iexOpen': 79.37, 'iexOpenTime': 1695303002226, 'iexRealtimePrice': 78.875, 'iexRealtimeSize': 18, 'iexVolume': 107554, 'lastTradeTime': 1695326055809, 'latestPrice': 78.875, 'latestSource': 'IEX real time price', 'latestTime': '3:54:15 PM', 'latestUpdate': 1695326055809, 'latestVolume': None, 'low': None, 'lowSource': '15 minute delayed price', 'lowTime': 1695324650351, 'marketCap': 42285017092, 'oddLotDelayedPrice': None, 'oddLotDelayedPriceTime': None, 'open': None, 'openTime': None, 'openSource': 'official', 'peRatio': 10.52, 'previousClose': 79.38, 'previousVolume': 1961654, 'primaryExchange': 'NEW YORK STOCK EXCHANGE INC.', 'symbol': 'ADM', 'volume': None, 'week52High': 96.49, 'week52Low': 69.55, 'ytdChange': -0.13703095380881777, 'isUSMarketOpen': True}}, 'AIZ': {'stats': {'companyName': 'Assurant Inc', 'marketcap': 7513359100, 'week52high': 152.13, 'week52low': 103.39, 'week52highSplitAdjustOnly': 155.45, 'week52lowSplitAdjustOnly': 104.49, 'week52change': -0.02158790000448829, 'sharesOutstanding': 53023000, 'float': 0, 'avg10Volume': 357428, 'avg30Volume': 320899, 'day200MovingAvg': 127.05, 'day50MovingAvg': 139.99, 'employees': 14053, 'ttmEPS': 6.47, 'ttmDividendRate': 2.777955695884841, 'dividendYield': 0.01960448620949076, 'nextDividendDate': '', 'exDividendDate': '2023-08-25', 'nextEarningsDate': '2023-10-31', 'peRatio': 21.54059375, 'beta': 0.7579450229860201, 'maxChangePercent': 2.409233078944076, 'year5ChangePercent': 0.4827309455470459, 'year2ChangePercent': -0.0733510946489786, 'year1ChangePercent': -0.0397562593728803, 'ytdChangePercent': 0.15142591545267203, 'month6ChangePercent': 0.28798627844681746, 'month3ChangePercent': 0.1004568798746861, 'month1ChangePercent': 0.012082132214924268, 'day30ChangePercent': 0.006218387025534566, 'day5ChangePercent': 0.020599250936329527}, 'quote': {'avgTotalVolume': 320899, 'calculationPrice': 'tops', 'change': 1.62, 'changePercent': 0.01143, 'close': None, 'closeSource': 'official', 'closeTime': None, 'companyName': 'Assurant Inc', 'currency': 'USD', 'delayedPrice': None, 'delayedPriceTime': None, 'extendedChange': None, 'extendedChangePercent': None, 'extendedPrice': None, 'extendedPriceTime': None, 'high': None, 'highSource': '15 minute delayed price', 'highTime': 1695325148319, 'iexAskPrice': 171.78, 'iexAskSize': 100, 'iexBidPrice': 114.44, 'iexBidSize': 101, 'iexClose': 143.32, 'iexCloseTime': 1695326054248, 'iexLastUpdated': 1695326054248, 'iexMarketPercent': 0.044451878734495624, 'iexOpen': 141.9, 'iexOpenTime': 1695303058486, 'iexRealtimePrice': 143.32, 'iexRealtimeSize': 4, 'iexVolume': 10497, 'lastTradeTime': 1695326054248, 'latestPrice': 143.32, 'latestSource': 'IEX real time price', 'latestTime': '3:54:14 PM', 'latestUpdate': 1695326054248, 'latestVolume': None, 'low': None, 'lowSource': '15 minute delayed price', 'lowTime': 1695303825781, 'marketCap': 7599256360, 'oddLotDelayedPrice': None, 'oddLotDelayedPriceTime': None, 'open': None, 'openTime': None, 'openSource': 'official', 'peRatio': 22.15, 'previousClose': 141.7, 'previousVolume': 190144, 'primaryExchange': 'NEW YORK STOCK EXCHANGE INC.', 'symbol': 'AIZ', 'volume': None, 'week52High': 152.13, 'week52Low': 103.39, 'ytdChange': 0.16285591545267203, 'isUSMarketOpen': True}}, 'T': {'stats': {'companyName': 'AT&T, Inc.', 'marketcap': 110871500000, 'week52high': 22.13, 'week52low': 13.43, 'week52highSplitAdjustOnly': 22.84, 'week52lowSplitAdjustOnly': 13.43, 'week52change': 0.0197389992786412, 'sharesOutstanding': 7130000000, 'float': 0, 'avg10Volume': 43217431, 'avg30Volume': 35508651, 'day200MovingAvg': 16.04, 'day50MovingAvg': 14.45, 'employees': 160700, 'ttmEPS': -1.2, 'ttmDividendRate': 1.352851692054859, 'dividendYield': 0.0870001088138173, 'nextDividendDate': '', 'exDividendDate': '2023-07-07', 'nextEarningsDate': '2023-10-19', 'peRatio': -12.378014697695136, 'beta': 0.5391783246747669, 'maxChangePercent': 0.29854946596631304, 'year5ChangePercent': -0.1670014731485201, 'year2ChangePercent': -0.14187011610966394, 'year1ChangePercent': 0.0006499398323027705, 'ytdChangePercent': -0.115582805337216, 'month6ChangePercent': -0.13192021481485616, 'month3ChangePercent': 0.002960507220670649, 'month1ChangePercent': 0.10676156583629905, 'day30ChangePercent': 0.1028368794326242, 'day5ChangePercent': 0.06361149110807118}, 'quote': {'avgTotalVolume': 35508651, 'calculationPrice': 'tops', 'change': -0.235, 'changePercent': -0.01511, 'close': None, 'closeSource': 'official', 'closeTime': None, 'companyName': 'AT&T, Inc.', 'currency': 'USD', 'delayedPrice': None, 'delayedPriceTime': None, 'extendedChange': None, 'extendedChangePercent': None, 'extendedPrice': None, 'extendedPriceTime': None, 'high': None, 'highSource': '15 minute delayed price', 'highTime': 1695325156367, 'iexAskPrice': 15.32, 'iexAskSize': 5100, 'iexBidPrice': 15.31, 'iexBidSize': 5500, 'iexClose': 15.315, 'iexCloseTime': 1695326049175, 'iexLastUpdated': 1695326049175, 'iexMarketPercent': 0.024882862384389148, 'iexOpen': 15.43, 'iexOpenTime': 1695303001035, 'iexRealtimePrice': 15.315, 'iexRealtimeSize': 1, 'iexVolume': 658430, 'lastTradeTime': 1695326049175, 'latestPrice': 15.315, 'latestSource': 'IEX real time price', 'latestTime': '3:54:09 PM', 'latestUpdate': 1695326049175, 'latestVolume': None, 'low': None, 'lowSource': 'IEX real time price', 'lowTime': 1695325815183, 'marketCap': 109195950000, 'oddLotDelayedPrice': None, 'oddLotDelayedPriceTime': None, 'open': None, 'openTime': None, 'openSource': 'official', 'peRatio': -12.76, 'previousClose': 15.55, 'previousVolume': 45303595, 'primaryExchange': 'NEW YORK STOCK EXCHANGE INC.', 'symbol': 'T', 'volume': None, 'week52High': 22.13, 'week52Low': 13.43, 'ytdChange': -0.130692805337216, 'isUSMarketOpen': True}}, 'ADSK': {'stats': {'companyName': 'Autodesk Inc.', 'marketcap': 44405119275, 'week52high': 233.69, 'week52low': 179.61, 'week52highSplitAdjustOnly': 233.69, 'week52lowSplitAdjustOnly': 179.61, 'week52change': 0.07956553372830277, 'sharesOutstanding': 213763632, 'float': 0, 'avg10Volume': 1286848, 'avg30Volume': 1389379, 'day200MovingAvg': 204.5, 'day50MovingAvg': 211.01, 'employees': 18990, 'ttmEPS': 4.04, 'ttmDividendRate': 0, 'dividendYield': 0, 'nextDividendDate': '', 'exDividendDate': '', 'nextEarningsDate': '2023-11-21', 'peRatio': 50.806772626270025, 'beta': 1.5541193684708603, 'maxChangePercent': 4.1342066238260005, 'year5ChangePercent': 0.35567447627749127, 'year2ChangePercent': -0.2675246826516221, 'year1ChangePercent': 0.06544596604605823, 'ytdChangePercent': 0.11162840477337176, 'month6ChangePercent': 0.03647340584771985, 'month3ChangePercent': -0.020095287513562043, 'month1ChangePercent': 0.040314503205128194, 'day30ChangePercent': 0.028264528264528188, 'day5ChangePercent': -0.02134175068312449}, 'quote': {'avgTotalVolume': 1389379, 'calculationPrice': 'tops', 'change': -3.025, 'changePercent': -0.01456, 'close': None, 'closeSource': 'official', 'closeTime': None, 'companyName': 'Autodesk Inc.', 'currency': 'USD', 'delayedPrice': None, 'delayedPriceTime': None, 'extendedChange': None, 'extendedChangePercent': None, 'extendedPrice': None, 'extendedPriceTime': None, 'high': None, 'highSource': None, 'highTime': None, 'iexAskPrice': 245.42, 'iexAskSize': 101, 'iexBidPrice': 163.54, 'iexBidSize': 100, 'iexClose': 204.705, 'iexCloseTime': 1695326052966, 'iexLastUpdated': 1695326052966, 'iexMarketPercent': 0.09426222798839308, 'iexOpen': 206.505, 'iexOpenTime': 1695303006686, 'iexRealtimePrice': 204.705, 'iexRealtimeSize': 27, 'iexVolume': 92127, 'lastTradeTime': 1695326052966, 'latestPrice': 204.705, 'latestSource': 'IEX real time price', 'latestTime': '3:54:12 PM', 'latestUpdate': 1695326052966, 'latestVolume': None, 'low': None, 'lowSource': None, 'lowTime': None, 'marketCap': 43758484289, 'oddLotDelayedPrice': None, 'oddLotDelayedPriceTime': None, 'open': None, 'openTime': None, 'openSource': 'official', 'peRatio': 50.67, 'previousClose': 207.73, 'previousVolume': 1230385, 'primaryExchange': 'NASDAQ', 'symbol': 'ADSK', 'volume': None, 'week52High': 233.69, 'week52Low': 179.61, 'ytdChange': 0.09706840477337175, 'isUSMarketOpen': True}}, 'ADP': {'stats': {'companyName': 'Automatic Data Processing Inc.', 'marketcap': 100469178053, 'week52high': 267.54, 'week52low': 197.16, 'week52highSplitAdjustOnly': 274.92, 'week52lowSplitAdjustOnly': 201.46, 'week52change': 0.09281622278546364, 'sharesOutstanding': 411986870, 'float': 0, 'avg10Volume': 1504407, 'avg30Volume': 1379665, 'day200MovingAvg': 224.13, 'day50MovingAvg': 248.48, 'employees': 60000, 'ttmEPS': 8.21, 'ttmDividendRate': 4.927359950220503, 'dividendYield': 0.020205277305970527, 'nextDividendDate': '', 'exDividendDate': '2023-09-07', 'nextEarningsDate': '2023-10-25', 'peRatio': 29.445831785624268, 'beta': 0.9130702871934916, 'maxChangePercent': 8.032137394119195, 'year5ChangePercent': 0.8375352546206818, 'year2ChangePercent': 0.2901817835527152, 'year1ChangePercent': 0.07821663282847235, 'ytdChangePercent': 0.04911861818260044, 'month6ChangePercent': 0.1543113017094686, 'month3ChangePercent': 0.118172847838806, 'month1ChangePercent': -0.018876168344619804, 'day30ChangePercent': -0.019110580887327425, 'day5ChangePercent': -0.01591945442072551}, 'quote': {'avgTotalVolume': 1379665, 'calculationPrice': 'tops', 'change': -4.98, 'changePercent': -0.02042, 'close': None, 'closeSource': 'official', 'closeTime': None, 'companyName': 'Automatic Data Processing Inc.', 'currency': 'USD', 'delayedPrice': None, 'delayedPriceTime': None, 'extendedChange': None, 'extendedChangePercent': None, 'extendedPrice': None, 'extendedPriceTime': None, 'high': None, 'highSource': 'IEX real time price', 'highTime': 1695303003527, 'iexAskPrice': 286.62, 'iexAskSize': 138, 'iexBidPrice': 191.01, 'iexBidSize': 103, 'iexClose': 238.885, 'iexCloseTime': 1695326045457, 'iexLastUpdated': 1695326045457, 'iexMarketPercent': 0.06313754966176313, 'iexOpen': 243.045, 'iexOpenTime': 1695303001772, 'iexRealtimePrice': 238.885, 'iexRealtimeSize': 1, 'iexVolume': 48804, 'lastTradeTime': 1695326045457, 'latestPrice': 238.885, 'latestSource': 'IEX real time price', 'latestTime': '3:54:05 PM', 'latestUpdate': 1695326045457, 'latestVolume': None, 'low': None, 'lowSource': 'IEX real time price', 'lowTime': 1695325800088, 'marketCap': 98417483440, 'oddLotDelayedPrice': None, 'oddLotDelayedPriceTime': None, 'open': None, 'openTime': None, 'openSource': 'official', 'peRatio': 29.1, 'previousClose': 243.865, 'previousVolume': 1364956, 'primaryExchange': 'NASDAQ', 'symbol': 'ADP', 'volume': None, 'week52High': 267.54, 'week52Low': 197.16, 'ytdChange': 0.028698618182600437, 'isUSMarketOpen': True}}, 'AN': {'stats': {'companyName': 'Autonation Inc.', 'marketcap': 6789941856, 'week52high': 182.08, 'week52low': 94.92, 'week52highSplitAdjustOnly': 182.08, 'week52lowSplitAdjustOnly': 94.92, 'week52change': 0.4334201227450252, 'sharesOutstanding': 44047628, 'float': 0, 'avg10Volume': 611251, 'avg30Volume': 507014, 'day200MovingAvg': 146.54, 'day50MovingAvg': 156.17, 'employees': 8757, 'ttmEPS': 24.12, 'ttmDividendRate': 0, 'dividendYield': 0, 'nextDividendDate': '', 'exDividendDate': '', 'nextEarningsDate': '2023-10-26', 'peRatio': 5.657341989835027, 'beta': 1.048187124344109, 'maxChangePercent': 6.230300187617261, 'year5ChangePercent': 2.4663818304474927, 'year2ChangePercent': 0.2973405150648041, 'year1ChangePercent': 0.4336867559523812, 'ytdChangePercent': 0.4366262814538677, 'month6ChangePercent': 0.20968374794004552, 'month3ChangePercent': 0.02752966271163837, 'month1ChangePercent': -0.0242435751360931, 'day30ChangePercent': -0.04117683647446668, 'day5ChangePercent': 0.016284282700421926}, 'quote': {'avgTotalVolume': 507014, 'calculationPrice': 'tops', 'change': -1.39, 'changePercent': -0.00902, 'close': None, 'closeSource': 'official', 'closeTime': None, 'companyName': 'Autonation Inc.', 'currency': 'USD', 'delayedPrice': None, 'delayedPriceTime': None, 'extendedChange': None, 'extendedChangePercent': None, 'extendedPrice': None, 'extendedPriceTime': None, 'high': None, 'highSource': 'IEX real time price', 'highTime': 1695318880793, 'iexAskPrice': 183.85, 'iexAskSize': 100, 'iexBidPrice': 152.79, 'iexBidSize': 100, 'iexClose': 152.76, 'iexCloseTime': 1695326037063, 'iexLastUpdated': 1695326037063, 'iexMarketPercent': 0.05411679563547292, 'iexOpen': 152.6, 'iexOpenTime': 1695303002876, 'iexRealtimePrice': 152.76, 'iexRealtimeSize': 7, 'iexVolume': 9721, 'lastTradeTime': 1695326037063, 'latestPrice': 152.76, 'latestSource': 'IEX real time price', 'latestTime': '3:53:57 PM', 'latestUpdate': 1695326037063, 'latestVolume': None, 'low': None, 'lowSource': '15 minute delayed price', 'lowTime': 1695304864605, 'marketCap': 6728715653, 'oddLotDelayedPrice': None, 'oddLotDelayedPriceTime': None, 'open': None, 'openTime': None, 'openSource': 'official', 'peRatio': 6.33, 'previousClose': 154.15, 'previousVolume': 281780, 'primaryExchange': 'NEW YORK STOCK EXCHANGE INC.', 'symbol': 'AN', 'volume': None, 'week52High': 182.08, 'week52Low': 94.92, 'ytdChange': 0.4276062814538677, 'isUSMarketOpen': True}}, 'AZO': {'stats': {'companyName': 'Autozone Inc.', 'marketcap': 46903404076, 'week52high': 2750, 'week52low': 2050.21, 'week52highSplitAdjustOnly': 2750, 'week52lowSplitAdjustOnly': 2050.21, 'week52change': 0.22782102831722129, 'sharesOutstanding': 18155969, 'float': 0, 'avg10Volume': 183832, 'avg30Volume': 141073, 'day200MovingAvg': 2510.86, 'day50MovingAvg': 2507.13, 'employees': 27243, 'ttmEPS': 127.32, 'ttmDividendRate': 0, 'dividendYield': 0, 'nextDividendDate': '', 'exDividendDate': '', 'nextEarningsDate': '2023-12-05', 'peRatio': 18.961381450986163, 'beta': 0.4686312157002218, 'maxChangePercent': 21.35514018691589, 'year5ChangePercent': 2.390636689372761, 'year2ChangePercent': 0.6297156123041208, 'year1ChangePercent': 0.21200861377359304, 'ytdChangePercent': 0.04751477994306996, 'month6ChangePercent': 0.08037487924321574, 'month3ChangePercent': 0.05311303794836664, 'month1ChangePercent': 0.05083408246860754, 'day30ChangePercent': 0.05451873622336523, 'day5ChangePercent': 0.02067134458562503}, 'quote': {'avgTotalVolume': 141073, 'calculationPrice': 'tops', 'change': -50.195, 'changePercent': -0.01943, 'close': None, 'closeSource': 'official', 'closeTime': None, 'companyName': 'Autozone Inc.', 'currency': 'USD', 'delayedPrice': None, 'delayedPriceTime': None, 'extendedChange': None, 'extendedChangePercent': None, 'extendedPrice': None, 'extendedPriceTime': None, 'high': None, 'highSource': 'IEX real time price', 'highTime': 1695303300862, 'iexAskPrice': 3039.46, 'iexAskSize': 162, 'iexBidPrice': 2024.3, 'iexBidSize': 111, 'iexClose': 2533.165, 'iexCloseTime': 1695326055235, 'iexLastUpdated': 1695326055235, 'iexMarketPercent': 0.07415567030024861, 'iexOpen': 2574.58, 'iexOpenTime': 1695303080394, 'iexRealtimePrice': 2533.165, 'iexRealtimeSize': 10, 'iexVolume': 9694, 'lastTradeTime': 1695326055235, 'latestPrice': 2533.165, 'latestSource': 'IEX real time price', 'latestTime': '3:54:15 PM', 'latestUpdate': 1695326055235, 'latestVolume': None, 'low': None, 'lowSource': 'IEX real time price', 'lowTime': 1695324742786, 'marketCap': 45992065212, 'oddLotDelayedPrice': None, 'oddLotDelayedPriceTime': None, 'open': None, 'openTime': None, 'openSource': 'official', 'peRatio': 19.9, 'previousClose': 2583.36, 'previousVolume': 161030, 'primaryExchange': 'NEW YORK STOCK EXCHANGE INC.', 'symbol': 'AZO', 'volume': None, 'week52High': 2750, 'week52Low': 2050.21, 'ytdChange': 0.028084779943069963, 'isUSMarketOpen': True}}, 'AVB': {'stats': {'companyName': 'Avalonbay Communities Inc.', 'marketcap': 25943402135, 'week52high': 198.66, 'week52low': 150.17, 'week52highSplitAdjustOnly': 198.66, 'week52lowSplitAdjustOnly': 153.07, 'week52change': 0.003739572767822219, 'sharesOutstanding': 142015558, 'float': 0, 'avg10Volume': 629468, 'avg30Volume': 559630, 'day200MovingAvg': 178.46, 'day50MovingAvg': 182.06, 'employees': 2, 'ttmEPS': 8.88, 'ttmDividendRate': 6.3898661649726485, 'dividendYield': 0.03497846597861095, 'nextDividendDate': '2023-09-28', 'exDividendDate': '2023-06-29', 'nextEarningsDate': '2023-11-09', 'peRatio': 20.777460561190168, 'beta': 0.898886909075698, 'maxChangePercent': 1.2749632005897866, 'year5ChangePercent': 0.17481517304536176, 'year2ChangePercent': -0.11546545797710416, 'year1ChangePercent': -0.01660806222048039, 'ytdChangePercent': 0.1528141336476836, 'month6ChangePercent': 0.14473417891265306, 'month3ChangePercent': -0.030976089488838232, 'month1ChangePercent': 0.01879426691205177, 'day30ChangePercent': 0.028661523734444527, 'day5ChangePercent': 0.014888888888888951}, 'quote': {'avgTotalVolume': 559630, 'calculationPrice': 'tops', 'change': -3.19, 'changePercent': -0.01746, 'close': None, 'closeSource': 'official', 'closeTime': None, 'companyName': 'Avalonbay Communities Inc.', 'currency': 'USD', 'delayedPrice': None, 'delayedPriceTime': None, 'extendedChange': None, 'extendedChangePercent': None, 'extendedPrice': None, 'extendedPriceTime': None, 'high': None, 'highSource': 'IEX real time price', 'highTime': 1695304188652, 'iexAskPrice': 215.68, 'iexAskSize': 100, 'iexBidPrice': 143.71, 'iexBidSize': 101, 'iexClose': 179.49, 'iexCloseTime': 1695325993433, 'iexLastUpdated': 1695325993433, 'iexMarketPercent': 0.040241461822927996, 'iexOpen': 181.77, 'iexOpenTime': 1695303031165, 'iexRealtimePrice': 179.49, 'iexRealtimeSize': 100, 'iexVolume': 18499, 'lastTradeTime': 1695325993433, 'latestPrice': 179.49, 'latestSource': 'IEX real time price', 'latestTime': '3:53:13 PM', 'latestUpdate': 1695325993433, 'latestVolume': None, 'low': None, 'lowSource': 'IEX real time price', 'lowTime': 1695325940429, 'marketCap': 25490372505, 'oddLotDelayedPrice': None, 'oddLotDelayedPriceTime': None, 'open': None, 'openTime': None, 'openSource': 'official', 'peRatio': 20.21, 'previousClose': 182.68, 'previousVolume': 500289, 'primaryExchange': 'NEW YORK STOCK EXCHANGE INC.', 'symbol': 'AVB', 'volume': None, 'week52High': 198.66, 'week52Low': 150.17, 'ytdChange': 0.1353541336476836, 'isUSMarketOpen': True}}, 'AVY': {'stats': {'companyName': 'Avery Dennison Corp.', 'marketcap': 14800649488, 'week52high': 193.36, 'week52low': 154.59, 'week52highSplitAdjustOnly': 195.95, 'week52lowSplitAdjustOnly': 157.28, 'week52change': 0.08051790970054107, 'sharesOutstanding': 80582836, 'float': 0, 'avg10Volume': 483184, 'avg30Volume': 431096, 'day200MovingAvg': 174.23, 'day50MovingAvg': 182.42, 'employees': 15028, 'ttmEPS': 6.94, 'ttmDividendRate': 3.099749138630925, 'dividendYield': 0.016876730759682722, 'nextDividendDate': '', 'exDividendDate': '2023-09-05', 'nextEarningsDate': '2023-10-25', 'peRatio': 26.149557399505294, 'beta': 1.0031143501960935, 'maxChangePercent': 3.011348050563908, 'year5ChangePercent': 0.7791291595268699, 'year2ChangePercent': -0.10668775558642384, 'year1ChangePercent': 0.06275810232265311, 'ytdChangePercent': 0.028355789715322155, 'month6ChangePercent': 0.09308186955266762, 'month3ChangePercent': 0.09771760561654652, 'month1ChangePercent': 0.04126686807539381, 'day30ChangePercent': 0.03821973606709905, 'day5ChangePercent': 0.01346355459912818}, 'quote': {'avgTotalVolume': 431096, 'calculationPrice': 'tops', 'change': -3.28, 'changePercent': -0.01786, 'close': None, 'closeSource': 'official', 'closeTime': None, 'companyName': 'Avery Dennison Corp.', 'currency': 'USD', 'delayedPrice': None, 'delayedPriceTime': None, 'extendedChange': None, 'extendedChangePercent': None, 'extendedPrice': None, 'extendedPriceTime': None, 'high': None, 'highSource': '15 minute delayed price', 'highTime': 1695325147476, 'iexAskPrice': 217.58, 'iexAskSize': 108, 'iexBidPrice': 144.93, 'iexBidSize': 100, 'iexClose': 180.39, 'iexCloseTime': 1695326050128, 'iexLastUpdated': 1695326050128, 'iexMarketPercent': 0.07843985002374387, 'iexOpen': 183.49, 'iexOpenTime': 1695303019354, 'iexRealtimePrice': 180.39, 'iexRealtimeSize': 50, 'iexVolume': 33201, 'lastTradeTime': 1695326050128, 'latestPrice': 180.39, 'latestSource': 'IEX real time price', 'latestTime': '3:54:10 PM', 'latestUpdate': 1695326050128, 'latestVolume': None, 'low': None, 'lowSource': 'IEX real time price', 'lowTime': 1695325830609, 'marketCap': 14536337786, 'oddLotDelayedPrice': None, 'oddLotDelayedPriceTime': None, 'open': None, 'openTime': None, 'openSource': 'official', 'peRatio': 25.99, 'previousClose': 183.67, 'previousVolume': 492241, 'primaryExchange': 'NEW YORK STOCK EXCHANGE INC.', 'symbol': 'AVY', 'volume': None, 'week52High': 193.36, 'week52Low': 154.59, 'ytdChange': 0.010495789715322154, 'isUSMarketOpen': True}}, 'AVP': {'stats': {'companyName': 'Avon Products, Inc.', 'marketcap': 2483741937.6, 'week52high': 5.92, 'week52low': 1.59, 'week52highSplitAdjustOnly': None, 'week52lowSplitAdjustOnly': None, 'week52change': 231.3609, 'sharesOutstanding': 443525346, 'float': 0, 'avg10Volume': 24277426.3, 'avg30Volume': 12644181.43, 'day200MovingAvg': 4.05, 'day50MovingAvg': 4.81, 'employees': 23000, 'ttmEPS': -0.1397, 'ttmDividendRate': 0, 'dividendYield': None, 'peRatio': None, 'beta': None, 'maxChangePercent': None, 'year5ChangePercent': None, 'year2ChangePercent': None, 'year1ChangePercent': None, 'ytdChangePercent': None, 'month6ChangePercent': None, 'month3ChangePercent': None, 'month1ChangePercent': None, 'day30ChangePercent': None, 'day5ChangePercent': None}, 'quote': {'avgTotalVolume': 12644181, 'calculationPrice': 'previousclose', 'change': 0, 'changePercent': 0, 'close': None, 'closeSource': 'official', 'closeTime': None, 'companyName': 'Avon Products, Inc.', 'currency': 'USD', 'delayedPrice': None, 'delayedPriceTime': None, 'extendedChange': None, 'extendedChangePercent': None, 'extendedPrice': None, 'extendedPriceTime': None, 'high': None, 'highSource': 'Close', 'highTime': 1578085200000, 'iexAskPrice': None, 'iexAskSize': None, 'iexBidPrice': None, 'iexBidSize': None, 'iexClose': None, 'iexCloseTime': None, 'iexLastUpdated': None, 'iexMarketPercent': None, 'iexOpen': None, 'iexOpenTime': None, 'iexRealtimePrice': None, 'iexRealtimeSize': None, 'iexVolume': None, 'lastTradeTime': 1578085199076, 'latestPrice': 5.57, 'latestSource': 'Previous close', 'latestTime': 'January 3, 2020', 'latestUpdate': 1578027600000, 'latestVolume': None, 'low': None, 'lowSource': 'Close', 'lowTime': 1578085200000, 'marketCap': 2470436177, 'oddLotDelayedPrice': None, 'oddLotDelayedPriceTime': None, 'open': None, 'openTime': None, 'openSource': 'official', 'peRatio': -39.87, 'previousClose': 5.57, 'previousVolume': 741096, 'primaryExchange': 'New York Stock Exchange', 'symbol': 'AVP', 'volume': None, 'week52High': 5.92, 'week52Low': 1.59, 'ytdChange': 0, 'isUSMarketOpen': False}}, 'BHI': {'stats': None, 'quote': None}, 'BLL': {'stats': {'companyName': 'Ball Corp.', 'marketcap': 22222129619, 'week52high': 97.77, 'week52low': 69.1, 'week52highSplitAdjustOnly': 98.09, 'week52lowSplitAdjustOnly': 69.1, 'week52change': -0.2203872820696929, 'sharesOutstanding': 319788885, 'float': 0, 'avg10Volume': 2684753, 'avg30Volume': 2101923, 'day200MovingAvg': 90.21, 'day50MovingAvg': 86.29, 'employees': 18300, 'ttmEPS': 3.41, 'ttmDividendRate': 0.7477406393537671, 'dividendYield': 0.010760406380108896, 'nextDividendDate': '', 'exDividendDate': '2022-02-28', 'nextEarningsDate': '', 'peRatio': 19.770577952535582, 'beta': 0, 'maxChangePercent': 6.118272520538403, 'year5ChangePercent': 0.8134275581489416, 'year2ChangePercent': 0.09319963439402068, 'year1ChangePercent': -0.22752153246210427, 'ytdChangePercent': -0.2765836509362564, 'month6ChangePercent': -0.23542420808256412, 'month3ChangePercent': -0.2595079014950503, 'month1ChangePercent': -0.20510180736673533, 'day30ChangePercent': -0.20510180736673533, 'day5ChangePercent': -0.1382688492063493}, 'quote': {'avgTotalVolume': 2101923, 'calculationPrice': 'close', 'change': -2.42, 'changePercent': -0.03365, 'close': None, 'closeSource': 'official', 'closeTime': None, 'companyName': 'Ball Corp.', 'currency': 'USD', 'delayedPrice': None, 'delayedPriceTime': None, 'extendedChange': None, 'extendedChangePercent': None, 'extendedPrice': None, 'extendedPriceTime': None, 'high': None, 'highSource': '15 minute delayed price', 'highTime': 1652126399307, 'iexAskPrice': None, 'iexAskSize': None, 'iexBidPrice': None, 'iexBidSize': None, 'iexClose': 69.49, 'iexCloseTime': 1652126397219, 'iexLastUpdated': None, 'iexMarketPercent': None, 'iexOpen': 70.9, 'iexOpenTime': 1652103001768, 'iexRealtimePrice': None, 'iexRealtimeSize': None, 'iexVolume': None, 'lastTradeTime': 1652126399307, 'latestPrice': 69.49, 'latestSource': 'Close', 'latestTime': 'May 9, 2022', 'latestUpdate': 1652126401932, 'latestVolume': None, 'low': None, 'lowSource': '15 minute delayed price', 'lowTime': 1652125885914, 'marketCap': 22222129619, 'oddLotDelayedPrice': None, 'oddLotDelayedPriceTime': None, 'open': None, 'openTime': None, 'openSource': 'official', 'peRatio': 20.38, 'previousClose': 71.91, 'previousVolume': 4294949, 'primaryExchange': 'NEW YORK STOCK EXCHANGE INC.', 'symbol': 'BLL', 'volume': None, 'week52High': 97.77, 'week52Low': 69.1, 'ytdChange': -0.31023365093625643, 'isUSMarketOpen': False}}, 'BAC': {'stats': {'companyName': 'Bank Of America Corp.', 'marketcap': 226868913691, 'week52high': 37.51, 'week52low': 25.9, 'week52highSplitAdjustOnly': 38.6, 'week52lowSplitAdjustOnly': 26.32, 'week52change': -0.11382739654594431, 'sharesOutstanding': 7946371758, 'float': 0, 'avg10Volume': 39011014, 'avg30Volume': 37529284, 'day200MovingAvg': 28.84, 'day50MovingAvg': 29.24, 'employees': 217000, 'ttmEPS': 3.47, 'ttmDividendRate': 0.8896958279192868, 'dividendYield': 0.031162726021691307, 'nextDividendDate': '', 'exDividendDate': '2023-08-31', 'nextEarningsDate': '2023-10-17', 'peRatio': 8.033317293682943, 'beta': 1.050400963359705, 'maxChangePercent': -0.29055984891782427, 'year5ChangePercent': 0.03137101901624195, 'year2ChangePercent': -0.2321718644104264, 'year1ChangePercent': -0.1402803499104145, 'ytdChangePercent': -0.11818212704972464, 'month6ChangePercent': 0.04568029652636363, 'month3ChangePercent': -0.0028430324748353053, 'month1ChangePercent': -0.011063617532750867, 'day30ChangePercent': -0.012421694207014332, 'day5ChangePercent': -0.011426592797783908}, 'quote': {'avgTotalVolume': 37529284, 'calculationPrice': 'tops', 'change': -0.465, 'changePercent': -0.01629, 'close': None, 'closeSource': 'official', 'closeTime': None, 'companyName': 'Bank Of America Corp.', 'currency': 'USD', 'delayedPrice': None, 'delayedPriceTime': None, 'extendedChange': None, 'extendedChangePercent': None, 'extendedPrice': None, 'extendedPriceTime': None, 'high': None, 'highSource': '15 minute delayed price', 'highTime': 1695325153506, 'iexAskPrice': 28.09, 'iexAskSize': 5447, 'iexBidPrice': 28.08, 'iexBidSize': 404, 'iexClose': 28.085, 'iexCloseTime': 1695326054578, 'iexLastUpdated': 1695326054578, 'iexMarketPercent': 0.022161901810249546, 'iexOpen': 28.355, 'iexOpenTime': 1695303001020, 'iexRealtimePrice': 28.085, 'iexRealtimeSize': 153, 'iexVolume': 636489, 'lastTradeTime': 1695326054578, 'latestPrice': 28.085, 'latestSource': 'IEX real time price', 'latestTime': '3:54:14 PM', 'latestUpdate': 1695326054578, 'latestVolume': None, 'low': None, 'lowSource': 'IEX real time price', 'lowTime': 1695325803636, 'marketCap': 223173850823, 'oddLotDelayedPrice': None, 'oddLotDelayedPriceTime': None, 'open': None, 'openTime': None, 'openSource': 'official', 'peRatio': 8.09, 'previousClose': 28.55, 'previousVolume': 26641101, 'primaryExchange': 'NEW YORK STOCK EXCHANGE INC.', 'symbol': 'BAC', 'volume': None, 'week52High': 37.51, 'week52Low': 25.9, 'ytdChange': -0.13447212704972464, 'isUSMarketOpen': True}}, 'BK': {'stats': {'companyName': 'Bank Of New York Mellon Corp', 'marketcap': 34032793852, 'week52high': 51.32, 'week52low': 34.99, 'week52highSplitAdjustOnly': 52.26, 'week52lowSplitAdjustOnly': 36.22, 'week52change': 0.06953965740466539, 'sharesOutstanding': 778782468, 'float': 0, 'avg10Volume': 6213019, 'avg30Volume': 4808004, 'day200MovingAvg': 43.64, 'day50MovingAvg': 44.75, 'employees': 53164, 'ttmEPS': 3.42, 'ttmDividendRate': 1.5105402983674416, 'dividendYield': 0.03456613955074237, 'nextDividendDate': '', 'exDividendDate': '2023-07-27', 'nextEarningsDate': '2023-10-17', 'peRatio': 12.312877659768452, 'beta': 1.0309543042623632, 'maxChangePercent': 0.3629884691799301, 'year5ChangePercent': -0.05135903130081032, 'year2ChangePercent': -0.06176666974401468, 'year1ChangePercent': 0.04556460488663894, 'ytdChangePercent': -0.0149559885942272, 'month6ChangePercent': 0.02842646044794206, 'month3ChangePercent': -0.005724478744800976, 'month1ChangePercent': -0.007269422989550245, 'day30ChangePercent': -0.0013711151736744975, 'day5ChangePercent': -0.03468080406450191}, 'quote': {'avgTotalVolume': 4808004, 'calculationPrice': 'tops', 'change': -0.5, 'changePercent': -0.01144, 'close': None, 'closeSource': 'official', 'closeTime': None, 'companyName': 'Bank Of New York Mellon Corp', 'currency': 'USD', 'delayedPrice': None, 'delayedPriceTime': None, 'extendedChange': None, 'extendedChangePercent': None, 'extendedPrice': None, 'extendedPriceTime': None, 'high': None, 'highSource': '15 minute delayed price', 'highTime': 1695325147761, 'iexAskPrice': 43.2, 'iexAskSize': 100, 'iexBidPrice': 43.19, 'iexBidSize': 316, 'iexClose': 43.2, 'iexCloseTime': 1695326054869, 'iexLastUpdated': 1695326054869, 'iexMarketPercent': 0.03673229503379371, 'iexOpen': 43.54, 'iexOpenTime': 1695303002038, 'iexRealtimePrice': 43.2, 'iexRealtimeSize': 100, 'iexVolume': 90000, 'lastTradeTime': 1695326054869, 'latestPrice': 43.2, 'latestSource': 'IEX real time price', 'latestTime': '3:54:14 PM', 'latestUpdate': 1695326054869, 'latestVolume': None, 'low': None, 'lowSource': '15 minute delayed price', 'lowTime': 1695315255384, 'marketCap': 33643402618, 'oddLotDelayedPrice': None, 'oddLotDelayedPriceTime': None, 'open': None, 'openTime': None, 'openSource': 'official', 'peRatio': 12.63, 'previousClose': 43.7, 'previousVolume': 4152399, 'primaryExchange': 'NEW YORK STOCK EXCHANGE INC.', 'symbol': 'BK', 'volume': None, 'week52High': 51.32, 'week52Low': 34.99, 'ytdChange': -0.0263959885942272, 'isUSMarketOpen': True}}, 'BCR': {'stats': None, 'quote': {'symbol': 'BCR', 'companyName': '', 'primaryExchange': '', 'calculationPrice': 'previousclose', 'open': None, 'openTime': None, 'openSource': 'official', 'close': None, 'closeTime': None, 'closeSource': 'official', 'high': None, 'highTime': None, 'highSource': None, 'low': None, 'lowTime': None, 'lowSource': None, 'latestPrice': 331.24, 'latestSource': 'Previous close', 'latestTime': 'July 22, 2019', 'latestUpdate': 1563768000000, 'latestVolume': None, 'iexRealtimePrice': None, 'iexRealtimeSize': None, 'iexLastUpdated': None, 'delayedPrice': None, 'delayedPriceTime': None, 'oddLotDelayedPrice': None, 'oddLotDelayedPriceTime': None, 'extendedPrice': None, 'extendedChange': None, 'extendedChangePercent': None, 'extendedPriceTime': None, 'previousClose': 331.24, 'previousVolume': None, 'change': 0, 'changePercent': 0, 'volume': None, 'iexMarketPercent': None, 'iexVolume': None, 'avgTotalVolume': 0, 'iexBidPrice': None, 'iexBidSize': None, 'iexAskPrice': None, 'iexAskSize': None, 'iexOpen': None, 'iexOpenTime': None, 'iexClose': None, 'iexCloseTime': None, 'marketCap': 0, 'peRatio': None, 'week52High': 0, 'week52Low': 0, 'ytdChange': 0, 'lastTradeTime': None, 'isUSMarketOpen': False}}, 'BAX': {'stats': {'companyName': 'Baxter International Inc.', 'marketcap': 19481393695, 'week52high': 56.72, 'week52low': 36.82, 'week52highSplitAdjustOnly': 58.23, 'week52lowSplitAdjustOnly': 37.35, 'week52change': -0.2879749764015622, 'sharesOutstanding': 506404827, 'float': 0, 'avg10Volume': 3654798, 'avg30Volume': 3571552, 'day200MovingAvg': 42.38, 'day50MovingAvg': 40.89, 'employees': 32403, 'ttmEPS': -5.67, 'ttmDividendRate': 1.1478645362894428, 'dividendYield': 0.02983791360253296, 'nextDividendDate': '', 'exDividendDate': '2023-08-31', 'nextEarningsDate': '2023-11-02', 'peRatio': -6.828388957129337, 'beta': 0.8057712668784132, 'maxChangePercent': 1.0475944623933486, 'year5ChangePercent': -0.465103086189732, 'year2ChangePercent': -0.5123126168668589, 'year1ChangePercent': -0.3019441047210861, 'ytdChangePercent': -0.2290874696153854, 'month6ChangePercent': 0.021616741024006902, 'month3ChangePercent': -0.13801409381687002, 'month1ChangePercent': -0.07303885188862003, 'day30ChangePercent': -0.07833328541720586, 'day5ChangePercent': -0.016364101252876462}, 'quote': {'avgTotalVolume': 3571552, 'calculationPrice': 'tops', 'change': -0.365, 'changePercent': -0.00949, 'close': None, 'closeSource': 'official', 'closeTime': None, 'companyName': 'Baxter International Inc.', 'currency': 'USD', 'delayedPrice': None, 'delayedPriceTime': None, 'extendedChange': None, 'extendedChangePercent': None, 'extendedPrice': None, 'extendedPriceTime': None, 'high': None, 'highSource': '15 minute delayed price', 'highTime': 1695325153685, 'iexAskPrice': 45.73, 'iexAskSize': 102, 'iexBidPrice': 38.1, 'iexBidSize': 111, 'iexClose': 38.105, 'iexCloseTime': 1695326055087, 'iexLastUpdated': 1695326055087, 'iexMarketPercent': 0.050521572085138286, 'iexOpen': 38.28, 'iexOpenTime': 1695303000894, 'iexRealtimePrice': 38.105, 'iexRealtimeSize': 100, 'iexVolume': 154193, 'lastTradeTime': 1695326055087, 'latestPrice': 38.105, 'latestSource': 'IEX real time price', 'latestTime': '3:54:15 PM', 'latestUpdate': 1695326055087, 'latestVolume': None, 'low': None, 'lowSource': '15 minute delayed price', 'lowTime': 1695323190838, 'marketCap': 19296555933, 'oddLotDelayedPrice': None, 'oddLotDelayedPriceTime': None, 'open': None, 'openTime': None, 'openSource': 'official', 'peRatio': -6.72, 'previousClose': 38.47, 'previousVolume': 3123367, 'primaryExchange': 'NEW YORK STOCK EXCHANGE INC.', 'symbol': 'BAX', 'volume': None, 'week52High': 56.72, 'week52Low': 36.82, 'ytdChange': -0.2385774696153854, 'isUSMarketOpen': True}}, 'BBT': {'stats': {'companyName': 'BB&T Corp.', 'marketcap': 41564274720, 'week52high': 55.66, 'week52low': 40.68, 'week52highSplitAdjustOnly': None, 'week52lowSplitAdjustOnly': None, 'week52change': 13.8061, 'sharesOutstanding': 766303000, 'float': 763650059.014, 'avg10Volume': 5910443.2, 'avg30Volume': 4977861.97, 'day200MovingAvg': 50.27, 'day50MovingAvg': 53.53, 'employees': 35852, 'ttmEPS': 4.0244, 'ttmDividendRate': 1.665, 'dividendYield': None, 'peRatio': None, 'beta': None, 'maxChangePercent': None, 'year5ChangePercent': None, 'year2ChangePercent': None, 'year1ChangePercent': None, 'ytdChangePercent': None, 'month6ChangePercent': None, 'month3ChangePercent': None, 'month1ChangePercent': None, 'day30ChangePercent': None, 'day5ChangePercent': None}, 'quote': {'avgTotalVolume': 4977862, 'calculationPrice': 'previousclose', 'change': 0, 'changePercent': 0, 'close': None, 'closeSource': 'official', 'closeTime': None, 'companyName': 'BB&T Corporation', 'currency': 'USD', 'delayedPrice': None, 'delayedPriceTime': None, 'extendedChange': None, 'extendedChangePercent': None, 'extendedPrice': None, 'extendedPriceTime': None, 'high': None, 'highSource': 'Close', 'highTime': 1575666043001, 'iexAskPrice': None, 'iexAskSize': None, 'iexBidPrice': None, 'iexBidSize': None, 'iexClose': None, 'iexCloseTime': None, 'iexLastUpdated': None, 'iexMarketPercent': None, 'iexOpen': None, 'iexOpenTime': None, 'iexRealtimePrice': None, 'iexRealtimeSize': None, 'iexVolume': None, 'lastTradeTime': 1575666042997, 'latestPrice': 54.14, 'latestSource': 'Previous close', 'latestTime': 'December 6, 2019', 'latestUpdate': 1575608400000, 'latestVolume': None, 'low': None, 'lowSource': 'Close', 'lowTime': 1575666000000, 'marketCap': 41487644420, 'oddLotDelayedPrice': None, 'oddLotDelayedPriceTime': None, 'open': None, 'openTime': None, 'openSource': 'official', 'peRatio': 13.45, 'previousClose': 54.14, 'previousVolume': 243167, 'primaryExchange': 'New York Stock Exchange', 'symbol': 'BBT', 'volume': None, 'week52High': 55.66, 'week52Low': 40.68, 'ytdChange': 0, 'isUSMarketOpen': False}}, 'BEAM': {'stats': {'companyName': 'Beam Therapeutics Inc', 'marketcap': 1998203410, 'week52high': 54.3, 'week52low': 22.7, 'week52highSplitAdjustOnly': 54.3, 'week52lowSplitAdjustOnly': 22.7, 'week52change': -0.5112359550561798, 'sharesOutstanding': 79199501, 'float': 0, 'avg10Volume': 996523, 'avg30Volume': 797354, 'day200MovingAvg': 30.39, 'day50MovingAvg': 24.63, 'employees': 573, 'ttmEPS': -4.52, 'ttmDividendRate': 0, 'dividendYield': 0, 'nextDividendDate': '', 'exDividendDate': '', 'nextEarningsDate': '2023-11-06', 'peRatio': -6.107725303307251, 'beta': 1.8895532380519136, 'maxChangePercent': 0.34560000000000013, 'year5ChangePercent': 0.34560000000000013, 'year2ChangePercent': -0.7352848599307522, 'year1ChangePercent': -0.5282348541510845, 'ytdChangePercent': -0.3548964459217592, 'month6ChangePercent': -0.2171889543903195, 'month3ChangePercent': -0.24302430243024295, 'month1ChangePercent': 0.08097686375321334, 'day30ChangePercent': 0.06455696202531658, 'day5ChangePercent': 0.007990411506192618}, 'quote': {'avgTotalVolume': 797354, 'calculationPrice': 'tops', 'change': -0.26, 'changePercent': -0.01031, 'close': None, 'closeSource': 'official', 'closeTime': None, 'companyName': 'Beam Therapeutics Inc', 'currency': 'USD', 'delayedPrice': None, 'delayedPriceTime': None, 'extendedChange': None, 'extendedChangePercent': None, 'extendedPrice': None, 'extendedPriceTime': None, 'high': None, 'highSource': None, 'highTime': None, 'iexAskPrice': 24.98, 'iexAskSize': 201, 'iexBidPrice': 24.96, 'iexBidSize': 300, 'iexClose': 24.97, 'iexCloseTime': 1695326053668, 'iexLastUpdated': 1695326053668, 'iexMarketPercent': 0.03508485709138009, 'iexOpen': 25, 'iexOpenTime': 1695303002283, 'iexRealtimePrice': 24.97, 'iexRealtimeSize': 1, 'iexVolume': 24731, 'lastTradeTime': 1695326051347, 'latestPrice': 24.97, 'latestSource': 'IEX real time price', 'latestTime': '3:54:13 PM', 'latestUpdate': 1695326053668, 'latestVolume': None, 'low': None, 'lowSource': None, 'lowTime': None, 'marketCap': 1977611540, 'oddLotDelayedPrice': None, 'oddLotDelayedPriceTime': None, 'open': None, 'openTime': None, 'openSource': 'official', 'peRatio': -5.52, 'previousClose': 25.23, 'previousVolume': 784546, 'primaryExchange': 'NASDAQ', 'symbol': 'BEAM', 'volume': None, 'week52High': 54.3, 'week52Low': 22.7, 'ytdChange': -0.36520644592175916, 'isUSMarketOpen': True}}, 'BDX': {'stats': {'companyName': 'Becton Dickinson & Co.', 'marketcap': 77496703373, 'week52high': 286.34, 'week52low': 212.77, 'week52highSplitAdjustOnly': 287.32, 'week52lowSplitAdjustOnly': 215.9, 'week52change': 0.1388634983867556, 'sharesOutstanding': 290108574, 'float': 0, 'avg10Volume': 1322834, 'avg30Volume': 1201156, 'day200MovingAvg': 257.29, 'day50MovingAvg': 273.07, 'employees': 77000, 'ttmEPS': 5.52, 'ttmDividendRate': 3.6206438003837578, 'dividendYield': 0.0135538644120232, 'nextDividendDate': '', 'exDividendDate': '2023-09-07', 'nextEarningsDate': '2023-11-09', 'peRatio': 48.95559278118762, 'beta': 0.6586303238251179, 'maxChangePercent': 3.987462728924222, 'year5ChangePercent': 0.11781286457696938, 'year2ChangePercent': 0.08588459778002, 'year1ChangePercent': 0.1104044560834685, 'ytdChangePercent': 0.06197441449879526, 'month6ChangePercent': 0.12799416937689867, 'month3ChangePercent': 0.045131217509596366, 'month1ChangePercent': -0.02062613494336873, 'day30ChangePercent': -0.027484405455960648, 'day5ChangePercent': 0.007999698124599108}, 'quote': {'avgTotalVolume': 1201156, 'calculationPrice': 'tops', 'change': -1.52, 'changePercent': -0.00569, 'close': None, 'closeSource': 'official', 'closeTime': None, 'companyName': 'Becton Dickinson & Co.', 'currency': 'USD', 'delayedPrice': None, 'delayedPriceTime': None, 'extendedChange': None, 'extendedChangePercent': None, 'extendedPrice': None, 'extendedPriceTime': None, 'high': None, 'highSource': '15 minute delayed price', 'highTime': 1695325149700, 'iexAskPrice': 290, 'iexAskSize': 100, 'iexBidPrice': 265.51, 'iexBidSize': 200, 'iexClose': 265.61, 'iexCloseTime': 1695326043852, 'iexLastUpdated': 1695326043852, 'iexMarketPercent': 0.05774017659163664, 'iexOpen': 265.61, 'iexOpenTime': 1695303003799, 'iexRealtimePrice': 265.61, 'iexRealtimeSize': 11, 'iexVolume': 39086, 'lastTradeTime': 1695326043852, 'latestPrice': 265.61, 'latestSource': 'IEX real time price', 'latestTime': '3:54:03 PM', 'latestUpdate': 1695326043852, 'latestVolume': None, 'low': None, 'lowSource': '15 minute delayed price', 'lowTime': 1695303266354, 'marketCap': 77055738340, 'oddLotDelayedPrice': None, 'oddLotDelayedPriceTime': None, 'open': None, 'openTime': None, 'openSource': 'official', 'peRatio': 48.12, 'previousClose': 267.13, 'previousVolume': 1256521, 'primaryExchange': 'NEW YORK STOCK EXCHANGE INC.', 'symbol': 'BDX', 'volume': None, 'week52High': 286.34, 'week52Low': 212.77, 'ytdChange': 0.05628441449879526, 'isUSMarketOpen': True}}, 'BBBY': {'stats': {'companyName': 'Bed, Bath & Beyond Inc.', 'marketcap': 0, 'week52high': 0, 'week52low': 0, 'week52highSplitAdjustOnly': 0, 'week52lowSplitAdjustOnly': 0, 'week52change': 0, 'sharesOutstanding': 739056836, 'float': 0, 'avg10Volume': 0, 'avg30Volume': 0, 'day200MovingAvg': 0, 'day50MovingAvg': 0, 'employees': 55000, 'ttmEPS': -36.03, 'ttmDividendRate': 0, 'dividendYield': 0, 'nextDividendDate': '', 'exDividendDate': '', 'nextEarningsDate': '', 'peRatio': 0, 'beta': 0, 'maxChangePercent': 0, 'year5ChangePercent': 0, 'year2ChangePercent': 0, 'year1ChangePercent': 0, 'ytdChangePercent': 0, 'month6ChangePercent': 0, 'month3ChangePercent': 0, 'month1ChangePercent': 0, 'day30ChangePercent': 0, 'day5ChangePercent': 0}, 'quote': {'avgTotalVolume': 0, 'calculationPrice': 'previousclose', 'change': 0, 'changePercent': 0, 'close': None, 'closeSource': 'official', 'closeTime': None, 'companyName': 'Bed, Bath & Beyond Inc.', 'currency': 'USD', 'delayedPrice': None, 'delayedPriceTime': None, 'extendedChange': None, 'extendedChangePercent': None, 'extendedPrice': None, 'extendedPriceTime': None, 'high': None, 'highSource': 'Close', 'highTime': 1683057600253, 'iexAskPrice': None, 'iexAskSize': None, 'iexBidPrice': None, 'iexBidSize': None, 'iexClose': 0.0743, 'iexCloseTime': 1683057598081, 'iexLastUpdated': None, 'iexMarketPercent': None, 'iexOpen': 0.1001, 'iexOpenTime': 1683034201140, 'iexRealtimePrice': None, 'iexRealtimeSize': None, 'iexVolume': None, 'lastTradeTime': 1683057599526, 'latestPrice': 0.0751, 'latestSource': 'Previous close', 'latestTime': 'May 2, 2023', 'latestUpdate': 1683000000000, 'latestVolume': None, 'low': None, 'lowSource': 'Close', 'lowTime': 1683057600253, 'marketCap': 55503168, 'oddLotDelayedPrice': None, 'oddLotDelayedPriceTime': None, 'open': None, 'openTime': None, 'openSource': 'official', 'peRatio': 0, 'previousClose': 0.0751, 'previousVolume': 192179915, 'primaryExchange': 'NASDAQ', 'symbol': 'BBBY', 'volume': None, 'week52High': 0.0751, 'week52Low': 0, 'ytdChange': 0, 'isUSMarketOpen': False}}, 'BMS': {'stats': {'companyName': 'Bemis Co., Inc.', 'marketcap': 0, 'week52high': 59.85, 'week52low': 40.86, 'week52highSplitAdjustOnly': None, 'week52lowSplitAdjustOnly': None, 'week52change': 32.7998, 'sharesOutstanding': 0, 'float': 0, 'avg10Volume': 5274159.7, 'avg30Volume': 2386502.47, 'day200MovingAvg': 50.83, 'day50MovingAvg': 57.03, 'employees': 0, 'ttmEPS': 0, 'ttmDividendRate': 0.64, 'dividendYield': None, 'peRatio': None, 'beta': None, 'maxChangePercent': None, 'year5ChangePercent': None, 'year2ChangePercent': None, 'year1ChangePercent': None, 'ytdChangePercent': None, 'month6ChangePercent': None, 'month3ChangePercent': None, 'month1ChangePercent': None, 'day30ChangePercent': None, 'day5ChangePercent': None}, 'quote': {'avgTotalVolume': 2386502, 'calculationPrice': 'close', 'change': None, 'changePercent': None, 'close': None, 'closeSource': 'official', 'closeTime': None, 'companyName': 'Bemis Company, Inc.', 'currency': 'USD', 'delayedPrice': None, 'delayedPriceTime': None, 'extendedChange': None, 'extendedChangePercent': None, 'extendedPrice': None, 'extendedPriceTime': None, 'high': None, 'highSource': 'Previous close', 'highTime': 1560196820757, 'iexAskPrice': None, 'iexAskSize': None, 'iexBidPrice': None, 'iexBidSize': None, 'iexClose': None, 'iexCloseTime': None, 'iexLastUpdated': None, 'iexMarketPercent': None, 'iexOpen': None, 'iexOpenTime': None, 'iexRealtimePrice': None, 'iexRealtimeSize': None, 'iexVolume': None, 'lastTradeTime': None, 'latestPrice': 57.25, 'latestSource': 'Previous close', 'latestTime': 'June 10, 2019', 'latestUpdate': 1560196820757, 'latestVolume': None, 'low': None, 'lowSource': 'Previous close', 'lowTime': 1560196820757, 'marketCap': 0, 'oddLotDelayedPrice': None, 'oddLotDelayedPriceTime': None, 'open': None, 'openTime': None, 'openSource': 'official', 'peRatio': None, 'previousClose': None, 'previousVolume': None, 'primaryExchange': 'New York Stock Exchange', 'symbol': 'BMS', 'volume': None, 'week52High': 59.85, 'week52Low': 40.86, 'ytdChange': 0, 'isUSMarketOpen': False}}, 'BRK.B': {'stats': {'companyName': 'Berkshire Hathaway Inc.', 'marketcap': 795599636832, 'week52high': 373.34, 'week52low': 259.85, 'week52highSplitAdjustOnly': 373.34, 'week52lowSplitAdjustOnly': 259.85, 'week52change': 0.3548792199157862, 'sharesOutstanding': 1295970861, 'float': 0, 'avg10Volume': 4210181, 'avg30Volume': 3189370, 'day200MovingAvg': 334.43, 'day50MovingAvg': 359.83, 'employees': 383000, 'ttmEPS': 59553.78, 'ttmDividendRate': 0, 'dividendYield': 0, 'nextDividendDate': '', 'exDividendDate': '', 'nextEarningsDate': '2023-11-04', 'peRatio': 9.156189716337751, 'beta': 0.822468878993878, 'maxChangePercent': 4.003000545553737, 'year5ChangePercent': 0.6547275351858535, 'year2ChangePercent': 0.3377826404084609, 'year1ChangePercent': 0.3236387255078843, 'ytdChangePercent': 0.18750404661702813, 'month6ChangePercent': 0.21842822028831452, 'month3ChangePercent': 0.08311926063719843, 'month1ChangePercent': 0.04044701611073287, 'day30ChangePercent': 0.04183589423158862, 'day5ChangePercent': -0.002718721113588174}, 'quote': {'avgTotalVolume': 3189370, 'calculationPrice': 'tops', 'change': -3.39, 'changePercent': -0.00924, 'close': None, 'closeSource': 'official', 'closeTime': None, 'companyName': 'Berkshire Hathaway Inc. - Class B', 'currency': 'USD', 'delayedPrice': None, 'delayedPriceTime': None, 'extendedChange': None, 'extendedChangePercent': None, 'extendedPrice': None, 'extendedPriceTime': None, 'high': None, 'highSource': '15 minute delayed price', 'highTime': 1695325155710, 'iexAskPrice': 380, 'iexAskSize': 100, 'iexBidPrice': 360, 'iexBidSize': 117, 'iexClose': 363.43, 'iexCloseTime': 1695326043491, 'iexLastUpdated': 1695326043491, 'iexMarketPercent': 0.02879746485823608, 'iexOpen': 366.27, 'iexOpenTime': 1695303030656, 'iexRealtimePrice': 363.43, 'iexRealtimeSize': 11, 'iexVolume': 62558, 'lastTradeTime': 1695326043491, 'latestPrice': 363.43, 'latestSource': 'IEX real time price', 'latestTime': '3:54:03 PM', 'latestUpdate': 1695326043491, 'latestVolume': None, 'low': None, 'lowSource': 'IEX real time price', 'lowTime': 1695325837922, 'marketCap': 788247031442, 'oddLotDelayedPrice': None, 'oddLotDelayedPriceTime': None, 'open': None, 'openTime': None, 'openSource': 'official', 'peRatio': 0.01, 'previousClose': 366.82, 'previousVolume': 2272080, 'primaryExchange': 'NEW YORK STOCK EXCHANGE INC.', 'symbol': 'BRK.B', 'volume': None, 'week52High': 373.34, 'week52Low': 259.85, 'ytdChange': 0.17826404661702813, 'isUSMarketOpen': True}}, 'BBY': {'stats': {'companyName': 'Best Buy Co. Inc.', 'marketcap': 15397899466, 'week52high': 89.96, 'week52low': 57.97, 'week52highSplitAdjustOnly': 93.32, 'week52lowSplitAdjustOnly': 60.79, 'week52change': 0.06015221238407631, 'sharesOutstanding': 217638155, 'float': 0, 'avg10Volume': 1876935, 'avg30Volume': 2634722, 'day200MovingAvg': 75.02, 'day50MovingAvg': 74.82, 'employees': 71592, 'ttmEPS': 5.82, 'ttmDividendRate': 3.574140849145437, 'dividendYield': 0.05051789186071289, 'nextDividendDate': '', 'exDividendDate': '2023-09-18', 'nextEarningsDate': '2023-11-21', 'peRatio': 11.936356175387598, 'beta': 1.1782955946207065, 'maxChangePercent': 1.1664441532035812, 'year5ChangePercent': 0.052237063433163256, 'year2ChangePercent': -0.2760741218241909, 'year1ChangePercent': 0.04610088996201522, 'ytdChangePercent': -0.0850094150267966, 'month6ChangePercent': -0.06064951273268005, 'month3ChangePercent': -0.09083081999992282, 'month1ChangePercent': -0.08816979245069034, 'day30ChangePercent': -0.09152194151070592, 'day5ChangePercent': -0.008430096073663518}, 'quote': {'avgTotalVolume': 2634722, 'calculationPrice': 'tops', 'change': -0.24, 'changePercent': -0.00339, 'close': None, 'closeSource': 'official', 'closeTime': None, 'companyName': 'Best Buy Co. Inc.', 'currency': 'USD', 'delayedPrice': None, 'delayedPriceTime': None, 'extendedChange': None, 'extendedChangePercent': None, 'extendedPrice': None, 'extendedPriceTime': None, 'high': None, 'highSource': 'IEX real time price', 'highTime': 1695306044098, 'iexAskPrice': 84.48, 'iexAskSize': 100, 'iexBidPrice': 70.49, 'iexBidSize': 100, 'iexClose': 70.51, 'iexCloseTime': 1695326051668, 'iexLastUpdated': 1695326051668, 'iexMarketPercent': 0.0696911989561371, 'iexOpen': 70.2, 'iexOpenTime': 1695303021542, 'iexRealtimePrice': 70.51, 'iexRealtimeSize': 2, 'iexVolume': 110666, 'lastTradeTime': 1695326051668, 'latestPrice': 70.51, 'latestSource': 'IEX real time price', 'latestTime': '3:54:11 PM', 'latestUpdate': 1695326051668, 'latestVolume': None, 'low': None, 'lowSource': '15 minute delayed price', 'lowTime': 1695303000763, 'marketCap': 15345666309, 'oddLotDelayedPrice': None, 'oddLotDelayedPriceTime': None, 'open': None, 'openTime': None, 'openSource': 'official', 'peRatio': 12.12, 'previousClose': 70.75, 'previousVolume': 1912749, 'primaryExchange': 'NEW YORK STOCK EXCHANGE INC.', 'symbol': 'BBY', 'volume': None, 'week52High': 89.96, 'week52Low': 57.97, 'ytdChange': -0.0883994150267966, 'isUSMarketOpen': True}}, 'BIG': {'stats': {'companyName': 'Big Lots Inc', 'marketcap': 152104074, 'week52high': 20.07, 'week52low': 4.78, 'week52highSplitAdjustOnly': 20.91, 'week52lowSplitAdjustOnly': 4.78, 'week52change': -0.706923029324573, 'sharesOutstanding': 29194640, 'float': 0, 'avg10Volume': 1475506, 'avg30Volume': 2300113, 'day200MovingAvg': 8.77, 'day50MovingAvg': 6.99, 'employees': 16894, 'ttmEPS': -19.69, 'ttmDividendRate': 0.5931927508440884, 'dividendYield': 0.1138565740583663, 'nextDividendDate': '', 'exDividendDate': '2023-03-16', 'nextEarningsDate': '2023-11-30', 'peRatio': -0.2662019622461873, 'beta': 1.952487601839703, 'maxChangePercent': -0.6979237329900911, 'year5ChangePercent': -0.8466880499073066, 'year2ChangePercent': -0.8810830797884602, 'year1ChangePercent': -0.7092779938507552, 'ytdChangePercent': -0.6373482570442143, 'month6ChangePercent': -0.5437828371278459, 'month3ChangePercent': -0.2763888888888889, 'month1ChangePercent': -0.2882513661202186, 'day30ChangePercent': -0.2281481481481481, 'day5ChangePercent': -0.05444646098003625}, 'quote': {'avgTotalVolume': 2300113, 'calculationPrice': 'tops', 'change': -0.17, 'changePercent': -0.03263, 'close': None, 'closeSource': 'official', 'closeTime': None, 'companyName': 'Big Lots Inc', 'currency': 'USD', 'delayedPrice': None, 'delayedPriceTime': None, 'extendedChange': None, 'extendedChangePercent': None, 'extendedPrice': None, 'extendedPriceTime': None, 'high': None, 'highSource': '15 minute delayed price', 'highTime': 1695325150581, 'iexAskPrice': 5.05, 'iexAskSize': 800, 'iexBidPrice': 5.04, 'iexBidSize': 400, 'iexClose': 5.04, 'iexCloseTime': 1695326050498, 'iexLastUpdated': 1695326050498, 'iexMarketPercent': 0.022835920955352557, 'iexOpen': 5.19, 'iexOpenTime': 1695303002830, 'iexRealtimePrice': 5.04, 'iexRealtimeSize': 90, 'iexVolume': 29158, 'lastTradeTime': 1695326050498, 'latestPrice': 5.04, 'latestSource': 'IEX real time price', 'latestTime': '3:54:10 PM', 'latestUpdate': 1695326050498, 'latestVolume': None, 'low': None, 'lowSource': '15 minute delayed price', 'lowTime': 1695325071332, 'marketCap': 147140986, 'oddLotDelayedPrice': None, 'oddLotDelayedPriceTime': None, 'open': None, 'openTime': None, 'openSource': 'official', 'peRatio': -0.26, 'previousClose': 5.21, 'previousVolume': 1050230, 'primaryExchange': 'NEW YORK STOCK EXCHANGE INC.', 'symbol': 'BIG', 'volume': None, 'week52High': 20.07, 'week52Low': 4.78, 'ytdChange': -0.6699782570442143, 'isUSMarketOpen': True}}, 'BIIB': {'stats': {'companyName': 'Biogen Inc', 'marketcap': 37730823468, 'week52high': 319.76, 'week52low': 194.45, 'week52highSplitAdjustOnly': 319.76, 'week52lowSplitAdjustOnly': 194.45, 'week52change': 0.30696297782682835, 'sharesOutstanding': 144823335, 'float': 0, 'avg10Volume': 780156, 'avg30Volume': 727608, 'day200MovingAvg': 281.24, 'day50MovingAvg': 264.31, 'employees': 13414, 'ttmEPS': 18.35, 'ttmDividendRate': 0, 'dividendYield': 0, 'nextDividendDate': '', 'exDividendDate': '', 'nextEarningsDate': '2023-10-25', 'peRatio': 14.16003282577122, 'beta': 0, 'maxChangePercent': 4.753843367719907, 'year5ChangePercent': -0.2365197514945494, 'year2ChangePercent': -0.1271734396462194, 'year1ChangePercent': 0.2758570029382956, 'ytdChangePercent': -0.05918676874187512, 'month6ChangePercent': -0.0275465641446756, 'month3ChangePercent': -0.11321011606930131, 'month1ChangePercent': -0.002374114493586044, 'day30ChangePercent': -0.017127551212887226, 'day5ChangePercent': 0.018053221835801603}, 'quote': {'avgTotalVolume': 727608, 'calculationPrice': 'tops', 'change': -1.39, 'changePercent': -0.00534, 'close': None, 'closeSource': 'official', 'closeTime': None, 'companyName': 'Biogen Inc', 'currency': 'USD', 'delayedPrice': None, 'delayedPriceTime': None, 'extendedChange': None, 'extendedChangePercent': None, 'extendedPrice': None, 'extendedPriceTime': None, 'high': None, 'highSource': None, 'highTime': None, 'iexAskPrice': 311.32, 'iexAskSize': 174, 'iexBidPrice': 207.48, 'iexBidSize': 100, 'iexClose': 259.14, 'iexCloseTime': 1695326050689, 'iexLastUpdated': 1695326050689, 'iexMarketPercent': 0.04919715239367281, 'iexOpen': 258.83, 'iexOpenTime': 1695303001648, 'iexRealtimePrice': 259.14, 'iexRealtimeSize': 2, 'iexVolume': 37055, 'lastTradeTime': 1695326050689, 'latestPrice': 259.14, 'latestSource': 'IEX real time price', 'latestTime': '3:54:10 PM', 'latestUpdate': 1695326050689, 'latestVolume': None, 'low': None, 'lowSource': None, 'lowTime': None, 'marketCap': 37529519032, 'oddLotDelayedPrice': None, 'oddLotDelayedPriceTime': None, 'open': None, 'openTime': None, 'openSource': 'official', 'peRatio': 14.12, 'previousClose': 260.53, 'previousVolume': 1143126, 'primaryExchange': 'NASDAQ', 'symbol': 'BIIB', 'volume': None, 'week52High': 319.76, 'week52Low': 194.45, 'ytdChange': -0.06452676874187512, 'isUSMarketOpen': True}}, 'BLK': {'stats': {'companyName': 'Blackrock Inc.', 'marketcap': 102045363603, 'week52high': 764.93, 'week52low': 488.92, 'week52highSplitAdjustOnly': 785.65, 'week52lowSplitAdjustOnly': 503.12, 'week52change': 0.1566386741199135, 'sharesOutstanding': 149302633, 'float': 0, 'avg10Volume': 826024, 'avg30Volume': 580177, 'day200MovingAvg': 674.29, 'day50MovingAvg': 686.75, 'employees': 19800, 'ttmEPS': 34.27, 'ttmDividendRate': 19.666629374676084, 'dividendYield': 0.028774257293082584, 'nextDividendDate': '', 'exDividendDate': '2023-09-07', 'nextEarningsDate': '2023-10-12', 'peRatio': 19.669499537941405, 'beta': 1.3270822888930502, 'maxChangePercent': 5.640498999281037, 'year5ChangePercent': 0.6018197767604889, 'year2ChangePercent': -0.15810146880178877, 'year1ChangePercent': 0.13020901458599332, 'ytdChangePercent': -0.014259972418662836, 'month6ChangePercent': 0.077601565539958, 'month3ChangePercent': -0.00363468957173696, 'month1ChangePercent': 0.02713704858748356, 'day30ChangePercent': 0.02508771243071073, 'day5ChangePercent': -0.019720895543794748}, 'quote': {'avgTotalVolume': 580177, 'calculationPrice': 'tops', 'change': -12.48, 'changePercent': -0.01826, 'close': None, 'closeSource': 'official', 'closeTime': None, 'companyName': 'Blackrock Inc.', 'currency': 'USD', 'delayedPrice': None, 'delayedPriceTime': None, 'extendedChange': None, 'extendedChangePercent': None, 'extendedPrice': None, 'extendedPriceTime': None, 'high': None, 'highSource': '15 minute delayed price', 'highTime': 1695325141388, 'iexAskPrice': 804.84, 'iexAskSize': 106, 'iexBidPrice': 670.63, 'iexBidSize': 100, 'iexClose': 671, 'iexCloseTime': 1695326052624, 'iexLastUpdated': 1695326052624, 'iexMarketPercent': 0.0813291870450957, 'iexOpen': 677.32, 'iexOpenTime': 1695303013232, 'iexRealtimePrice': 671, 'iexRealtimeSize': 2, 'iexVolume': 33790, 'lastTradeTime': 1695326052624, 'latestPrice': 671, 'latestSource': 'IEX real time price', 'latestTime': '3:54:12 PM', 'latestUpdate': 1695326052624, 'latestVolume': None, 'low': None, 'lowSource': '15 minute delayed price', 'lowTime': 1695304799032, 'marketCap': 100182066743, 'oddLotDelayedPrice': None, 'oddLotDelayedPriceTime': None, 'open': None, 'openTime': None, 'openSource': 'official', 'peRatio': 19.58, 'previousClose': 683.48, 'previousVolume': 334069, 'primaryExchange': 'NEW YORK STOCK EXCHANGE INC.', 'symbol': 'BLK', 'volume': None, 'week52High': 764.93, 'week52Low': 488.92, 'ytdChange': -0.032519972418662835, 'isUSMarketOpen': True}}, 'HRB': {'stats': {'companyName': 'H&R Block Inc.', 'marketcap': 6100351181, 'week52high': 43.65, 'week52low': 28.33, 'week52highSplitAdjustOnly': 45.1, 'week52lowSplitAdjustOnly': 28.83, 'week52change': -0.04265380977646538, 'sharesOutstanding': 146996414, 'float': 0, 'avg10Volume': 1832311, 'avg30Volume': 1527486, 'day200MovingAvg': 33.9, 'day50MovingAvg': 38.22, 'employees': 56693, 'ttmEPS': 3.51, 'ttmDividendRate': 1.1752668475002035, 'dividendYield': 0.02831968307229406, 'nextDividendDate': '', 'exDividendDate': '2023-09-06', 'nextEarningsDate': '2023-11-07', 'peRatio': 11.062824486605686, 'beta': 0.6543645393417648, 'maxChangePercent': 2.2123726661919068, 'year5ChangePercent': 1.0026637841176695, 'year2ChangePercent': 0.7589590353275268, 'year1ChangePercent': -0.04606253692197715, 'ytdChangePercent': 0.16616273449706087, 'month6ChangePercent': 0.19071870633433677, 'month3ChangePercent': 0.27173050345205874, 'month1ChangePercent': 0.0619269752481455, 'day30ChangePercent': 0.05656303862438028, 'day5ChangePercent': 0.062196058356795536}, 'quote': {'avgTotalVolume': 1527486, 'calculationPrice': 'tops', 'change': 0.045, 'changePercent': 0.00108, 'close': None, 'closeSource': 'official', 'closeTime': None, 'companyName': 'H&R Block Inc.', 'currency': 'USD', 'delayedPrice': None, 'delayedPriceTime': None, 'extendedChange': None, 'extendedChangePercent': None, 'extendedPrice': None, 'extendedPriceTime': None, 'high': None, 'highSource': '15 minute delayed price', 'highTime': 1695325155441, 'iexAskPrice': 41.55, 'iexAskSize': 105, 'iexBidPrice': 41.52, 'iexBidSize': 300, 'iexClose': 41.545, 'iexCloseTime': 1695326044109, 'iexLastUpdated': 1695326044109, 'iexMarketPercent': 0.030787788037600867, 'iexOpen': 41.47, 'iexOpenTime': 1695303003974, 'iexRealtimePrice': 41.545, 'iexRealtimeSize': 24, 'iexVolume': 33309, 'lastTradeTime': 1695326044109, 'latestPrice': 41.545, 'latestSource': 'IEX real time price', 'latestTime': '3:54:04 PM', 'latestUpdate': 1695326044109, 'latestVolume': None, 'low': None, 'lowSource': '15 minute delayed price', 'lowTime': 1695308528720, 'marketCap': 6106966020, 'oddLotDelayedPrice': None, 'oddLotDelayedPriceTime': None, 'open': None, 'openTime': None, 'openSource': 'official', 'peRatio': 11.84, 'previousClose': 41.5, 'previousVolume': 1321147, 'primaryExchange': 'NEW YORK STOCK EXCHANGE INC.', 'symbol': 'HRB', 'volume': None, 'week52High': 43.65, 'week52Low': 28.33, 'ytdChange': 0.16724273449706087, 'isUSMarketOpen': True}}, 'BMC': {'stats': None, 'quote': {'symbol': 'BMC', 'companyName': '', 'primaryExchange': '', 'calculationPrice': 'previousclose', 'open': None, 'openTime': None, 'openSource': 'official', 'close': None, 'closeTime': None, 'closeSource': 'official', 'high': None, 'highTime': None, 'highSource': None, 'low': None, 'lowTime': None, 'lowSource': None, 'latestPrice': 46.3, 'latestSource': 'Previous close', 'latestTime': 'October 25, 2013', 'latestUpdate': 1382673600000, 'latestVolume': None, 'iexRealtimePrice': None, 'iexRealtimeSize': None, 'iexLastUpdated': None, 'delayedPrice': None, 'delayedPriceTime': None, 'oddLotDelayedPrice': None, 'oddLotDelayedPriceTime': None, 'extendedPrice': None, 'extendedChange': None, 'extendedChangePercent': None, 'extendedPriceTime': None, 'previousClose': 46.3, 'previousVolume': None, 'change': 0, 'changePercent': 0, 'volume': None, 'iexMarketPercent': None, 'iexVolume': None, 'avgTotalVolume': None, 'iexBidPrice': None, 'iexBidSize': None, 'iexAskPrice': None, 'iexAskSize': None, 'iexOpen': None, 'iexOpenTime': None, 'iexClose': None, 'iexCloseTime': None, 'marketCap': 0, 'peRatio': None, 'week52High': 0, 'week52Low': 0, 'ytdChange': 0, 'lastTradeTime': None, 'isUSMarketOpen': False}}, 'BA': {'stats': {'companyName': 'Boeing Co.', 'marketcap': 121744478012, 'week52high': 243.1, 'week52low': 120.99, 'week52highSplitAdjustOnly': 243.1, 'week52lowSplitAdjustOnly': 120.99, 'week52change': 0.4123106985832927, 'sharesOutstanding': 601593507, 'float': 0, 'avg10Volume': 3932062, 'avg30Volume': 4850202, 'day200MovingAvg': 212.87, 'day50MovingAvg': 223.09, 'employees': 156000, 'ttmEPS': -7.45, 'ttmDividendRate': 0, 'dividendYield': 0, 'nextDividendDate': '', 'exDividendDate': '', 'nextEarningsDate': '2023-10-25', 'peRatio': -27.22372048559705, 'beta': 1.0279246044851733, 'maxChangePercent': 2.065729036636651, 'year5ChangePercent': -0.4306148948352435, 'year2ChangePercent': -0.03403341288782813, 'year1ChangePercent': 0.3866657530491984, 'ytdChangePercent': 0.06236547850280849, 'month6ChangePercent': -0.011720466865263512, 'month3ChangePercent': -0.04708763007957806, 'month1ChangePercent': -0.1071255239355835, 'day30ChangePercent': -0.10936537276648184, 'day5ChangePercent': -0.02893474088291748}, 'quote': {'avgTotalVolume': 4850202, 'calculationPrice': 'tops', 'change': -2.03, 'changePercent': -0.01003, 'close': None, 'closeSource': 'official', 'closeTime': None, 'companyName': 'Boeing Co.', 'currency': 'USD', 'delayedPrice': None, 'delayedPriceTime': None, 'extendedChange': None, 'extendedChangePercent': None, 'extendedPrice': None, 'extendedPriceTime': None, 'high': None, 'highSource': '15 minute delayed price', 'highTime': 1695325156776, 'iexAskPrice': 220, 'iexAskSize': 101, 'iexBidPrice': 200.23, 'iexBidSize': 100, 'iexClose': 200.34, 'iexCloseTime': 1695326044362, 'iexLastUpdated': 1695326044362, 'iexMarketPercent': 0.03101224973218266, 'iexOpen': 200.99, 'iexOpenTime': 1695303000998, 'iexRealtimePrice': 200.34, 'iexRealtimeSize': 45, 'iexVolume': 116520, 'lastTradeTime': 1695326044362, 'latestPrice': 200.34, 'latestSource': 'IEX real time price', 'latestTime': '3:54:04 PM', 'latestUpdate': 1695326044362, 'latestVolume': None, 'low': None, 'lowSource': 'IEX real time price', 'lowTime': 1695325800003, 'marketCap': 120523243192, 'oddLotDelayedPrice': None, 'oddLotDelayedPriceTime': None, 'open': None, 'openTime': None, 'openSource': 'official', 'peRatio': -26.89, 'previousClose': 202.37, 'previousVolume': 3742063, 'primaryExchange': 'NEW YORK STOCK EXCHANGE INC.', 'symbol': 'BA', 'volume': None, 'week52High': 243.1, 'week52Low': 120.99, 'ytdChange': 0.052335478502808494, 'isUSMarketOpen': True}}, 'BWA': {'stats': {'companyName': 'BorgWarner Inc', 'marketcap': 9679895164, 'week52high': 50.82, 'week52low': 30.71, 'week52highSplitAdjustOnly': 51.14, 'week52lowSplitAdjustOnly': 31.14, 'week52change': 0.1864939076217396, 'sharesOutstanding': 235063020, 'float': 0, 'avg10Volume': 2688375, 'avg30Volume': 1891011, 'day200MovingAvg': 45.05, 'day50MovingAvg': 40.63, 'employees': 14628, 'ttmEPS': 3.44, 'ttmDividendRate': 0.6168148433593602, 'dividendYield': 0.014978505181140364, 'nextDividendDate': '', 'exDividendDate': '2023-08-31', 'nextEarningsDate': '2023-11-02', 'peRatio': 10.200100277766069, 'beta': 1.0843685550243691, 'maxChangePercent': 2.2725654433618896, 'year5ChangePercent': -0.022591012014677725, 'year2ChangePercent': 0.026374689071776425, 'year1ChangePercent': 0.1464205676424326, 'ytdChangePercent': 0.0331288651388002, 'month6ChangePercent': -0.09966439651497104, 'month3ChangePercent': -0.10990260371860994, 'month1ChangePercent': 0.04166666666666652, 'day30ChangePercent': 0.035656980750562006, 'day5ChangePercent': 0.01905468943330857}, 'quote': {'avgTotalVolume': 1891011, 'calculationPrice': 'tops', 'change': -0.985, 'changePercent': -0.02392, 'close': None, 'closeSource': 'official', 'closeTime': None, 'companyName': 'BorgWarner Inc', 'currency': 'USD', 'delayedPrice': None, 'delayedPriceTime': None, 'extendedChange': None, 'extendedChangePercent': None, 'extendedPrice': None, 'extendedPriceTime': None, 'high': None, 'highSource': '15 minute delayed price', 'highTime': 1695325141187, 'iexAskPrice': 40.2, 'iexAskSize': 100, 'iexBidPrice': 32.27, 'iexBidSize': 100, 'iexClose': 40.195, 'iexCloseTime': 1695326050083, 'iexLastUpdated': 1695326050083, 'iexMarketPercent': 0.029644293182447726, 'iexOpen': 40.58, 'iexOpenTime': 1695303001283, 'iexRealtimePrice': 40.195, 'iexRealtimeSize': 100, 'iexVolume': 33604, 'lastTradeTime': 1695326050083, 'latestPrice': 40.195, 'latestSource': 'IEX real time price', 'latestTime': '3:54:10 PM', 'latestUpdate': 1695326050083, 'latestVolume': None, 'low': None, 'lowSource': '15 minute delayed price', 'lowTime': 1695305140516, 'marketCap': 9448358089, 'oddLotDelayedPrice': None, 'oddLotDelayedPriceTime': None, 'open': None, 'openTime': None, 'openSource': 'official', 'peRatio': 11.68, 'previousClose': 41.18, 'previousVolume': 1862408, 'primaryExchange': 'NEW YORK STOCK EXCHANGE INC.', 'symbol': 'BWA', 'volume': None, 'week52High': 50.82, 'week52Low': 30.71, 'ytdChange': 0.0092088651388002, 'isUSMarketOpen': True}}, 'BXP': {'stats': {'companyName': 'Boston Properties, Inc.', 'marketcap': 10284039832, 'week52high': 76.61, 'week52low': 44.55, 'week52highSplitAdjustOnly': 79.42, 'week52lowSplitAdjustOnly': 46.18, 'week52change': -0.09799718502477196, 'sharesOutstanding': 156864549, 'float': 0, 'avg10Volume': 1161032, 'avg30Volume': 1283905, 'day200MovingAvg': 56.85, 'day50MovingAvg': 65.89, 'employees': 936, 'ttmEPS': 4.18, 'ttmDividendRate': 3.819802318539488, 'dividendYield': 0.05826422084410445, 'nextDividendDate': '2023-09-28', 'exDividendDate': '2023-06-29', 'nextEarningsDate': '2023-10-31', 'peRatio': 15.646884225737836, 'beta': 1.158067812164096, 'maxChangePercent': -0.07931822362905339, 'year5ChangePercent': -0.35849012293975124, 'year2ChangePercent': -0.3388863118407518, 'year1ChangePercent': -0.12136100590494714, 'ytdChangePercent': 0.005681887908500771, 'month6ChangePercent': 0.3140751965300077, 'month3ChangePercent': 0.2328731058397866, 'month1ChangePercent': 0.035703001579779015, 'day30ChangePercent': 0.043616682585164046, 'day5ChangePercent': 0.02758620689655178}, 'quote': {'avgTotalVolume': 1283905, 'calculationPrice': 'tops', 'change': -4.51, 'changePercent': -0.06879, 'close': None, 'closeSource': 'official', 'closeTime': None, 'companyName': 'Boston Properties, Inc.', 'currency': 'USD', 'delayedPrice': None, 'delayedPriceTime': None, 'extendedChange': None, 'extendedChangePercent': None, 'extendedPrice': None, 'extendedPriceTime': None, 'high': None, 'highSource': '15 minute delayed price', 'highTime': 1695325149166, 'iexAskPrice': 73.33, 'iexAskSize': 100, 'iexBidPrice': 48.86, 'iexBidSize': 101, 'iexClose': 61.03, 'iexCloseTime': 1695326041146, 'iexLastUpdated': 1695326051813, 'iexMarketPercent': 0.041519317375262266, 'iexOpen': 64.795, 'iexOpenTime': 1695303030052, 'iexRealtimePrice': 61.05, 'iexRealtimeSize': 3, 'iexVolume': 66628, 'lastTradeTime': 1695326051813, 'latestPrice': 61.05, 'latestSource': 'IEX real time price', 'latestTime': '3:54:11 PM', 'latestUpdate': 1695326051813, 'latestVolume': None, 'low': None, 'lowSource': 'IEX real time price', 'lowTime': 1695325805166, 'marketCap': 9576580716, 'oddLotDelayedPrice': None, 'oddLotDelayedPriceTime': None, 'open': None, 'openTime': None, 'openSource': 'official', 'peRatio': 14.61, 'previousClose': 65.56, 'previousVolume': 979094, 'primaryExchange': 'NEW YORK STOCK EXCHANGE INC.', 'symbol': 'BXP', 'volume': None, 'week52High': 76.61, 'week52Low': 44.55, 'ytdChange': -0.06310811209149923, 'isUSMarketOpen': True}}, 'BSX': {'stats': {'companyName': 'Boston Scientific Corp.', 'marketcap': 79214478528, 'week52high': 55.38, 'week52low': 37.74, 'week52highSplitAdjustOnly': 55.38, 'week52lowSplitAdjustOnly': 37.74, 'week52change': 0.3606639839034207, 'sharesOutstanding': 1464223263, 'float': 0, 'avg10Volume': 8898182, 'avg30Volume': 8774444, 'day200MovingAvg': 51.69, 'day50MovingAvg': 52.24, 'employees': 45000, 'ttmEPS': 0.5933, 'ttmDividendRate': 0, 'dividendYield': 0, 'nextDividendDate': '', 'exDividendDate': '', 'nextEarningsDate': '2023-10-26', 'peRatio': 92.3245670493007, 'beta': 0.5949287760799861, 'maxChangePercent': 2.149010477299185, 'year5ChangePercent': 0.4304600740349023, 'year2ChangePercent': 0.23968835930339136, 'year1ChangePercent': 0.338115260944843, 'ytdChangePercent': 0.1692241192997621, 'month6ChangePercent': 0.10792545566250268, 'month3ChangePercent': 0.0011102886750555818, 'month1ChangePercent': 0.0779039649332538, 'day30ChangePercent': 0.07298690995636647, 'day5ChangePercent': 0.016917293233082775}, 'quote': {'avgTotalVolume': 8774444, 'calculationPrice': 'tops', 'change': -0.11, 'changePercent': -0.00203, 'close': None, 'closeSource': 'official', 'closeTime': None, 'companyName': 'Boston Scientific Corp.', 'currency': 'USD', 'delayedPrice': None, 'delayedPriceTime': None, 'extendedChange': None, 'extendedChangePercent': None, 'extendedPrice': None, 'extendedPriceTime': None, 'high': None, 'highSource': '15 minute delayed price', 'highTime': 1695325153878, 'iexAskPrice': 53.99, 'iexAskSize': 300, 'iexBidPrice': 43.28, 'iexBidSize': 112, 'iexClose': 53.99, 'iexCloseTime': 1695326055777, 'iexLastUpdated': 1695326055777, 'iexMarketPercent': 0.03469607764605361, 'iexOpen': 54.05, 'iexOpenTime': 1695303002302, 'iexRealtimePrice': 53.99, 'iexRealtimeSize': 22, 'iexVolume': 270283, 'lastTradeTime': 1695326055777, 'latestPrice': 53.99, 'latestSource': 'IEX real time price', 'latestTime': '3:54:15 PM', 'latestUpdate': 1695326055777, 'latestVolume': None, 'low': None, 'lowSource': 'IEX real time price', 'lowTime': 1695325968422, 'marketCap': 79053413969, 'oddLotDelayedPrice': None, 'oddLotDelayedPriceTime': None, 'open': None, 'openTime': None, 'openSource': 'official', 'peRatio': 91, 'previousClose': 54.1, 'previousVolume': 15134161, 'primaryExchange': 'NEW YORK STOCK EXCHANGE INC.', 'symbol': 'BSX', 'volume': None, 'week52High': 55.38, 'week52Low': 37.74, 'ytdChange': 0.1671941192997621, 'isUSMarketOpen': True}}, 'BMY': {'stats': {'companyName': 'Bristol-Myers Squibb Co.', 'marketcap': 122797469696, 'week52high': 79.43, 'week52low': 58.33, 'week52highSplitAdjustOnly': 81.44, 'week52lowSplitAdjustOnly': 58.33, 'week52change': -0.12579586336953785, 'sharesOutstanding': 2089102921, 'float': 0, 'avg10Volume': 15134093, 'avg30Volume': 11646827, 'day200MovingAvg': 64.45, 'day50MovingAvg': 60.87, 'employees': 34300, 'ttmEPS': 3.75, 'ttmDividendRate': 2.2220573890719635, 'dividendYield': 0.037802949797073215, 'nextDividendDate': '2023-10-05', 'exDividendDate': '2023-07-06', 'nextEarningsDate': '2023-10-26', 'peRatio': 15.421005864169285, 'beta': 0.2992990781180384, 'maxChangePercent': 2.6156287675614496, 'year5ChangePercent': 0.11405302649808656, 'year2ChangePercent': 0.03539508125684776, 'year1ChangePercent': -0.12918002477051715, 'ytdChangePercent': -0.16242750680402973, 'month6ChangePercent': -0.11079242040548354, 'month3ChangePercent': -0.1018906439557148, 'month1ChangePercent': -0.05285207863358044, 'day30ChangePercent': -0.05055726053949272, 'day5ChangePercent': -0.01458507963118183}, 'quote': {'avgTotalVolume': 11646827, 'calculationPrice': 'tops', 'change': 0.31, 'changePercent': 0.00527, 'close': None, 'closeSource': 'official', 'closeTime': None, 'companyName': 'Bristol-Myers Squibb Co.', 'currency': 'USD', 'delayedPrice': None, 'delayedPriceTime': None, 'extendedChange': None, 'extendedChangePercent': None, 'extendedPrice': None, 'extendedPriceTime': None, 'high': None, 'highSource': '15 minute delayed price', 'highTime': 1695325154240, 'iexAskPrice': 59.1, 'iexAskSize': 200, 'iexBidPrice': 59.09, 'iexBidSize': 200, 'iexClose': 59.09, 'iexCloseTime': 1695326053899, 'iexLastUpdated': 1695326053899, 'iexMarketPercent': 0.0597587129334619, 'iexOpen': 58.63, 'iexOpenTime': 1695303000851, 'iexRealtimePrice': 59.09, 'iexRealtimeSize': 11, 'iexVolume': 449262, 'lastTradeTime': 1695326053899, 'latestPrice': 59.09, 'latestSource': 'IEX real time price', 'latestTime': '3:54:13 PM', 'latestUpdate': 1695326053899, 'latestVolume': None, 'low': None, 'lowSource': '15 minute delayed price', 'lowTime': 1695303334909, 'marketCap': 123445091602, 'oddLotDelayedPrice': None, 'oddLotDelayedPriceTime': None, 'open': None, 'openTime': None, 'openSource': 'official', 'peRatio': 15.76, 'previousClose': 58.78, 'previousVolume': 8699641, 'primaryExchange': 'NEW YORK STOCK EXCHANGE INC.', 'symbol': 'BMY', 'volume': None, 'week52High': 79.43, 'week52Low': 58.33, 'ytdChange': -0.15715750680402973, 'isUSMarketOpen': True}}, 'BRCM': {'stats': None, 'quote': {'symbol': 'BRCM', 'companyName': '', 'primaryExchange': '', 'calculationPrice': 'previousclose', 'open': None, 'openTime': None, 'openSource': 'official', 'close': None, 'closeTime': None, 'closeSource': 'official', 'high': None, 'highTime': None, 'highSource': None, 'low': None, 'lowTime': None, 'lowSource': None, 'latestPrice': 54.67, 'latestSource': 'Previous close', 'latestTime': 'September 20, 2016', 'latestUpdate': 1474344000000, 'latestVolume': None, 'iexRealtimePrice': None, 'iexRealtimeSize': None, 'iexLastUpdated': None, 'delayedPrice': None, 'delayedPriceTime': None, 'oddLotDelayedPrice': None, 'oddLotDelayedPriceTime': None, 'extendedPrice': None, 'extendedChange': None, 'extendedChangePercent': None, 'extendedPriceTime': None, 'previousClose': 54.67, 'previousVolume': None, 'change': 0, 'changePercent': 0, 'volume': None, 'iexMarketPercent': None, 'iexVolume': None, 'avgTotalVolume': None, 'iexBidPrice': None, 'iexBidSize': None, 'iexAskPrice': None, 'iexAskSize': None, 'iexOpen': None, 'iexOpenTime': None, 'iexClose': None, 'iexCloseTime': None, 'marketCap': 0, 'peRatio': None, 'week52High': 0, 'week52Low': 0, 'ytdChange': 0, 'lastTradeTime': None, 'isUSMarketOpen': False}}, 'BF.B': {'stats': {'companyName': 'Brown-Forman Corp.', 'marketcap': 30562877787, 'week52high': 74.06, 'week52low': 60.51, 'week52highSplitAdjustOnly': 74.76, 'week52lowSplitAdjustOnly': 60.9, 'week52change': -0.0970276983000099, 'sharesOutstanding': 310135517, 'float': 0, 'avg10Volume': 1719976, 'avg30Volume': 1648631, 'day200MovingAvg': 64.99, 'day50MovingAvg': 66.88, 'employees': 4739, 'ttmEPS': 1.59, 'ttmDividendRate': 0.8181131927332224, 'dividendYield': 0.012955078269726404, 'nextDividendDate': '', 'exDividendDate': '2023-09-01', 'nextEarningsDate': '2023-12-11', 'peRatio': 39.95147423109805, 'beta': 0.7433952120983143, 'maxChangePercent': 3.4792634572962697, 'year5ChangePercent': 0.3734859573838736, 'year2ChangePercent': -0.055125885959754206, 'year1ChangePercent': -0.09969761815488631, 'ytdChangePercent': -0.029376910698064806, 'month6ChangePercent': 0.01884911191529115, 'month3ChangePercent': -0.02287690415219301, 'month1ChangePercent': -0.06650642802343276, 'day30ChangePercent': -0.06526700947610542, 'day5ChangePercent': -0.013435400718637802}, 'quote': {'avgTotalVolume': 1648631, 'calculationPrice': 'tops', 'change': -1.965, 'changePercent': -0.03112, 'close': None, 'closeSource': 'official', 'closeTime': None, 'companyName': 'Brown-Forman Corp. - Class B', 'currency': 'USD', 'delayedPrice': None, 'delayedPriceTime': None, 'extendedChange': None, 'extendedChangePercent': None, 'extendedPrice': None, 'extendedPriceTime': None, 'high': None, 'highSource': '15 minute delayed price', 'highTime': 1695325153666, 'iexAskPrice': 73.5, 'iexAskSize': 105, 'iexBidPrice': 49, 'iexBidSize': 102, 'iexClose': 61.185, 'iexCloseTime': 1695326046427, 'iexLastUpdated': 1695326046427, 'iexMarketPercent': 0.0451692260739922, 'iexOpen': 62.57, 'iexOpenTime': 1695303346591, 'iexRealtimePrice': 61.185, 'iexRealtimeSize': 17, 'iexVolume': 43809, 'lastTradeTime': 1695326046427, 'latestPrice': 61.185, 'latestSource': 'IEX real time price', 'latestTime': '3:54:06 PM', 'latestUpdate': 1695326046427, 'latestVolume': None, 'low': None, 'lowSource': '15 minute delayed price', 'lowTime': 1695322040003, 'marketCap': 29611871363, 'oddLotDelayedPrice': None, 'oddLotDelayedPriceTime': None, 'open': None, 'openTime': None, 'openSource': 'official', 'peRatio': 38.48, 'previousClose': 63.15, 'previousVolume': 760724, 'primaryExchange': 'NEW YORK STOCK EXCHANGE INC.', 'symbol': 'BF.B', 'volume': None, 'week52High': 74.06, 'week52Low': 60.51, 'ytdChange': -0.0604969106980648, 'isUSMarketOpen': True}}, 'CHRW': {'stats': {'companyName': 'C.H. Robinson Worldwide, Inc.', 'marketcap': 10197058859, 'week52high': 104.64, 'week52low': 83.36, 'week52highSplitAdjustOnly': 108.05, 'week52lowSplitAdjustOnly': 85.23, 'week52change': -0.1033355140770591, 'sharesOutstanding': 116431364, 'float': 0, 'avg10Volume': 1123051, 'avg30Volume': 1030469, 'day200MovingAvg': 94.24, 'day50MovingAvg': 91.57, 'employees': 20763, 'ttmEPS': 4.4, 'ttmDividendRate': 2.397348200748134, 'dividendYield': 0.02737323819077568, 'nextDividendDate': '', 'exDividendDate': '2023-08-31', 'nextEarningsDate': '2023-11-08', 'peRatio': 19.088538068506438, 'beta': 0.8918332539461853, 'maxChangePercent': 2.0329265420897342, 'year5ChangePercent': 0.04022776213252621, 'year2ChangePercent': 0.07555272824179426, 'year1ChangePercent': -0.11234537244905718, 'ytdChangePercent': -0.012332870211652525, 'month6ChangePercent': -0.0635018060578324, 'month3ChangePercent': -0.04251713695350334, 'month1ChangePercent': -0.06600361952924783, 'day30ChangePercent': -0.05132260230940877, 'day5ChangePercent': 0.00240357101980071}, 'quote': {'avgTotalVolume': 1030469, 'calculationPrice': 'tops', 'change': -0.71, 'changePercent': -0.00811, 'close': None, 'closeSource': 'official', 'closeTime': None, 'companyName': 'C.H. Robinson Worldwide, Inc.', 'currency': 'USD', 'delayedPrice': None, 'delayedPriceTime': None, 'extendedChange': None, 'extendedChangePercent': None, 'extendedPrice': None, 'extendedPriceTime': None, 'high': None, 'highSource': None, 'highTime': None, 'iexAskPrice': 87.1, 'iexAskSize': 100, 'iexBidPrice': 69.48, 'iexBidSize': 100, 'iexClose': 86.87, 'iexCloseTime': 1695326053393, 'iexLastUpdated': 1695326053393, 'iexMarketPercent': 0.07114814331275528, 'iexOpen': 87.86, 'iexOpenTime': 1695303004023, 'iexRealtimePrice': 86.87, 'iexRealtimeSize': 1, 'iexVolume': 30518, 'lastTradeTime': 1695326053393, 'latestPrice': 86.87, 'latestSource': 'IEX real time price', 'latestTime': '3:54:13 PM', 'latestUpdate': 1695326053393, 'latestVolume': None, 'low': None, 'lowSource': None, 'lowTime': None, 'marketCap': 10114392591, 'oddLotDelayedPrice': None, 'oddLotDelayedPriceTime': None, 'open': None, 'openTime': None, 'openSource': 'official', 'peRatio': 19.74, 'previousClose': 87.58, 'previousVolume': 518336, 'primaryExchange': 'NASDAQ', 'symbol': 'CHRW', 'volume': None, 'week52High': 104.64, 'week52Low': 83.36, 'ytdChange': -0.020442870211652524, 'isUSMarketOpen': True}}, 'CA': {'stats': None, 'quote': {'symbol': 'CA', 'companyName': '', 'primaryExchange': '', 'calculationPrice': 'previousclose', 'open': None, 'openTime': None, 'openSource': 'official', 'close': None, 'closeTime': None, 'closeSource': 'official', 'high': None, 'highTime': None, 'highSource': None, 'low': None, 'lowTime': None, 'lowSource': None, 'latestPrice': 44.44, 'latestSource': 'Previous close', 'latestTime': 'December 31, 2018', 'latestUpdate': 1546232400000, 'latestVolume': None, 'iexRealtimePrice': None, 'iexRealtimeSize': None, 'iexLastUpdated': None, 'delayedPrice': None, 'delayedPriceTime': None, 'oddLotDelayedPrice': None, 'oddLotDelayedPriceTime': None, 'extendedPrice': None, 'extendedChange': None, 'extendedChangePercent': None, 'extendedPriceTime': None, 'previousClose': 44.44, 'previousVolume': None, 'change': 0, 'changePercent': 0, 'volume': None, 'iexMarketPercent': None, 'iexVolume': None, 'avgTotalVolume': None, 'iexBidPrice': None, 'iexBidSize': None, 'iexAskPrice': None, 'iexAskSize': None, 'iexOpen': None, 'iexOpenTime': None, 'iexClose': None, 'iexCloseTime': None, 'marketCap': 0, 'peRatio': None, 'week52High': 0, 'week52Low': 0, 'ytdChange': 0, 'lastTradeTime': None, 'isUSMarketOpen': False}}, 'CVC': {'stats': None, 'quote': {'symbol': 'CVC', 'companyName': '', 'primaryExchange': '', 'calculationPrice': 'previousclose', 'open': None, 'openTime': None, 'openSource': 'official', 'close': None, 'closeTime': None, 'closeSource': 'official', 'high': None, 'highTime': None, 'highSource': None, 'low': None, 'lowTime': None, 'lowSource': None, 'latestPrice': 34.87, 'latestSource': 'Previous close', 'latestTime': 'September 20, 2016', 'latestUpdate': 1474344000000, 'latestVolume': None, 'iexRealtimePrice': None, 'iexRealtimeSize': None, 'iexLastUpdated': None, 'delayedPrice': None, 'delayedPriceTime': None, 'oddLotDelayedPrice': None, 'oddLotDelayedPriceTime': None, 'extendedPrice': None, 'extendedChange': None, 'extendedChangePercent': None, 'extendedPriceTime': None, 'previousClose': 34.87, 'previousVolume': None, 'change': 0, 'changePercent': 0, 'volume': None, 'iexMarketPercent': None, 'iexVolume': None, 'avgTotalVolume': None, 'iexBidPrice': None, 'iexBidSize': None, 'iexAskPrice': None, 'iexAskSize': None, 'iexOpen': None, 'iexOpenTime': None, 'iexClose': None, 'iexCloseTime': None, 'marketCap': 0, 'peRatio': None, 'week52High': 0, 'week52Low': 0, 'ytdChange': 0, 'lastTradeTime': None, 'isUSMarketOpen': False}}, 'COG': {'stats': {'companyName': 'Cabot Oil & Gas Corp.', 'marketcap': 8892528027, 'week52high': 23.1, 'week52low': 14.28, 'week52highSplitAdjustOnly': 23.1, 'week52lowSplitAdjustOnly': 14.28, 'week52change': 0.34048257372654134, 'sharesOutstanding': 399664181, 'float': 0, 'avg10Volume': 29895745, 'avg30Volume': 15272698, 'day200MovingAvg': 17.1, 'day50MovingAvg': 17.95, 'employees': 503, 'ttmEPS': 0.6806, 'ttmDividendRate': 0.4161327516142402, 'dividendYield': 0.0187025955781681, 'nextDividendDate': '', 'exDividendDate': '2021-08-11', 'nextEarningsDate': '', 'peRatio': 32.565847541592966, 'beta': 0.5855745185459355, 'maxChangePercent': 2.2341526520051747, 'year5ChangePercent': -0.06634999496458416, 'year2ChangePercent': 0.31939420533924734, 'year1ChangePercent': 0.34048257372654134, 'ytdChangePercent': 0.3921737933450964, 'month6ChangePercent': 0.1808725188408875, 'month3ChangePercent': 0.25562916897100485, 'month1ChangePercent': 0.24929814710836615, 'day30ChangePercent': 0.24929814710836615, 'day5ChangePercent': 0.09390363815142576}, 'quote': {'avgTotalVolume': 15272698, 'calculationPrice': 'previousclose', 'change': 0, 'changePercent': 0, 'close': None, 'closeSource': 'official', 'closeTime': None, 'companyName': 'Cabot Oil & Gas Corp.', 'currency': 'USD', 'delayedPrice': None, 'delayedPriceTime': None, 'extendedChange': None, 'extendedChangePercent': None, 'extendedPrice': None, 'extendedPriceTime': None, 'high': None, 'highSource': '15 minute delayed price', 'highTime': 1633118399830, 'iexAskPrice': None, 'iexAskSize': None, 'iexBidPrice': None, 'iexBidSize': None, 'iexClose': 22.25, 'iexCloseTime': 1633118398140, 'iexLastUpdated': None, 'iexMarketPercent': None, 'iexOpen': 22.24, 'iexOpenTime': 1633118390760, 'iexRealtimePrice': None, 'iexRealtimeSize': None, 'iexVolume': None, 'lastTradeTime': 1633118399830, 'latestPrice': 22.25, 'latestSource': 'Previous close', 'latestTime': 'October 1, 2021', 'latestUpdate': 1633060800000, 'latestVolume': None, 'low': None, 'lowSource': 'IEX real time price', 'lowTime': 1633095137181, 'marketCap': 8892528027, 'oddLotDelayedPrice': None, 'oddLotDelayedPriceTime': None, 'open': None, 'openTime': None, 'openSource': 'official', 'peRatio': 32.69, 'previousClose': 22.25, 'previousVolume': 19280088, 'primaryExchange': 'NEW YORK STOCK EXCHANGE INC.', 'symbol': 'COG', 'volume': None, 'week52High': 23.1, 'week52Low': 14.28, 'ytdChange': 0.3921737933450964, 'isUSMarketOpen': False}}, 'CAM': {'stats': None, 'quote': {'symbol': 'CAM', 'companyName': '', 'primaryExchange': '', 'calculationPrice': 'previousclose', 'open': None, 'openTime': None, 'openSource': 'official', 'close': None, 'closeTime': None, 'closeSource': 'official', 'high': None, 'highTime': None, 'highSource': None, 'low': None, 'lowTime': None, 'lowSource': None, 'latestPrice': 66.01, 'latestSource': 'Previous close', 'latestTime': 'May 16, 2016', 'latestUpdate': 1463371200000, 'latestVolume': None, 'iexRealtimePrice': None, 'iexRealtimeSize': None, 'iexLastUpdated': None, 'delayedPrice': None, 'delayedPriceTime': None, 'oddLotDelayedPrice': None, 'oddLotDelayedPriceTime': None, 'extendedPrice': None, 'extendedChange': None, 'extendedChangePercent': None, 'extendedPriceTime': None, 'previousClose': 66.01, 'previousVolume': None, 'change': 0, 'changePercent': 0, 'volume': None, 'iexMarketPercent': None, 'iexVolume': None, 'avgTotalVolume': None, 'iexBidPrice': None, 'iexBidSize': None, 'iexAskPrice': None, 'iexAskSize': None, 'iexOpen': None, 'iexOpenTime': None, 'iexClose': None, 'iexCloseTime': None, 'marketCap': 0, 'peRatio': None, 'week52High': 0, 'week52Low': 0, 'ytdChange': 0, 'lastTradeTime': None, 'isUSMarketOpen': False}}, 'CPB': {'stats': {'companyName': 'Campbell Soup Co.', 'marketcap': 12722562079, 'week52high': 57.01, 'week52low': 40.76, 'week52highSplitAdjustOnly': 57.78, 'week52lowSplitAdjustOnly': 40.76, 'week52change': -0.1018027080606263, 'sharesOutstanding': 298091895, 'float': 0, 'avg10Volume': 3854372, 'avg30Volume': 3449803, 'day200MovingAvg': 48.75, 'day50MovingAvg': 42.72, 'employees': 50, 'ttmEPS': 2.61, 'ttmDividendRate': 1.4726005990163111, 'dividendYield': 0.03450329425998855, 'nextDividendDate': '', 'exDividendDate': '2023-07-05', 'nextEarningsDate': '2023-12-06', 'peRatio': 16.20708545044586, 'beta': 0.1825959846551689, 'maxChangePercent': 0.6737254901960785, 'year5ChangePercent': 0.231369335787609, 'year2ChangePercent': 0.05769492886332484, 'year1ChangePercent': -0.08751360284606813, 'ytdChangePercent': -0.2378163115881208, 'month6ChangePercent': -0.20545236902902475, 'month3ChangePercent': -0.0679187595544879, 'month1ChangePercent': -0.00350221807144524, 'day30ChangePercent': 0.014740846409890596, 'day5ChangePercent': -0.000936329588014928}, 'quote': {'avgTotalVolume': 3449803, 'calculationPrice': 'tops', 'change': 0.27, 'changePercent': 0.00633, 'close': None, 'closeSource': 'official', 'closeTime': None, 'companyName': 'Campbell Soup Co.', 'currency': 'USD', 'delayedPrice': None, 'delayedPriceTime': None, 'extendedChange': None, 'extendedChangePercent': None, 'extendedPrice': None, 'extendedPriceTime': None, 'high': None, 'highSource': '15 minute delayed price', 'highTime': 1695325155577, 'iexAskPrice': 42.95, 'iexAskSize': 200, 'iexBidPrice': 34.48, 'iexBidSize': 100, 'iexClose': 42.95, 'iexCloseTime': 1695326053067, 'iexLastUpdated': 1695326053067, 'iexMarketPercent': 0.02742386677995957, 'iexOpen': 42.76, 'iexOpenTime': 1695303003891, 'iexRealtimePrice': 42.95, 'iexRealtimeSize': 100, 'iexVolume': 70682, 'lastTradeTime': 1695326053067, 'latestPrice': 42.95, 'latestSource': 'IEX real time price', 'latestTime': '3:54:13 PM', 'latestUpdate': 1695326053067, 'latestVolume': None, 'low': None, 'lowSource': '15 minute delayed price', 'lowTime': 1695303574663, 'marketCap': 12803046890, 'oddLotDelayedPrice': None, 'oddLotDelayedPriceTime': None, 'open': None, 'openTime': None, 'openSource': 'official', 'peRatio': 16.46, 'previousClose': 42.68, 'previousVolume': 2135056, 'primaryExchange': 'NEW YORK STOCK EXCHANGE INC.', 'symbol': 'CPB', 'volume': None, 'week52High': 57.01, 'week52Low': 40.76, 'ytdChange': -0.2314863115881208, 'isUSMarketOpen': True}}, 'COF': {'stats': {'companyName': 'Capital One Financial Corp.', 'marketcap': 38357752111, 'week52high': 121.55, 'week52low': 82.91, 'week52highSplitAdjustOnly': 123.09, 'week52lowSplitAdjustOnly': 83.93, 'week52change': 0.039858125959743695, 'sharesOutstanding': 381441449, 'float': 0, 'avg10Volume': 2104135, 'avg30Volume': 1929239, 'day200MovingAvg': 102.03, 'day50MovingAvg': 104.64, 'employees': 73771, 'ttmEPS': 13.06, 'ttmDividendRate': 2.376204102198048, 'dividendYield': 0.02362971462010788, 'nextDividendDate': '', 'exDividendDate': '2023-08-04', 'nextEarningsDate': '2023-10-26', 'peRatio': 7.648604608462612, 'beta': 1.5047793459722103, 'maxChangePercent': 0.640654826194353, 'year5ChangePercent': 0.1110939236774824, 'year2ChangePercent': -0.3260116862174216, 'year1ChangePercent': 0.02057282389942849, 'ytdChangePercent': 0.10047045768671392, 'month6ChangePercent': 0.12805739900655566, 'month3ChangePercent': -0.07352298963886184, 'month1ChangePercent': -0.04265041888804266, 'day30ChangePercent': -0.03668933805920105, 'day5ChangePercent': 0.0021925453458242483}, 'quote': {'avgTotalVolume': 1929239, 'calculationPrice': 'tops', 'change': -1.37, 'changePercent': -0.01362, 'close': None, 'closeSource': 'official', 'closeTime': None, 'companyName': 'Capital One Financial Corp.', 'currency': 'USD', 'delayedPrice': None, 'delayedPriceTime': None, 'extendedChange': None, 'extendedChangePercent': None, 'extendedPrice': None, 'extendedPriceTime': None, 'high': None, 'highSource': 'IEX real time price', 'highTime': 1695306058912, 'iexAskPrice': 99.2, 'iexAskSize': 100, 'iexBidPrice': 79.41, 'iexBidSize': 100, 'iexClose': 99.19, 'iexCloseTime': 1695326055720, 'iexLastUpdated': 1695326055720, 'iexMarketPercent': 0.05344549369336682, 'iexOpen': 100.25, 'iexOpenTime': 1695303066634, 'iexRealtimePrice': 99.19, 'iexRealtimeSize': 50, 'iexVolume': 55974, 'lastTradeTime': 1695326055720, 'latestPrice': 99.19, 'latestSource': 'IEX real time price', 'latestTime': '3:54:15 PM', 'latestUpdate': 1695326055720, 'latestVolume': None, 'low': None, 'lowSource': 'IEX real time price', 'lowTime': 1695303826505, 'marketCap': 37835177326, 'oddLotDelayedPrice': None, 'oddLotDelayedPriceTime': None, 'open': None, 'openTime': None, 'openSource': 'official', 'peRatio': 7.59, 'previousClose': 100.56, 'previousVolume': 1441795, 'primaryExchange': 'NEW YORK STOCK EXCHANGE INC.', 'symbol': 'COF', 'volume': None, 'week52High': 121.55, 'week52Low': 82.91, 'ytdChange': 0.08685045768671393, 'isUSMarketOpen': True}}, 'CAH': {'stats': {'companyName': 'Cardinal Health, Inc.', 'marketcap': 22403416379, 'week52high': 95.45, 'week52low': 63.34, 'week52highSplitAdjustOnly': 95.45, 'week52lowSplitAdjustOnly': 64.99, 'week52change': 0.3580415754923414, 'sharesOutstanding': 250681620, 'float': 0, 'avg10Volume': 2143694, 'avg30Volume': 2091665, 'day200MovingAvg': 84.82, 'day50MovingAvg': 88.98, 'employees': 30935, 'ttmEPS': 0.9962, 'ttmDividendRate': 1.970162387803782, 'dividendYield': 0.022045008255609063, 'nextDividendDate': '2023-10-02', 'exDividendDate': '2023-06-30', 'nextEarningsDate': '2023-11-02', 'peRatio': 85.83684436551724, 'beta': 0.43824483010593795, 'maxChangePercent': 1.0571120788870374, 'year5ChangePercent': 0.9345328288294528, 'year2ChangePercent': 0.8455076539936439, 'year1ChangePercent': 0.3526317064015789, 'ytdChangePercent': 0.17658210599902846, 'month6ChangePercent': 0.27135100070701745, 'month3ChangePercent': -0.01524676128907132, 'month1ChangePercent': 0.0410017472335471, 'day30ChangePercent': 0.02795031055900621, 'day5ChangePercent': 0.016145537237066465}, 'quote': {'avgTotalVolume': 2091665, 'calculationPrice': 'tops', 'change': -0.085, 'changePercent': -0.00095, 'close': None, 'closeSource': 'official', 'closeTime': None, 'companyName': 'Cardinal Health, Inc.', 'currency': 'USD', 'delayedPrice': None, 'delayedPriceTime': None, 'extendedChange': None, 'extendedChangePercent': None, 'extendedPrice': None, 'extendedPriceTime': None, 'high': None, 'highSource': '15 minute delayed price', 'highTime': 1695325155567, 'iexAskPrice': 89.31, 'iexAskSize': 613, 'iexBidPrice': 89.28, 'iexBidSize': 110, 'iexClose': 89.285, 'iexCloseTime': 1695326048701, 'iexLastUpdated': 1695326048701, 'iexMarketPercent': 0.09120394602849555, 'iexOpen': 88.995, 'iexOpenTime': 1695303001113, 'iexRealtimePrice': 89.285, 'iexRealtimeSize': 10, 'iexVolume': 131207, 'lastTradeTime': 1695326048701, 'latestPrice': 89.285, 'latestSource': 'IEX real time price', 'latestTime': '3:54:08 PM', 'latestUpdate': 1695326048701, 'latestVolume': None, 'low': None, 'lowSource': 'IEX real time price', 'lowTime': 1695303006666, 'marketCap': 22382108442, 'oddLotDelayedPrice': None, 'oddLotDelayedPriceTime': None, 'open': None, 'openTime': None, 'openSource': 'official', 'peRatio': 89.63, 'previousClose': 89.37, 'previousVolume': 1728506, 'primaryExchange': 'NEW YORK STOCK EXCHANGE INC.', 'symbol': 'CAH', 'volume': None, 'week52High': 95.45, 'week52Low': 63.34, 'ytdChange': 0.17563210599902845, 'isUSMarketOpen': True}}, 'CFN': {'stats': None, 'quote': {'symbol': 'CFN', 'companyName': '', 'primaryExchange': '', 'calculationPrice': 'previousclose', 'open': None, 'openTime': None, 'openSource': 'official', 'close': None, 'closeTime': None, 'closeSource': 'official', 'high': None, 'highTime': None, 'highSource': None, 'low': None, 'lowTime': None, 'lowSource': None, 'latestPrice': 59.91, 'latestSource': 'Previous close', 'latestTime': 'July 30, 2015', 'latestUpdate': 1438228800000, 'latestVolume': None, 'iexRealtimePrice': None, 'iexRealtimeSize': None, 'iexLastUpdated': None, 'delayedPrice': None, 'delayedPriceTime': None, 'oddLotDelayedPrice': None, 'oddLotDelayedPriceTime': None, 'extendedPrice': None, 'extendedChange': None, 'extendedChangePercent': None, 'extendedPriceTime': None, 'previousClose': 59.91, 'previousVolume': None, 'change': 0, 'changePercent': 0, 'volume': None, 'iexMarketPercent': None, 'iexVolume': None, 'avgTotalVolume': None, 'iexBidPrice': None, 'iexBidSize': None, 'iexAskPrice': None, 'iexAskSize': None, 'iexOpen': None, 'iexOpenTime': None, 'iexClose': None, 'iexCloseTime': None, 'marketCap': 0, 'peRatio': None, 'week52High': 0, 'week52Low': 0, 'ytdChange': 0, 'lastTradeTime': None, 'isUSMarketOpen': False}}, 'KMX': {'stats': {'companyName': 'Carmax Inc', 'marketcap': 12880644000, 'week52high': 87.5, 'week52low': 52.1, 'week52highSplitAdjustOnly': 87.5, 'week52lowSplitAdjustOnly': 52.1, 'week52change': 0.004441154700222105, 'sharesOutstanding': 158200000, 'float': 0, 'avg10Volume': 1220615, 'avg30Volume': 1221204, 'day200MovingAvg': 75.29, 'day50MovingAvg': 82.27, 'employees': 14813, 'ttmEPS': 2.9, 'ttmDividendRate': 0, 'dividendYield': 0, 'nextDividendDate': '', 'exDividendDate': '', 'nextEarningsDate': '2023-09-28', 'peRatio': 27.953089768769196, 'beta': 1.543166834857233, 'maxChangePercent': 5.0727204922617934, 'year5ChangePercent': 0.03785850860420648, 'year2ChangePercent': -0.41089646190579554, 'year1ChangePercent': -0.009368536318286824, 'ytdChangePercent': 0.33716538019379216, 'month6ChangePercent': 0.4344608879492602, 'month3ChangePercent': 0.03600967044153203, 'month1ChangePercent': -0.012971269244756887, 'day30ChangePercent': 0.006427688504326179, 'day5ChangePercent': 0.010926247827166558}, 'quote': {'avgTotalVolume': 1221204, 'calculationPrice': 'tops', 'change': -2.26, 'changePercent': -0.02776, 'close': None, 'closeSource': 'official', 'closeTime': None, 'companyName': 'Carmax Inc', 'currency': 'USD', 'delayedPrice': None, 'delayedPriceTime': None, 'extendedChange': None, 'extendedChangePercent': None, 'extendedPrice': None, 'extendedPriceTime': None, 'high': None, 'highSource': '15 minute delayed price', 'highTime': 1695325156769, 'iexAskPrice': 79.2, 'iexAskSize': 200, 'iexBidPrice': 79.11, 'iexBidSize': 100, 'iexClose': 79.16, 'iexCloseTime': 1695326055801, 'iexLastUpdated': 1695326055801, 'iexMarketPercent': 0.0658806428742353, 'iexOpen': 80.77, 'iexOpenTime': 1695303005600, 'iexRealtimePrice': 79.16, 'iexRealtimeSize': 100, 'iexVolume': 74059, 'lastTradeTime': 1695326055801, 'latestPrice': 79.16, 'latestSource': 'IEX real time price', 'latestTime': '3:54:15 PM', 'latestUpdate': 1695326055801, 'latestVolume': None, 'low': None, 'lowSource': 'IEX real time price', 'lowTime': 1695326016133, 'marketCap': 12523112000, 'oddLotDelayedPrice': None, 'oddLotDelayedPriceTime': None, 'open': None, 'openTime': None, 'openSource': 'official', 'peRatio': 27.3, 'previousClose': 81.42, 'previousVolume': 928450, 'primaryExchange': 'NEW YORK STOCK EXCHANGE INC.', 'symbol': 'KMX', 'volume': None, 'week52High': 87.5, 'week52Low': 52.1, 'ytdChange': 0.30940538019379216, 'isUSMarketOpen': True}}, 'CCL': {'stats': {'companyName': 'Carnival Corp.', 'marketcap': 16397240161, 'week52high': 19.55, 'week52low': 6.11, 'week52highSplitAdjustOnly': 19.55, 'week52lowSplitAdjustOnly': 6.11, 'week52change': 0.5087538619979401, 'sharesOutstanding': 1119265540, 'float': 0, 'avg10Volume': 21983700, 'avg30Volume': 20915778, 'day200MovingAvg': 13.49, 'day50MovingAvg': 16.01, 'employees': 2321, 'ttmEPS': -2.79, 'ttmDividendRate': 0, 'dividendYield': 0, 'nextDividendDate': '', 'exDividendDate': '', 'nextEarningsDate': '2023-09-29', 'peRatio': -4.728154602364476, 'beta': 2.122125381134155, 'maxChangePercent': -0.5799921445629768, 'year5ChangePercent': -0.7674924256491564, 'year2ChangePercent': -0.3696213425129087, 'year1ChangePercent': 0.4059500959692899, 'ytdChangePercent': 0.8176178660049627, 'month6ChangePercent': 0.7015098722415798, 'month3ChangePercent': -0.07861635220125784, 'month1ChangePercent': -0.06029506093649773, 'day30ChangePercent': -0.06747294716740937, 'day5ChangePercent': -0.02463382157123828}, 'quote': {'avgTotalVolume': 20915778, 'calculationPrice': 'tops', 'change': -0.14, 'changePercent': -0.00956, 'close': None, 'closeSource': 'official', 'closeTime': None, 'companyName': 'Carnival Corp. (Paired Stock)', 'currency': 'USD', 'delayedPrice': None, 'delayedPriceTime': None, 'extendedChange': None, 'extendedChangePercent': None, 'extendedPrice': None, 'extendedPriceTime': None, 'high': None, 'highSource': '15 minute delayed price', 'highTime': 1695325154473, 'iexAskPrice': 14.51, 'iexAskSize': 1500, 'iexBidPrice': 14.5, 'iexBidSize': 15000, 'iexClose': 14.51, 'iexCloseTime': 1695326050046, 'iexLastUpdated': 1695326050046, 'iexMarketPercent': 0.0243145628024341, 'iexOpen': 14.46, 'iexOpenTime': 1695303000422, 'iexRealtimePrice': 14.51, 'iexRealtimeSize': 4, 'iexVolume': 475599, 'lastTradeTime': 1695326050046, 'latestPrice': 14.51, 'latestSource': 'IEX real time price', 'latestTime': '3:54:10 PM', 'latestUpdate': 1695326050046, 'latestVolume': None, 'low': None, 'lowSource': '15 minute delayed price', 'lowTime': 1695303123353, 'marketCap': 16240542985, 'oddLotDelayedPrice': None, 'oddLotDelayedPriceTime': None, 'open': None, 'openTime': None, 'openSource': 'official', 'peRatio': -5.2, 'previousClose': 14.65, 'previousVolume': 22637095, 'primaryExchange': 'NEW YORK STOCK EXCHANGE INC.', 'symbol': 'CCL', 'volume': None, 'week52High': 19.55, 'week52Low': 6.11, 'ytdChange': 0.8080578660049627, 'isUSMarketOpen': True}}, 'CAT': {'stats': {'companyName': 'Caterpillar Inc.', 'marketcap': 142118961000, 'week52high': 293.88, 'week52low': 157.14, 'week52highSplitAdjustOnly': 293.88, 'week52lowSplitAdjustOnly': 160.6, 'week52change': 0.6559739523339125, 'sharesOutstanding': 510100000, 'float': 0, 'avg10Volume': 2480968, 'avg30Volume': 2014396, 'day200MovingAvg': 241.98, 'day50MovingAvg': 279.2, 'employees': 109100, 'ttmEPS': 16.05, 'ttmDividendRate': 4.8637302636020845, 'dividendYield': 0.017457127395291212, 'nextDividendDate': '', 'exDividendDate': '2023-07-19', 'nextEarningsDate': '2023-10-26', 'peRatio': 16.999875717703347, 'beta': 0.9365932954785771, 'maxChangePercent': 5.670720991426061, 'year5ChangePercent': 1.0197238601583534, 'year2ChangePercent': 0.525518389338181, 'year1ChangePercent': 0.5997790477809173, 'ytdChangePercent': 0.18071494682311795, 'month6ChangePercent': 0.277788377221144, 'month3ChangePercent': 0.16106028587062027, 'month1ChangePercent': 0.0175675675675675, 'day30ChangePercent': 0.021484876260311703, 'day5ChangePercent': 0.009749202667439729}, 'quote': {'avgTotalVolume': 2014396, 'calculationPrice': 'tops', 'change': -6.35, 'changePercent': -0.02279, 'close': None, 'closeSource': 'official', 'closeTime': None, 'companyName': 'Caterpillar Inc.', 'currency': 'USD', 'delayedPrice': None, 'delayedPriceTime': None, 'extendedChange': None, 'extendedChangePercent': None, 'extendedPrice': None, 'extendedPriceTime': None, 'high': None, 'highSource': '15 minute delayed price', 'highTime': 1695325153640, 'iexAskPrice': 272.35, 'iexAskSize': 133, 'iexBidPrice': 272.16, 'iexBidSize': 141, 'iexClose': 272.26, 'iexCloseTime': 1695326050938, 'iexLastUpdated': 1695326050938, 'iexMarketPercent': 0.027293621582499834, 'iexOpen': 275.78, 'iexOpenTime': 1695303001847, 'iexRealtimePrice': 272.26, 'iexRealtimeSize': 17, 'iexVolume': 47667, 'lastTradeTime': 1695326050938, 'latestPrice': 272.26, 'latestSource': 'IEX real time price', 'latestTime': '3:54:10 PM', 'latestUpdate': 1695326050938, 'latestVolume': None, 'low': None, 'lowSource': '15 minute delayed price', 'lowTime': 1695303765508, 'marketCap': 138879826000, 'oddLotDelayedPrice': None, 'oddLotDelayedPriceTime': None, 'open': None, 'openTime': None, 'openSource': 'official', 'peRatio': 16.96, 'previousClose': 278.61, 'previousVolume': 2382011, 'primaryExchange': 'NEW YORK STOCK EXCHANGE INC.', 'symbol': 'CAT', 'volume': None, 'week52High': 293.88, 'week52Low': 157.14, 'ytdChange': 0.15792494682311795, 'isUSMarketOpen': True}}, 'CBS': {'stats': {'companyName': 'ViacomCBS, Inc.', 'marketcap': 15277660560.000002, 'week52high': 53.71, 'week52low': 35.02, 'week52highSplitAdjustOnly': None, 'week52lowSplitAdjustOnly': None, 'week52change': -20.5418, 'sharesOutstanding': 351925000, 'float': 327916676.5, 'avg10Volume': 7714918.9, 'avg30Volume': 6349318.3, 'day200MovingAvg': 45.88, 'day50MovingAvg': 38.26, 'employees': 16730, 'ttmEPS': 7.7729, 'ttmDividendRate': 0.72, 'dividendYield': None, 'peRatio': None, 'beta': None, 'maxChangePercent': None, 'year5ChangePercent': None, 'year2ChangePercent': None, 'year1ChangePercent': None, 'ytdChangePercent': None, 'month6ChangePercent': None, 'month3ChangePercent': None, 'month1ChangePercent': None, 'day30ChangePercent': None, 'day5ChangePercent': None}, 'quote': {'avgTotalVolume': 6349318, 'calculationPrice': 'previousclose', 'change': 0, 'changePercent': 0, 'close': None, 'closeSource': 'official', 'closeTime': None, 'companyName': 'ViacomCBS Inc. Class B', 'currency': 'USD', 'delayedPrice': None, 'delayedPriceTime': None, 'extendedChange': None, 'extendedChangePercent': None, 'extendedPrice': None, 'extendedPriceTime': None, 'high': None, 'highSource': 'Close', 'highTime': 1575493200000, 'iexAskPrice': None, 'iexAskSize': None, 'iexBidPrice': None, 'iexBidSize': None, 'iexClose': None, 'iexCloseTime': None, 'iexLastUpdated': None, 'iexMarketPercent': None, 'iexOpen': None, 'iexOpenTime': None, 'iexRealtimePrice': None, 'iexRealtimeSize': None, 'iexVolume': None, 'lastTradeTime': 1575493200497, 'latestPrice': 40.77, 'latestSource': 'Previous close', 'latestTime': 'December 4, 2019', 'latestUpdate': 1575435600000, 'latestVolume': None, 'low': None, 'lowSource': 'Close', 'lowTime': 1575493200000, 'marketCap': 15277660560, 'oddLotDelayedPrice': None, 'oddLotDelayedPriceTime': None, 'open': None, 'openTime': None, 'openSource': 'official', 'peRatio': 5.25, 'previousClose': 40.77, 'previousVolume': 12190699, 'primaryExchange': 'NASDAQ', 'symbol': 'CBS', 'volume': None, 'week52High': 53.71, 'week52Low': 35.02, 'ytdChange': 0, 'isUSMarketOpen': False}}, 'CELG': {'stats': {'companyName': 'Celgene Corp.', 'marketcap': 0, 'week52high': 110.7, 'week52low': 58.59, 'week52highSplitAdjustOnly': None, 'week52lowSplitAdjustOnly': None, 'week52change': 60.2606, 'sharesOutstanding': 0, 'float': 0, 'avg10Volume': 27779208.3, 'avg30Volume': 11914743.6, 'day200MovingAvg': 95.6, 'day50MovingAvg': 103.23, 'employees': 0, 'ttmEPS': 0, 'ttmDividendRate': 0, 'dividendYield': None, 'peRatio': None, 'beta': None, 'maxChangePercent': None, 'year5ChangePercent': None, 'year2ChangePercent': None, 'year1ChangePercent': None, 'ytdChangePercent': None, 'month6ChangePercent': None, 'month3ChangePercent': None, 'month1ChangePercent': None, 'day30ChangePercent': None, 'day5ChangePercent': None}, 'quote': {'avgTotalVolume': 11914744, 'calculationPrice': 'close', 'change': None, 'changePercent': None, 'close': None, 'closeSource': 'official', 'closeTime': None, 'companyName': 'Celgene Corporation', 'currency': 'USD', 'delayedPrice': None, 'delayedPriceTime': None, 'extendedChange': None, 'extendedChangePercent': None, 'extendedPrice': None, 'extendedPriceTime': None, 'high': None, 'highSource': 'Previous close', 'highTime': 1574283600468, 'iexAskPrice': None, 'iexAskSize': None, 'iexBidPrice': None, 'iexBidSize': None, 'iexClose': None, 'iexCloseTime': None, 'iexLastUpdated': None, 'iexMarketPercent': None, 'iexOpen': None, 'iexOpenTime': None, 'iexRealtimePrice': None, 'iexRealtimeSize': None, 'iexVolume': None, 'lastTradeTime': 1574283600468, 'latestPrice': 108.24, 'latestSource': 'Previous close', 'latestTime': 'November 20, 2019', 'latestUpdate': 1574283600468, 'latestVolume': None, 'low': None, 'lowSource': 'Previous close', 'lowTime': 1574283600468, 'marketCap': 0, 'oddLotDelayedPrice': None, 'oddLotDelayedPriceTime': None, 'open': None, 'openTime': None, 'openSource': 'official', 'peRatio': None, 'previousClose': None, 'previousVolume': None, 'primaryExchange': 'NASDAQ', 'symbol': 'CELG', 'volume': None, 'week52High': 110.7, 'week52Low': 58.59, 'ytdChange': 0, 'isUSMarketOpen': False}}, 'CNP': {'stats': {'companyName': 'Centerpoint Energy Inc.', 'marketcap': 18190725445, 'week52high': 32.64, 'week52low': 24.39, 'week52highSplitAdjustOnly': 33.5, 'week52lowSplitAdjustOnly': 25.03, 'week52change': -0.0741633096252321, 'sharesOutstanding': 631184089, 'float': 0, 'avg10Volume': 5171030, 'avg30Volume': 4077964, 'day200MovingAvg': 28.97, 'day50MovingAvg': 28.36, 'employees': 6204, 'ttmEPS': 1.15, 'ttmDividendRate': 0.9301507851536004, 'dividendYield': 0.032274489422401124, 'nextDividendDate': '', 'exDividendDate': '2023-08-16', 'nextEarningsDate': '2023-10-31', 'peRatio': 24.918801979424657, 'beta': 0.6329738230843536, 'maxChangePercent': 2.200444197667962, 'year5ChangePercent': 0.19970361243162693, 'year2ChangePercent': 0.2257414204480208, 'year1ChangePercent': -0.07532180854477089, 'ytdChangePercent': -0.019751230412881293, 'month6ChangePercent': 0.0019503613904929828, 'month3ChangePercent': -0.002229577211228184, 'month1ChangePercent': 0.022348350478893275, 'day30ChangePercent': 0.019094766619519143, 'day5ChangePercent': 0.006284916201117374}, 'quote': {'avgTotalVolume': 4077964, 'calculationPrice': 'tops', 'change': -0.335, 'changePercent': -0.01162, 'close': None, 'closeSource': 'official', 'closeTime': None, 'companyName': 'Centerpoint Energy Inc.', 'currency': 'USD', 'delayedPrice': None, 'delayedPriceTime': None, 'extendedChange': None, 'extendedChangePercent': None, 'extendedPrice': None, 'extendedPriceTime': None, 'high': None, 'highSource': '15 minute delayed price', 'highTime': 1695325152229, 'iexAskPrice': 28.49, 'iexAskSize': 912, 'iexBidPrice': 28.48, 'iexBidSize': 400, 'iexClose': 28.485, 'iexCloseTime': 1695326050153, 'iexLastUpdated': 1695326050153, 'iexMarketPercent': 0.029553614779905927, 'iexOpen': 28.78, 'iexOpenTime': 1695303001403, 'iexRealtimePrice': 28.485, 'iexRealtimeSize': 100, 'iexVolume': 101102, 'lastTradeTime': 1695326050153, 'latestPrice': 28.485, 'latestSource': 'IEX real time price', 'latestTime': '3:54:10 PM', 'latestUpdate': 1695326050153, 'latestVolume': None, 'low': None, 'lowSource': '15 minute delayed price', 'lowTime': 1695324736522, 'marketCap': 17979278775, 'oddLotDelayedPrice': None, 'oddLotDelayedPriceTime': None, 'open': None, 'openTime': None, 'openSource': 'official', 'peRatio': 24.77, 'previousClose': 28.82, 'previousVolume': 3662130, 'primaryExchange': 'NEW YORK STOCK EXCHANGE INC.', 'symbol': 'CNP', 'volume': None, 'week52High': 32.64, 'week52Low': 24.39, 'ytdChange': -0.03137123041288129, 'isUSMarketOpen': True}}, 'CTL': {'stats': {'companyName': 'CenturyLink, Inc.', 'marketcap': 12072940000, 'week52high': 15.3, 'week52low': 8.16, 'week52highSplitAdjustOnly': None, 'week52lowSplitAdjustOnly': None, 'week52change': -14.0625, 'sharesOutstanding': 1097540000, 'float': 1089056016, 'avg10Volume': 10034664.2, 'avg30Volume': 11704794.77, 'day200MovingAvg': 11.25, 'day50MovingAvg': 10.47, 'employees': 42500, 'ttmEPS': 1.1306, 'ttmDividendRate': 1, 'dividendYield': None, 'peRatio': None, 'beta': None, 'maxChangePercent': None, 'year5ChangePercent': None, 'year2ChangePercent': None, 'year1ChangePercent': None, 'ytdChangePercent': None, 'month6ChangePercent': None, 'month3ChangePercent': None, 'month1ChangePercent': None, 'day30ChangePercent': None, 'day5ChangePercent': None}, 'quote': {'avgTotalVolume': 11704795, 'calculationPrice': 'previousclose', 'change': 0, 'changePercent': 0, 'close': None, 'closeSource': 'official', 'closeTime': None, 'companyName': 'CenturyLink, Inc.', 'currency': 'USD', 'delayedPrice': None, 'delayedPriceTime': None, 'extendedChange': None, 'extendedChangePercent': None, 'extendedPrice': None, 'extendedPriceTime': None, 'high': None, 'highSource': 'Close', 'highTime': 1600372802165, 'iexAskPrice': None, 'iexAskSize': None, 'iexBidPrice': None, 'iexBidSize': None, 'iexClose': 11, 'iexCloseTime': 1600372791576, 'iexLastUpdated': None, 'iexMarketPercent': None, 'iexOpen': None, 'iexOpenTime': None, 'iexRealtimePrice': None, 'iexRealtimeSize': None, 'iexVolume': None, 'lastTradeTime': 1600372802142, 'latestPrice': 11, 'latestSource': 'Previous close', 'latestTime': 'September 17, 2020', 'latestUpdate': 1600315200000, 'latestVolume': None, 'low': None, 'lowSource': 'Close', 'lowTime': 1600372800000, 'marketCap': 12072940000, 'oddLotDelayedPrice': None, 'oddLotDelayedPriceTime': None, 'open': None, 'openTime': None, 'openSource': 'official', 'peRatio': 9.73, 'previousClose': 11, 'previousVolume': 251066, 'primaryExchange': 'New York Stock Exchange', 'symbol': 'CTL', 'volume': None, 'week52High': 15.3, 'week52Low': 8.16, 'ytdChange': 0, 'isUSMarketOpen': False}}, 'CERN': {'stats': {'companyName': 'Cerner Corp.', 'marketcap': 0, 'week52high': 0, 'week52low': 0, 'week52highSplitAdjustOnly': 0, 'week52lowSplitAdjustOnly': 0, 'week52change': 0, 'sharesOutstanding': 294098094, 'float': 0, 'avg10Volume': 0, 'avg30Volume': 0, 'day200MovingAvg': 0, 'day50MovingAvg': 0, 'employees': 27400, 'ttmEPS': 1.98, 'ttmDividendRate': 0.9800000190734864, 'dividendYield': 0, 'nextDividendDate': '', 'exDividendDate': '2022-03-25', 'nextEarningsDate': '', 'peRatio': 0, 'beta': 0, 'maxChangePercent': 0, 'year5ChangePercent': 0, 'year2ChangePercent': 0, 'year1ChangePercent': 0, 'ytdChangePercent': 0, 'month6ChangePercent': 0, 'month3ChangePercent': 0, 'month1ChangePercent': 0, 'day30ChangePercent': 0, 'day5ChangePercent': 0}, 'quote': {'avgTotalVolume': 0, 'calculationPrice': 'close', 'change': -0.05, 'changePercent': -0.00053, 'close': None, 'closeSource': 'official', 'closeTime': None, 'companyName': 'Cerner Corp.', 'currency': 'USD', 'delayedPrice': None, 'delayedPriceTime': None, 'extendedChange': None, 'extendedChangePercent': None, 'extendedPrice': None, 'extendedPriceTime': None, 'high': None, 'highSource': 'Close', 'highTime': 1654632001181, 'iexAskPrice': None, 'iexAskSize': None, 'iexBidPrice': None, 'iexBidSize': None, 'iexClose': 94.95, 'iexCloseTime': 1654631999703, 'iexLastUpdated': None, 'iexMarketPercent': None, 'iexOpen': None, 'iexOpenTime': None, 'iexRealtimePrice': None, 'iexRealtimeSize': None, 'iexVolume': None, 'lastTradeTime': 1654632024259, 'latestPrice': 94.92, 'latestSource': 'Close', 'latestTime': 'June 7, 2022', 'latestUpdate': 1654632001181, 'latestVolume': None, 'low': None, 'lowSource': 'Close', 'lowTime': 1654632001181, 'marketCap': 27915791082, 'oddLotDelayedPrice': None, 'oddLotDelayedPriceTime': None, 'open': None, 'openTime': None, 'openSource': 'official', 'peRatio': 47.94, 'previousClose': 94.97, 'previousVolume': 6059358, 'primaryExchange': 'NASDAQ', 'symbol': 'CERN', 'volume': None, 'week52High': 94.92, 'week52Low': 0, 'ytdChange': -0.00053, 'isUSMarketOpen': False}}, 'CF': {'stats': {'companyName': 'CF Industries Holdings Inc', 'marketcap': 16140068413, 'week52high': 110.27, 'week52low': 59.78, 'week52highSplitAdjustOnly': 112.44, 'week52lowSplitAdjustOnly': 60.08, 'week52change': -0.16128158980503426, 'sharesOutstanding': 192947620, 'float': 0, 'avg10Volume': 2405925, 'avg30Volume': 2211036, 'day200MovingAvg': 73.48, 'day50MovingAvg': 79.4, 'employees': 2147, 'ttmEPS': 12.08, 'ttmDividendRate': 1.5874305447570645, 'dividendYield': 0.018977053732899752, 'nextDividendDate': '', 'exDividendDate': '2023-08-14', 'nextEarningsDate': '2023-11-01', 'peRatio': 6.767324282180295, 'beta': 0.7415212261191242, 'maxChangePercent': 21.11792702273929, 'year5ChangePercent': 0.7799538680216871, 'year2ChangePercent': 0.8041665138930529, 'year1ChangePercent': -0.1822677723566427, 'ytdChangePercent': -0.00274795691489671, 'month6ChangePercent': 0.1654199761203845, 'month3ChangePercent': 0.17171960532729713, 'month1ChangePercent': 0.05819101834282114, 'day30ChangePercent': 0.057121192973587975, 'day5ChangePercent': 0.034376159267961004}, 'quote': {'avgTotalVolume': 2211036, 'calculationPrice': 'tops', 'change': 0, 'changePercent': 0, 'close': None, 'closeSource': 'official', 'closeTime': None, 'companyName': 'CF Industries Holdings Inc', 'currency': 'USD', 'delayedPrice': None, 'delayedPriceTime': None, 'extendedChange': None, 'extendedChangePercent': None, 'extendedPrice': None, 'extendedPriceTime': None, 'high': None, 'highSource': '15 minute delayed price', 'highTime': 1695325153231, 'iexAskPrice': 100.66, 'iexAskSize': 162, 'iexBidPrice': 83.62, 'iexBidSize': 200, 'iexClose': 83.65, 'iexCloseTime': 1695326053582, 'iexLastUpdated': 1695326053582, 'iexMarketPercent': 0.060284664884641376, 'iexOpen': 83.615, 'iexOpenTime': 1695303000834, 'iexRealtimePrice': 83.65, 'iexRealtimeSize': 100, 'iexVolume': 101533, 'lastTradeTime': 1695326053582, 'latestPrice': 83.65, 'latestSource': 'IEX real time price', 'latestTime': '3:54:13 PM', 'latestUpdate': 1695326053582, 'latestVolume': None, 'low': None, 'lowSource': '15 minute delayed price', 'lowTime': 1695303000903, 'marketCap': 16140068413, 'oddLotDelayedPrice': None, 'oddLotDelayedPriceTime': None, 'open': None, 'openTime': None, 'openSource': 'official', 'peRatio': 6.92, 'previousClose': 83.65, 'previousVolume': 3978769, 'primaryExchange': 'NEW YORK STOCK EXCHANGE INC.', 'symbol': 'CF', 'volume': None, 'week52High': 110.27, 'week52Low': 59.78, 'ytdChange': -0.00274795691489671, 'isUSMarketOpen': True}}, 'SCHW': {'stats': {'companyName': 'Charles Schwab Corp.', 'marketcap': 100318344109, 'week52high': 85.58, 'week52low': 44.59, 'week52highSplitAdjustOnly': 86.63, 'week52lowSplitAdjustOnly': 45, 'week52change': -0.20878476488327924, 'sharesOutstanding': 1770219589, 'float': 0, 'avg10Volume': 11386026, 'avg30Volume': 9126590, 'day200MovingAvg': 56.63, 'day50MovingAvg': 60.28, 'employees': 35300, 'ttmEPS': 3.45, 'ttmDividendRate': 0.9634943532763744, 'dividendYield': 0.017001841420087777, 'nextDividendDate': '', 'exDividendDate': '2023-08-10', 'nextEarningsDate': '2023-10-16', 'peRatio': 15.647846530748714, 'beta': 0.939654074651694, 'maxChangePercent': 2.7805455673486814, 'year5ChangePercent': 0.17142443723256928, 'year2ChangePercent': -0.15260446650866166, 'year1ChangePercent': -0.2135316412305377, 'ytdChangePercent': -0.3109963379583023, 'month6ChangePercent': 0.019220773615005404, 'month3ChangePercent': 0.054845644829543794, 'month1ChangePercent': -0.04788306451612901, 'day30ChangePercent': -0.04595959595959587, 'day5ChangePercent': -0.03507577047505528}, 'quote': {'avgTotalVolume': 9126590, 'calculationPrice': 'tops', 'change': -0.535, 'changePercent': -0.00944, 'close': None, 'closeSource': 'official', 'closeTime': None, 'companyName': 'Charles Schwab Corp.', 'currency': 'USD', 'delayedPrice': None, 'delayedPriceTime': None, 'extendedChange': None, 'extendedChangePercent': None, 'extendedPrice': None, 'extendedPriceTime': None, 'high': None, 'highSource': '15 minute delayed price', 'highTime': 1695325155444, 'iexAskPrice': 56.14, 'iexAskSize': 300, 'iexBidPrice': 56.12, 'iexBidSize': 200, 'iexClose': 56.135, 'iexCloseTime': 1695326055108, 'iexLastUpdated': 1695326055108, 'iexMarketPercent': 0.04558504000773396, 'iexOpen': 56.21, 'iexOpenTime': 1695303001447, 'iexRealtimePrice': 56.135, 'iexRealtimeSize': 160, 'iexVolume': 296593, 'lastTradeTime': 1695326055108, 'latestPrice': 56.135, 'latestSource': 'IEX real time price', 'latestTime': '3:54:15 PM', 'latestUpdate': 1695326055108, 'latestVolume': None, 'low': None, 'lowSource': '15 minute delayed price', 'lowTime': 1695315893555, 'marketCap': 99371276629, 'oddLotDelayedPrice': None, 'oddLotDelayedPriceTime': None, 'open': None, 'openTime': None, 'openSource': 'official', 'peRatio': 16.27, 'previousClose': 56.67, 'previousVolume': 8877239, 'primaryExchange': 'NEW YORK STOCK EXCHANGE INC.', 'symbol': 'SCHW', 'volume': None, 'week52High': 85.58, 'week52Low': 44.59, 'ytdChange': -0.3204363379583023, 'isUSMarketOpen': True}}, 'CHK': {'stats': {'companyName': 'Chesapeake Energy Corp.', 'marketcap': 11092791812, 'week52high': 102.21, 'week52low': 68.18, 'week52highSplitAdjustOnly': 107.31, 'week52lowSplitAdjustOnly': 69.68, 'week52change': -0.1333033438296597, 'sharesOutstanding': 132356423, 'float': 0, 'avg10Volume': 1400024, 'avg30Volume': 1429360, 'day200MovingAvg': 80.33, 'day50MovingAvg': 86.08, 'employees': 1300, 'ttmEPS': -991.35, 'ttmDividendRate': 6.080771315360254, 'dividendYield': 0.07255424550006269, 'nextDividendDate': '', 'exDividendDate': '2023-08-16', 'nextEarningsDate': '2023-10-31', 'peRatio': -1.145239707994012, 'beta': 1.0218557288328953, 'maxChangePercent': 1.0412437923635416, 'year5ChangePercent': 1.0412437923635416, 'year2ChangePercent': 0.5173322760346228, 'year1ChangePercent': -0.13778026513694075, 'ytdChangePercent': -0.086383174014518, 'month6ChangePercent': 0.16157717260390925, 'month3ChangePercent': 0.0417922655532339, 'month1ChangePercent': -0.0246712440358432, 'day30ChangePercent': -0.0342244756856418, 'day5ChangePercent': -0.03942693409742115}, 'quote': {'avgTotalVolume': 1429360, 'calculationPrice': 'tops', 'change': -0.975, 'changePercent': -0.01163, 'close': None, 'closeSource': 'official', 'closeTime': None, 'companyName': 'Chesapeake Energy Corp. - New', 'currency': 'USD', 'delayedPrice': None, 'delayedPriceTime': None, 'extendedChange': None, 'extendedChangePercent': None, 'extendedPrice': None, 'extendedPriceTime': None, 'high': None, 'highSource': None, 'highTime': None, 'iexAskPrice': 98.09, 'iexAskSize': 100, 'iexBidPrice': 66.28, 'iexBidSize': 110, 'iexClose': 82.835, 'iexCloseTime': 1695326050647, 'iexLastUpdated': 1695326050647, 'iexMarketPercent': 0.15232188235614508, 'iexOpen': 84.025, 'iexOpenTime': 1695303131891, 'iexRealtimePrice': 82.835, 'iexRealtimeSize': 100, 'iexVolume': 178984, 'lastTradeTime': 1695326050647, 'latestPrice': 82.835, 'latestSource': 'IEX real time price', 'latestTime': '3:54:10 PM', 'latestUpdate': 1695326050647, 'latestVolume': None, 'low': None, 'lowSource': None, 'lowTime': None, 'marketCap': 10963744299, 'oddLotDelayedPrice': None, 'oddLotDelayedPriceTime': None, 'open': None, 'openTime': None, 'openSource': 'official', 'peRatio': -0.08, 'previousClose': 83.81, 'previousVolume': 776695, 'primaryExchange': 'NASDAQ', 'symbol': 'CHK', 'volume': None, 'week52High': 102.21, 'week52Low': 68.18, 'ytdChange': -0.098013174014518, 'isUSMarketOpen': True}}, 'CVX': {'stats': {'companyName': 'Chevron Corp.', 'marketcap': 311251105388, 'week52high': 183.01, 'week52low': 135.52, 'week52highSplitAdjustOnly': 189.68, 'week52lowSplitAdjustOnly': 140.46, 'week52change': 0.1145635456346541, 'sharesOutstanding': 1867245218, 'float': 0, 'avg10Volume': 8447124, 'avg30Volume': 7190878, 'day200MovingAvg': 158.41, 'day50MovingAvg': 162.08, 'employees': 43846, 'ttmEPS': 15.81, 'ttmDividendRate': 5.8673869132964, 'dividendYield': 0.03519939356467935, 'nextDividendDate': '', 'exDividendDate': '2023-08-17', 'nextEarningsDate': '2023-10-27', 'peRatio': 10.317260189221027, 'beta': 0.760526938366673, 'maxChangePercent': 3.0641030642298466, 'year5ChangePercent': 0.7380107081228462, 'year2ChangePercent': 0.8956607575819606, 'year1ChangePercent': 0.10550624214095096, 'ytdChangePercent': -0.04483636326129736, 'month6ChangePercent': 0.09936566686760262, 'month3ChangePercent': 0.0950806446844672, 'month1ChangePercent': 0.035985083903045334, 'day30ChangePercent': 0.039473684210526105, 'day5ChangePercent': 0.002948255114320064}, 'quote': {'avgTotalVolume': 7190878, 'calculationPrice': 'tops', 'change': -1.465, 'changePercent': -0.00879, 'close': None, 'closeSource': 'official', 'closeTime': None, 'companyName': 'Chevron Corp.', 'currency': 'USD', 'delayedPrice': None, 'delayedPriceTime': None, 'extendedChange': None, 'extendedChangePercent': None, 'extendedPrice': None, 'extendedPriceTime': None, 'high': None, 'highSource': '15 minute delayed price', 'highTime': 1695325156326, 'iexAskPrice': 188, 'iexAskSize': 2063, 'iexBidPrice': 165.2, 'iexBidSize': 108, 'iexClose': 165.225, 'iexCloseTime': 1695326054360, 'iexLastUpdated': 1695326054360, 'iexMarketPercent': 0.043577585797102934, 'iexOpen': 167.12, 'iexOpenTime': 1695303009628, 'iexRealtimePrice': 165.225, 'iexRealtimeSize': 19, 'iexVolume': 238349, 'lastTradeTime': 1695326054360, 'latestPrice': 165.225, 'latestSource': 'IEX real time price', 'latestTime': '3:54:14 PM', 'latestUpdate': 1695326054360, 'latestVolume': None, 'low': None, 'lowSource': 'IEX real time price', 'lowTime': 1695325993429, 'marketCap': 308515591144, 'oddLotDelayedPrice': None, 'oddLotDelayedPriceTime': None, 'open': None, 'openTime': None, 'openSource': 'official', 'peRatio': 10.45, 'previousClose': 166.69, 'previousVolume': 5942108, 'primaryExchange': 'NEW YORK STOCK EXCHANGE INC.', 'symbol': 'CVX', 'volume': None, 'week52High': 183.01, 'week52Low': 135.52, 'ytdChange': -0.05362636326129736, 'isUSMarketOpen': True}}, 'CMG': {'stats': {'companyName': 'Chipotle Mexican Grill', 'marketcap': 52981459014, 'week52high': 2175.01, 'week52low': 1344.05, 'week52highSplitAdjustOnly': 2175.01, 'week52lowSplitAdjustOnly': 1344.05, 'week52change': 0.15324750192159886, 'sharesOutstanding': 27587613, 'float': 0, 'avg10Volume': 179935, 'avg30Volume': 198507, 'day200MovingAvg': 1917.42, 'day50MovingAvg': 1900.69, 'employees': 24825, 'ttmEPS': 40.01, 'ttmDividendRate': 0, 'dividendYield': 0, 'nextDividendDate': '', 'exDividendDate': '', 'nextEarningsDate': '2023-10-26', 'peRatio': 47.546896312605504, 'beta': 0.9287872989824272, 'maxChangePercent': 32.69263157894737, 'year5ChangePercent': 3.000166631951677, 'year2ChangePercent': 0.0191845377402049, 'year1ChangePercent': 0.12994004577466844, 'ytdChangePercent': 0.3841397055113911, 'month6ChangePercent': 0.1926743384485445, 'month3ChangePercent': -0.06308908186164508, 'month1ChangePercent': 0.0385463984425698, 'day30ChangePercent': 0.0291244447064245, 'day5ChangePercent': -0.006497537557422439}, 'quote': {'avgTotalVolume': 198507, 'calculationPrice': 'tops', 'change': -60.17, 'changePercent': -0.03133, 'close': None, 'closeSource': 'official', 'closeTime': None, 'companyName': 'Chipotle Mexican Grill', 'currency': 'USD', 'delayedPrice': None, 'delayedPriceTime': None, 'extendedChange': None, 'extendedChangePercent': None, 'extendedPrice': None, 'extendedPriceTime': None, 'high': None, 'highSource': '15 minute delayed price', 'highTime': 1695325151371, 'iexAskPrice': 2244.25, 'iexAskSize': 100, 'iexBidPrice': 1858.55, 'iexBidSize': 142, 'iexClose': 1860.31, 'iexCloseTime': 1695326051629, 'iexLastUpdated': 1695326051629, 'iexMarketPercent': 0.08327326124682953, 'iexOpen': 1907.76, 'iexOpenTime': 1695303019343, 'iexRealtimePrice': 1860.31, 'iexRealtimeSize': 2, 'iexVolume': 15595, 'lastTradeTime': 1695326051629, 'latestPrice': 1860.31, 'latestSource': 'IEX real time price', 'latestTime': '3:54:11 PM', 'latestUpdate': 1695326051629, 'latestVolume': None, 'low': None, 'lowSource': 'IEX real time price', 'lowTime': 1695325871426, 'marketCap': 51321512340, 'oddLotDelayedPrice': None, 'oddLotDelayedPriceTime': None, 'open': None, 'openTime': None, 'openSource': 'official', 'peRatio': 46.5, 'previousClose': 1920.48, 'previousVolume': 130263, 'primaryExchange': 'NEW YORK STOCK EXCHANGE INC.', 'symbol': 'CMG', 'volume': None, 'week52High': 2175.01, 'week52Low': 1344.05, 'ytdChange': 0.3528097055113911, 'isUSMarketOpen': True}}, 'CB': {'stats': {'companyName': 'Chubb Limited', 'marketcap': 87798707615, 'week52high': 228.36, 'week52low': 170.86, 'week52highSplitAdjustOnly': 231.37, 'week52lowSplitAdjustOnly': 173.78, 'week52change': 0.19150008277402808, 'sharesOutstanding': 410734972, 'float': 0, 'avg10Volume': 2082608, 'avg30Volume': 1651571, 'day200MovingAvg': 196.35, 'day50MovingAvg': 203.08, 'employees': 34000, 'ttmEPS': 13.89, 'ttmDividendRate': 3.358500531029996, 'dividendYield': 0.01571154814291727, 'nextDividendDate': '', 'exDividendDate': '2023-09-14', 'nextEarningsDate': '2023-10-24', 'peRatio': 15.114255055038733, 'beta': 0.5331434082313529, 'maxChangePercent': 4.037564925577143, 'year5ChangePercent': 0.6842423745800426, 'year2ChangePercent': 0.24239847536504452, 'year1ChangePercent': 0.15904183850408993, 'ytdChangePercent': -0.01821961365361846, 'month6ChangePercent': 0.1373043927956532, 'month3ChangePercent': 0.11056848055362156, 'month1ChangePercent': 0.07373434618790631, 'day30ChangePercent': 0.07292970644008778, 'day5ChangePercent': 0.022726185349983163}, 'quote': {'avgTotalVolume': 1651571, 'calculationPrice': 'tops', 'change': -0.8, 'changePercent': -0.00374, 'close': None, 'closeSource': 'official', 'closeTime': None, 'companyName': 'Chubb Limited', 'currency': 'USD', 'delayedPrice': None, 'delayedPriceTime': None, 'extendedChange': None, 'extendedChangePercent': None, 'extendedPrice': None, 'extendedPriceTime': None, 'high': None, 'highSource': '15 minute delayed price', 'highTime': 1695325155358, 'iexAskPrice': 255.33, 'iexAskSize': 100, 'iexBidPrice': 212.96, 'iexBidSize': 100, 'iexClose': 212.96, 'iexCloseTime': 1695326050941, 'iexLastUpdated': 1695326050941, 'iexMarketPercent': 0.08226482269860863, 'iexOpen': 213.47, 'iexOpenTime': 1695303034138, 'iexRealtimePrice': 212.96, 'iexRealtimeSize': 1, 'iexVolume': 78376, 'lastTradeTime': 1695326050941, 'latestPrice': 212.96, 'latestSource': 'IEX real time price', 'latestTime': '3:54:10 PM', 'latestUpdate': 1695326050941, 'latestVolume': None, 'low': None, 'lowSource': 'IEX real time price', 'lowTime': 1695325597661, 'marketCap': 87470119637, 'oddLotDelayedPrice': None, 'oddLotDelayedPriceTime': None, 'open': None, 'openTime': None, 'openSource': 'official', 'peRatio': 15.33, 'previousClose': 213.76, 'previousVolume': 2128237, 'primaryExchange': 'NEW YORK STOCK EXCHANGE INC.', 'symbol': 'CB', 'volume': None, 'week52High': 228.36, 'week52Low': 170.86, 'ytdChange': -0.02195961365361846, 'isUSMarketOpen': True}}, 'CI': {'stats': {'companyName': 'Cigna Group (The)', 'marketcap': 85043972190, 'week52high': 335.58, 'week52low': 238.31, 'week52highSplitAdjustOnly': 340.11, 'week52lowSplitAdjustOnly': 240.5, 'week52change': 0.025487100126771575, 'sharesOutstanding': 295980135, 'float': 0, 'avg10Volume': 966693, 'avg30Volume': 1065393, 'day200MovingAvg': 269.78, 'day50MovingAvg': 282.73, 'employees': 71300, 'ttmEPS': 22.02, 'ttmDividendRate': 4.778399976605838, 'dividendYield': 0.016630355259130054, 'nextDividendDate': '', 'exDividendDate': '2023-09-05', 'nextEarningsDate': '2023-11-02', 'peRatio': 12.78280056960018, 'beta': 0.4446173500435119, 'maxChangePercent': 5.920779439747572, 'year5ChangePercent': 0.4975001706857292, 'year2ChangePercent': 0.4689898106821677, 'year1ChangePercent': 0.01434514847325752, 'ytdChangePercent': -0.1211074908204628, 'month6ChangePercent': 0.06255239633614873, 'month3ChangePercent': 0.0687395991956834, 'month1ChangePercent': 0.04566186614960399, 'day30ChangePercent': 0.02614338936950733, 'day5ChangePercent': 0.007433119455839465}, 'quote': {'avgTotalVolume': 1065393, 'calculationPrice': 'tops', 'change': 3.62, 'changePercent': 0.0126, 'close': None, 'closeSource': 'official', 'closeTime': None, 'companyName': 'Cigna Group (The)', 'currency': 'USD', 'delayedPrice': None, 'delayedPriceTime': None, 'extendedChange': None, 'extendedChangePercent': None, 'extendedPrice': None, 'extendedPriceTime': None, 'high': None, 'highSource': '15 minute delayed price', 'highTime': 1695325147052, 'iexAskPrice': 291, 'iexAskSize': 100, 'iexBidPrice': 232.39, 'iexBidSize': 103, 'iexClose': 290.95, 'iexCloseTime': 1695326053965, 'iexLastUpdated': 1695326053965, 'iexMarketPercent': 0.05755069501680967, 'iexOpen': 286.68, 'iexOpenTime': 1695303005393, 'iexRealtimePrice': 290.95, 'iexRealtimeSize': 1, 'iexVolume': 72479, 'lastTradeTime': 1695326053965, 'latestPrice': 290.95, 'latestSource': 'IEX real time price', 'latestTime': '3:54:13 PM', 'latestUpdate': 1695326053965, 'latestVolume': None, 'low': None, 'lowSource': '15 minute delayed price', 'lowTime': 1695303330269, 'marketCap': 86115420278, 'oddLotDelayedPrice': None, 'oddLotDelayedPriceTime': None, 'open': None, 'openTime': None, 'openSource': 'official', 'peRatio': 13.21, 'previousClose': 287.33, 'previousVolume': 768039, 'primaryExchange': 'NEW YORK STOCK EXCHANGE INC.', 'symbol': 'CI', 'volume': None, 'week52High': 335.58, 'week52Low': 238.31, 'ytdChange': -0.10850749082046279, 'isUSMarketOpen': True}}}\n",
      "AET is not found\n",
      "GAS is not found\n",
      "ARG is not found\n",
      "ANR is not found\n",
      "ABC is not found\n",
      "APOL is not found\n",
      "BHI is not found\n",
      "BCR is not found\n",
      "BMC is not found\n",
      "BRCM is not found\n",
      "CA is not found\n",
      "CVC is not found\n",
      "CAM is not found\n",
      "CFN is not found\n",
      "CBG is not found\n"
     ]
    },
    {
     "name": "stderr",
     "output_type": "stream",
     "text": [
      "C:\\Users\\user\\AppData\\Local\\Temp\\ipykernel_34512\\4196259455.py:12: FutureWarning: The frame.append method is deprecated and will be removed from pandas in a future version. Use pandas.concat instead.\n",
      "  final_dataframe = final_dataframe.append(\n",
      "C:\\Users\\user\\AppData\\Local\\Temp\\ipykernel_34512\\4196259455.py:12: FutureWarning: The frame.append method is deprecated and will be removed from pandas in a future version. Use pandas.concat instead.\n",
      "  final_dataframe = final_dataframe.append(\n",
      "C:\\Users\\user\\AppData\\Local\\Temp\\ipykernel_34512\\4196259455.py:12: FutureWarning: The frame.append method is deprecated and will be removed from pandas in a future version. Use pandas.concat instead.\n",
      "  final_dataframe = final_dataframe.append(\n",
      "C:\\Users\\user\\AppData\\Local\\Temp\\ipykernel_34512\\4196259455.py:12: FutureWarning: The frame.append method is deprecated and will be removed from pandas in a future version. Use pandas.concat instead.\n",
      "  final_dataframe = final_dataframe.append(\n",
      "C:\\Users\\user\\AppData\\Local\\Temp\\ipykernel_34512\\4196259455.py:12: FutureWarning: The frame.append method is deprecated and will be removed from pandas in a future version. Use pandas.concat instead.\n",
      "  final_dataframe = final_dataframe.append(\n",
      "C:\\Users\\user\\AppData\\Local\\Temp\\ipykernel_34512\\4196259455.py:12: FutureWarning: The frame.append method is deprecated and will be removed from pandas in a future version. Use pandas.concat instead.\n",
      "  final_dataframe = final_dataframe.append(\n",
      "C:\\Users\\user\\AppData\\Local\\Temp\\ipykernel_34512\\4196259455.py:12: FutureWarning: The frame.append method is deprecated and will be removed from pandas in a future version. Use pandas.concat instead.\n",
      "  final_dataframe = final_dataframe.append(\n",
      "C:\\Users\\user\\AppData\\Local\\Temp\\ipykernel_34512\\4196259455.py:12: FutureWarning: The frame.append method is deprecated and will be removed from pandas in a future version. Use pandas.concat instead.\n",
      "  final_dataframe = final_dataframe.append(\n",
      "C:\\Users\\user\\AppData\\Local\\Temp\\ipykernel_34512\\4196259455.py:12: FutureWarning: The frame.append method is deprecated and will be removed from pandas in a future version. Use pandas.concat instead.\n",
      "  final_dataframe = final_dataframe.append(\n",
      "C:\\Users\\user\\AppData\\Local\\Temp\\ipykernel_34512\\4196259455.py:12: FutureWarning: The frame.append method is deprecated and will be removed from pandas in a future version. Use pandas.concat instead.\n",
      "  final_dataframe = final_dataframe.append(\n",
      "C:\\Users\\user\\AppData\\Local\\Temp\\ipykernel_34512\\4196259455.py:12: FutureWarning: The frame.append method is deprecated and will be removed from pandas in a future version. Use pandas.concat instead.\n",
      "  final_dataframe = final_dataframe.append(\n",
      "C:\\Users\\user\\AppData\\Local\\Temp\\ipykernel_34512\\4196259455.py:12: FutureWarning: The frame.append method is deprecated and will be removed from pandas in a future version. Use pandas.concat instead.\n",
      "  final_dataframe = final_dataframe.append(\n",
      "C:\\Users\\user\\AppData\\Local\\Temp\\ipykernel_34512\\4196259455.py:12: FutureWarning: The frame.append method is deprecated and will be removed from pandas in a future version. Use pandas.concat instead.\n",
      "  final_dataframe = final_dataframe.append(\n",
      "C:\\Users\\user\\AppData\\Local\\Temp\\ipykernel_34512\\4196259455.py:12: FutureWarning: The frame.append method is deprecated and will be removed from pandas in a future version. Use pandas.concat instead.\n",
      "  final_dataframe = final_dataframe.append(\n",
      "C:\\Users\\user\\AppData\\Local\\Temp\\ipykernel_34512\\4196259455.py:12: FutureWarning: The frame.append method is deprecated and will be removed from pandas in a future version. Use pandas.concat instead.\n",
      "  final_dataframe = final_dataframe.append(\n",
      "C:\\Users\\user\\AppData\\Local\\Temp\\ipykernel_34512\\4196259455.py:12: FutureWarning: The frame.append method is deprecated and will be removed from pandas in a future version. Use pandas.concat instead.\n",
      "  final_dataframe = final_dataframe.append(\n",
      "C:\\Users\\user\\AppData\\Local\\Temp\\ipykernel_34512\\4196259455.py:12: FutureWarning: The frame.append method is deprecated and will be removed from pandas in a future version. Use pandas.concat instead.\n",
      "  final_dataframe = final_dataframe.append(\n",
      "C:\\Users\\user\\AppData\\Local\\Temp\\ipykernel_34512\\4196259455.py:12: FutureWarning: The frame.append method is deprecated and will be removed from pandas in a future version. Use pandas.concat instead.\n",
      "  final_dataframe = final_dataframe.append(\n",
      "C:\\Users\\user\\AppData\\Local\\Temp\\ipykernel_34512\\4196259455.py:12: FutureWarning: The frame.append method is deprecated and will be removed from pandas in a future version. Use pandas.concat instead.\n",
      "  final_dataframe = final_dataframe.append(\n",
      "C:\\Users\\user\\AppData\\Local\\Temp\\ipykernel_34512\\4196259455.py:12: FutureWarning: The frame.append method is deprecated and will be removed from pandas in a future version. Use pandas.concat instead.\n",
      "  final_dataframe = final_dataframe.append(\n",
      "C:\\Users\\user\\AppData\\Local\\Temp\\ipykernel_34512\\4196259455.py:12: FutureWarning: The frame.append method is deprecated and will be removed from pandas in a future version. Use pandas.concat instead.\n",
      "  final_dataframe = final_dataframe.append(\n",
      "C:\\Users\\user\\AppData\\Local\\Temp\\ipykernel_34512\\4196259455.py:12: FutureWarning: The frame.append method is deprecated and will be removed from pandas in a future version. Use pandas.concat instead.\n",
      "  final_dataframe = final_dataframe.append(\n",
      "C:\\Users\\user\\AppData\\Local\\Temp\\ipykernel_34512\\4196259455.py:12: FutureWarning: The frame.append method is deprecated and will be removed from pandas in a future version. Use pandas.concat instead.\n",
      "  final_dataframe = final_dataframe.append(\n",
      "C:\\Users\\user\\AppData\\Local\\Temp\\ipykernel_34512\\4196259455.py:12: FutureWarning: The frame.append method is deprecated and will be removed from pandas in a future version. Use pandas.concat instead.\n",
      "  final_dataframe = final_dataframe.append(\n",
      "C:\\Users\\user\\AppData\\Local\\Temp\\ipykernel_34512\\4196259455.py:12: FutureWarning: The frame.append method is deprecated and will be removed from pandas in a future version. Use pandas.concat instead.\n",
      "  final_dataframe = final_dataframe.append(\n",
      "C:\\Users\\user\\AppData\\Local\\Temp\\ipykernel_34512\\4196259455.py:12: FutureWarning: The frame.append method is deprecated and will be removed from pandas in a future version. Use pandas.concat instead.\n",
      "  final_dataframe = final_dataframe.append(\n",
      "C:\\Users\\user\\AppData\\Local\\Temp\\ipykernel_34512\\4196259455.py:12: FutureWarning: The frame.append method is deprecated and will be removed from pandas in a future version. Use pandas.concat instead.\n",
      "  final_dataframe = final_dataframe.append(\n",
      "C:\\Users\\user\\AppData\\Local\\Temp\\ipykernel_34512\\4196259455.py:12: FutureWarning: The frame.append method is deprecated and will be removed from pandas in a future version. Use pandas.concat instead.\n",
      "  final_dataframe = final_dataframe.append(\n",
      "C:\\Users\\user\\AppData\\Local\\Temp\\ipykernel_34512\\4196259455.py:12: FutureWarning: The frame.append method is deprecated and will be removed from pandas in a future version. Use pandas.concat instead.\n",
      "  final_dataframe = final_dataframe.append(\n",
      "C:\\Users\\user\\AppData\\Local\\Temp\\ipykernel_34512\\4196259455.py:12: FutureWarning: The frame.append method is deprecated and will be removed from pandas in a future version. Use pandas.concat instead.\n",
      "  final_dataframe = final_dataframe.append(\n",
      "C:\\Users\\user\\AppData\\Local\\Temp\\ipykernel_34512\\4196259455.py:12: FutureWarning: The frame.append method is deprecated and will be removed from pandas in a future version. Use pandas.concat instead.\n",
      "  final_dataframe = final_dataframe.append(\n",
      "C:\\Users\\user\\AppData\\Local\\Temp\\ipykernel_34512\\4196259455.py:12: FutureWarning: The frame.append method is deprecated and will be removed from pandas in a future version. Use pandas.concat instead.\n",
      "  final_dataframe = final_dataframe.append(\n",
      "C:\\Users\\user\\AppData\\Local\\Temp\\ipykernel_34512\\4196259455.py:12: FutureWarning: The frame.append method is deprecated and will be removed from pandas in a future version. Use pandas.concat instead.\n",
      "  final_dataframe = final_dataframe.append(\n",
      "C:\\Users\\user\\AppData\\Local\\Temp\\ipykernel_34512\\4196259455.py:12: FutureWarning: The frame.append method is deprecated and will be removed from pandas in a future version. Use pandas.concat instead.\n",
      "  final_dataframe = final_dataframe.append(\n",
      "C:\\Users\\user\\AppData\\Local\\Temp\\ipykernel_34512\\4196259455.py:12: FutureWarning: The frame.append method is deprecated and will be removed from pandas in a future version. Use pandas.concat instead.\n",
      "  final_dataframe = final_dataframe.append(\n",
      "C:\\Users\\user\\AppData\\Local\\Temp\\ipykernel_34512\\4196259455.py:12: FutureWarning: The frame.append method is deprecated and will be removed from pandas in a future version. Use pandas.concat instead.\n",
      "  final_dataframe = final_dataframe.append(\n",
      "C:\\Users\\user\\AppData\\Local\\Temp\\ipykernel_34512\\4196259455.py:12: FutureWarning: The frame.append method is deprecated and will be removed from pandas in a future version. Use pandas.concat instead.\n",
      "  final_dataframe = final_dataframe.append(\n",
      "C:\\Users\\user\\AppData\\Local\\Temp\\ipykernel_34512\\4196259455.py:12: FutureWarning: The frame.append method is deprecated and will be removed from pandas in a future version. Use pandas.concat instead.\n",
      "  final_dataframe = final_dataframe.append(\n",
      "C:\\Users\\user\\AppData\\Local\\Temp\\ipykernel_34512\\4196259455.py:12: FutureWarning: The frame.append method is deprecated and will be removed from pandas in a future version. Use pandas.concat instead.\n",
      "  final_dataframe = final_dataframe.append(\n",
      "C:\\Users\\user\\AppData\\Local\\Temp\\ipykernel_34512\\4196259455.py:12: FutureWarning: The frame.append method is deprecated and will be removed from pandas in a future version. Use pandas.concat instead.\n",
      "  final_dataframe = final_dataframe.append(\n",
      "C:\\Users\\user\\AppData\\Local\\Temp\\ipykernel_34512\\4196259455.py:12: FutureWarning: The frame.append method is deprecated and will be removed from pandas in a future version. Use pandas.concat instead.\n",
      "  final_dataframe = final_dataframe.append(\n",
      "C:\\Users\\user\\AppData\\Local\\Temp\\ipykernel_34512\\4196259455.py:12: FutureWarning: The frame.append method is deprecated and will be removed from pandas in a future version. Use pandas.concat instead.\n",
      "  final_dataframe = final_dataframe.append(\n",
      "C:\\Users\\user\\AppData\\Local\\Temp\\ipykernel_34512\\4196259455.py:12: FutureWarning: The frame.append method is deprecated and will be removed from pandas in a future version. Use pandas.concat instead.\n",
      "  final_dataframe = final_dataframe.append(\n",
      "C:\\Users\\user\\AppData\\Local\\Temp\\ipykernel_34512\\4196259455.py:12: FutureWarning: The frame.append method is deprecated and will be removed from pandas in a future version. Use pandas.concat instead.\n",
      "  final_dataframe = final_dataframe.append(\n",
      "C:\\Users\\user\\AppData\\Local\\Temp\\ipykernel_34512\\4196259455.py:12: FutureWarning: The frame.append method is deprecated and will be removed from pandas in a future version. Use pandas.concat instead.\n",
      "  final_dataframe = final_dataframe.append(\n",
      "C:\\Users\\user\\AppData\\Local\\Temp\\ipykernel_34512\\4196259455.py:12: FutureWarning: The frame.append method is deprecated and will be removed from pandas in a future version. Use pandas.concat instead.\n",
      "  final_dataframe = final_dataframe.append(\n",
      "C:\\Users\\user\\AppData\\Local\\Temp\\ipykernel_34512\\4196259455.py:12: FutureWarning: The frame.append method is deprecated and will be removed from pandas in a future version. Use pandas.concat instead.\n",
      "  final_dataframe = final_dataframe.append(\n",
      "C:\\Users\\user\\AppData\\Local\\Temp\\ipykernel_34512\\4196259455.py:12: FutureWarning: The frame.append method is deprecated and will be removed from pandas in a future version. Use pandas.concat instead.\n",
      "  final_dataframe = final_dataframe.append(\n",
      "C:\\Users\\user\\AppData\\Local\\Temp\\ipykernel_34512\\4196259455.py:12: FutureWarning: The frame.append method is deprecated and will be removed from pandas in a future version. Use pandas.concat instead.\n",
      "  final_dataframe = final_dataframe.append(\n",
      "C:\\Users\\user\\AppData\\Local\\Temp\\ipykernel_34512\\4196259455.py:12: FutureWarning: The frame.append method is deprecated and will be removed from pandas in a future version. Use pandas.concat instead.\n",
      "  final_dataframe = final_dataframe.append(\n",
      "C:\\Users\\user\\AppData\\Local\\Temp\\ipykernel_34512\\4196259455.py:12: FutureWarning: The frame.append method is deprecated and will be removed from pandas in a future version. Use pandas.concat instead.\n",
      "  final_dataframe = final_dataframe.append(\n",
      "C:\\Users\\user\\AppData\\Local\\Temp\\ipykernel_34512\\4196259455.py:12: FutureWarning: The frame.append method is deprecated and will be removed from pandas in a future version. Use pandas.concat instead.\n",
      "  final_dataframe = final_dataframe.append(\n",
      "C:\\Users\\user\\AppData\\Local\\Temp\\ipykernel_34512\\4196259455.py:12: FutureWarning: The frame.append method is deprecated and will be removed from pandas in a future version. Use pandas.concat instead.\n",
      "  final_dataframe = final_dataframe.append(\n",
      "C:\\Users\\user\\AppData\\Local\\Temp\\ipykernel_34512\\4196259455.py:12: FutureWarning: The frame.append method is deprecated and will be removed from pandas in a future version. Use pandas.concat instead.\n",
      "  final_dataframe = final_dataframe.append(\n",
      "C:\\Users\\user\\AppData\\Local\\Temp\\ipykernel_34512\\4196259455.py:12: FutureWarning: The frame.append method is deprecated and will be removed from pandas in a future version. Use pandas.concat instead.\n",
      "  final_dataframe = final_dataframe.append(\n",
      "C:\\Users\\user\\AppData\\Local\\Temp\\ipykernel_34512\\4196259455.py:12: FutureWarning: The frame.append method is deprecated and will be removed from pandas in a future version. Use pandas.concat instead.\n",
      "  final_dataframe = final_dataframe.append(\n",
      "C:\\Users\\user\\AppData\\Local\\Temp\\ipykernel_34512\\4196259455.py:12: FutureWarning: The frame.append method is deprecated and will be removed from pandas in a future version. Use pandas.concat instead.\n",
      "  final_dataframe = final_dataframe.append(\n",
      "C:\\Users\\user\\AppData\\Local\\Temp\\ipykernel_34512\\4196259455.py:12: FutureWarning: The frame.append method is deprecated and will be removed from pandas in a future version. Use pandas.concat instead.\n",
      "  final_dataframe = final_dataframe.append(\n",
      "C:\\Users\\user\\AppData\\Local\\Temp\\ipykernel_34512\\4196259455.py:12: FutureWarning: The frame.append method is deprecated and will be removed from pandas in a future version. Use pandas.concat instead.\n",
      "  final_dataframe = final_dataframe.append(\n",
      "C:\\Users\\user\\AppData\\Local\\Temp\\ipykernel_34512\\4196259455.py:12: FutureWarning: The frame.append method is deprecated and will be removed from pandas in a future version. Use pandas.concat instead.\n",
      "  final_dataframe = final_dataframe.append(\n",
      "C:\\Users\\user\\AppData\\Local\\Temp\\ipykernel_34512\\4196259455.py:12: FutureWarning: The frame.append method is deprecated and will be removed from pandas in a future version. Use pandas.concat instead.\n",
      "  final_dataframe = final_dataframe.append(\n",
      "C:\\Users\\user\\AppData\\Local\\Temp\\ipykernel_34512\\4196259455.py:12: FutureWarning: The frame.append method is deprecated and will be removed from pandas in a future version. Use pandas.concat instead.\n",
      "  final_dataframe = final_dataframe.append(\n",
      "C:\\Users\\user\\AppData\\Local\\Temp\\ipykernel_34512\\4196259455.py:12: FutureWarning: The frame.append method is deprecated and will be removed from pandas in a future version. Use pandas.concat instead.\n",
      "  final_dataframe = final_dataframe.append(\n",
      "C:\\Users\\user\\AppData\\Local\\Temp\\ipykernel_34512\\4196259455.py:12: FutureWarning: The frame.append method is deprecated and will be removed from pandas in a future version. Use pandas.concat instead.\n",
      "  final_dataframe = final_dataframe.append(\n",
      "C:\\Users\\user\\AppData\\Local\\Temp\\ipykernel_34512\\4196259455.py:12: FutureWarning: The frame.append method is deprecated and will be removed from pandas in a future version. Use pandas.concat instead.\n",
      "  final_dataframe = final_dataframe.append(\n",
      "C:\\Users\\user\\AppData\\Local\\Temp\\ipykernel_34512\\4196259455.py:12: FutureWarning: The frame.append method is deprecated and will be removed from pandas in a future version. Use pandas.concat instead.\n",
      "  final_dataframe = final_dataframe.append(\n",
      "C:\\Users\\user\\AppData\\Local\\Temp\\ipykernel_34512\\4196259455.py:12: FutureWarning: The frame.append method is deprecated and will be removed from pandas in a future version. Use pandas.concat instead.\n",
      "  final_dataframe = final_dataframe.append(\n",
      "C:\\Users\\user\\AppData\\Local\\Temp\\ipykernel_34512\\4196259455.py:12: FutureWarning: The frame.append method is deprecated and will be removed from pandas in a future version. Use pandas.concat instead.\n",
      "  final_dataframe = final_dataframe.append(\n",
      "C:\\Users\\user\\AppData\\Local\\Temp\\ipykernel_34512\\4196259455.py:12: FutureWarning: The frame.append method is deprecated and will be removed from pandas in a future version. Use pandas.concat instead.\n",
      "  final_dataframe = final_dataframe.append(\n",
      "C:\\Users\\user\\AppData\\Local\\Temp\\ipykernel_34512\\4196259455.py:12: FutureWarning: The frame.append method is deprecated and will be removed from pandas in a future version. Use pandas.concat instead.\n",
      "  final_dataframe = final_dataframe.append(\n",
      "C:\\Users\\user\\AppData\\Local\\Temp\\ipykernel_34512\\4196259455.py:12: FutureWarning: The frame.append method is deprecated and will be removed from pandas in a future version. Use pandas.concat instead.\n",
      "  final_dataframe = final_dataframe.append(\n",
      "C:\\Users\\user\\AppData\\Local\\Temp\\ipykernel_34512\\4196259455.py:12: FutureWarning: The frame.append method is deprecated and will be removed from pandas in a future version. Use pandas.concat instead.\n",
      "  final_dataframe = final_dataframe.append(\n",
      "C:\\Users\\user\\AppData\\Local\\Temp\\ipykernel_34512\\4196259455.py:12: FutureWarning: The frame.append method is deprecated and will be removed from pandas in a future version. Use pandas.concat instead.\n",
      "  final_dataframe = final_dataframe.append(\n",
      "C:\\Users\\user\\AppData\\Local\\Temp\\ipykernel_34512\\4196259455.py:12: FutureWarning: The frame.append method is deprecated and will be removed from pandas in a future version. Use pandas.concat instead.\n",
      "  final_dataframe = final_dataframe.append(\n",
      "C:\\Users\\user\\AppData\\Local\\Temp\\ipykernel_34512\\4196259455.py:12: FutureWarning: The frame.append method is deprecated and will be removed from pandas in a future version. Use pandas.concat instead.\n",
      "  final_dataframe = final_dataframe.append(\n",
      "C:\\Users\\user\\AppData\\Local\\Temp\\ipykernel_34512\\4196259455.py:12: FutureWarning: The frame.append method is deprecated and will be removed from pandas in a future version. Use pandas.concat instead.\n",
      "  final_dataframe = final_dataframe.append(\n",
      "C:\\Users\\user\\AppData\\Local\\Temp\\ipykernel_34512\\4196259455.py:12: FutureWarning: The frame.append method is deprecated and will be removed from pandas in a future version. Use pandas.concat instead.\n",
      "  final_dataframe = final_dataframe.append(\n",
      "C:\\Users\\user\\AppData\\Local\\Temp\\ipykernel_34512\\4196259455.py:12: FutureWarning: The frame.append method is deprecated and will be removed from pandas in a future version. Use pandas.concat instead.\n",
      "  final_dataframe = final_dataframe.append(\n",
      "C:\\Users\\user\\AppData\\Local\\Temp\\ipykernel_34512\\4196259455.py:12: FutureWarning: The frame.append method is deprecated and will be removed from pandas in a future version. Use pandas.concat instead.\n",
      "  final_dataframe = final_dataframe.append(\n",
      "C:\\Users\\user\\AppData\\Local\\Temp\\ipykernel_34512\\4196259455.py:12: FutureWarning: The frame.append method is deprecated and will be removed from pandas in a future version. Use pandas.concat instead.\n",
      "  final_dataframe = final_dataframe.append(\n",
      "C:\\Users\\user\\AppData\\Local\\Temp\\ipykernel_34512\\4196259455.py:12: FutureWarning: The frame.append method is deprecated and will be removed from pandas in a future version. Use pandas.concat instead.\n",
      "  final_dataframe = final_dataframe.append(\n",
      "C:\\Users\\user\\AppData\\Local\\Temp\\ipykernel_34512\\4196259455.py:12: FutureWarning: The frame.append method is deprecated and will be removed from pandas in a future version. Use pandas.concat instead.\n",
      "  final_dataframe = final_dataframe.append(\n",
      "C:\\Users\\user\\AppData\\Local\\Temp\\ipykernel_34512\\4196259455.py:12: FutureWarning: The frame.append method is deprecated and will be removed from pandas in a future version. Use pandas.concat instead.\n",
      "  final_dataframe = final_dataframe.append(\n",
      "C:\\Users\\user\\AppData\\Local\\Temp\\ipykernel_34512\\4196259455.py:12: FutureWarning: The frame.append method is deprecated and will be removed from pandas in a future version. Use pandas.concat instead.\n",
      "  final_dataframe = final_dataframe.append(\n",
      "C:\\Users\\user\\AppData\\Local\\Temp\\ipykernel_34512\\4196259455.py:12: FutureWarning: The frame.append method is deprecated and will be removed from pandas in a future version. Use pandas.concat instead.\n",
      "  final_dataframe = final_dataframe.append(\n"
     ]
    },
    {
     "data": {
      "text/html": [
       "<div>\n",
       "<style scoped>\n",
       "    .dataframe tbody tr th:only-of-type {\n",
       "        vertical-align: middle;\n",
       "    }\n",
       "\n",
       "    .dataframe tbody tr th {\n",
       "        vertical-align: top;\n",
       "    }\n",
       "\n",
       "    .dataframe thead th {\n",
       "        text-align: right;\n",
       "    }\n",
       "</style>\n",
       "<table border=\"1\" class=\"dataframe\">\n",
       "  <thead>\n",
       "    <tr style=\"text-align: right;\">\n",
       "      <th></th>\n",
       "      <th>Ticker</th>\n",
       "      <th>Stock Price</th>\n",
       "      <th>Market Capitalization</th>\n",
       "      <th>Number of Shares to Buy</th>\n",
       "    </tr>\n",
       "  </thead>\n",
       "  <tbody>\n",
       "    <tr>\n",
       "      <th>0</th>\n",
       "      <td>MMM</td>\n",
       "      <td>97.565</td>\n",
       "      <td>54641730646</td>\n",
       "      <td>N/A</td>\n",
       "    </tr>\n",
       "    <tr>\n",
       "      <th>1</th>\n",
       "      <td>ABT</td>\n",
       "      <td>99.030</td>\n",
       "      <td>174021698234</td>\n",
       "      <td>N/A</td>\n",
       "    </tr>\n",
       "    <tr>\n",
       "      <th>2</th>\n",
       "      <td>ANF</td>\n",
       "      <td>49.460</td>\n",
       "      <td>2530442818</td>\n",
       "      <td>N/A</td>\n",
       "    </tr>\n",
       "    <tr>\n",
       "      <th>3</th>\n",
       "      <td>ACN</td>\n",
       "      <td>312.100</td>\n",
       "      <td>210453956698</td>\n",
       "      <td>N/A</td>\n",
       "    </tr>\n",
       "    <tr>\n",
       "      <th>4</th>\n",
       "      <td>ADBE</td>\n",
       "      <td>514.400</td>\n",
       "      <td>244208524000</td>\n",
       "      <td>N/A</td>\n",
       "    </tr>\n",
       "    <tr>\n",
       "      <th>...</th>\n",
       "      <td>...</td>\n",
       "      <td>...</td>\n",
       "      <td>...</td>\n",
       "      <td>...</td>\n",
       "    </tr>\n",
       "    <tr>\n",
       "      <th>80</th>\n",
       "      <td>CHK</td>\n",
       "      <td>82.835</td>\n",
       "      <td>11092791812</td>\n",
       "      <td>N/A</td>\n",
       "    </tr>\n",
       "    <tr>\n",
       "      <th>81</th>\n",
       "      <td>CVX</td>\n",
       "      <td>165.225</td>\n",
       "      <td>311251105388</td>\n",
       "      <td>N/A</td>\n",
       "    </tr>\n",
       "    <tr>\n",
       "      <th>82</th>\n",
       "      <td>CMG</td>\n",
       "      <td>1860.310</td>\n",
       "      <td>52981459014</td>\n",
       "      <td>N/A</td>\n",
       "    </tr>\n",
       "    <tr>\n",
       "      <th>83</th>\n",
       "      <td>CB</td>\n",
       "      <td>212.960</td>\n",
       "      <td>87798707615</td>\n",
       "      <td>N/A</td>\n",
       "    </tr>\n",
       "    <tr>\n",
       "      <th>84</th>\n",
       "      <td>CI</td>\n",
       "      <td>290.950</td>\n",
       "      <td>85043972190</td>\n",
       "      <td>N/A</td>\n",
       "    </tr>\n",
       "  </tbody>\n",
       "</table>\n",
       "<p>85 rows × 4 columns</p>\n",
       "</div>"
      ],
      "text/plain": [
       "   Ticker  Stock Price Market Capitalization Number of Shares to Buy\n",
       "0     MMM       97.565           54641730646                     N/A\n",
       "1     ABT       99.030          174021698234                     N/A\n",
       "2     ANF       49.460            2530442818                     N/A\n",
       "3     ACN      312.100          210453956698                     N/A\n",
       "4    ADBE      514.400          244208524000                     N/A\n",
       "..    ...          ...                   ...                     ...\n",
       "80    CHK       82.835           11092791812                     N/A\n",
       "81    CVX      165.225          311251105388                     N/A\n",
       "82    CMG     1860.310           52981459014                     N/A\n",
       "83     CB      212.960           87798707615                     N/A\n",
       "84     CI      290.950           85043972190                     N/A\n",
       "\n",
       "[85 rows x 4 columns]"
      ]
     },
     "execution_count": 27,
     "metadata": {},
     "output_type": "execute_result"
    }
   ],
   "source": [
    "symbol_groups = list(chunks(stocks['Ticker'], 100))\n",
    "symbol_strings = []\n",
    "for i in range(0, len(symbol_groups)):\n",
    "    symbol_strings.append(','.join(symbol_groups[i]))\n",
    "final_dataframe = pd.DataFrame(columns = my_columns)\n",
    "for symbol_string in symbol_strings[:1]:\n",
    "    batch_api_call_url = f'https://cloud.iexapis.com/stable/stock/market/batch/?types=stats,quote&symbols={symbol_string}&token={IEX_CLOUD_API_TOKEN}'\n",
    "    data = requests.get(batch_api_call_url).json()\n",
    "    print(data)\n",
    "    for symbol in symbol_string.split(','):\n",
    "        try:\n",
    "            final_dataframe = final_dataframe.append(\n",
    "                pd.Series([symbol, data[symbol]['quote']['latestPrice'], data[symbol]['stats']['marketcap'], 'N/A'], index = my_columns),\n",
    "                ignore_index = True\n",
    "            )\n",
    "        except:\n",
    "            print(f'{symbol} is not found')\n",
    "            pass\n",
    "\n",
    "final_dataframe"
   ]
  },
  {
   "cell_type": "markdown",
   "metadata": {},
   "source": [
    "## Calculating the Number of Shares to Buy\n",
    "\n",
    "As you can see in the DataFrame above, we stil haven't calculated the number of shares of each stock to buy.\n",
    "\n",
    "We'll do that next."
   ]
  },
  {
   "cell_type": "code",
   "execution_count": 30,
   "metadata": {},
   "outputs": [],
   "source": [
    "portfolio_size = input('Enter the value of your portfolio:')\n",
    "try:\n",
    "    val = float(portfolio_size)\n",
    "except ValueError:\n",
    "    print('Please enter an integer')\n",
    "    portfolio_size = input('Enter the value of your portfolio:')\n",
    "    val = float(portfolio_size)"
   ]
  },
  {
   "cell_type": "code",
   "execution_count": 33,
   "metadata": {},
   "outputs": [
    {
     "data": {
      "text/html": [
       "<div>\n",
       "<style scoped>\n",
       "    .dataframe tbody tr th:only-of-type {\n",
       "        vertical-align: middle;\n",
       "    }\n",
       "\n",
       "    .dataframe tbody tr th {\n",
       "        vertical-align: top;\n",
       "    }\n",
       "\n",
       "    .dataframe thead th {\n",
       "        text-align: right;\n",
       "    }\n",
       "</style>\n",
       "<table border=\"1\" class=\"dataframe\">\n",
       "  <thead>\n",
       "    <tr style=\"text-align: right;\">\n",
       "      <th></th>\n",
       "      <th>Ticker</th>\n",
       "      <th>Stock Price</th>\n",
       "      <th>Market Capitalization</th>\n",
       "      <th>Number of Shares to Buy</th>\n",
       "    </tr>\n",
       "  </thead>\n",
       "  <tbody>\n",
       "    <tr>\n",
       "      <th>0</th>\n",
       "      <td>MMM</td>\n",
       "      <td>97.565</td>\n",
       "      <td>54641730646</td>\n",
       "      <td>1205</td>\n",
       "    </tr>\n",
       "    <tr>\n",
       "      <th>1</th>\n",
       "      <td>ABT</td>\n",
       "      <td>99.030</td>\n",
       "      <td>174021698234</td>\n",
       "      <td>1187</td>\n",
       "    </tr>\n",
       "    <tr>\n",
       "      <th>2</th>\n",
       "      <td>ANF</td>\n",
       "      <td>49.460</td>\n",
       "      <td>2530442818</td>\n",
       "      <td>2378</td>\n",
       "    </tr>\n",
       "    <tr>\n",
       "      <th>3</th>\n",
       "      <td>ACN</td>\n",
       "      <td>312.100</td>\n",
       "      <td>210453956698</td>\n",
       "      <td>376</td>\n",
       "    </tr>\n",
       "    <tr>\n",
       "      <th>4</th>\n",
       "      <td>ADBE</td>\n",
       "      <td>514.400</td>\n",
       "      <td>244208524000</td>\n",
       "      <td>228</td>\n",
       "    </tr>\n",
       "    <tr>\n",
       "      <th>...</th>\n",
       "      <td>...</td>\n",
       "      <td>...</td>\n",
       "      <td>...</td>\n",
       "      <td>...</td>\n",
       "    </tr>\n",
       "    <tr>\n",
       "      <th>80</th>\n",
       "      <td>CHK</td>\n",
       "      <td>82.835</td>\n",
       "      <td>11092791812</td>\n",
       "      <td>1420</td>\n",
       "    </tr>\n",
       "    <tr>\n",
       "      <th>81</th>\n",
       "      <td>CVX</td>\n",
       "      <td>165.225</td>\n",
       "      <td>311251105388</td>\n",
       "      <td>712</td>\n",
       "    </tr>\n",
       "    <tr>\n",
       "      <th>82</th>\n",
       "      <td>CMG</td>\n",
       "      <td>1860.310</td>\n",
       "      <td>52981459014</td>\n",
       "      <td>63</td>\n",
       "    </tr>\n",
       "    <tr>\n",
       "      <th>83</th>\n",
       "      <td>CB</td>\n",
       "      <td>212.960</td>\n",
       "      <td>87798707615</td>\n",
       "      <td>552</td>\n",
       "    </tr>\n",
       "    <tr>\n",
       "      <th>84</th>\n",
       "      <td>CI</td>\n",
       "      <td>290.950</td>\n",
       "      <td>85043972190</td>\n",
       "      <td>404</td>\n",
       "    </tr>\n",
       "  </tbody>\n",
       "</table>\n",
       "<p>85 rows × 4 columns</p>\n",
       "</div>"
      ],
      "text/plain": [
       "   Ticker  Stock Price Market Capitalization Number of Shares to Buy\n",
       "0     MMM       97.565           54641730646                    1205\n",
       "1     ABT       99.030          174021698234                    1187\n",
       "2     ANF       49.460            2530442818                    2378\n",
       "3     ACN      312.100          210453956698                     376\n",
       "4    ADBE      514.400          244208524000                     228\n",
       "..    ...          ...                   ...                     ...\n",
       "80    CHK       82.835           11092791812                    1420\n",
       "81    CVX      165.225          311251105388                     712\n",
       "82    CMG     1860.310           52981459014                      63\n",
       "83     CB      212.960           87798707615                     552\n",
       "84     CI      290.950           85043972190                     404\n",
       "\n",
       "[85 rows x 4 columns]"
      ]
     },
     "execution_count": 33,
     "metadata": {},
     "output_type": "execute_result"
    }
   ],
   "source": [
    "position_size = val/len(final_dataframe.index)\n",
    "for i in range(0, len(final_dataframe.index)):\n",
    "    final_dataframe.loc[i, 'Number of Shares to Buy'] = math.floor(position_size/final_dataframe.loc[i, 'Stock Price'])\n",
    "\n",
    "final_dataframe\n",
    "\n",
    "\n",
    "# number_of_apple_shares = position_size/424\n",
    "# print(math.floor(number_of_apple_shares)) # If fractional shares not allowed\n",
    "\n"
   ]
  },
  {
   "cell_type": "markdown",
   "metadata": {},
   "source": [
    "## Formatting Our Excel Output\n",
    "\n",
    "We will be using the XlsxWriter library for Python to create nicely-formatted Excel files.\n",
    "\n",
    "XlsxWriter is an excellent package and offers tons of customization. However, the tradeoff for this is that the library can seem very complicated to new users. Accordingly, this section will be fairly long because I want to do a good job of explaining how XlsxWriter works.\n",
    "\n",
    "### Initializing our XlsxWriter Object"
   ]
  },
  {
   "cell_type": "code",
   "execution_count": 46,
   "metadata": {},
   "outputs": [],
   "source": [
    "writer = pd.ExcelWriter('recommended trades.xlsx', engine = 'xlsxwriter')\n",
    "final_dataframe.to_excel(writer, 'Recommended Trades', index = False)"
   ]
  },
  {
   "cell_type": "markdown",
   "metadata": {},
   "source": [
    "### Creating the Formats We'll Need For Our `.xlsx` File\n",
    "\n",
    "Formats include colors, fonts, and also symbols like `%` and `$`. We'll need four main formats for our Excel document:\n",
    "* String format for tickers\n",
    "* \\\\$XX.XX format for stock prices\n",
    "* \\\\$XX,XXX format for market capitalization\n",
    "* Integer format for the number of shares to purchase"
   ]
  },
  {
   "cell_type": "code",
   "execution_count": 47,
   "metadata": {},
   "outputs": [],
   "source": [
    "background_color = '#0a0a23'\n",
    "fontcolor = '#ffffff'\n",
    "\n",
    "string_format = writer.book.add_format(\n",
    "    {\n",
    "        'font_color': fontcolor,\n",
    "        'bg_color': background_color,\n",
    "        'border': 1\n",
    "    }\n",
    ")\n",
    "    \n",
    "dollar_format = writer.book.add_format(\n",
    "    {\n",
    "        'num_format': '$0.00',\n",
    "        'font_color': fontcolor,\n",
    "        'bg_color': background_color,\n",
    "        'border': 1\n",
    "    }\n",
    ")\n",
    "\n",
    "integer_format = writer.book.add_format(\n",
    "    {\n",
    "        'num_format': '0',\n",
    "        'font_color': fontcolor,\n",
    "        'bg_color': background_color,\n",
    "        'border': 1\n",
    "    }\n",
    ")"
   ]
  },
  {
   "cell_type": "markdown",
   "metadata": {},
   "source": [
    "### Applying the Formats to the Columns of Our `.xlsx` File\n",
    "\n",
    "We can use the `set_column` method applied to the `writer.sheets['Recommended Trades']` object to apply formats to specific columns of our spreadsheets.\n",
    "\n",
    "Here's an example:\n",
    "\n",
    "```python\n",
    "writer.sheets['Recommended Trades'].set_column('B:B', #This tells the method to apply the format to column B\n",
    "                     18, #This tells the method to apply a column width of 18 pixels\n",
    "                     string_template #This applies the format 'string_template' to the column\n",
    "                    )\n",
    "```"
   ]
  },
  {
   "cell_type": "code",
   "execution_count": 42,
   "metadata": {},
   "outputs": [
    {
     "name": "stderr",
     "output_type": "stream",
     "text": [
      "C:\\Users\\user\\AppData\\Local\\Temp\\ipykernel_34512\\3580212437.py:6: FutureWarning: save is not part of the public API, usage can give unexpected results and will be removed in a future version\n",
      "  writer.save()\n"
     ]
    }
   ],
   "source": [
    "# writer.sheets['Recommended Trades'].set_column('A:A', 18, string_format)\n",
    "# writer.sheets['Recommended Trades'].set_column('B:B', 18, string_format)\n",
    "# writer.sheets['Recommended Trades'].set_column('C:C', 18, string_format)\n",
    "# writer.sheets['Recommended Trades'].set_column('D:D', 18, string_format)\n",
    "\n",
    "# writer.save()\n",
    "\n",
    "# writer.sheets['Recommended Trades'].write['A1', 'Ticker', string_format]\n",
    "# writer.sheets['Recommended Trades'].write['B1', 'Stock Price', dollar_format]\n",
    "# writer.sheets['Recommended Trades'].write['C1', 'Market Capitalisation', dollar_format]\n",
    "# writer.sheets['Recommended Trades'].write['D1', 'Ticker', integer_format]"
   ]
  },
  {
   "cell_type": "markdown",
   "metadata": {},
   "source": [
    "This code works, but it violates the software principle of \"Don't Repeat Yourself\". \n",
    "\n",
    "Let's simplify this by putting it in 2 loops:"
   ]
  },
  {
   "cell_type": "code",
   "execution_count": 48,
   "metadata": {},
   "outputs": [],
   "source": [
    "column_formats = {\n",
    "    'A':['Ticker', string_format],\n",
    "    'B':['Stock Price', dollar_format],\n",
    "    'C':['Market Capitalization', dollar_format],\n",
    "    'D':['Number of Shares to Buy', integer_format]\n",
    "}\n",
    "\n",
    "for column in column_formats.keys():\n",
    "    writer.sheets['Recommended Trades'].set_column(f'{column}:{column}', 18, column_formats[column][1])\n",
    "    writer.sheets['Recommended Trades'].write(f'{column}1', column_formats[column][0], column_formats[column][1])\n"
   ]
  },
  {
   "cell_type": "markdown",
   "metadata": {},
   "source": [
    "## Saving Our Excel Output\n",
    "\n",
    "Saving our Excel file is very easy:"
   ]
  },
  {
   "cell_type": "code",
   "execution_count": 49,
   "metadata": {},
   "outputs": [
    {
     "name": "stderr",
     "output_type": "stream",
     "text": [
      "C:\\Users\\user\\AppData\\Local\\Temp\\ipykernel_34512\\934276808.py:1: FutureWarning: save is not part of the public API, usage can give unexpected results and will be removed in a future version\n",
      "  writer.save()\n"
     ]
    }
   ],
   "source": [
    "writer.save()"
   ]
  }
 ],
 "metadata": {
  "kernelspec": {
   "display_name": "Python 3",
   "language": "python",
   "name": "python3"
  },
  "language_info": {
   "codemirror_mode": {
    "name": "ipython",
    "version": 3
   },
   "file_extension": ".py",
   "mimetype": "text/x-python",
   "name": "python",
   "nbconvert_exporter": "python",
   "pygments_lexer": "ipython3",
   "version": "3.11.1"
  }
 },
 "nbformat": 4,
 "nbformat_minor": 4
}
